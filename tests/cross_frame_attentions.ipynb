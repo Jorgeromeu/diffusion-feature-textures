{
 "cells": [
  {
   "cell_type": "code",
   "execution_count": 19,
   "metadata": {},
   "outputs": [
    {
     "name": "stdout",
     "output_type": "stream",
     "text": [
      "The autoreload extension is already loaded. To reload it, use:\n",
      "  %reload_ext autoreload\n"
     ]
    }
   ],
   "source": [
    "%load_ext autoreload\n",
    "%autoreload 2\n",
    "import os\n",
    "os.chdir('/home/jorge/thesis')\n",
    "\n",
    "import torch\n",
    "from einops import rearrange\n",
    "from text3d2video.utilities.testing_utils import test_img\n",
    "import torchvision.transforms.functional as TF"
   ]
  },
  {
   "cell_type": "code",
   "execution_count": 348,
   "metadata": {},
   "outputs": [
    {
     "data": {
      "text/plain": [
       "torch.Size([6, 4096, 3])"
      ]
     },
     "execution_count": 348,
     "metadata": {},
     "output_type": "execute_result"
    }
   ],
   "source": [
    "def frame_test_features(txt=\"\", color=\"red\", res=100):\n",
    "    frame_pt = test_img(txt=txt, color=color, resolution=res, return_type=\"pt\")\n",
    "    frame_pt_flat = rearrange(frame_pt, \"c h w -> (h w) c\")\n",
    "    return frame_pt_flat\n",
    "\n",
    "\n",
    "def make_test_features(n_frames, chunks, res=100):\n",
    "    all_frames = []\n",
    "    for chunk in chunks:\n",
    "        chunk_frames = []\n",
    "        for f_i in range(n_frames):\n",
    "            frame_pt_flat = frame_test_features(txt=str(f_i), color=chunk, res=res)\n",
    "            chunk_frames.append(frame_pt_flat)\n",
    "        chunk_frames = torch.stack(chunk_frames)\n",
    "        all_frames.append(chunk_frames)\n",
    "    all_frames = torch.cat(all_frames)\n",
    "    return all_frames\n",
    "\n",
    "\n",
    "n_frames = 3\n",
    "chunks = [\"red\", \"blue\"]\n",
    "n_chunks = len(chunks)\n",
    "res = 64\n",
    "\n",
    "kv_features = make_test_features(n_frames, chunks, res=64)\n",
    "\n",
    "kv_features.shape"
   ]
  },
  {
   "cell_type": "code",
   "execution_count": 356,
   "metadata": {},
   "outputs": [
    {
     "data": {
      "image/png": "[encoded data removed]",
      "text/plain": [
       "<Figure size 1200x200 with 6 Axes>"
      ]
     },
     "metadata": {},
     "output_type": "display_data"
    }
   ],
   "source": [
    "from text3d2video.utilities.ipython_utils import display_ims\n",
    "\n",
    "kv_features_2D = rearrange(kv_features, \"b (h w) c -> b c h w\", h=res)\n",
    "kv_features_2D_pil = [TF.to_pil_image(f) for f in kv_features_2D]\n",
    "display_ims(kv_features_2D_pil)"
   ]
  },
  {
   "cell_type": "code",
   "execution_count": 357,
   "metadata": {},
   "outputs": [],
   "source": [
    "from text3d2video.utilities.attention_utils import extend_across_frame_dim\n",
    "\n",
    "\n",
    "injected_features = torch.stack([frame_test_features(\"injected\", chunk, res) for chunk in chunks])\n",
    "injected_features_frame = extend_across_frame_dim(injected_features, n_frames)"
   ]
  },
  {
   "cell_type": "code",
   "execution_count": 359,
   "metadata": {},
   "outputs": [
    {
     "data": {
      "text/plain": [
       "torch.Size([6, 16384, 3])"
      ]
     },
     "execution_count": 359,
     "metadata": {},
     "output_type": "execute_result"
    }
   ],
   "source": [
    "from text3d2video.util import chunk_dim\n",
    "from text3d2video.utilities.attention_utils import (\n",
    "    extend_across_frame_dim,\n",
    ")\n",
    "\n",
    "attend_to_chunk = True\n",
    "attend_to_self = True\n",
    "inject_features = True\n",
    "\n",
    "if attend_to_chunk:\n",
    "    attend_to_self = False\n",
    "\n",
    "kvs = []\n",
    "\n",
    "if attend_to_chunk:\n",
    "    x_chunked = chunk_dim(kv_features, n_chunks)\n",
    "\n",
    "    chunk_kvs = rearrange(x_chunked, \"n_chunks f t d -> n_chunks (f t) d\")\n",
    "\n",
    "    extended_frame_kvs = extend_across_frame_dim(chunk_kvs, n_frames)\n",
    "\n",
    "    # extended_frame_kvs = expand_singleton_dim(chunk_kvs.unsqueeze(0), n_frames, dim=0)\n",
    "    # extended_frame_kvs = extended_frame_kvs.flatten(0, 1)\n",
    "    kvs.append(extended_frame_kvs)\n",
    "\n",
    "if attend_to_self:\n",
    "    self_kvs = kv_features\n",
    "    kvs.append(self_kvs)\n",
    "\n",
    "if inject_features:\n",
    "    kvs.append(injected_features_frame)\n",
    "\n",
    "assert len(kvs) > 0, \"Cannot attend to nothing\"\n",
    "\n",
    "kvs = torch.cat(kvs, dim=1)\n",
    "kvs.shape"
   ]
  },
  {
   "cell_type": "code",
   "execution_count": 361,
   "metadata": {},
   "outputs": [
    {
     "data": {
      "image/png": "[encoded data removed]",
      "text/plain": [
       "<Figure size 3000x500 with 6 Axes>"
      ]
     },
     "metadata": {},
     "output_type": "display_data"
    }
   ],
   "source": [
    "from text3d2video.utilities.attention_utils import reshape_kvs_2D\n",
    "\n",
    "\n",
    "kvs_square = reshape_kvs_2D(kvs, res=res)\n",
    "kv_ims = [TF.to_pil_image(k) for k in kvs_square]\n",
    "display_ims(kv_ims, scale=5)"
   ]
  }
 ],
 "metadata": {
  "kernelspec": {
   "display_name": "thesis4",
   "language": "python",
   "name": "python3"
  },
  "language_info": {
   "codemirror_mode": {
    "name": "ipython",
    "version": 3
   },
   "file_extension": ".py",
   "mimetype": "text/x-python",
   "name": "python",
   "nbconvert_exporter": "python",
   "pygments_lexer": "ipython3",
   "version": "3.9.20"
  }
 },
 "nbformat": 4,
 "nbformat_minor": 2
}
