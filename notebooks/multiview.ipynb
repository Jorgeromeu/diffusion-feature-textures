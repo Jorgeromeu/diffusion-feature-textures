{
 "cells": [
  {
   "cell_type": "code",
   "execution_count": 1,
   "metadata": {},
   "outputs": [
    {
     "name": "stderr",
     "output_type": "stream",
     "text": [
      "/home/jorge/miniconda3/envs/thesis/lib/python3.10/site-packages/tqdm/auto.py:21: TqdmWarning: IProgress not found. Please update jupyter and ipywidgets. See https://ipywidgets.readthedocs.io/en/stable/user_install.html\n",
      "  from .autonotebook import tqdm as notebook_tqdm\n",
      "\u001b[34m\u001b[1mwandb\u001b[0m: Using wandb-core as the SDK backend. Please refer to https://wandb.me/wandb-core for more information.\n"
     ]
    }
   ],
   "source": [
    "import torch\n",
    "from pytorch3d.io import load_objs_as_meshes\n",
    "import wandb\n",
    "\n",
    "from text3d2video.wandb_util import AnimationArtifact\n",
    "\n",
    "api = wandb.Api({\n",
    "    'entity': 'romeu',\n",
    "    'project': 'diffusion-3D-features'\n",
    "})\n",
    "\n",
    "animation_art = 'fox:latest'\n",
    "\n",
    "animation_art = api.artifact(f'romeu/diffusion-3D-features/{animation_art}')\n",
    "animation_art = AnimationArtifact(animation_art)\n",
    "\n",
    "device = 'cuda:0'\n",
    "mesh = animation_art.get_mesh(device)"
   ]
  },
  {
   "cell_type": "code",
   "execution_count": 3,
   "metadata": {},
   "outputs": [],
   "source": [
    "import rerun as rr\n",
    "import text3d2video.rerun_util as ru\n",
    "\n",
    "rr.init('multiview')\n",
    "ru.pt3d_setup()\n",
    "rr.log('mesh', ru.pt3d_mesh(mesh))"
   ]
  }
 ],
 "metadata": {
  "kernelspec": {
   "display_name": "thesis",
   "language": "python",
   "name": "python3"
  },
  "language_info": {
   "codemirror_mode": {
    "name": "ipython",
    "version": 3
   },
   "file_extension": ".py",
   "mimetype": "text/x-python",
   "name": "python",
   "nbconvert_exporter": "python",
   "pygments_lexer": "ipython3",
   "version": "3.10.14"
  }
 },
 "nbformat": 4,
 "nbformat_minor": 2
}
