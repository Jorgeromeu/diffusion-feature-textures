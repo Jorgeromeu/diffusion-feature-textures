{
 "cells": [
  {
   "cell_type": "code",
   "execution_count": 1,
   "metadata": {},
   "outputs": [
    {
     "name": "stderr",
     "output_type": "stream",
     "text": [
      "/home/jorge/miniconda3/envs/thesis/lib/python3.10/site-packages/tqdm/auto.py:21: TqdmWarning: IProgress not found. Please update jupyter and ipywidgets. See https://ipywidgets.readthedocs.io/en/stable/user_install.html\n",
      "  from .autonotebook import tqdm as notebook_tqdm\n"
     ]
    }
   ],
   "source": [
    "%load_ext autoreload\n",
    "%autoreload 2\n",
    "import torch\n",
    "import wandb\n",
    "from pytorch3d.renderer import FoVPerspectiveCameras, look_at_view_transform\n",
    "from text3d2video.rendering import make_rasterizer"
   ]
  },
  {
   "cell_type": "code",
   "execution_count": 10,
   "metadata": {},
   "outputs": [
    {
     "name": "stderr",
     "output_type": "stream",
     "text": [
      "\u001b[34m\u001b[1mwandb\u001b[0m: Downloading large artifact backflip:latest, 121.09MB. 61 files... \n",
      "\u001b[34m\u001b[1mwandb\u001b[0m:   61 of 61 files downloaded.  \n",
      "Done. 0:0:0.3\n"
     ]
    }
   ],
   "source": [
    "from text3d2video.wandb_util import AnimationArtifact\n",
    "\n",
    "device = torch.device('cuda:0')\n",
    "\n",
    "animation_art = 'backflip:latest'\n",
    "\n",
    "api = wandb.Api({\n",
    "    'entity': 'romeu',\n",
    "    'project': 'diffusion-3D-features'\n",
    "})\n",
    "\n",
    "animation_art = api.artifact(f'romeu/diffusion-3D-features/{animation_art}')\n",
    "animation_art = AnimationArtifact(animation_art)\n",
    "\n",
    "animation = animation_art.get_animation()"
   ]
  },
  {
   "cell_type": "code",
   "execution_count": 13,
   "metadata": {},
   "outputs": [],
   "source": [
    "R, T = look_at_view_transform(dist=2, azim=0, elev=0)\n",
    "cameras = FoVPerspectiveCameras(device=device, R=R, T=T, fov=60)\n",
    "rasterizer = make_rasterizer(cameras)"
   ]
  },
  {
   "cell_type": "code",
   "execution_count": 17,
   "metadata": {},
   "outputs": [
    {
     "name": "stderr",
     "output_type": "stream",
     "text": [
      "/home/jorge/miniconda3/envs/thesis/lib/python3.10/site-packages/pytorch3d/io/obj_io.py:544: UserWarning: No mtl file provided\n",
      "  warnings.warn(\"No mtl file provided\")\n"
     ]
    }
   ],
   "source": [
    "meshes = [animation.load_frame(f) for f in animation.framenums()]"
   ]
  },
  {
   "cell_type": "code",
   "execution_count": 27,
   "metadata": {},
   "outputs": [
    {
     "data": {
      "text/plain": [
       "[<pytorch3d.structures.meshes.Meshes at 0x724f147db9a0>,\n",
       " <pytorch3d.structures.meshes.Meshes at 0x724f0bfa3940>,\n",
       " <pytorch3d.structures.meshes.Meshes at 0x724f0bfa3ca0>,\n",
       " <pytorch3d.structures.meshes.Meshes at 0x724f14496530>,\n",
       " <pytorch3d.structures.meshes.Meshes at 0x724f0beabb80>,\n",
       " <pytorch3d.structures.meshes.Meshes at 0x724f147db3d0>,\n",
       " <pytorch3d.structures.meshes.Meshes at 0x724f081ecbe0>,\n",
       " <pytorch3d.structures.meshes.Meshes at 0x724f081ee950>,\n",
       " <pytorch3d.structures.meshes.Meshes at 0x724f081ee5f0>,\n",
       " <pytorch3d.structures.meshes.Meshes at 0x724f147dbdc0>,\n",
       " <pytorch3d.structures.meshes.Meshes at 0x724f081ee980>,\n",
       " <pytorch3d.structures.meshes.Meshes at 0x724f081ecd60>,\n",
       " <pytorch3d.structures.meshes.Meshes at 0x724f081ee8c0>,\n",
       " <pytorch3d.structures.meshes.Meshes at 0x724f081eec20>,\n",
       " <pytorch3d.structures.meshes.Meshes at 0x724f081ee620>,\n",
       " <pytorch3d.structures.meshes.Meshes at 0x724f081eccd0>,\n",
       " <pytorch3d.structures.meshes.Meshes at 0x724f081ee410>,\n",
       " <pytorch3d.structures.meshes.Meshes at 0x724f081ee3e0>,\n",
       " <pytorch3d.structures.meshes.Meshes at 0x724f081ef220>,\n",
       " <pytorch3d.structures.meshes.Meshes at 0x724f081ee0e0>,\n",
       " <pytorch3d.structures.meshes.Meshes at 0x724f081ecbb0>,\n",
       " <pytorch3d.structures.meshes.Meshes at 0x724f081eeda0>,\n",
       " <pytorch3d.structures.meshes.Meshes at 0x724f081ee290>,\n",
       " <pytorch3d.structures.meshes.Meshes at 0x724f081ee6e0>,\n",
       " <pytorch3d.structures.meshes.Meshes at 0x724f081ece50>,\n",
       " <pytorch3d.structures.meshes.Meshes at 0x724f081ee170>,\n",
       " <pytorch3d.structures.meshes.Meshes at 0x724f081eeec0>,\n",
       " <pytorch3d.structures.meshes.Meshes at 0x724f081ee7d0>,\n",
       " <pytorch3d.structures.meshes.Meshes at 0x724f081ecaf0>,\n",
       " <pytorch3d.structures.meshes.Meshes at 0x724f081ecd90>,\n",
       " <pytorch3d.structures.meshes.Meshes at 0x724f081ecb20>,\n",
       " <pytorch3d.structures.meshes.Meshes at 0x724f081ee740>,\n",
       " <pytorch3d.structures.meshes.Meshes at 0x724f081ecd30>,\n",
       " <pytorch3d.structures.meshes.Meshes at 0x724f081ee200>,\n",
       " <pytorch3d.structures.meshes.Meshes at 0x724f081eeb90>,\n",
       " <pytorch3d.structures.meshes.Meshes at 0x724f081ee440>,\n",
       " <pytorch3d.structures.meshes.Meshes at 0x724f081ecac0>,\n",
       " <pytorch3d.structures.meshes.Meshes at 0x724f14473d60>,\n",
       " <pytorch3d.structures.meshes.Meshes at 0x724f081ee320>,\n",
       " <pytorch3d.structures.meshes.Meshes at 0x724f081ee920>,\n",
       " <pytorch3d.structures.meshes.Meshes at 0x724f081ee8f0>,\n",
       " <pytorch3d.structures.meshes.Meshes at 0x724f081ee4d0>,\n",
       " <pytorch3d.structures.meshes.Meshes at 0x724f081ee9b0>,\n",
       " <pytorch3d.structures.meshes.Meshes at 0x724f081ee560>,\n",
       " <pytorch3d.structures.meshes.Meshes at 0x724f081ecf70>,\n",
       " <pytorch3d.structures.meshes.Meshes at 0x724f081ee800>,\n",
       " <pytorch3d.structures.meshes.Meshes at 0x724f082f86d0>,\n",
       " <pytorch3d.structures.meshes.Meshes at 0x724f082f8250>,\n",
       " <pytorch3d.structures.meshes.Meshes at 0x724f082fbac0>,\n",
       " <pytorch3d.structures.meshes.Meshes at 0x724f082fbdc0>,\n",
       " <pytorch3d.structures.meshes.Meshes at 0x724f082fb3d0>,\n",
       " <pytorch3d.structures.meshes.Meshes at 0x724f082f80d0>,\n",
       " <pytorch3d.structures.meshes.Meshes at 0x724f082fba60>,\n",
       " <pytorch3d.structures.meshes.Meshes at 0x724f082fbe80>,\n",
       " <pytorch3d.structures.meshes.Meshes at 0x724f082fac50>,\n",
       " <pytorch3d.structures.meshes.Meshes at 0x724f082f8eb0>,\n",
       " <pytorch3d.structures.meshes.Meshes at 0x724f082f94e0>,\n",
       " <pytorch3d.structures.meshes.Meshes at 0x724f082fb790>,\n",
       " <pytorch3d.structures.meshes.Meshes at 0x724f082f8fd0>,\n",
       " <pytorch3d.structures.meshes.Meshes at 0x724f082f8e80>]"
      ]
     },
     "execution_count": 27,
     "metadata": {},
     "output_type": "execute_result"
    }
   ],
   "source": [
    "R, T = look_at_view_transform(dist=2, azim=0, elev=0)\n",
    "cameras = FoVPerspectiveCameras(device=device, R=R, T=T, fov=60)\n",
    "\n",
    "rasterizer = make_rasterizer(cameras)\n",
    "\n",
    "meshes"
   ]
  }
 ],
 "metadata": {
  "kernelspec": {
   "display_name": "thesis",
   "language": "python",
   "name": "python3"
  },
  "language_info": {
   "codemirror_mode": {
    "name": "ipython",
    "version": 3
   },
   "file_extension": ".py",
   "mimetype": "text/x-python",
   "name": "python",
   "nbconvert_exporter": "python",
   "pygments_lexer": "ipython3",
   "version": "3.10.14"
  }
 },
 "nbformat": 4,
 "nbformat_minor": 2
}
