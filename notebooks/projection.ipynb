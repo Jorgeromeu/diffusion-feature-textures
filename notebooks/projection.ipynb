{
 "cells": [
  {
   "cell_type": "code",
   "execution_count": null,
   "id": "initial_id",
   "metadata": {
    "collapsed": true
   },
   "outputs": [],
   "source": [
    "import matplotlib.pyplot as plt\n",
    "\n",
    "%load_ext autoreload\n",
    "%autoreload 2\n",
    "\n",
    "from PIL import Image\n",
    "import torch\n",
    "from pytorch3d.renderer import FoVPerspectiveCameras, look_at_view_transform\n",
    "import torchvision.transforms as transforms\n",
    "from file_util import load_frame_obj\n",
    "from pathlib import Path\n",
    "\n",
    "to_pil = transforms.ToPILImage()\n",
    "to_tensor = transforms.ToTensor()"
   ]
  },
  {
   "cell_type": "code",
   "outputs": [],
   "source": [
    "device = torch.device(\"cuda:0\")\n",
    "device = torch.device('cpu')\n",
    "\n",
    "mesh = load_frame_obj(Path('../data/dancing'), frame=1, device=device)"
   ],
   "metadata": {
    "collapsed": false,
    "ExecuteTime": {
     "end_time": "2024-09-03T17:49:45.347306474Z",
     "start_time": "2024-09-03T17:49:45.180792903Z"
    }
   },
   "id": "4d2744062e10c1ce",
   "execution_count": 43
  },
  {
   "cell_type": "code",
   "outputs": [],
   "source": [
    "R, T = look_at_view_transform(dist=2, azim=0, elev=0)\n",
    "cameras = FoVPerspectiveCameras(device=device, R=R, T=T, fov=60).cpu()"
   ],
   "metadata": {
    "collapsed": false,
    "ExecuteTime": {
     "end_time": "2024-09-03T17:49:46.812843340Z",
     "start_time": "2024-09-03T17:49:46.798630665Z"
    }
   },
   "id": "812b339dbaefc9c8",
   "execution_count": 44
  },
  {
   "cell_type": "code",
   "outputs": [
    {
     "data": {
      "text/plain": "<matplotlib.image.AxesImage at 0x7f7ca29e8310>"
     },
     "execution_count": 45,
     "metadata": {},
     "output_type": "execute_result"
    },
    {
     "data": {
      "text/plain": "<Figure size 640x480 with 1 Axes>",
      "image/png": "[encoded data removed]"
     },
     "metadata": {},
     "output_type": "display_data"
    }
   ],
   "source": [
    "from rendering import rasterize\n",
    "\n",
    "res = 200\n",
    "fragments, depth_map = rasterize(cameras, mesh, res)\n",
    "\n",
    "plt.imshow(depth_map)\n"
   ],
   "metadata": {
    "collapsed": false,
    "ExecuteTime": {
     "end_time": "2024-09-03T17:49:48.471136662Z",
     "start_time": "2024-09-03T17:49:47.510589371Z"
    }
   },
   "id": "71202c0e4044a4a",
   "execution_count": 45
  },
  {
   "cell_type": "code",
   "outputs": [],
   "source": [
    "feature_tensor = torch.zeros(100, 100, 3)\n",
    "\n",
    "# feature_tensor[0]"
   ],
   "metadata": {
    "collapsed": false,
    "ExecuteTime": {
     "end_time": "2024-09-03T17:54:37.112210705Z",
     "start_time": "2024-09-03T17:54:37.102527647Z"
    }
   },
   "id": "56138c99c55c40d3",
   "execution_count": 58
  },
  {
   "cell_type": "code",
   "outputs": [],
   "source": [
    "from util import project_feature_map_to_vertices\n",
    "\n",
    "vertex_features = project_feature_map_to_vertices(\n",
    "    mesh,\n",
    "    cameras,\n",
    "    depth_map,\n",
    "    feature_tensor\n",
    ")\n",
    "\n",
    "# face_vert_features = mesh.faces_list()[0]\n",
    "face_vert_features = vertex_features[mesh.faces_list()[0]]"
   ],
   "metadata": {
    "collapsed": false
   },
   "id": "5f3eb9fb63ebb5a7",
   "execution_count": null
  },
  {
   "cell_type": "code",
   "outputs": [],
   "source": [
    "from rendering import rasterize_vertex_features\n",
    "\n",
    "R, T = look_at_view_transform(dist=2, azim=220, elev=0)\n",
    "cam2 = FoVPerspectiveCameras(device=device, R=R, T=T, fov=60).cpu()\n",
    "\n",
    "pixel_features = rasterize_vertex_features(cam2, mesh, res, vertex_features)\n",
    "\n",
    "plt.imshow(pixel_features)\n"
   ],
   "metadata": {
    "collapsed": false
   },
   "id": "de799c2a197624f3",
   "execution_count": null
  },
  {
   "cell_type": "code",
   "outputs": [],
   "source": [
    "image = Image.open('data/example/view.png').resize((res, res))\n",
    "feature_tensor = to_tensor(image).permute(1, 2, 0)"
   ],
   "metadata": {
    "collapsed": false
   },
   "id": "235bdc7553319850",
   "execution_count": null
  },
  {
   "cell_type": "code",
   "outputs": [],
   "source": [
    "\n",
    "\n",
    "\n"
   ],
   "metadata": {
    "collapsed": false
   },
   "id": "b7b986c660bb7ef0",
   "execution_count": null
  },
  {
   "cell_type": "code",
   "outputs": [],
   "source": [
    "import rerun as rr\n",
    "import rerun_util as ru\n",
    "\n",
    "rr.init('debug', spawn=True)\n",
    "rr.log('/', rr.ViewCoordinates.LUF, static=True)\n",
    "rr.log('/', rr.Transform3D())\n",
    "\n",
    "rr.log('cam', ru.pt3d_FovCamera(cameras, 0, res=res))\n",
    "cam_trans = cameras.get_world_to_view_transform().inverse()\n",
    "rr.log('cam', ru.pt3d_transform(cam_trans))\n",
    "rr.log('cam', rr.Image(depth_map.cpu().numpy()))\n",
    "\n",
    "# log mesh\n",
    "rr.log(\"mesh\", ru.pt3d_mesh(mesh, vertex_colors=vertex_colors))\n"
   ],
   "metadata": {
    "collapsed": false
   },
   "id": "7d8841ad1deab74b",
   "execution_count": null
  }
 ],
 "metadata": {
  "kernelspec": {
   "display_name": "Python 3",
   "language": "python",
   "name": "python3"
  },
  "language_info": {
   "codemirror_mode": {
    "name": "ipython",
    "version": 2
   },
   "file_extension": ".py",
   "mimetype": "text/x-python",
   "name": "python",
   "nbconvert_exporter": "python",
   "pygments_lexer": "ipython2",
   "version": "2.7.6"
  }
 },
 "nbformat": 4,
 "nbformat_minor": 5
}
