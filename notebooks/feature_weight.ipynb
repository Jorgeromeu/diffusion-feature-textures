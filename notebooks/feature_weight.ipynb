{
 "cells": [
  {
   "cell_type": "code",
   "execution_count": 48,
   "metadata": {},
   "outputs": [
    {
     "data": {
      "image/png": "[encoded data removed]",
      "text/plain": [
       "<Figure size 640x480 with 2 Axes>"
      ]
     },
     "metadata": {},
     "output_type": "display_data"
    }
   ],
   "source": [
    "from mpl_toolkits.axes_grid1 import make_axes_locatable\n",
    "import numpy as np\n",
    "import matplotlib.pyplot as plt\n",
    "\n",
    "# x=t\n",
    "# y=layer\n",
    "\n",
    "\n",
    "def bilinear_blend(\n",
    "    diffusion_progress,\n",
    "    layer_depth,\n",
    "    early_t_shallow_layer=1.0,\n",
    "    early_t_deep_layer=0.8,\n",
    "    late_t_shallow_layer=0.6,\n",
    "    late_t_deep_layer=0.3,\n",
    "):\n",
    "    return (\n",
    "        early_t_shallow_layer * (1 - diffusion_progress) * (1 - layer_depth)\n",
    "        + late_t_shallow_layer * diffusion_progress * (1 - layer_depth)\n",
    "        + early_t_deep_layer * (1 - diffusion_progress) * layer_depth\n",
    "        + late_t_deep_layer * diffusion_progress * layer_depth\n",
    "    )\n",
    "\n",
    "\n",
    "# Create a grid of x and y values\n",
    "x = np.linspace(0, 1, 25)\n",
    "y = np.linspace(0, 1, 10)\n",
    "X, Y = np.meshgrid(x, y)\n",
    "\n",
    "# Apply the blend function to each point on the grid\n",
    "Z = bilinear_blend(X, Y)\n",
    "\n",
    "fig, ax = plt.subplots()\n",
    "im = ax.imshow(Z, origin=\"lower\", vmin=0, vmax=1)\n",
    "ax.set_xlabel(\"Denoising progress\")\n",
    "ax.set_ylabel(\"Layer depth\")\n",
    "\n",
    "divider = make_axes_locatable(ax)\n",
    "cax = divider.append_axes(\"right\", size=\"5%\", pad=0.15)\n",
    "plt.colorbar(im, cax=cax)\n",
    "\n",
    "# Remove ticks and spines\n",
    "ax.set_xticks([])\n",
    "ax.set_yticks([])\n",
    "for spine in ax.spines.values():\n",
    "    spine.set_visible(False)\n",
    "\n",
    "for spine in cax.spines.values():\n",
    "    spine.set_visible(False)\n",
    "\n",
    "plt.savefig('outs/bilinear_blend.pdf', bbox_inches='tight', dpi=300)\n",
    "\n",
    "# # Get dimensions for arrow placement\n",
    "# x0, x1 = ax.get_xlim()\n",
    "# y0, y1 = ax.get_ylim()\n",
    "\n",
    "# # Add axis direction arrows\n",
    "# arrowprops = dict(arrowstyle=\"->\", lw=1.5, color=\"black\", clip_on=False)\n",
    "\n",
    "# # X arrow (right, just below the image)\n",
    "# ax.annotate('', xy=(x1 + 0.5, y1 + 0.5), xytext=(x1 - 1, y1 + 0.5),\n",
    "#             arrowprops=arrowprops)\n",
    "\n",
    "# # Y arrow (down, just to the left of the image)\n",
    "# ax.annotate('', xy=(x0 - 0.5, y0 - 0.5), xytext=(x0 - 0.5, y0 + 1),\n",
    "#             arrowprops=arrowprops)\n",
    "\n",
    "# # Colorbar matching heatmap height\n",
    "# divider = make_axes_locatable(ax)\n",
    "# cax = divider.append_axes(\"right\", size=\"5%\", pad=0.1)\n",
    "# plt.colorbar(im, cax=cax)"
   ]
  },
  {
   "cell_type": "code",
   "execution_count": 23,
   "metadata": {},
   "outputs": [
    {
     "data": {
      "text/plain": [
       "10"
      ]
     },
     "execution_count": 23,
     "metadata": {},
     "output_type": "execute_result"
    }
   ],
   "source": [
    "module_paths = [\n",
    "    \"mid_block.attentions.0.transformer_blocks.0.attn1\",\n",
    "    \"up_blocks.1.attentions.0.transformer_blocks.0.attn1\",\n",
    "    \"up_blocks.1.attentions.1.transformer_blocks.0.attn1\",\n",
    "    \"up_blocks.1.attentions.2.transformer_blocks.0.attn1\",\n",
    "    \"up_blocks.2.attentions.0.transformer_blocks.0.attn1\",\n",
    "    \"up_blocks.2.attentions.1.transformer_blocks.0.attn1\",\n",
    "    \"up_blocks.2.attentions.2.transformer_blocks.0.attn1\",\n",
    "    \"up_blocks.3.attentions.0.transformer_blocks.0.attn1\",\n",
    "    \"up_blocks.3.attentions.1.transformer_blocks.0.attn1\",\n",
    "    \"up_blocks.3.attentions.2.transformer_blocks.0.attn1\",\n",
    "]\n",
    "\n",
    "len(module_paths)"
   ]
  },
  {
   "cell_type": "code",
   "execution_count": null,
   "metadata": {},
   "outputs": [],
   "source": []
  }
 ],
 "metadata": {
  "kernelspec": {
   "display_name": "thesis4",
   "language": "python",
   "name": "python3"
  },
  "language_info": {
   "codemirror_mode": {
    "name": "ipython",
    "version": 3
   },
   "file_extension": ".py",
   "mimetype": "text/x-python",
   "name": "python",
   "nbconvert_exporter": "python",
   "pygments_lexer": "ipython3",
   "version": "3.9.20"
  }
 },
 "nbformat": 4,
 "nbformat_minor": 2
}
