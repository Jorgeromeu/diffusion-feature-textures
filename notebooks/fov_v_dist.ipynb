{
 "cells": [
  {
   "cell_type": "code",
   "execution_count": 4,
   "metadata": {},
   "outputs": [
    {
     "name": "stdout",
     "output_type": "stream",
     "text": [
      "The autoreload extension is already loaded. To reload it, use:\n",
      "  %reload_ext autoreload\n"
     ]
    },
    {
     "data": {
      "text/plain": [
       "<torch.autograd.grad_mode.set_grad_enabled at 0x7a9502cb02b0>"
      ]
     },
     "execution_count": 4,
     "metadata": {},
     "output_type": "execute_result"
    }
   ],
   "source": [
    "%load_ext autoreload\n",
    "%autoreload 2\n",
    "\n",
    "import torch\n",
    "\n",
    "torch.set_grad_enabled(False)"
   ]
  },
  {
   "cell_type": "code",
   "execution_count": 5,
   "metadata": {},
   "outputs": [],
   "source": [
    "from text3d2video.util import read_obj_with_uvs\n",
    "from text3d2video.utilities.camera_placement import (\n",
    "    cam_view_prompt,\n",
    "    turntable_extrinsics,\n",
    ")\n",
    "from pytorch3d.renderer import FoVPerspectiveCameras\n",
    "\n",
    "mesh_path = \"data/meshes/mixamo-human.obj\"\n",
    "device = \"cuda\"\n",
    "\n",
    "# read mesh\n",
    "mesh, verts_uvs, faces_uvs = read_obj_with_uvs(mesh_path, device=device)\n",
    "\n",
    "n_frames = 10\n",
    "dist = 6\n",
    "\n",
    "angles = torch.linspace(0, 360, n_frames)\n",
    "R, T = turntable_extrinsics(dists=dist, angles=angles)\n",
    "frame_cams = FoVPerspectiveCameras(R=R, T=T, device=\"cuda\", fov=10)\n",
    "\n",
    "prompt_suffixes = [f\", {cam_view_prompt(a, 0)} view\" for a in angles]\n",
    "frame_meshes = mesh.extend(len(frame_cams))"
   ]
  },
  {
   "cell_type": "code",
   "execution_count": null,
   "metadata": {},
   "outputs": [],
   "source": [
    "from text3d2video.rendering import render_depth_map\n",
    "\n",
    "\n",
    "render_depth_map(frame_cams, frame_meshes, device=device, n_frames=n_frames)"
   ]
  }
 ],
 "metadata": {
  "kernelspec": {
   "display_name": "thesis4",
   "language": "python",
   "name": "python3"
  },
  "language_info": {
   "codemirror_mode": {
    "name": "ipython",
    "version": 3
   },
   "file_extension": ".py",
   "mimetype": "text/x-python",
   "name": "python",
   "nbconvert_exporter": "python",
   "pygments_lexer": "ipython3",
   "version": "3.9.20"
  }
 },
 "nbformat": 4,
 "nbformat_minor": 2
}
