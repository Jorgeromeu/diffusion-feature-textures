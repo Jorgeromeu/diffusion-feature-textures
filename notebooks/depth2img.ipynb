{
 "cells": [
  {
   "cell_type": "code",
   "execution_count": 2,
   "metadata": {},
   "outputs": [
    {
     "name": "stdout",
     "output_type": "stream",
     "text": [
      "controlnet loaded\n"
     ]
    },
    {
     "data": {
      "application/vnd.jupyter.widget-view+json": {
       "model_id": "1ccef935923c4ce28d27dcbfd3354dae",
       "version_major": 2,
       "version_minor": 0
      },
      "text/plain": [
       "Loading pipeline components...:   0%|          | 0/7 [00:00<?, ?it/s]"
      ]
     },
     "metadata": {},
     "output_type": "display_data"
    },
    {
     "ename": "",
     "evalue": "",
     "output_type": "error",
     "traceback": [
      "\u001b[1;31mThe Kernel crashed while executing code in the current cell or a previous cell. \n",
      "\u001b[1;31mPlease review the code in the cell(s) to identify a possible cause of the failure. \n",
      "\u001b[1;31mClick <a href='https://aka.ms/vscodeJupyterKernelCrash'>here</a> for more info. \n",
      "\u001b[1;31mView Jupyter <a href='command:jupyter.viewOutput'>log</a> for further details."
     ]
    }
   ],
   "source": [
    "import torch\n",
    "from diffusers import ControlNetModel\n",
    "from diffusers import StableDiffusionControlNetPipeline\n",
    "\n",
    "from text3d2video.generative_rendering.generative_rendering_pipeline import (\n",
    "    GenerativeRenderingPipeline,\n",
    ")\n",
    "\n",
    "# load pipeline\n",
    "device = torch.device(\"cuda\")\n",
    "dtype = torch.float16\n",
    "\n",
    "sd_repo = \"runwayml/stable-diffusion-v1-5\"\n",
    "controlnet_repo = \"lllyasviel/control_v11f1p_sd15_depth\"\n",
    "\n",
    "controlnet = ControlNetModel.from_pretrained(controlnet_repo, torch_dtype=dtype).to(\n",
    "    device\n",
    ")\n",
    "\n",
    "print(\"controlnet loaded\")\n",
    "\n",
    "pipe = StableDiffusionControlNetPipeline.from_pretrained(\n",
    "    sd_repo, controlnet=controlnet, torch_dtype=dtype\n",
    ").to(device)"
   ]
  }
 ],
 "metadata": {
  "kernelspec": {
   "display_name": "thesis4",
   "language": "python",
   "name": "python3"
  },
  "language_info": {
   "codemirror_mode": {
    "name": "ipython",
    "version": 3
   },
   "file_extension": ".py",
   "mimetype": "text/x-python",
   "name": "python",
   "nbconvert_exporter": "python",
   "pygments_lexer": "ipython3",
   "version": "3.9.20"
  }
 },
 "nbformat": 4,
 "nbformat_minor": 2
}
