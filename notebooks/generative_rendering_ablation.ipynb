{
 "cells": [
  {
   "cell_type": "code",
   "execution_count": 4,
   "metadata": {},
   "outputs": [
    {
     "name": "stdout",
     "output_type": "stream",
     "text": [
      "The autoreload extension is already loaded. To reload it, use:\n",
      "  %reload_ext autoreload\n"
     ]
    },
    {
     "data": {
      "text/plain": [
       "False"
      ]
     },
     "execution_count": 4,
     "metadata": {},
     "output_type": "execute_result"
    }
   ],
   "source": [
    "%load_ext autoreload\n",
    "%autoreload 2\n",
    "\n",
    "import wandb\n",
    "import text3d2video.wandb_util as wbu\n",
    "from omegaconf import OmegaConf\n",
    "import torch\n",
    "\n",
    "torch.cuda.is_available()"
   ]
  },
  {
   "cell_type": "code",
   "execution_count": null,
   "metadata": {},
   "outputs": [
    {
     "name": "stderr",
     "output_type": "stream",
     "text": [
      "\u001b[34m\u001b[1mwandb\u001b[0m: Downloading large artifact rumba:v3, 144.70MB. 73 files... \n",
      "\u001b[34m\u001b[1mwandb\u001b[0m:   73 of 73 files downloaded.  \n",
      "Done. 0:0:0.1\n"
     ]
    }
   ],
   "source": [
    "from text3d2video.evaluation.video_comparison import VideoLabel, make_comparison_vid, scene_key_fun\n",
    "from text3d2video.util import group_list_by\n",
    "\n",
    "api = wandb.Api()\n",
    "\n",
    "filters = {\"tags\": \"generative_rendering_ablation\"}\n",
    "runs = list(api.runs(\"romeu/diffusion-3D-features\", filters=filters))\n",
    "\n",
    "def sort_fun(run):\n",
    "    cfg = OmegaConf.create(run.config)\n",
    "    no_uv = not cfg.generative_rendering.do_uv_noise_init\n",
    "    no_pre_attn = not cfg.generative_rendering.do_pre_attn_injection\n",
    "    no_post_attn = not cfg.generative_rendering.do_post_attn_injection \n",
    "\n",
    "    if no_uv:\n",
    "        return 3\n",
    "    elif no_pre_attn:\n",
    "        return 2\n",
    "    elif no_post_attn:\n",
    "        return 1\n",
    "    else:\n",
    "        return 0\n",
    "\n",
    "# group runs by scene\n",
    "runs_grouped = group_list_by(runs, scene_key_fun)\n",
    "\n",
    "# sort runs in each scene consistently\n",
    "for runs in runs_grouped:\n",
    "    runs.sort(key=sort_fun)\n",
    "\n",
    "def info_fun(run):\n",
    "\n",
    "    label = VideoLabel() \n",
    "    cfg = OmegaConf.create(run.config)\n",
    "\n",
    "    no_uv = not cfg.generative_rendering.do_uv_noise_init\n",
    "    no_pre_attn = not cfg.generative_rendering.do_pre_attn_injection\n",
    "    no_post_attn = not cfg.generative_rendering.do_post_attn_injection \n",
    "\n",
    "    if no_uv:\n",
    "        label.content = \"No UV initialization\"\n",
    "    elif no_pre_attn:\n",
    "        label.content = \"No pre attn injection\"\n",
    "    elif no_post_attn:\n",
    "        label.content = \"No post attn injection\"\n",
    "    else:\n",
    "        label.content = \"Full\"\n",
    "\n",
    "    return label\n",
    "\n",
    "vid = make_comparison_vid(\n",
    "    runs_grouped,\n",
    "    info_fun,\n",
    "    download=False,\n",
    "    title=\"Generative Rendering Ablation\",\n",
    "    show_guidance_video=False,\n",
    ")\n",
    "\n",
    "vid.ipython_display()"
   ]
  }
 ],
 "metadata": {
  "kernelspec": {
   "display_name": "texture",
   "language": "python",
   "name": "python3"
  },
  "language_info": {
   "codemirror_mode": {
    "name": "ipython",
    "version": 3
   },
   "file_extension": ".py",
   "mimetype": "text/x-python",
   "name": "python",
   "nbconvert_exporter": "python",
   "pygments_lexer": "ipython3",
   "version": "3.10.14"
  }
 },
 "nbformat": 4,
 "nbformat_minor": 2
}
