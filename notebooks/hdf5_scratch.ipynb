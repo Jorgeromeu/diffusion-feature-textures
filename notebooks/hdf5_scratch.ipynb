{
 "cells": [
  {
   "cell_type": "code",
   "execution_count": 2,
   "metadata": {},
   "outputs": [],
   "source": [
    "%load_ext autoreload\n",
    "%autoreload 2\n",
    "\n",
    "from pathlib import Path\n",
    "import h5py\n",
    "from text3d2video.disk_multidict import DiskMultiDict, TensorDiskMultiDict\n",
    "import numpy as np\n",
    "import torch\n",
    "from codetiming import Timer\n",
    "from tqdm import tqdm\n",
    "\n",
    "d = TensorDiskMultiDict(Path('outs/multiview_features/'))"
   ]
  },
  {
   "cell_type": "code",
   "execution_count": 60,
   "metadata": {},
   "outputs": [],
   "source": [
    "layers = d.key_values('layer')\n",
    "timesteps = sorted([int(t) for t in d.key_values('timestep')])\n",
    "views = sorted([int(v) for v in d.key_values('view')])"
   ]
  },
  {
   "cell_type": "code",
   "execution_count": 128,
   "metadata": {},
   "outputs": [
    {
     "name": "stderr",
     "output_type": "stream",
     "text": [
      "100%|██████████| 300/300 [00:21<00:00, 14.03it/s]\n"
     ]
    },
    {
     "name": "stdout",
     "output_type": "stream",
     "text": [
      "Writing 21.379153797985055\n"
     ]
    },
    {
     "name": "stderr",
     "output_type": "stream",
     "text": [
      "100%|██████████| 300/300 [00:01<00:00, 176.31it/s]"
     ]
    },
    {
     "name": "stdout",
     "output_type": "stream",
     "text": [
      "Reading 1.7057446850230917\n"
     ]
    },
    {
     "name": "stderr",
     "output_type": "stream",
     "text": [
      "\n"
     ]
    }
   ],
   "source": [
    "\n",
    "d = TensorDiskMultiDict(Path('outs/test/'))\n",
    "d.clear()\n",
    "\n",
    "N = 300\n",
    "\n",
    "tensor = torch.randn(320, 100, 100)\n",
    "\n",
    "with Timer(text=\"Writing {}\"):\n",
    "    for i in tqdm(range(N)):\n",
    "        d[{'a': i}] = tensor\n",
    "\n",
    "with Timer(text=\"Reading {}\"):\n",
    "    for i in tqdm(range(N)):\n",
    "        _ = d[{'a': i}]"
   ]
  },
  {
   "cell_type": "code",
   "execution_count": 3,
   "metadata": {},
   "outputs": [
    {
     "name": "stderr",
     "output_type": "stream",
     "text": [
      "100%|██████████| 1000/1000 [01:23<00:00, 11.99it/s]\n"
     ]
    },
    {
     "name": "stdout",
     "output_type": "stream",
     "text": [
      "Writing 83.43169894395396\n"
     ]
    },
    {
     "name": "stderr",
     "output_type": "stream",
     "text": [
      "100%|██████████| 1000/1000 [00:00<00:00, 6857.14it/s]"
     ]
    },
    {
     "name": "stdout",
     "output_type": "stream",
     "text": [
      "Reading 0.15019221708644181\n"
     ]
    },
    {
     "name": "stderr",
     "output_type": "stream",
     "text": [
      "\n"
     ]
    }
   ],
   "source": [
    "path = Path('outs/test.h5')\n",
    "if path.exists():\n",
    "    path.unlink()\n",
    "\n",
    "f = h5py.File('outs/test.h5', 'w')\n",
    "\n",
    "N = 1000\n",
    "\n",
    "tensor = torch.randn(320, 100, 100)\n",
    "\n",
    "with Timer(text=\"Writing {}\"):\n",
    "    for i in tqdm(range(N)):\n",
    "        f.create_dataset(f'dataset_{i}', data=tensor.numpy())\n",
    "\n",
    "with Timer(text=\"Reading {}\"):\n",
    "    for i in tqdm(range(N)):\n",
    "        _ = f[f'dataset_{i}']"
   ]
  }
 ],
 "metadata": {
  "kernelspec": {
   "display_name": "thesis",
   "language": "python",
   "name": "python3"
  },
  "language_info": {
   "codemirror_mode": {
    "name": "ipython",
    "version": 3
   },
   "file_extension": ".py",
   "mimetype": "text/x-python",
   "name": "python",
   "nbconvert_exporter": "python",
   "pygments_lexer": "ipython3",
   "version": "3.8.19"
  }
 },
 "nbformat": 4,
 "nbformat_minor": 2
}
