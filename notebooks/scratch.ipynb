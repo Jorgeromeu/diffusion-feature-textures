{
 "cells": [
  {
   "cell_type": "code",
   "execution_count": 45,
   "metadata": {},
   "outputs": [
    {
     "name": "stderr",
     "output_type": "stream",
     "text": [
      "/home/jorge/miniconda3/envs/thesis/lib/python3.10/site-packages/pytorch3d/io/obj_io.py:548: UserWarning: Mtl file does not exist: data/cat.mtl\n",
      "  warnings.warn(f\"Mtl file does not exist: {f}\")\n"
     ]
    }
   ],
   "source": [
    "from text3d2video.util import multiview_cameras\n",
    "from pytorch3d.io import load_objs_as_meshes\n",
    "from pytorch3d.renderer import FoVPerspectiveCameras\n",
    "import torch\n",
    "\n",
    "device = 'cuda'\n",
    "n_views = 10\n",
    "\n",
    "mesh = load_objs_as_meshes(['data/cat.obj'], device=device)\n",
    "cameras = multiview_cameras(mesh, n_views, device=device)\n",
    "\n",
    "torch.save(cameras, 'outs/cameras.pt')\n",
    "\n",
    "# cams = FoVPerspectiveCameras()\n",
    "# cams.load_state_dict(torch.load('outs/cameras.pt'))\n",
    "cams = torch.load('outs/cameras.pt')\n"
   ]
  }
 ],
 "metadata": {
  "kernelspec": {
   "display_name": "thesis",
   "language": "python",
   "name": "python3"
  },
  "language_info": {
   "codemirror_mode": {
    "name": "ipython",
    "version": 3
   },
   "file_extension": ".py",
   "mimetype": "text/x-python",
   "name": "python",
   "nbconvert_exporter": "python",
   "pygments_lexer": "ipython3",
   "version": "3.10.14"
  }
 },
 "nbformat": 4,
 "nbformat_minor": 2
}
