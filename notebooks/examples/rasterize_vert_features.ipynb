{
 "cells": [
  {
   "cell_type": "code",
   "execution_count": 1,
   "metadata": {},
   "outputs": [],
   "source": [
    "%load_ext autoreload\n",
    "%autoreload 2\n",
    "\n",
    "\n",
    "import torch\n",
    "from text3d2video.artifacts.vertex_atributes_artifact import VertAttributesArtifact\n",
    "import text3d2video.wandb_util as wu\n",
    "from text3d2video.artifacts.animation_artifact import AnimationArtifact\n",
    "from text3d2video.rendering import render_depth_map\n",
    "from text3d2video.util import front_camera\n",
    "from pytorch3d.renderer import TexturesVertex"
   ]
  },
  {
   "cell_type": "code",
   "execution_count": 4,
   "metadata": {},
   "outputs": [],
   "source": [
    "features_3d_artifact_tag = 'deadpool-3d-features:v6'\n",
    "animation_tag = 'backflip:latest'\n",
    "\n",
    "features_3d = wu.get_artifact(features_3d_artifact_tag)\n",
    "features_3d = VertAttributesArtifact.from_wandb_artifact(features_3d)\n",
    "\n",
    "animation = wu.get_artifact(animation_tag)\n",
    "animation = AnimationArtifact.from_wandb_artifact(animation)"
   ]
  },
  {
   "cell_type": "code",
   "execution_count": 5,
   "metadata": {},
   "outputs": [
    {
     "name": "stderr",
     "output_type": "stream",
     "text": [
      "/home/jorge/thesis/text3d2video/disk_multidict.py:60: FutureWarning: You are using `torch.load` with `weights_only=False` (the current default value), which uses the default pickle module implicitly. It is possible to construct malicious pickle data which will execute arbitrary code during unpickling (See https://github.com/pytorch/pytorch/blob/main/SECURITY.md#untrusted-models for more details). In a future release, the default value for `weights_only` will be flipped to `True`. This limits the functions that could be executed during unpickling. Arbitrary objects will no longer be allowed to be loaded via this mode unless they are explicitly allowlisted by the user via `torch.serialization.add_safe_globals`. We recommend you start setting `weights_only=True` for any use case where you don't have full control of the loaded file. Please open an issue on GitHub for any issues related to this experimental feature.\n",
      "  return self.deserialization_fun(path)\n"
     ]
    }
   ],
   "source": [
    "identifier = features_3d.get_features_disk_dict().keys()[0]\n",
    "vert_features = features_3d.get_features_disk_dict()[identifier]"
   ]
  },
  {
   "cell_type": "code",
   "execution_count": 6,
   "metadata": {},
   "outputs": [
    {
     "name": "stderr",
     "output_type": "stream",
     "text": [
      "/home/jorge/miniconda3/envs/thesis4/lib/python3.9/site-packages/pytorch3d/io/obj_io.py:546: UserWarning: No mtl file provided\n",
      "  warnings.warn(\"No mtl file provided\")\n"
     ]
    }
   ],
   "source": [
    "frame_indices = [1,2,3,4,5]\n",
    "\n",
    "# get frames\n",
    "camera = front_camera()\n",
    "frames = animation.load_frames(frame_indices)"
   ]
  },
  {
   "cell_type": "code",
   "execution_count": 9,
   "metadata": {},
   "outputs": [
    {
     "data": {
      "text/plain": [
       "torch.Size([5, 100, 100, 3, 1280])"
      ]
     },
     "execution_count": 9,
     "metadata": {},
     "output_type": "execute_result"
    }
   ],
   "source": [
    "from text3d2video.rendering import make_feature_renderer\n",
    "\n",
    "device = torch.device('cuda')\n",
    "\n",
    "batched_vert_features = vert_features.expand(len(frames), *vert_features.shape)\n",
    "vert_tex = TexturesVertex(verts_features=batched_vert_features).to(device)\n",
    "frames.textures = vert_tex\n",
    "\n",
    "renderer = make_feature_renderer(camera, 100)\n",
    "\n",
    "with torch.no_grad():\n",
    "    out = renderer(frames)\n",
    "\n",
    "out.shape"
   ]
  },
  {
   "cell_type": "code",
   "execution_count": 55,
   "metadata": {},
   "outputs": [],
   "source": [
    "import matplotlib.pyplot as plt\n",
    "\n",
    "renderer = make_feature_renderer(camera, 100)\n",
    "\n",
    "with torch.no_grad():\n",
    "    out = renderer(frames).cpu()"
   ]
  },
  {
   "cell_type": "code",
   "execution_count": 66,
   "metadata": {},
   "outputs": [
    {
     "name": "stderr",
     "output_type": "stream",
     "text": [
      "Clipping input data to the valid range for imshow with RGB data ([0..1] for floats or [0..255] for integers). Got range [-0.5043871..0.77381426].\n"
     ]
    },
    {
     "data": {
      "text/plain": [
       "torch.Size([5, 100, 100, 1280])"
      ]
     },
     "execution_count": 66,
     "metadata": {},
     "output_type": "execute_result"
    },
    {
     "data": {
      "image/png": "[encoded data removed]",
      "text/plain": [
       "<Figure size 640x480 with 1 Axes>"
      ]
     },
     "metadata": {},
     "output_type": "display_data"
    },
    {
     "ename": "",
     "evalue": "",
     "output_type": "error",
     "traceback": [
      "\u001b[1;31mThe Kernel crashed while executing code in the current cell or a previous cell. \n",
      "\u001b[1;31mPlease review the code in the cell(s) to identify a possible cause of the failure. \n",
      "\u001b[1;31mClick <a href='https://aka.ms/vscodeJupyterKernelCrash'>here</a> for more info. \n",
      "\u001b[1;31mView Jupyter <a href='command:jupyter.viewOutput'>log</a> for further details."
     ]
    }
   ],
   "source": [
    "plt.imshow(out[0, :,:, 0:3])\n",
    "out.shape"
   ]
  },
  {
   "cell_type": "code",
   "execution_count": 65,
   "metadata": {},
   "outputs": [
    {
     "data": {
      "text/plain": [
       "torch.Size([5, 1280, 100, 100])"
      ]
     },
     "execution_count": 65,
     "metadata": {},
     "output_type": "execute_result"
    }
   ],
   "source": [
    "from text3d2video.rendering import rasterize_vertex_features\n",
    "\n",
    "\n",
    "rasterize_vertex_features(camera, frames, 100, vert_features.cuda()).shape"
   ]
  }
 ],
 "metadata": {
  "kernelspec": {
   "display_name": "thesis",
   "language": "python",
   "name": "python3"
  },
  "language_info": {
   "codemirror_mode": {
    "name": "ipython",
    "version": 3
   },
   "file_extension": ".py",
   "mimetype": "text/x-python",
   "name": "python",
   "nbconvert_exporter": "python",
   "pygments_lexer": "ipython3",
   "version": "3.9.20"
  }
 },
 "nbformat": 4,
 "nbformat_minor": 2
}
