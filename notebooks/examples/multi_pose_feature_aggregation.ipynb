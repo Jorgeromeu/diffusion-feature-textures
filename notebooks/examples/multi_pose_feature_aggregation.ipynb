{
 "cells": [
  {
   "cell_type": "code",
   "execution_count": 1,
   "metadata": {},
   "outputs": [],
   "source": [
    "%load_ext autoreload\n",
    "%autoreload 2\n",
    "\n",
    "import torch\n",
    "from diffusers import ControlNetModel\n",
    "\n",
    "from text3d2video.artifacts.animation_artifact import AnimationArtifact\n",
    "from text3d2video.ipython_utils import display_ims\n",
    "import torchvision.transforms.functional as TF\n",
    "from text3d2video.generative_rendering import GenerativeRenderingPipeline"
   ]
  },
  {
   "cell_type": "code",
   "execution_count": 2,
   "metadata": {},
   "outputs": [],
   "source": [
    "animation = AnimationArtifact.from_wandb_artifact_tag(\"joyful-jump:latest\")"
   ]
  },
  {
   "cell_type": "code",
   "execution_count": 3,
   "metadata": {},
   "outputs": [],
   "source": [
    "from text3d2video.util import front_camera\n",
    "\n",
    "frame_nums = animation.frame_nums(10)\n",
    "meshes = animation.load_frames(frame_nums)\n",
    "cameras = front_camera(len(frame_nums))"
   ]
  },
  {
   "cell_type": "code",
   "execution_count": 5,
   "metadata": {},
   "outputs": [],
   "source": [
    "from scripts.aggregate_features import aggregate_3d_features\n",
    "\n",
    "feature_maps = torch.randn(len(frame_nums), 100, 100, 3)\n",
    "\n",
    "vert_features = aggregate_3d_features(cameras, meshes, feature_maps)"
   ]
  },
  {
   "cell_type": "code",
   "execution_count": 6,
   "metadata": {},
   "outputs": [
    {
     "data": {
      "text/plain": [
       "tensor([[-0.0716, -0.0134,  0.0837,  ...,  0.0920, -0.1205, -0.5183],\n",
       "        [ 0.0758, -0.0891,  0.0191,  ...,  0.0904, -0.4132, -0.5076],\n",
       "        [ 0.1542, -0.0792, -0.3754,  ...,  0.0850,  0.2909, -0.0673],\n",
       "        ...,\n",
       "        [ 0.0000,  0.0000,  0.0000,  ...,  0.0000,  0.0000,  0.0000],\n",
       "        [ 0.0000,  0.0000,  0.0000,  ...,  0.0000,  0.0000,  0.0000],\n",
       "        [ 0.0000,  0.0000,  0.0000,  ...,  0.0000,  0.0000,  0.0000]])"
      ]
     },
     "execution_count": 6,
     "metadata": {},
     "output_type": "execute_result"
    }
   ],
   "source": [
    "vert_features"
   ]
  }
 ],
 "metadata": {
  "kernelspec": {
   "display_name": "thesis4",
   "language": "python",
   "name": "python3"
  },
  "language_info": {
   "codemirror_mode": {
    "name": "ipython",
    "version": 3
   },
   "file_extension": ".py",
   "mimetype": "text/x-python",
   "name": "python",
   "nbconvert_exporter": "python",
   "pygments_lexer": "ipython3",
   "version": "3.9.20"
  }
 },
 "nbformat": 4,
 "nbformat_minor": 2
}
