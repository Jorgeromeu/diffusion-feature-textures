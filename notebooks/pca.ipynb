{
 "cells": [
  {
   "cell_type": "code",
   "execution_count": 14,
   "metadata": {},
   "outputs": [
    {
     "name": "stdout",
     "output_type": "stream",
     "text": [
      "The autoreload extension is already loaded. To reload it, use:\n",
      "  %reload_ext autoreload\n"
     ]
    }
   ],
   "source": [
    "%load_ext autoreload\n",
    "%autoreload 2\n",
    "\n",
    "from einops import rearrange\n",
    "from text3d2video.wandb_util import MVFeaturesArtifact\n",
    "import wandb"
   ]
  },
  {
   "cell_type": "code",
   "execution_count": 9,
   "metadata": {},
   "outputs": [
    {
     "name": "stderr",
     "output_type": "stream",
     "text": [
      "\u001b[34m\u001b[1mwandb\u001b[0m: Downloading large artifact multiview_features:latest, 144.81MB. 46 files... \n",
      "\u001b[34m\u001b[1mwandb\u001b[0m:   46 of 46 files downloaded.  \n",
      "Done. 0:0:0.4\n",
      "\u001b[34m\u001b[1mwandb\u001b[0m: Downloading large artifact backflip:v0, 121.09MB. 61 files... \n",
      "\u001b[34m\u001b[1mwandb\u001b[0m:   61 of 61 files downloaded.  \n",
      "Done. 0:0:0.7\n"
     ]
    }
   ],
   "source": [
    "from text3d2video.wandb_util import first_used_artifact_of_type\n",
    "from text3d2video.animation_artifact import AnimationArtifact\n",
    "\n",
    "api = wandb.Api()\n",
    "\n",
    "mv_features_art = 'multiview_features:latest'\n",
    "\n",
    "mv_features_art = api.artifact(f'romeu/diffusion-3D-features/{mv_features_art}')\n",
    "mv_features_art = MVFeaturesArtifact(mv_features_art)\n",
    "\n",
    "mv_featuers_run = mv_features_art.artifact.logged_by()\n",
    "animation_art = first_used_artifact_of_type(mv_featuers_run, AnimationArtifact.artifact_type)\n",
    "animation_art = AnimationArtifact.from_wandb_artifact(animation_art)\n",
    "\n",
    "# mesh = animation_art"
   ]
  },
  {
   "cell_type": "code",
   "execution_count": 11,
   "metadata": {},
   "outputs": [
    {
     "ename": "IndentationError",
     "evalue": "unexpected indent (2470496649.py, line 5)",
     "output_type": "error",
     "traceback": [
      "\u001b[0;36m  Cell \u001b[0;32mIn[11], line 5\u001b[0;36m\u001b[0m\n\u001b[0;31m    for v in mv_features_art.view_indices()]\u001b[0m\n\u001b[0m    ^\u001b[0m\n\u001b[0;31mIndentationError\u001b[0m\u001b[0;31m:\u001b[0m unexpected indent\n"
     ]
    }
   ],
   "source": [
    "from matplotlib import pyplot as plt\n",
    "from text3d2video.visualization import RgbPcaUtil\n",
    "\n",
    "# features = [mv_features_art.get_feature(v, {'timestep':'20', 'level':'2'}) \n",
    "            # for v in mv_features_art.view_indices()]\n",
    "# all_features = torch.stack(features)\n",
    "\n",
    "all_features = rearrange(all_features, 'v c h w -> (v h w) c')\n",
    "pca = RgbPcaUtil(all_features.shape[1])\n",
    "pca.fit(all_features)\n",
    "\n",
    "features_rgb = [pca.feature_map_to_rgb(feature) for feature in features]\n",
    "\n",
    "cams = mv_features_art.get_cameras()\n",
    "\n",
    "N = len(features_rgb)\n",
    "scale = 1\n",
    "fig, axs = plt.subplots(1, N, figsize=(scale*N, scale))\n",
    "for i in range(N):\n",
    "    axs[i].imshow(features_rgb[i].permute(1,2,0))\n",
    "    axs[i].axis('off')"
   ]
  },
  {
   "cell_type": "code",
   "execution_count": 141,
   "metadata": {},
   "outputs": [
    {
     "data": {
      "text/plain": [
       "<matplotlib.image.AxesImage at 0x7df09ca2b220>"
      ]
     },
     "execution_count": 141,
     "metadata": {},
     "output_type": "execute_result"
    },
    {
     "data": {
      "image/png": "[encoded data removed]",
      "text/plain": [
       "<Figure size 640x480 with 1 Axes>"
      ]
     },
     "metadata": {},
     "output_type": "display_data"
    }
   ],
   "source": [
    "i = 1\n",
    "greater = features_rgb[i] > 1\n",
    "lower = features_rgb[i] < 0\n",
    "both = greater | lower\n",
    "both = both.any(dim=0)\n",
    "\n",
    "plt.imshow(both)\n"
   ]
  },
  {
   "cell_type": "code",
   "execution_count": 5,
   "metadata": {},
   "outputs": [
    {
     "ename": "NameError",
     "evalue": "name 'features' is not defined",
     "output_type": "error",
     "traceback": [
      "\u001b[0;31m---------------------------------------------------------------------------\u001b[0m",
      "\u001b[0;31mNameError\u001b[0m                                 Traceback (most recent call last)",
      "Cell \u001b[0;32mIn[5], line 4\u001b[0m\n\u001b[1;32m      1\u001b[0m \u001b[38;5;28;01mfrom\u001b[39;00m \u001b[38;5;21;01mtext3d2video\u001b[39;00m\u001b[38;5;21;01m.\u001b[39;00m\u001b[38;5;21;01mrendering\u001b[39;00m \u001b[38;5;28;01mimport\u001b[39;00m make_rasterizer, rasterize_vertex_features\n\u001b[1;32m      2\u001b[0m \u001b[38;5;28;01mfrom\u001b[39;00m \u001b[38;5;21;01mtext3d2video\u001b[39;00m\u001b[38;5;21;01m.\u001b[39;00m\u001b[38;5;21;01mutil\u001b[39;00m \u001b[38;5;28;01mimport\u001b[39;00m project_vertices_to_features\n\u001b[0;32m----> 4\u001b[0m feature_map \u001b[38;5;241m=\u001b[39m \u001b[43mfeatures\u001b[49m[\u001b[38;5;241m0\u001b[39m]\n\u001b[1;32m      5\u001b[0m cam \u001b[38;5;241m=\u001b[39m cams[\u001b[38;5;241m0\u001b[39m]\n\u001b[1;32m      6\u001b[0m resolution \u001b[38;5;241m=\u001b[39m feature_map\u001b[38;5;241m.\u001b[39mshape[\u001b[38;5;241m-\u001b[39m\u001b[38;5;241m1\u001b[39m]\n",
      "\u001b[0;31mNameError\u001b[0m: name 'features' is not defined"
     ]
    }
   ],
   "source": [
    "from text3d2video.rendering import make_rasterizer, rasterize_vertex_features\n",
    "from text3d2video.util import project_vertices_to_features\n",
    "\n",
    "feature_map = features[0]\n",
    "cam = cams[0]\n",
    "resolution = feature_map.shape[-1]\n",
    "\n",
    "vert_features = project_vertices_to_features(mesh, cam, feature_map)\n",
    "\n",
    "feature_im = rasterize_vertex_features(cams[0], mesh, resolution, vert_features).cpu()\n",
    "\n",
    "feature_im_rgb = pca.feature_map_to_rgb(feature_im.cpu())\n",
    "feature_map_rgb = pca.feature_map_to_rgb(feature_map.cpu())\n",
    "\n",
    "scale = 8\n",
    "fig, axs = plt.subplots(1, 2, figsize=(scale, scale))\n",
    "axs[0].imshow(feature_im_rgb.permute(1,2,0))\n",
    "axs[1].imshow(feature_map_rgb.permute(1,2,0))\n",
    "\n",
    "for ax in axs:\n",
    "    ax.axis('off')\n",
    "\n",
    "fig.tight_layout()"
   ]
  }
 ],
 "metadata": {
  "kernelspec": {
   "display_name": "thesis",
   "language": "python",
   "name": "python3"
  },
  "language_info": {
   "codemirror_mode": {
    "name": "ipython",
    "version": 3
   },
   "file_extension": ".py",
   "mimetype": "text/x-python",
   "name": "python",
   "nbconvert_exporter": "python",
   "pygments_lexer": "ipython3",
   "version": "3.8.19"
  }
 },
 "nbformat": 4,
 "nbformat_minor": 2
}
