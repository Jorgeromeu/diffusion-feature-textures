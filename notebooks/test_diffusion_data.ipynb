{
 "cells": [
  {
   "cell_type": "code",
   "execution_count": 1,
   "metadata": {},
   "outputs": [],
   "source": [
    "%load_ext autoreload\n",
    "%autoreload 2\n",
    "\n",
    "from text3d2video.artifacts.diffusion_data import DiffusionDataCfg"
   ]
  },
  {
   "cell_type": "code",
   "execution_count": 2,
   "metadata": {},
   "outputs": [],
   "source": [
    "from pathlib import Path\n",
    "import shutil\n",
    "\n",
    "h5_file_path = Path('data.h5')\n",
    "shutil.rmtree(h5_file_path, ignore_errors=True)\n",
    "h5_file_path.touch(exist_ok=True)"
   ]
  },
  {
   "cell_type": "code",
   "execution_count": 3,
   "metadata": {},
   "outputs": [],
   "source": [
    "from text3d2video.artifacts.diffusion_data import DiffusionData\n",
    "\n",
    "cfg = DiffusionDataCfg(\n",
    "    enabled=True,\n",
    "    n_save_steps=3,\n",
    "    n_save_frames=5,\n",
    "    attn_paths=[\"layer1\"]\n",
    ")\n",
    "\n",
    "diffusion_data = DiffusionData(cfg, h5_file_path)"
   ]
  },
  {
   "cell_type": "code",
   "execution_count": 4,
   "metadata": {},
   "outputs": [],
   "source": [
    "from diffusers import DDIMScheduler\n",
    "\n",
    "scheduler = DDIMScheduler()\n",
    "scheduler.set_timesteps(10)\n",
    "\n",
    "n_frames = 10\n",
    "\n",
    "# setup diffusion data\n",
    "diffusion_data.calculate_save_frames(n_frames)\n",
    "diffusion_data.calculate_save_steps(scheduler)"
   ]
  },
  {
   "cell_type": "code",
   "execution_count": 5,
   "metadata": {},
   "outputs": [
    {
     "name": "stderr",
     "output_type": "stream",
     "text": [
      "/home/jorge/thesis/text3d2video/artifacts/diffusion_data.py:150: UserWarning: Creating a tensor from a list of numpy.ndarrays is extremely slow. Please consider converting the list to a single numpy.ndarray with numpy.array() before converting to a tensor. (Triggered internally at /opt/conda/conda-bld/pytorch_1720538643151/work/torch/csrc/utils/tensor_new.cpp:278.)\n",
      "  return Tensor(dset)\n"
     ]
    }
   ],
   "source": [
    "from text3d2video.artifacts.diffusion_data import LatentsWriter\n",
    "import torch\n",
    "\n",
    "diffusion_data.end_recording()\n",
    "diffusion_data.begin_recording()\n",
    "\n",
    "latents_writer = LatentsWriter(diffusion_data)\n",
    "\n",
    "latents = torch.randn(10, 4, 64, 64)\n",
    "\n",
    "latents_writer.write_latents_batched(0, latents)\n",
    "\n",
    "latents_read = latents_writer.read_latent(0, 0)\n",
    "\n",
    "assert torch.allclose(latents[0], latents_read)"
   ]
  },
  {
   "cell_type": "code",
   "execution_count": 6,
   "metadata": {},
   "outputs": [],
   "source": [
    "from text3d2video.artifacts.diffusion_data import AttnFeaturesWriter\n",
    "\n",
    "diffusion_data.end_recording()\n",
    "diffusion_data.begin_recording()\n",
    "\n",
    "attn_data_writer = AttnFeaturesWriter(diffusion_data)\n",
    "\n",
    "qry = torch.randn(10, 1000, 200)\n",
    "key = torch.randn(10, 1000, 200)\n",
    "value = torch.randn(10, 1000, 200)\n",
    "\n",
    "attn_data_writer.write_qkv_batched(0, 'layer1', qry, key, value)\n",
    "\n",
    "qry_read = attn_data_writer.read_qry(0, 0, 'layer1')\n",
    "key_read = attn_data_writer.read_key(0, 0, 'layer1')\n",
    "value_read = attn_data_writer.read_val(0, 0, 'layer1')\n",
    "\n",
    "assert torch.allclose(qry[0], qry_read)\n",
    "assert torch.allclose(key[0], key_read)\n",
    "assert torch.allclose(value[0], value_read)"
   ]
  },
  {
   "cell_type": "code",
   "execution_count": 9,
   "metadata": {},
   "outputs": [],
   "source": [
    "from text3d2video.artifacts.gr_data import GrDataWriter\n",
    "\n",
    "\n",
    "gr_writer = GrDataWriter(diffusion_data)\n",
    "\n",
    "layers = [\"layer1\", \"layer2\", \"layer3\"]\n",
    "vert_features = {layer: torch.randn(100, 200) for layer in layers}\n",
    "\n",
    "gr_writer.write_vertex_features(0, vert_features)"
   ]
  }
 ],
 "metadata": {
  "kernelspec": {
   "display_name": "thesis4",
   "language": "python",
   "name": "python3"
  },
  "language_info": {
   "codemirror_mode": {
    "name": "ipython",
    "version": 3
   },
   "file_extension": ".py",
   "mimetype": "text/x-python",
   "name": "python",
   "nbconvert_exporter": "python",
   "pygments_lexer": "ipython3",
   "version": "3.9.20"
  }
 },
 "nbformat": 4,
 "nbformat_minor": 2
}
