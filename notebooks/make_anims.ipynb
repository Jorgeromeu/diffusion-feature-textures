{
 "cells": [
  {
   "cell_type": "code",
   "execution_count": 2,
   "metadata": {
    "notebookRunGroups": {
     "groupValue": "1"
    }
   },
   "outputs": [
    {
     "data": {
      "text/plain": [
       "<torch.autograd.grad_mode.set_grad_enabled at 0x747e93731970>"
      ]
     },
     "execution_count": 2,
     "metadata": {},
     "output_type": "execute_result"
    }
   ],
   "source": [
    "%load_ext autoreload\n",
    "%autoreload 2\n",
    "\n",
    "import torch\n",
    "from text3d2video.rendering import render_depth_map\n",
    "import numpy as np\n",
    "from text3d2video.util import read_obj_with_uvs\n",
    "from text3d2video.utilities.camera_placement import (\n",
    "    cam_view_prompt,\n",
    "    turntable_extrinsics,\n",
    ")\n",
    "from pytorch3d.renderer import FoVPerspectiveCameras\n",
    "\n",
    "torch.set_grad_enabled(False)"
   ]
  },
  {
   "cell_type": "code",
   "execution_count": 3,
   "metadata": {},
   "outputs": [],
   "source": [
    "# read mesh\n",
    "from text3d2video.utilities.camera_placement import front_facing_extrinsics\n",
    "\n",
    "\n",
    "device = \"cuda\"\n",
    "mesh_path = \"data/meshes/mixamo-human.obj\"\n",
    "mesh, verts_uvs, faces_uvs = read_obj_with_uvs(mesh_path, device=device)\n",
    "\n",
    "# setup cams\n",
    "n_frames = 10\n",
    "dist = 10.5\n",
    "elev = 30\n",
    "angles = np.linspace(-40, 50, n_frames, endpoint=False)\n",
    "R, T = turntable_extrinsics(dists=dist, angles=angles, elevs=elev)\n",
    "\n",
    "z = 7\n",
    "R, T = front_facing_extrinsics(zs=z, xs=[-0.11,0.11])\n",
    "\n",
    "frame_cams = FoVPerspectiveCameras(R=R, T=T, device=\"cuda\", fov=10)\n",
    "frame_meshes = mesh.extend(len(frame_cams))\n",
    "\n",
    "# prompt suffixes\n",
    "prompt_suffixes = [f\", {cam_view_prompt(a, 0)} view\" for a in angles]"
   ]
  },
  {
   "cell_type": "code",
   "execution_count": 7,
   "metadata": {},
   "outputs": [],
   "source": [
    "from text3d2video.artifacts.anim_artifact import AnimationArtifact\n",
    "\n",
    "anim = AnimationArtifact.from_wandb_artifact_tag('catwalk_180:latest')\n",
    "frame_indices = anim.frame_indices(20)\n",
    "frame_indices = torch.linspace(50, 62, 7).long()\n",
    "\n",
    "frame_cams, frame_meshes = anim.load_frames(frame_indices)\n",
    "verts_uvs, faces_uvs = anim.uv_data()"
   ]
  },
  {
   "cell_type": "code",
   "execution_count": 8,
   "metadata": {},
   "outputs": [],
   "source": [
    "depths = render_depth_map(frame_meshes, frame_cams)"
   ]
  },
  {
   "cell_type": "code",
   "execution_count": 9,
   "metadata": {},
   "outputs": [
    {
     "data": {
      "text/html": [
       "<video controls   height=\"300\">\n",
       " <source src=\"data:video/mp4;base64,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\" type=\"video/mp4\">\n",
       " Your browser does not support the video tag.\n",
       " </video>"
      ],
      "text/plain": [
       "<IPython.core.display.Video object>"
      ]
     },
     "execution_count": 9,
     "metadata": {},
     "output_type": "execute_result"
    }
   ],
   "source": [
    "from text3d2video.utilities.ipython_utils import display_vid\n",
    "from text3d2video.utilities.video_util import pil_frames_to_clip\n",
    "\n",
    "display_vid(pil_frames_to_clip(depths))"
   ]
  },
  {
   "cell_type": "code",
   "execution_count": 10,
   "metadata": {},
   "outputs": [
    {
     "name": "stderr",
     "output_type": "stream",
     "text": [
      "\u001b[34m\u001b[1mwandb\u001b[0m: Using wandb-core as the SDK backend. Please refer to https://wandb.me/wandb-core for more information.\n",
      "\u001b[34m\u001b[1mwandb\u001b[0m: Currently logged in as: \u001b[33mromeu\u001b[0m. Use \u001b[1m`wandb login --relogin`\u001b[0m to force relogin\n"
     ]
    },
    {
     "data": {
      "text/html": [
       "Tracking run with wandb version 0.18.3"
      ],
      "text/plain": [
       "<IPython.core.display.HTML object>"
      ]
     },
     "metadata": {},
     "output_type": "display_data"
    },
    {
     "data": {
      "text/html": [
       "Run data is saved locally in <code>/home/jorge/thesis/wandb/run-20250422_133235-cham4nqe</code>"
      ],
      "text/plain": [
       "<IPython.core.display.HTML object>"
      ]
     },
     "metadata": {},
     "output_type": "display_data"
    },
    {
     "data": {
      "text/html": [
       "Syncing run <strong><a href='https://wandb.ai/romeu/diffusion-3D-features/runs/cham4nqe' target=\"_blank\">ruby-music-2311</a></strong> to <a href='https://wandb.ai/romeu/diffusion-3D-features' target=\"_blank\">Weights & Biases</a> (<a href='https://wandb.me/run' target=\"_blank\">docs</a>)<br/>"
      ],
      "text/plain": [
       "<IPython.core.display.HTML object>"
      ]
     },
     "metadata": {},
     "output_type": "display_data"
    },
    {
     "data": {
      "text/html": [
       " View project at <a href='https://wandb.ai/romeu/diffusion-3D-features' target=\"_blank\">https://wandb.ai/romeu/diffusion-3D-features</a>"
      ],
      "text/plain": [
       "<IPython.core.display.HTML object>"
      ]
     },
     "metadata": {},
     "output_type": "display_data"
    },
    {
     "data": {
      "text/html": [
       " View run at <a href='https://wandb.ai/romeu/diffusion-3D-features/runs/cham4nqe' target=\"_blank\">https://wandb.ai/romeu/diffusion-3D-features/runs/cham4nqe</a>"
      ],
      "text/plain": [
       "<IPython.core.display.HTML object>"
      ]
     },
     "metadata": {},
     "output_type": "display_data"
    },
    {
     "name": "stderr",
     "output_type": "stream",
     "text": [
      "\u001b[34m\u001b[1mwandb\u001b[0m: Adding directory to artifact (/tmp/local_artifacts/animation/backside)... Done. 0.0s\n"
     ]
    },
    {
     "data": {
      "application/vnd.jupyter.widget-view+json": {
       "model_id": "09a382e216764551899cbd78e7ea0336",
       "version_major": 2,
       "version_minor": 0
      },
      "text/plain": [
       "VBox(children=(Label(value='0.007 MB of 0.007 MB uploaded\\r'), FloatProgress(value=1.0, max=1.0)))"
      ]
     },
     "metadata": {},
     "output_type": "display_data"
    },
    {
     "data": {
      "text/html": [
       " View run <strong style=\"color:#cdcd00\">ruby-music-2311</strong> at: <a href='https://wandb.ai/romeu/diffusion-3D-features/runs/cham4nqe' target=\"_blank\">https://wandb.ai/romeu/diffusion-3D-features/runs/cham4nqe</a><br/> View project at: <a href='https://wandb.ai/romeu/diffusion-3D-features' target=\"_blank\">https://wandb.ai/romeu/diffusion-3D-features</a><br/>Synced 5 W&B file(s), 0 media file(s), 5 artifact file(s) and 0 other file(s)"
      ],
      "text/plain": [
       "<IPython.core.display.HTML object>"
      ]
     },
     "metadata": {},
     "output_type": "display_data"
    },
    {
     "data": {
      "text/html": [
       "Find logs at: <code>./wandb/run-20250422_133235-cham4nqe/logs</code>"
      ],
      "text/plain": [
       "<IPython.core.display.HTML object>"
      ]
     },
     "metadata": {},
     "output_type": "display_data"
    }
   ],
   "source": [
    "from text3d2video.artifacts.anim_artifact import AnimationArtifact\n",
    "\n",
    "name = 'backside'\n",
    "new_anim = AnimationArtifact.create_empty_artifact(name)\n",
    "new_anim.write_frames(frame_cams, frame_meshes)\n",
    "new_anim.write_uv_data(verts_uvs, faces_uvs)\n",
    "new_anim.log_standalone()"
   ]
  }
 ],
 "metadata": {
  "kernelspec": {
   "display_name": "thesis4",
   "language": "python",
   "name": "python3"
  },
  "language_info": {
   "codemirror_mode": {
    "name": "ipython",
    "version": 3
   },
   "file_extension": ".py",
   "mimetype": "text/x-python",
   "name": "python",
   "nbconvert_exporter": "python",
   "pygments_lexer": "ipython3",
   "version": "3.9.20"
  }
 },
 "nbformat": 4,
 "nbformat_minor": 2
}
