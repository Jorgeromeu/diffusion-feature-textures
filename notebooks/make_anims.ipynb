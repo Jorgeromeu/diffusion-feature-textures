{
 "cells": [
  {
   "cell_type": "code",
   "execution_count": 1,
   "metadata": {
    "notebookRunGroups": {
     "groupValue": "1"
    }
   },
   "outputs": [
    {
     "data": {
      "text/plain": [
       "<torch.autograd.grad_mode.set_grad_enabled at 0x70e18c5b6610>"
      ]
     },
     "execution_count": 1,
     "metadata": {},
     "output_type": "execute_result"
    }
   ],
   "source": [
    "%load_ext autoreload\n",
    "%autoreload 2\n",
    "\n",
    "import torch\n",
    "import numpy as np\n",
    "from text3d2video.util import read_obj_with_uvs\n",
    "from text3d2video.utilities.camera_placement import (\n",
    "    cam_view_prompt,\n",
    "    turntable_extrinsics,\n",
    ")\n",
    "from pytorch3d.renderer import FoVPerspectiveCameras\n",
    "\n",
    "torch.set_grad_enabled(False)"
   ]
  },
  {
   "cell_type": "code",
   "execution_count": 50,
   "metadata": {},
   "outputs": [
    {
     "name": "stderr",
     "output_type": "stream",
     "text": [
      "WARNING:py.warnings:/home/jorge/miniconda3/envs/thesis4/lib/python3.9/site-packages/pytorch3d/io/obj_io.py:550: UserWarning: Mtl file does not exist: data/meshes/cat_statue.mtl\n",
      "  warnings.warn(f\"Mtl file does not exist: {f}\")\n",
      "\n"
     ]
    }
   ],
   "source": [
    "# read mesh\n",
    "\n",
    "\n",
    "device = \"cuda\"\n",
    "mesh_path = \"data/meshes/cat_statue.obj\"\n",
    "mesh, verts_uvs, faces_uvs = read_obj_with_uvs(mesh_path, device=device)\n",
    "\n",
    "# setup cams\n",
    "n_frames = 25\n",
    "dist = 2.4\n",
    "elev = 0\n",
    "angles = np.linspace(0, 360, n_frames, endpoint=False)\n",
    "R, T = turntable_extrinsics(dists=dist, angles=angles, elevs=elev)\n",
    "\n",
    "frame_cams = FoVPerspectiveCameras(R=R, T=T, device=\"cuda\", fov=30)\n",
    "frame_meshes = mesh.extend(len(frame_cams))\n",
    "\n",
    "# prompt suffixes\n",
    "prompt_suffixes = [f\", {cam_view_prompt(a, 0)} view\" for a in angles]"
   ]
  },
  {
   "cell_type": "code",
   "execution_count": 10,
   "metadata": {},
   "outputs": [],
   "source": [
    "from text3d2video.artifacts.anim_artifact import AnimationArtifact\n",
    "\n",
    "anim = AnimationArtifact.from_wandb_artifact_tag('catwalk_180_20:latest')\n",
    "frame_indices = anim.frame_indices(25)\n",
    "\n",
    "frame_cams, frame_meshes = anim.load_frames(frame_indices)\n",
    "verts_uvs, faces_uvs = anim.uv_data()"
   ]
  },
  {
   "cell_type": "code",
   "execution_count": 7,
   "metadata": {},
   "outputs": [
    {
     "data": {
      "text/html": [
       "<video controls   height=\"300\">\n",
       " <source src=\"data:video/mp4;base64,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\" type=\"video/mp4\">\n",
       " Your browser does not support the video tag.\n",
       " </video>"
      ],
      "text/plain": [
       "<IPython.core.display.Video object>"
      ]
     },
     "execution_count": 7,
     "metadata": {},
     "output_type": "execute_result"
    }
   ],
   "source": [
    "from text3d2video.rendering import render_rgb_uv_map\n",
    "from text3d2video.utilities.video_comparison import display_vids\n",
    "from text3d2video.utilities.video_util import pil_frames_to_clip\n",
    "\n",
    "name = \"mv_cat_statue_20\"\n",
    "uvs = render_rgb_uv_map(frame_meshes, frame_cams, verts_uvs, faces_uvs)\n",
    "vid = pil_frames_to_clip(uvs, fps=15)\n",
    "display_vids([vid], title=name)"
   ]
  },
  {
   "cell_type": "code",
   "execution_count": 52,
   "metadata": {},
   "outputs": [
    {
     "data": {
      "text/html": [
       "Tracking run with wandb version 0.18.3"
      ],
      "text/plain": [
       "<IPython.core.display.HTML object>"
      ]
     },
     "metadata": {},
     "output_type": "display_data"
    },
    {
     "data": {
      "text/html": [
       "Run data is saved locally in <code>/home/jorge/thesis/wandb/run-20250428_135935-03j4qbkv</code>"
      ],
      "text/plain": [
       "<IPython.core.display.HTML object>"
      ]
     },
     "metadata": {},
     "output_type": "display_data"
    },
    {
     "data": {
      "text/html": [
       "Syncing run <strong><a href='https://wandb.ai/romeu/diffusion-3D-features/runs/03j4qbkv' target=\"_blank\">vague-lake-2635</a></strong> to <a href='https://wandb.ai/romeu/diffusion-3D-features' target=\"_blank\">Weights & Biases</a> (<a href='https://wandb.me/run' target=\"_blank\">docs</a>)<br/>"
      ],
      "text/plain": [
       "<IPython.core.display.HTML object>"
      ]
     },
     "metadata": {},
     "output_type": "display_data"
    },
    {
     "data": {
      "text/html": [
       " View project at <a href='https://wandb.ai/romeu/diffusion-3D-features' target=\"_blank\">https://wandb.ai/romeu/diffusion-3D-features</a>"
      ],
      "text/plain": [
       "<IPython.core.display.HTML object>"
      ]
     },
     "metadata": {},
     "output_type": "display_data"
    },
    {
     "data": {
      "text/html": [
       " View run at <a href='https://wandb.ai/romeu/diffusion-3D-features/runs/03j4qbkv' target=\"_blank\">https://wandb.ai/romeu/diffusion-3D-features/runs/03j4qbkv</a>"
      ],
      "text/plain": [
       "<IPython.core.display.HTML object>"
      ]
     },
     "metadata": {},
     "output_type": "display_data"
    },
    {
     "name": "stderr",
     "output_type": "stream",
     "text": [
      "\u001b[34m\u001b[1mwandb\u001b[0m: Adding directory to artifact (/tmp/local_artifacts/animation/mv_cat_statue_20)... Done. 0.0s\n"
     ]
    },
    {
     "data": {
      "application/vnd.jupyter.widget-view+json": {
       "model_id": "a03e2f5678f74d19ab5c805aef341567",
       "version_major": 2,
       "version_minor": 0
      },
      "text/plain": [
       "VBox(children=(Label(value='1.121 MB of 8.573 MB uploaded\\r'), FloatProgress(value=0.13070113104886885, max=1.…"
      ]
     },
     "metadata": {},
     "output_type": "display_data"
    },
    {
     "data": {
      "text/html": [
       " View run <strong style=\"color:#cdcd00\">vague-lake-2635</strong> at: <a href='https://wandb.ai/romeu/diffusion-3D-features/runs/03j4qbkv' target=\"_blank\">https://wandb.ai/romeu/diffusion-3D-features/runs/03j4qbkv</a><br/> View project at: <a href='https://wandb.ai/romeu/diffusion-3D-features' target=\"_blank\">https://wandb.ai/romeu/diffusion-3D-features</a><br/>Synced 5 W&B file(s), 0 media file(s), 3 artifact file(s) and 0 other file(s)"
      ],
      "text/plain": [
       "<IPython.core.display.HTML object>"
      ]
     },
     "metadata": {},
     "output_type": "display_data"
    },
    {
     "data": {
      "text/html": [
       "Find logs at: <code>./wandb/run-20250428_135935-03j4qbkv/logs</code>"
      ],
      "text/plain": [
       "<IPython.core.display.HTML object>"
      ]
     },
     "metadata": {},
     "output_type": "display_data"
    }
   ],
   "source": [
    "from text3d2video.artifacts.anim_artifact import AnimationArtifact\n",
    "\n",
    "new_anim = AnimationArtifact.create_empty_artifact(name)\n",
    "new_anim.write_frames(frame_cams, frame_meshes)\n",
    "new_anim.write_uv_data(verts_uvs, faces_uvs)\n",
    "new_anim.log_standalone()"
   ]
  }
 ],
 "metadata": {
  "kernelspec": {
   "display_name": "thesis4",
   "language": "python",
   "name": "python3"
  },
  "language_info": {
   "codemirror_mode": {
    "name": "ipython",
    "version": 3
   },
   "file_extension": ".py",
   "mimetype": "text/x-python",
   "name": "python",
   "nbconvert_exporter": "python",
   "pygments_lexer": "ipython3",
   "version": "3.9.20"
  }
 },
 "nbformat": 4,
 "nbformat_minor": 2
}
