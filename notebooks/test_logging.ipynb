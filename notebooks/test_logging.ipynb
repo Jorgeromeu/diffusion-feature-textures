{
 "cells": [
  {
   "cell_type": "code",
   "execution_count": 1,
   "metadata": {},
   "outputs": [],
   "source": [
    "%load_ext autoreload\n",
    "%autoreload 2\n",
    "\n",
    "from pathlib import Path\n",
    "\n",
    "import torch\n",
    "from tqdm import tqdm\n",
    "from text3d2video.utilities.logging import H5Logger"
   ]
  },
  {
   "cell_type": "code",
   "execution_count": 2,
   "metadata": {},
   "outputs": [],
   "source": [
    "logger = H5Logger(Path(\"test.h5\"))"
   ]
  },
  {
   "cell_type": "code",
   "execution_count": 7,
   "metadata": {},
   "outputs": [],
   "source": [
    "logger.delete_data()\n",
    "logger.open_write()"
   ]
  },
  {
   "cell_type": "code",
   "execution_count": 8,
   "metadata": {},
   "outputs": [
    {
     "name": "stderr",
     "output_type": "stream",
     "text": [
      "100%|██████████| 500/500 [00:14<00:00, 34.95it/s]\n"
     ]
    }
   ],
   "source": [
    "logger = H5Logger(Path(\"test.h5\"))\n",
    "logger.delete_data()\n",
    "logger.open_write()\n",
    "logger.enabled = False\n",
    "\n",
    "N_iters = 500\n",
    "\n",
    "for t in tqdm(range(N_iters)):\n",
    "    data = torch.randn(2000, 2000)\n",
    "\n",
    "    data_np = data.cpu().numpy()\n",
    "    # logger.fp.create_dataset(f\"data_{t}\", data=data_np)\n",
    "\n",
    "\n",
    "logger.close()"
   ]
  }
 ],
 "metadata": {
  "kernelspec": {
   "display_name": "thesis4",
   "language": "python",
   "name": "python3"
  },
  "language_info": {
   "codemirror_mode": {
    "name": "ipython",
    "version": 3
   },
   "file_extension": ".py",
   "mimetype": "text/x-python",
   "name": "python",
   "nbconvert_exporter": "python",
   "pygments_lexer": "ipython3",
   "version": "3.9.20"
  }
 },
 "nbformat": 4,
 "nbformat_minor": 2
}
