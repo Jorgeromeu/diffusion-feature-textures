{
 "cells": [
  {
   "cell_type": "code",
   "execution_count": 54,
   "metadata": {},
   "outputs": [
    {
     "name": "stdout",
     "output_type": "stream",
     "text": [
      "The autoreload extension is already loaded. To reload it, use:\n",
      "  %reload_ext autoreload\n"
     ]
    }
   ],
   "source": [
    "%load_ext autoreload\n",
    "%autoreload 2\n",
    "\n",
    "from pathlib import Path\n",
    "from text3d2video.disk_multidict import TensorDiskMultiDict\n",
    "from text3d2video.memory_dict import DiskMultiDict\n",
    "import torch\n",
    "\n",
    "d = DiskMultiDict(Path('outs/dict/'), torch.save, torch.load)\n",
    "d = TensorDiskMultiDict(Path('outs/dict/'))"
   ]
  },
  {
   "cell_type": "code",
   "execution_count": 62,
   "metadata": {},
   "outputs": [
    {
     "data": {
      "text/plain": [
       "['0']"
      ]
     },
     "execution_count": 62,
     "metadata": {},
     "output_type": "execute_result"
    }
   ],
   "source": [
    "d.clear()\n",
    "\n",
    "key = {'layer': 0, 'timestep': 0, 'view': 0}\n",
    "d.add(key, torch.tensor([1, 2, 3]))\n",
    "\n",
    "key = {'layer': 1, 'timestep': 0, 'view': 0}\n",
    "d.add(key, torch.tensor([1, 2, 3]))\n",
    "\n",
    "d.keys()\n",
    "d.values()\n",
    "d.items()\n",
    "\n",
    "len(d)\n",
    "\n",
    "key\n",
    "d.keys()\n",
    "\n",
    "d.key_values('timestep')"
   ]
  }
 ],
 "metadata": {
  "kernelspec": {
   "display_name": "thesis",
   "language": "python",
   "name": "python3"
  },
  "language_info": {
   "codemirror_mode": {
    "name": "ipython",
    "version": 3
   },
   "file_extension": ".py",
   "mimetype": "text/x-python",
   "name": "python",
   "nbconvert_exporter": "python",
   "pygments_lexer": "ipython3",
   "version": "3.8.19"
  }
 },
 "nbformat": 4,
 "nbformat_minor": 2
}
