{
 "cells": [
  {
   "cell_type": "code",
   "execution_count": 26,
   "metadata": {},
   "outputs": [
    {
     "name": "stdout",
     "output_type": "stream",
     "text": [
      "The autoreload extension is already loaded. To reload it, use:\n",
      "  %reload_ext autoreload\n"
     ]
    }
   ],
   "source": [
    "%load_ext autoreload\n",
    "%autoreload 2\n",
    "\n",
    "from text3d2video.artifacts.gr_data import GrDataArtifact\n",
    "from text3d2video.generative_rendering.configs import GrSaveConfig\n",
    "\n",
    "gr_data_cfg = GrSaveConfig(\n",
    "    enabled = True,\n",
    "    save_latents = True,\n",
    "    save_q = True,\n",
    "    save_k = True,\n",
    "    save_v = True,\n",
    "    save_features = True,\n",
    "    save_features_3d = True,\n",
    "    n_frames = 3,\n",
    "    n_timesteps = 3,\n",
    "    out_artifact = 'data',\n",
    "    module_paths = []\n",
    ")\n",
    "\n",
    "data = GrDataArtifact.init_from_cfg(gr_data_cfg)"
   ]
  },
  {
   "cell_type": "code",
   "execution_count": null,
   "metadata": {},
   "outputs": [
    {
     "data": {
      "text/plain": [
       "[]"
      ]
     },
     "execution_count": 30,
     "metadata": {},
     "output_type": "execute_result"
    }
   ],
   "source": []
  }
 ],
 "metadata": {
  "kernelspec": {
   "display_name": "thesis4",
   "language": "python",
   "name": "python3"
  },
  "language_info": {
   "codemirror_mode": {
    "name": "ipython",
    "version": 3
   },
   "file_extension": ".py",
   "mimetype": "text/x-python",
   "name": "python",
   "nbconvert_exporter": "python",
   "pygments_lexer": "ipython3",
   "version": "3.9.20"
  }
 },
 "nbformat": 4,
 "nbformat_minor": 2
}
