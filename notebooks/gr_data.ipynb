{
 "cells": [
  {
   "cell_type": "code",
   "execution_count": 1,
   "metadata": {},
   "outputs": [],
   "source": [
    "%load_ext autoreload\n",
    "%autoreload 2\n",
    "\n",
    "from text3d2video.artifacts.tensors_artifact import H5Artifact\n",
    "import torch\n",
    "\n",
    "data = H5Artifact.create_empty_artifact(\"data\")\n",
    "data.open_h5_file()"
   ]
  },
  {
   "cell_type": "code",
   "execution_count": 2,
   "metadata": {},
   "outputs": [
    {
     "data": {
      "text/plain": [
       "<HDF5 dataset \"latent\": shape (4, 64, 64), type \"<f4\">"
      ]
     },
     "execution_count": 2,
     "metadata": {},
     "output_type": "execute_result"
    }
   ],
   "source": [
    "t = 3\n",
    "frame = 2\n",
    "\n",
    "latent = torch.randn(4, 64, 64)\n",
    "\n",
    "data.create_dataset(f'time_{t}/frame_{frame}/latent', latent)"
   ]
  },
  {
   "cell_type": "code",
   "execution_count": 3,
   "metadata": {},
   "outputs": [
    {
     "name": "stdout",
     "output_type": "stream",
     "text": [
      "time_3/frame_2/latent (4, 64, 64)\n"
     ]
    }
   ],
   "source": [
    "data.print_datasets()"
   ]
  },
  {
   "cell_type": "code",
   "execution_count": 4,
   "metadata": {},
   "outputs": [
    {
     "data": {
      "text/plain": [
       "[0, 2, 5]"
      ]
     },
     "execution_count": 4,
     "metadata": {},
     "output_type": "execute_result"
    }
   ],
   "source": [
    "from text3d2video.util import ordered_sample, ordered_sample_indices\n",
    "\n",
    "\n",
    "data = ['a', 'b','c', 'd','e', 'f']\n",
    "\n",
    "ordered_sample_indices(data, 3)"
   ]
  },
  {
   "cell_type": "code",
   "execution_count": 5,
   "metadata": {},
   "outputs": [
    {
     "data": {
      "text/plain": [
       "[0, 1, 2, 3, 4]"
      ]
     },
     "execution_count": 5,
     "metadata": {},
     "output_type": "execute_result"
    }
   ],
   "source": [
    "from visual_tests.testing_utils import test_img\n",
    "\n",
    "\n",
    "img = test_img()\n",
    "\n",
    "# imgs = [img, img, img]\n",
    "\n",
    "# ordered_sample(imgs, 3)\n",
    "\n",
    "data = ['a', 'b', 'c', 'd', 'e', 'f', 'g', 'h', 'i', 'j', 'k']\n",
    "data = ['a', 'b', 'c', 'd', 'e']\n",
    "\n",
    "imgs = [img] * 5\n",
    "\n",
    "# ordered_sample(imgs, 5)\n",
    "ordered_sample_indices(data, 5)"
   ]
  }
 ],
 "metadata": {
  "kernelspec": {
   "display_name": "thesis4",
   "language": "python",
   "name": "python3"
  },
  "language_info": {
   "codemirror_mode": {
    "name": "ipython",
    "version": 3
   },
   "file_extension": ".py",
   "mimetype": "text/x-python",
   "name": "python",
   "nbconvert_exporter": "python",
   "pygments_lexer": "ipython3",
   "version": "3.9.20"
  }
 },
 "nbformat": 4,
 "nbformat_minor": 2
}
