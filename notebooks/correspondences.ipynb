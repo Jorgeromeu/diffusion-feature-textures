{
 "cells": [
  {
   "cell_type": "code",
   "execution_count": 2,
   "metadata": {},
   "outputs": [
    {
     "name": "stdout",
     "output_type": "stream",
     "text": [
      "The autoreload extension is already loaded. To reload it, use:\n",
      "  %reload_ext autoreload\n"
     ]
    }
   ],
   "source": [
    "%load_ext autoreload\n",
    "%autoreload 2\n",
    "\n",
    "import torch\n",
    "import wandb\n",
    "import matplotlib.pyplot as plt\n",
    "\n",
    "from text3d2video.animation_artifact import AnimationArtifact\n",
    "from latentman.pipelines.pipeline_latentman import StableDiffusionLatentMan\n",
    "from latentman.pipelines.scheduling_ddim import DDIMScheduler\n",
    "from latentman.misc.cross_frame_attn import CrossFrameAttnProcessor"
   ]
  },
  {
   "cell_type": "code",
   "execution_count": 3,
   "metadata": {},
   "outputs": [
    {
     "name": "stderr",
     "output_type": "stream",
     "text": [
      "\u001b[34m\u001b[1mwandb\u001b[0m: Using wandb-core as the SDK backend. Please refer to https://wandb.me/wandb-core for more information.\n",
      "\u001b[34m\u001b[1mwandb\u001b[0m: Downloading large artifact backflip:latest, 121.09MB. 61 files... \n",
      "\u001b[34m\u001b[1mwandb\u001b[0m:   61 of 61 files downloaded.  \n",
      "Done. 0:0:0.5\n"
     ]
    }
   ],
   "source": [
    "api = wandb.Api()\n",
    "animation = api.artifact('romeu/diffusion-3D-features/backflip:latest')\n",
    "animation = AnimationArtifact.from_wandb_artifact(animation)"
   ]
  },
  {
   "cell_type": "code",
   "execution_count": 4,
   "metadata": {},
   "outputs": [
    {
     "name": "stderr",
     "output_type": "stream",
     "text": [
      "/home/jorge/miniconda3/envs/thesis/lib/python3.8/site-packages/pytorch3d/io/obj_io.py:546: UserWarning: No mtl file provided\n",
      "  warnings.warn(\"No mtl file provided\")\n"
     ]
    }
   ],
   "source": [
    "from text3d2video.rendering import make_rasterizer\n",
    "from pytorch3d.renderer import look_at_view_transform, FoVPerspectiveCameras\n",
    "\n",
    "device = torch.device(\"cuda:0\")\n",
    "\n",
    "# load camera\n",
    "R, T = look_at_view_transform(dist=2, azim=0, elev=0)\n",
    "cameras = FoVPerspectiveCameras(device=device, R=R, T=T, fov=60)\n",
    "\n",
    "# render meshes\n",
    "rasterizer = make_rasterizer(cameras)\n",
    "meshes = animation.load_frames_batched()\n",
    "fragments = rasterizer(meshes)"
   ]
  },
  {
   "cell_type": "code",
   "execution_count": 92,
   "metadata": {},
   "outputs": [
    {
     "name": "stderr",
     "output_type": "stream",
     "text": [
      "/home/jorge/miniconda3/envs/thesis/lib/python3.8/site-packages/pytorch3d/io/obj_io.py:546: UserWarning: No mtl file provided\n",
      "  warnings.warn(\"No mtl file provided\")\n"
     ]
    },
    {
     "ename": "AttributeError",
     "evalue": "'Meshes' object has no attribute 'shape'",
     "output_type": "error",
     "traceback": [
      "\u001b[0;31m---------------------------------------------------------------------------\u001b[0m",
      "\u001b[0;31mAttributeError\u001b[0m                            Traceback (most recent call last)",
      "Cell \u001b[0;32mIn[92], line 13\u001b[0m\n\u001b[1;32m     10\u001b[0m textures \u001b[38;5;241m=\u001b[39m TexturesUV(maps\u001b[38;5;241m=\u001b[39mempty_texture, faces_uvs\u001b[38;5;241m=\u001b[39mfaces_uvs, verts_uvs\u001b[38;5;241m=\u001b[39m[vert_uvs])\n\u001b[1;32m     12\u001b[0m mesh \u001b[38;5;241m=\u001b[39m Meshes(verts\u001b[38;5;241m=\u001b[39m[verts], faces\u001b[38;5;241m=\u001b[39m[faces\u001b[38;5;241m.\u001b[39mverts_idx], textures\u001b[38;5;241m=\u001b[39mtextures)\n\u001b[0;32m---> 13\u001b[0m \u001b[43mmesh\u001b[49m\u001b[38;5;241;43m.\u001b[39;49m\u001b[43mshape\u001b[49m\n",
      "\u001b[0;31mAttributeError\u001b[0m: 'Meshes' object has no attribute 'shape'"
     ]
    }
   ],
   "source": [
    "from pytorch3d.io import load_obj, load_objs_as_meshes\n",
    "from pytorch3d.renderer import TexturesUV\n",
    "from pytorch3d.structures import Meshes\n",
    "\n",
    "verts, faces, aux = load_obj(\"data/mixamo-human.obj\")\n",
    "vert_uvs = aux.verts_uvs\n",
    "faces_uvs = faces.textures_idx.unsqueeze(0)\n",
    "empty_texture = torch.zeros(1,2,2,3)\n",
    "\n",
    "textures = TexturesUV(maps=empty_texture, faces_uvs=faces_uvs, verts_uvs=[vert_uvs])\n",
    "\n",
    "mesh = Meshes(verts=[verts], faces=[faces.verts_idx], textures=textures)"
   ]
  }
 ],
 "metadata": {
  "kernelspec": {
   "display_name": "thesis",
   "language": "python",
   "name": "python3"
  },
  "language_info": {
   "codemirror_mode": {
    "name": "ipython",
    "version": 3
   },
   "file_extension": ".py",
   "mimetype": "text/x-python",
   "name": "python",
   "nbconvert_exporter": "python",
   "pygments_lexer": "ipython3",
   "version": "3.10.14"
  }
 },
 "nbformat": 4,
 "nbformat_minor": 2
}
