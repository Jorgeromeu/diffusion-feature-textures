{
 "cells": [
  {
   "cell_type": "code",
   "execution_count": 19,
   "metadata": {},
   "outputs": [],
   "source": [
    "import torch\n",
    "from diffusers import StableDiffusionPipeline\n",
    "import matplotlib.pyplot as plt"
   ]
  },
  {
   "cell_type": "code",
   "execution_count": null,
   "metadata": {},
   "outputs": [],
   "source": [
    "\n",
    "sd_repo = \"runwayml/stable-diffusion-v1-5\"\n",
    "\n",
    "# load pipeline\n",
    "device = torch.device(\"cuda\")\n",
    "dtype = torch.float16\n",
    "\n",
    "pipe = StableDiffusionPipeline.from_pretrained(sd_repo, device=device, dtype=dtype)"
   ]
  },
  {
   "cell_type": "code",
   "execution_count": 35,
   "metadata": {},
   "outputs": [
    {
     "name": "stdout",
     "output_type": "stream",
     "text": [
      "tensor(0.2258, grad_fn=<SumBackward1>) tensor(-0.0002, grad_fn=<SumBackward1>)\n"
     ]
    }
   ],
   "source": [
    "import torch.nn.functional as F\n",
    "\n",
    "unet = pipe.unet\n",
    "\n",
    "attn = unet.down_blocks[0].attentions[1].transformer_blocks[0].attn1\n",
    "\n",
    "w_Q = attn.to_q.weight\n",
    "w_K = attn.to_k.weight\n",
    "w_V = attn.to_v.weight\n",
    "\n",
    "sim_QK = F.cosine_similarity(w_Q.flatten(), w_K.flatten(), dim=0)\n",
    "sim_QV = F.cosine_similarity(w_Q.flatten(), w_V.flatten(), dim=0)\n",
    "print(sim_QK, sim_QV)"
   ]
  }
 ],
 "metadata": {
  "kernelspec": {
   "display_name": "thesis4",
   "language": "python",
   "name": "python3"
  },
  "language_info": {
   "codemirror_mode": {
    "name": "ipython",
    "version": 3
   },
   "file_extension": ".py",
   "mimetype": "text/x-python",
   "name": "python",
   "nbconvert_exporter": "python",
   "pygments_lexer": "ipython3",
   "version": "3.9.20"
  }
 },
 "nbformat": 4,
 "nbformat_minor": 2
}
