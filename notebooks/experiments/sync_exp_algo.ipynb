{
 "cells": [
  {
   "cell_type": "code",
   "execution_count": 165,
   "metadata": {},
   "outputs": [
    {
     "name": "stdout",
     "output_type": "stream",
     "text": [
      "The autoreload extension is already loaded. To reload it, use:\n",
      "  %reload_ext autoreload\n"
     ]
    }
   ],
   "source": [
    "%load_ext autoreload\n",
    "%autoreload 2\n",
    "\n",
    "import wandb_util.wandb_util as wbu"
   ]
  },
  {
   "cell_type": "code",
   "execution_count": 263,
   "metadata": {},
   "outputs": [],
   "source": [
    "class RunSpec:\n",
    "    def __init__(self, name: str, id: int, depends_on: list = None):\n",
    "        self.name = name\n",
    "        self.id = id\n",
    "        self.depends_on = depends_on if depends_on is not None else []\n",
    "\n",
    "    def __str__(self):\n",
    "        return self.name\n",
    "    \n",
    "    def __repr__(self):\n",
    "        return self.__str__()"
   ]
  },
  {
   "cell_type": "code",
   "execution_count": 264,
   "metadata": {},
   "outputs": [],
   "source": [
    "def hash_spec(spec: RunSpec):\n",
    "    return spec.id\n",
    "\n",
    "def hash_run(run):\n",
    "    return run"
   ]
  },
  {
   "cell_type": "code",
   "execution_count": 399,
   "metadata": {},
   "outputs": [],
   "source": [
    "import networkx as nx\n",
    "\n",
    "gr = RunSpec(\"gr\", 1)\n",
    "texgen = RunSpec(\"texgen\", 2)\n",
    "make_tex = RunSpec(\"make_tex\", 3, depends_on=[texgen])\n",
    "eval_tex = RunSpec(\"eval_tex\", 4, depends_on=[make_tex])\n",
    "\n",
    "specification = [gr, texgen, make_tex, eval_tex]\n",
    "existing = [1, 2, 3, 4]\n",
    "\n",
    "G = nx.DiGraph()\n",
    "for s in specification:\n",
    "    G.add_node(s)\n",
    "    for d in s.depends_on:\n",
    "        G.add_edge(d, s)"
   ]
  },
  {
   "cell_type": "code",
   "execution_count": 402,
   "metadata": {},
   "outputs": [
    {
     "data": {
      "text/plain": [
       "ExperimentSyncAction(to_delete=set(), to_run=[])"
      ]
     },
     "execution_count": 402,
     "metadata": {},
     "output_type": "execute_result"
    }
   ],
   "source": [
    "wbu.calc_sync_experiment(G, existing, hash_spec, hash_run, force_delete=[2])"
   ]
  },
  {
   "cell_type": "code",
   "execution_count": 401,
   "metadata": {},
   "outputs": [
    {
     "data": {
      "image/png": "[encoded data removed]",
      "text/plain": [
       "<Figure size 640x480 with 1 Axes>"
      ]
     },
     "metadata": {},
     "output_type": "display_data"
    }
   ],
   "source": [
    "nx.draw(G, with_labels=True)"
   ]
  },
  {
   "cell_type": "code",
   "execution_count": 338,
   "metadata": {},
   "outputs": [
    {
     "data": {
      "text/plain": [
       "{eval_tex, make_tex, texgen}"
      ]
     },
     "execution_count": 338,
     "metadata": {},
     "output_type": "execute_result"
    }
   ],
   "source": [
    "run_hashes = set(hash_run(run) for run in existing)\n",
    "\n",
    "# find specs that are not in existing\n",
    "to_run = set()\n",
    "for s in G.nodes:\n",
    "    spec_hash = hash_spec(s)\n",
    "    if spec_hash not in run_hashes:\n",
    "        to_run.add(s)\n",
    "\n",
    "# recursively find specs that depend on the ones we found\n",
    "to_run_descendants = set()\n",
    "for node in to_run:\n",
    "    descendants = nx.descendants(G, node)\n",
    "    to_run_descendants |= descendants\n",
    "\n",
    "to_run |= to_run_descendants\n",
    "to_run"
   ]
  },
  {
   "cell_type": "code",
   "execution_count": 339,
   "metadata": {},
   "outputs": [
    {
     "data": {
      "text/plain": [
       "{3, 4, 9}"
      ]
     },
     "execution_count": 339,
     "metadata": {},
     "output_type": "execute_result"
    }
   ],
   "source": [
    "to_run_hashes = set(hash_spec(s) for s in to_run)\n",
    "spec_hashes = set(hash_spec(s) for s in specification)\n",
    "\n",
    "# delete run if:\n",
    "# - it is not in specification\n",
    "# - it is in to_run\n",
    "# - it is duplicate\n",
    "\n",
    "observed_hashes = set()\n",
    "\n",
    "to_del_rerun = set()\n",
    "to_del_not_in_spec = set()\n",
    "to_del_duplicate = set()\n",
    "\n",
    "for e in existing:\n",
    "    hash = hash_run(e)\n",
    "    if hash in to_run_hashes:\n",
    "        to_del_rerun.add(e)\n",
    "\n",
    "    if hash not in spec_hashes:\n",
    "        to_del_not_in_spec.add(e)\n",
    "\n",
    "    if hash in observed_hashes:\n",
    "        to_del_duplicate.add(e)\n",
    "    \n",
    "    observed_hashes.add(hash)\n",
    "\n",
    "to_del = to_del_rerun | to_del_not_in_spec | to_del_duplicate\n",
    "to_del"
   ]
  }
 ],
 "metadata": {
  "kernelspec": {
   "display_name": "thesis4",
   "language": "python",
   "name": "python3"
  },
  "language_info": {
   "codemirror_mode": {
    "name": "ipython",
    "version": 3
   },
   "file_extension": ".py",
   "mimetype": "text/x-python",
   "name": "python",
   "nbconvert_exporter": "python",
   "pygments_lexer": "ipython3",
   "version": "3.9.20"
  }
 },
 "nbformat": 4,
 "nbformat_minor": 2
}
