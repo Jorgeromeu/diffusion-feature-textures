{
 "cells": [
  {
   "cell_type": "code",
   "execution_count": 1,
   "metadata": {},
   "outputs": [],
   "source": [
    "%load_ext autoreload\n",
    "%autoreload 2\n",
    "\n",
    "from omegaconf import OmegaConf\n",
    "import wandb_util.wandb_util as wbu\n",
    "from scripts.wandb_experiments.benchmark import BenchmarkConfig\n",
    "import multiprocessing as mp\n",
    "mp.set_start_method('spawn', force=True)"
   ]
  },
  {
   "cell_type": "code",
   "execution_count": 11,
   "metadata": {},
   "outputs": [
    {
     "name": "stdout",
     "output_type": "stream",
     "text": [
      "animation_tag          texturing_tag              prompt          seed\n",
      "---------------------  -------------------------  ------------  ------\n",
      "lion_zoom:latest       lion_zoom_out_src:latest   Lion               0\n",
      "catwalk_180_20:latest  human_mv:latest            Deadpool           0\n",
      "catwalk_180_20:latest  human_mv:latest            Stormtrooper       0\n",
      "rumba_zoom_20:latest   rumba_zoom_out_src:latest  Deadpool           0\n",
      "rumba_zoom_20:latest   rumba_zoom_out_src:latest  Stormtrooper       0\n",
      "rumba_20:latest        human_T_front:latest       Stormtrooper       0\n"
     ]
    }
   ],
   "source": [
    "from scripts.wandb_experiments.benchmark import GeometryAndPrompts\n",
    "from text3d2video.experiment_analysis import print_table\n",
    "from text3d2video.util import concat_lists\n",
    "\n",
    "lion_zoom = GeometryAndPrompts(\n",
    "    \"lion_zoom:latest\",\n",
    "    \"lion_zoom_out_src:latest\",\n",
    "    [\"Lion\"],\n",
    "    1,\n",
    ")\n",
    "\n",
    "rumba_zoom = GeometryAndPrompts(\n",
    "    \"rumba_zoom_20:latest\",\n",
    "    \"rumba_zoom_out_src:latest\",\n",
    "    [\"Deadpool\", \"Stormtrooper\"],\n",
    "    1,\n",
    ")\n",
    "\n",
    "rumba = GeometryAndPrompts(\n",
    "    \"rumba_20:latest\",\n",
    "    \"human_T_front:latest\",\n",
    "    [\"Stormtrooper\"],\n",
    "    1\n",
    ")\n",
    "\n",
    "turn_around = GeometryAndPrompts(\n",
    "    \"catwalk_180_20:latest\",\n",
    "    'human_mv:latest',\n",
    "    [\"Deadpool\", \"Stormtrooper\"],\n",
    "    1\n",
    ")\n",
    "\n",
    "cat_statue = GeometryAndPrompts(\n",
    "    'mv_cat_statue_25:latest',\n",
    "    'mv_cat_statue:latest',\n",
    "    [\"Metalic Cat Statue\"],\n",
    "    1\n",
    ")\n",
    "\n",
    "handstand = GeometryAndPrompts(\n",
    "    'handstand_20:latest',\n",
    "    'human_mv:latest',\n",
    "    [\"Deadpool\"],\n",
    "    1\n",
    ")\n",
    "\n",
    "flair = GeometryAndPrompts(\n",
    "    'flair_20:latest',\n",
    "    'human_mv:latest',\n",
    "    [\"Deadpool\"],\n",
    "    1\n",
    ")\n",
    "\n",
    "mma = GeometryAndPrompts(\n",
    "    'mma_20:latest',\n",
    "    'human_mv:latest',\n",
    "    [\"Deadpool\"],\n",
    "    1\n",
    ")\n",
    "\n",
    "# geometries_and_promtps = [lion_zoom, rumba_zoom, rumba, turn_around, cat_statue]\n",
    "# geometries_and_promtps += [handstand, flair, mma]\n",
    "geometries_and_prompts = [lion_zoom, turn_around, rumba_zoom, rumba]\n",
    "\n",
    "scenes = concat_lists(s.to_scenes() for s in geometries_and_prompts)\n",
    "\n",
    "print_table([s.tabulate_row() for s in scenes])"
   ]
  },
  {
   "cell_type": "code",
   "execution_count": 12,
   "metadata": {},
   "outputs": [
    {
     "name": "stdout",
     "output_type": "stream",
     "text": [
      "name        fun                       config\n",
      "----------  ------------------------  -------------------------------------------------------\n",
      "GR          run_generative_rendering  prompt: ''\n",
      "                                      animation_tag: ''\n",
      "                                      generative_rendering:\n",
      "                                        do_pre_attn_injection: true\n",
      "                                        do_post_attn_injection: true\n",
      "                                        attend_to_self_kv: true\n",
      "                                        mean_features_weight: 0.5\n",
      "                                        chunk_size: 5\n",
      "                                        num_inference_steps: 15\n",
      "                                        guidance_scale: 7.5\n",
      "                                        controlnet_conditioning_scale: 1.0\n",
      "                                        feature_blend_alpha: 0.7\n",
      "                                      model:\n",
      "                                        sd_repo: runwayml/stable-diffusion-v1-5\n",
      "                                        controlnet_repo: lllyasviel/control_v11f1p_sd15_depth\n",
      "                                      num_keyframes: 3\n",
      "                                      texture_tag: null\n",
      "                                      start_noise_level: null\n",
      "                                      seed: 0\n",
      "                                      kf_seed: null\n",
      "                                      out_artifact: video\n",
      "ControlNet  run_generative_rendering  prompt: ''\n",
      "                                      animation_tag: ''\n",
      "                                      generative_rendering:\n",
      "                                        do_pre_attn_injection: false\n",
      "                                        do_post_attn_injection: false\n",
      "                                        attend_to_self_kv: true\n",
      "                                        mean_features_weight: 0.5\n",
      "                                        chunk_size: 5\n",
      "                                        num_inference_steps: 15\n",
      "                                        guidance_scale: 7.5\n",
      "                                        controlnet_conditioning_scale: 1.0\n",
      "                                        feature_blend_alpha: 0.7\n",
      "                                      model:\n",
      "                                        sd_repo: runwayml/stable-diffusion-v1-5\n",
      "                                        controlnet_repo: lllyasviel/control_v11f1p_sd15_depth\n",
      "                                      num_keyframes: 1\n",
      "                                      texture_tag: null\n",
      "                                      start_noise_level: null\n",
      "                                      seed: 0\n",
      "                                      kf_seed: null\n",
      "                                      out_artifact: video\n",
      "TexGen      run_gr_tex                prompt: ''\n",
      "                                      animation_tag: ''\n",
      "                                      extr_tag: ''\n",
      "                                      generative_rendering:\n",
      "                                        do_pre_attn_injection: false\n",
      "                                        do_post_attn_injection: false\n",
      "                                        attend_to_self_kv: true\n",
      "                                        mean_features_weight: 0.5\n",
      "                                        chunk_size: 5\n",
      "                                        num_inference_steps: 15\n",
      "                                        guidance_scale: 7.5\n",
      "                                        controlnet_conditioning_scale: 1.0\n",
      "                                        feature_blend_alpha: 0.7\n",
      "                                      model:\n",
      "                                        sd_repo: runwayml/stable-diffusion-v1-5\n",
      "                                        controlnet_repo: lllyasviel/control_v11f1p_sd15_depth\n",
      "                                      multires_textures: true\n",
      "                                      start_noise_level: 1.0\n",
      "                                      do_texture_noise_init: true\n",
      "                                      seed: 0\n",
      "                                      out_artifact: video\n",
      "GR-Tex      run_gr_tex                prompt: ''\n",
      "                                      animation_tag: ''\n",
      "                                      extr_tag: ''\n",
      "                                      generative_rendering:\n",
      "                                        do_pre_attn_injection: true\n",
      "                                        do_post_attn_injection: true\n",
      "                                        attend_to_self_kv: true\n",
      "                                        mean_features_weight: 0.5\n",
      "                                        chunk_size: 5\n",
      "                                        num_inference_steps: 15\n",
      "                                        guidance_scale: 7.5\n",
      "                                        controlnet_conditioning_scale: 1.0\n",
      "                                        feature_blend_alpha: 0.7\n",
      "                                      model:\n",
      "                                        sd_repo: runwayml/stable-diffusion-v1-5\n",
      "                                        controlnet_repo: lllyasviel/control_v11f1p_sd15_depth\n",
      "                                      multires_textures: true\n",
      "                                      start_noise_level: 0.2\n",
      "                                      do_texture_noise_init: true\n",
      "                                      seed: 0\n",
      "                                      out_artifact: video\n"
     ]
    }
   ],
   "source": [
    "from scripts.wandb_experiments.benchmark import Method\n",
    "from scripts.wandb_runs.run_generative_rendering import (\n",
    "    RunGenerativeRenderingConfig,\n",
    "    run_generative_rendering,\n",
    ")\n",
    "from scripts.wandb_runs.run_grtex import RunGrTexConfig, run_gr_tex\n",
    "from text3d2video.pipelines.generative_rendering_pipeline import (\n",
    "    GenerativeRenderingConfig,\n",
    ")\n",
    "from text3d2video.pipelines.pipeline_utils import ModelConfig\n",
    "from text3d2video.utilities.omegaconf_util import get_import_path\n",
    "\n",
    "# GR base Config\n",
    "gr = OmegaConf.structured(\n",
    "    RunGenerativeRenderingConfig(\n",
    "        prompt=\"\",\n",
    "        animation_tag=\"\",\n",
    "        generative_rendering=GenerativeRenderingConfig(),\n",
    "        model=ModelConfig(),\n",
    "        texture_tag=None,\n",
    "    )\n",
    ")\n",
    "\n",
    "controlnet = OmegaConf.structured(\n",
    "    RunGenerativeRenderingConfig(\n",
    "        prompt=\"\",\n",
    "        animation_tag=\"\",\n",
    "        generative_rendering=GenerativeRenderingConfig(\n",
    "            do_pre_attn_injection=False, do_post_attn_injection=False\n",
    "        ),\n",
    "        num_keyframes=1,\n",
    "        model=ModelConfig(),\n",
    "        texture_tag=None,\n",
    "    )\n",
    ")\n",
    "\n",
    "grtex = OmegaConf.structured(\n",
    "    RunGrTexConfig(\n",
    "        prompt=\"\",\n",
    "        animation_tag=\"\",\n",
    "        extr_tag=\"\",\n",
    "        generative_rendering=GenerativeRenderingConfig(),\n",
    "        multires_textures=True,\n",
    "        start_noise_level=0.2,\n",
    "        model=ModelConfig(),\n",
    "    )\n",
    ")\n",
    "\n",
    "\n",
    "render = OmegaConf.structured(\n",
    "    RunGrTexConfig(\n",
    "        prompt=\"\",\n",
    "        animation_tag=\"\",\n",
    "        extr_tag=\"\",\n",
    "        generative_rendering=GenerativeRenderingConfig(\n",
    "            do_pre_attn_injection=False, do_post_attn_injection=False\n",
    "        ),\n",
    "        multires_textures=True,\n",
    "        start_noise_level=1.0,\n",
    "        model=ModelConfig(),\n",
    "    )\n",
    ")\n",
    "\n",
    "methods = [\n",
    "    Method(\"GR\", get_import_path(run_generative_rendering), gr),\n",
    "    Method(\"ControlNet\", get_import_path(run_generative_rendering), controlnet),\n",
    "    Method(\"TexGen\", get_import_path(run_gr_tex), render),\n",
    "    Method(\"GR-Tex\", get_import_path(run_gr_tex), grtex),\n",
    "]\n",
    "\n",
    "\n",
    "print_table([m.tabulate_row() for m in methods])"
   ]
  },
  {
   "cell_type": "code",
   "execution_count": 13,
   "metadata": {},
   "outputs": [],
   "source": [
    "from scripts.wandb_experiments.benchmark import benchmark\n",
    "\n",
    "config = BenchmarkConfig(scenes, methods)\n",
    "config = OmegaConf.structured(config)\n",
    "\n",
    "spec = benchmark(config)"
   ]
  },
  {
   "cell_type": "code",
   "execution_count": 15,
   "metadata": {},
   "outputs": [
    {
     "name": "stdout",
     "output_type": "stream",
     "text": [
      "Experiment: https://wandb.ai/romeu/diffusion-3D-features/groups/benchmark_final/workspace\n",
      "Experiment up-to-date!\n"
     ]
    }
   ],
   "source": [
    "from scripts.wandb_experiments.benchmark import benchmark\n",
    "\n",
    "wbu.sync_experiment(benchmark, config, \"benchmark_final\")"
   ]
  },
  {
   "cell_type": "code",
   "execution_count": 7,
   "metadata": {},
   "outputs": [
    {
     "name": "stdout",
     "output_type": "stream",
     "text": [
      "https://wandb.ai/romeu/diffusion-3D-features/groups/benchmark_final/workspace\n"
     ]
    }
   ],
   "source": [
    "from scripts.wandb_experiments.benchmark import split_runs\n",
    "\n",
    "exp_name = \"benchmark_final\"\n",
    "print(wbu.get_exp_url(exp_name))\n",
    "\n",
    "runs = wbu.get_logged_runs(exp_name)\n",
    "texture_runs, video_gen_runs = split_runs(runs)"
   ]
  },
  {
   "cell_type": "code",
   "execution_count": 8,
   "metadata": {},
   "outputs": [],
   "source": [
    "from text3d2video.util import group_into_array, map_array\n",
    "\n",
    "\n",
    "def scene_key(run):\n",
    "    config = OmegaConf.create(run.config)\n",
    "    return f\"{config.animation_tag}-{config.prompt}-{config.seed}\"\n",
    "\n",
    "def method_key(run):\n",
    "    return run.name.split(\"_\")[0]\n",
    "\n",
    "runs_grouped, labels = group_into_array(video_gen_runs, [method_key, scene_key])"
   ]
  },
  {
   "cell_type": "code",
   "execution_count": 9,
   "metadata": {},
   "outputs": [
    {
     "name": "stderr",
     "output_type": "stream",
     "text": [
      " 40%|████      | 8/20 [00:09<00:13,  1.09s/it]\u001b[34m\u001b[1mwandb\u001b[0m: Using wandb-core as the SDK backend. Please refer to https://wandb.me/wandb-core for more information.\n",
      "\u001b[34m\u001b[1mwandb\u001b[0m:   20 of 20 files downloaded.  \n",
      "\u001b[34m\u001b[1mwandb\u001b[0m:   20 of 20 files downloaded.  m\u001b[1mwandb\u001b[0m: \\ 1 of 20 files downloaded...\n",
      "\u001b[34m\u001b[1mwandb\u001b[0m:   20 of 20 files downloaded.  4m\u001b[1mwandb\u001b[0m: \\ 1 of 20 files downloaded...\n",
      "\u001b[34m\u001b[1mwandb\u001b[0m:   20 of 20 files downloaded.  4m\u001b[1mwandb\u001b[0m: \\ 1 of 20 files downloaded...\n",
      "\u001b[34m\u001b[1mwandb\u001b[0m:   20 of 20 files downloaded.  4m\u001b[1mwandb\u001b[0m: \\ 1 of 20 files downloaded...\n",
      "\u001b[34m\u001b[1mwandb\u001b[0m:   20 of 20 files downloaded.  4m\u001b[1mwandb\u001b[0m: \\ 1 of 20 files downloaded...\n",
      "100%|██████████| 20/20 [00:27<00:00,  1.35s/it]\n"
     ]
    }
   ],
   "source": [
    "from text3d2video.experiment_analysis import VideoTraces\n",
    "run_data = map_array(runs_grouped, VideoTraces.from_run, pbar=True)"
   ]
  },
  {
   "cell_type": "code",
   "execution_count": 18,
   "metadata": {},
   "outputs": [],
   "source": [
    "from text3d2video.clip_metrics import CLIPMetrics\n",
    "\n",
    "clip = CLIPMetrics()"
   ]
  },
  {
   "cell_type": "code",
   "execution_count": 19,
   "metadata": {},
   "outputs": [
    {
     "data": {
      "text/plain": [
       "array([[None, None, None, None, None],\n",
       "       [None, None, None, None, None],\n",
       "       [None, None, None, None, None],\n",
       "       [None, None, None, None, None]], dtype=object)"
      ]
     },
     "execution_count": 19,
     "metadata": {},
     "output_type": "execute_result"
    }
   ],
   "source": [
    "map_array(\n",
    "    run_data,\n",
    "    lambda x: x.compute_clip_metrics(clip),\n",
    ")"
   ]
  },
  {
   "cell_type": "code",
   "execution_count": 39,
   "metadata": {},
   "outputs": [
    {
     "name": "stderr",
     "output_type": "stream",
     "text": [
      "  2%|▎         | 1/40 [00:13<08:58, 13.81s/it]"
     ]
    },
    {
     "name": "stdout",
     "output_type": "stream",
     "text": [
      "0.0516132228076458\n"
     ]
    },
    {
     "name": "stderr",
     "output_type": "stream",
     "text": [
      "  5%|▌         | 2/40 [00:27<08:42, 13.75s/it]"
     ]
    },
    {
     "name": "stdout",
     "output_type": "stream",
     "text": [
      "0.04011274874210358\n"
     ]
    },
    {
     "name": "stderr",
     "output_type": "stream",
     "text": [
      "  8%|▊         | 3/40 [00:41<08:28, 13.73s/it]"
     ]
    },
    {
     "name": "stdout",
     "output_type": "stream",
     "text": [
      "0.05748780071735382\n"
     ]
    },
    {
     "name": "stderr",
     "output_type": "stream",
     "text": [
      " 10%|█         | 4/40 [00:54<08:14, 13.73s/it]"
     ]
    },
    {
     "name": "stdout",
     "output_type": "stream",
     "text": [
      "0.0458565428853035\n"
     ]
    },
    {
     "name": "stderr",
     "output_type": "stream",
     "text": [
      " 12%|█▎        | 5/40 [00:59<06:01, 10.33s/it]"
     ]
    },
    {
     "name": "stdout",
     "output_type": "stream",
     "text": [
      "0.05508970096707344\n"
     ]
    },
    {
     "name": "stderr",
     "output_type": "stream",
     "text": [
      " 15%|█▌        | 6/40 [01:05<05:00,  8.85s/it]"
     ]
    },
    {
     "name": "stdout",
     "output_type": "stream",
     "text": [
      "0.07886349409818649\n"
     ]
    },
    {
     "name": "stderr",
     "output_type": "stream",
     "text": [
      " 18%|█▊        | 7/40 [01:18<05:44, 10.44s/it]"
     ]
    },
    {
     "name": "stdout",
     "output_type": "stream",
     "text": [
      "0.06059413030743599\n"
     ]
    },
    {
     "name": "stderr",
     "output_type": "stream",
     "text": [
      " 20%|██        | 8/40 [01:32<06:07, 11.48s/it]"
     ]
    },
    {
     "name": "stdout",
     "output_type": "stream",
     "text": [
      "0.13232377171516418\n"
     ]
    },
    {
     "name": "stderr",
     "output_type": "stream",
     "text": [
      " 22%|██▎       | 9/40 [01:46<06:17, 12.18s/it]"
     ]
    },
    {
     "name": "stdout",
     "output_type": "stream",
     "text": [
      "0.07149535417556763\n"
     ]
    },
    {
     "name": "stderr",
     "output_type": "stream",
     "text": [
      " 25%|██▌       | 10/40 [02:00<06:19, 12.66s/it]"
     ]
    },
    {
     "name": "stdout",
     "output_type": "stream",
     "text": [
      "0.1696711629629135\n"
     ]
    },
    {
     "name": "stderr",
     "output_type": "stream",
     "text": [
      " 28%|██▊       | 11/40 [02:13<06:16, 12.99s/it]"
     ]
    },
    {
     "name": "stdout",
     "output_type": "stream",
     "text": [
      "0.013597488403320312\n"
     ]
    },
    {
     "name": "stderr",
     "output_type": "stream",
     "text": [
      " 30%|███       | 12/40 [02:27<06:10, 13.22s/it]"
     ]
    },
    {
     "name": "stdout",
     "output_type": "stream",
     "text": [
      "0.007339696399867535\n"
     ]
    },
    {
     "name": "stderr",
     "output_type": "stream",
     "text": [
      " 32%|███▎      | 13/40 [02:41<06:01, 13.38s/it]"
     ]
    },
    {
     "name": "stdout",
     "output_type": "stream",
     "text": [
      "0.012097934260964394\n"
     ]
    },
    {
     "name": "stderr",
     "output_type": "stream",
     "text": [
      " 35%|███▌      | 14/40 [02:55<05:50, 13.49s/it]"
     ]
    },
    {
     "name": "stdout",
     "output_type": "stream",
     "text": [
      "0.008098277263343334\n"
     ]
    },
    {
     "name": "stderr",
     "output_type": "stream",
     "text": [
      " 38%|███▊      | 15/40 [02:59<04:27, 10.72s/it]"
     ]
    },
    {
     "name": "stdout",
     "output_type": "stream",
     "text": [
      "0.009871121495962143\n"
     ]
    },
    {
     "name": "stderr",
     "output_type": "stream",
     "text": [
      " 40%|████      | 16/40 [03:05<03:42,  9.29s/it]"
     ]
    },
    {
     "name": "stdout",
     "output_type": "stream",
     "text": [
      "0.00637022452428937\n"
     ]
    },
    {
     "name": "stderr",
     "output_type": "stream",
     "text": [
      " 42%|████▎     | 17/40 [03:19<04:04, 10.63s/it]"
     ]
    },
    {
     "name": "stdout",
     "output_type": "stream",
     "text": [
      "0.012787974439561367\n"
     ]
    },
    {
     "name": "stderr",
     "output_type": "stream",
     "text": [
      " 45%|████▌     | 18/40 [03:32<04:14, 11.56s/it]"
     ]
    },
    {
     "name": "stdout",
     "output_type": "stream",
     "text": [
      "0.03135968744754791\n"
     ]
    },
    {
     "name": "stderr",
     "output_type": "stream",
     "text": [
      " 48%|████▊     | 19/40 [03:46<04:16, 12.21s/it]"
     ]
    },
    {
     "name": "stdout",
     "output_type": "stream",
     "text": [
      "0.013332098722457886\n"
     ]
    },
    {
     "name": "stderr",
     "output_type": "stream",
     "text": [
      " 50%|█████     | 20/40 [04:00<04:13, 12.66s/it]"
     ]
    },
    {
     "name": "stdout",
     "output_type": "stream",
     "text": [
      "0.02291904389858246\n"
     ]
    },
    {
     "name": "stderr",
     "output_type": "stream",
     "text": [
      " 52%|█████▎    | 21/40 [04:13<04:06, 12.97s/it]"
     ]
    },
    {
     "name": "stdout",
     "output_type": "stream",
     "text": [
      "0.004425348248332739\n"
     ]
    },
    {
     "name": "stderr",
     "output_type": "stream",
     "text": [
      " 55%|█████▌    | 22/40 [04:27<03:57, 13.20s/it]"
     ]
    },
    {
     "name": "stdout",
     "output_type": "stream",
     "text": [
      "0.004755567759275436\n"
     ]
    },
    {
     "name": "stderr",
     "output_type": "stream",
     "text": [
      " 57%|█████▊    | 23/40 [04:41<03:47, 13.36s/it]"
     ]
    },
    {
     "name": "stdout",
     "output_type": "stream",
     "text": [
      "0.004812519997358322\n"
     ]
    },
    {
     "name": "stderr",
     "output_type": "stream",
     "text": [
      " 60%|██████    | 24/40 [04:55<03:35, 13.47s/it]"
     ]
    },
    {
     "name": "stdout",
     "output_type": "stream",
     "text": [
      "0.004487528000026941\n"
     ]
    },
    {
     "name": "stderr",
     "output_type": "stream",
     "text": [
      " 62%|██████▎   | 25/40 [04:59<02:40, 10.71s/it]"
     ]
    },
    {
     "name": "stdout",
     "output_type": "stream",
     "text": [
      "0.008707506582140923\n"
     ]
    },
    {
     "name": "stderr",
     "output_type": "stream",
     "text": [
      " 65%|██████▌   | 26/40 [05:05<02:10,  9.30s/it]"
     ]
    },
    {
     "name": "stdout",
     "output_type": "stream",
     "text": [
      "0.006749477703124285\n"
     ]
    },
    {
     "name": "stderr",
     "output_type": "stream",
     "text": [
      " 68%|██████▊   | 27/40 [05:19<02:18, 10.62s/it]"
     ]
    },
    {
     "name": "stdout",
     "output_type": "stream",
     "text": [
      "0.003926441073417664\n"
     ]
    },
    {
     "name": "stderr",
     "output_type": "stream",
     "text": [
      " 70%|███████   | 28/40 [05:32<02:18, 11.55s/it]"
     ]
    },
    {
     "name": "stdout",
     "output_type": "stream",
     "text": [
      "0.04082449898123741\n"
     ]
    },
    {
     "name": "stderr",
     "output_type": "stream",
     "text": [
      " 72%|███████▎  | 29/40 [05:46<02:14, 12.20s/it]"
     ]
    },
    {
     "name": "stdout",
     "output_type": "stream",
     "text": [
      "0.013465940952301025\n"
     ]
    },
    {
     "name": "stderr",
     "output_type": "stream",
     "text": [
      " 75%|███████▌  | 30/40 [06:00<02:06, 12.66s/it]"
     ]
    },
    {
     "name": "stdout",
     "output_type": "stream",
     "text": [
      "0.041865862905979156\n"
     ]
    },
    {
     "name": "stderr",
     "output_type": "stream",
     "text": [
      " 78%|███████▊  | 31/40 [06:14<01:56, 12.98s/it]"
     ]
    },
    {
     "name": "stdout",
     "output_type": "stream",
     "text": [
      "0.0016954108141362667\n"
     ]
    },
    {
     "name": "stderr",
     "output_type": "stream",
     "text": [
      " 80%|████████  | 32/40 [06:27<01:45, 13.20s/it]"
     ]
    },
    {
     "name": "stdout",
     "output_type": "stream",
     "text": [
      "0.002244109520688653\n"
     ]
    },
    {
     "name": "stderr",
     "output_type": "stream",
     "text": [
      " 82%|████████▎ | 33/40 [06:41<01:33, 13.36s/it]"
     ]
    },
    {
     "name": "stdout",
     "output_type": "stream",
     "text": [
      "0.002419163705781102\n"
     ]
    },
    {
     "name": "stderr",
     "output_type": "stream",
     "text": [
      " 85%|████████▌ | 34/40 [06:55<01:20, 13.47s/it]"
     ]
    },
    {
     "name": "stdout",
     "output_type": "stream",
     "text": [
      "0.002162572694942355\n"
     ]
    },
    {
     "name": "stderr",
     "output_type": "stream",
     "text": [
      " 88%|████████▊ | 35/40 [06:59<00:53, 10.72s/it]"
     ]
    },
    {
     "name": "stdout",
     "output_type": "stream",
     "text": [
      "0.0020596079993993044\n"
     ]
    },
    {
     "name": "stderr",
     "output_type": "stream",
     "text": [
      " 90%|█████████ | 36/40 [07:05<00:37,  9.30s/it]"
     ]
    },
    {
     "name": "stdout",
     "output_type": "stream",
     "text": [
      "0.0022999371867626905\n"
     ]
    },
    {
     "name": "stderr",
     "output_type": "stream",
     "text": [
      " 92%|█████████▎| 37/40 [07:19<00:31, 10.62s/it]"
     ]
    },
    {
     "name": "stdout",
     "output_type": "stream",
     "text": [
      "0.0018303162651136518\n"
     ]
    },
    {
     "name": "stderr",
     "output_type": "stream",
     "text": [
      " 95%|█████████▌| 38/40 [07:32<00:23, 11.55s/it]"
     ]
    },
    {
     "name": "stdout",
     "output_type": "stream",
     "text": [
      "0.013464352115988731\n"
     ]
    },
    {
     "name": "stderr",
     "output_type": "stream",
     "text": [
      " 98%|█████████▊| 39/40 [07:46<00:12, 12.20s/it]"
     ]
    },
    {
     "name": "stdout",
     "output_type": "stream",
     "text": [
      "0.0038527720607817173\n"
     ]
    },
    {
     "name": "stderr",
     "output_type": "stream",
     "text": [
      "100%|██████████| 40/40 [08:00<00:00, 12.01s/it]"
     ]
    },
    {
     "name": "stdout",
     "output_type": "stream",
     "text": [
      "0.008159784600138664\n"
     ]
    },
    {
     "name": "stderr",
     "output_type": "stream",
     "text": [
      "\n"
     ]
    },
    {
     "data": {
      "text/plain": [
       "array([[None, None, None, None, None, None, None, None, None, None],\n",
       "       [None, None, None, None, None, None, None, None, None, None],\n",
       "       [None, None, None, None, None, None, None, None, None, None],\n",
       "       [None, None, None, None, None, None, None, None, None, None]],\n",
       "      dtype=object)"
      ]
     },
     "execution_count": 39,
     "metadata": {},
     "output_type": "execute_result"
    }
   ],
   "source": [
    "map_array(run_data, lambda x: x.compute_uv_mse(), pbar=True)"
   ]
  },
  {
   "cell_type": "code",
   "execution_count": 40,
   "metadata": {},
   "outputs": [],
   "source": [
    "prompt_fidelities = map_array(run_data, lambda x: x.prompt_fidelity)\n",
    "frame_consistencies = map_array(run_data, lambda x: x.frame_consistency)\n",
    "uv_mses = map_array(run_data, lambda x: x.uv_mse)"
   ]
  },
  {
   "cell_type": "code",
   "execution_count": 45,
   "metadata": {},
   "outputs": [
    {
     "name": "stdout",
     "output_type": "stream",
     "text": [
      "Method        Prompt Fidelity ($\\uparrow$)    Frame Consistency ($\\uparrow$)    UV MSE ($\\downarrow$)\n",
      "----------  ------------------------------  --------------------------------  -----------------------\n",
      "ControlNet                          0.3029                            0.9135                   0.0763\n",
      "GR                                  0.3062                            0.9742                   0.0138\n",
      "TexGen                              0.2955                            0.9649                   0.004\n",
      "Ours                                0.308                             0.9659                   0.0134\n"
     ]
    }
   ],
   "source": [
    "from text3d2video.util import index_list\n",
    "\n",
    "\n",
    "rows = []\n",
    "for i, method in enumerate(labels[0]):\n",
    "    pf = prompt_fidelities[i, :].mean()\n",
    "    fc = frame_consistencies[i, :].mean()\n",
    "    uv_mse = uv_mses[i, :].mean()\n",
    "    row = {\n",
    "        \"Method\": method,\n",
    "        \"Prompt Fidelity ($\\\\uparrow$)\": pf,\n",
    "        \"Frame Consistency ($\\\\uparrow$)\": fc,\n",
    "        \"UV MSE ($\\\\downarrow$)\": uv_mse,\n",
    "    }\n",
    "\n",
    "    # round to four decimals\n",
    "    for k, v in row.items():\n",
    "        if isinstance(v, float):\n",
    "            row[k] = f\"{v:.4f}\".format(v)\n",
    "\n",
    "    rows.append(row)\n",
    "\n",
    "rows = index_list(rows, [0, 1, 3, 2])\n",
    "rows[-1]['Method'] = 'Ours'\n",
    "\n",
    "print_table(rows)"
   ]
  },
  {
   "cell_type": "code",
   "execution_count": 47,
   "metadata": {},
   "outputs": [
    {
     "name": "stdout",
     "output_type": "stream",
     "text": [
      "\\begin{tabular}{crrr}\n",
      "\\hline\n",
      "   Method   &   Prompt Fidelity ($\\uparrow$) &   Frame Consistency ($\\uparrow$) &   UV MSE ($\\downarrow$) \\\\\n",
      "\\hline\n",
      " ControlNet &                         0.3029 &                           0.9135 &                  0.0763 \\\\\n",
      "     GR     &                         0.3062 &                           0.9742 &                  0.0138 \\\\\n",
      "   TexGen   &                         0.2955 &                           0.9649 &                  0.004  \\\\\n",
      "    Ours    &                         0.308  &                           0.9659 &                  0.0134 \\\\\n",
      "\\hline\n",
      "\\end{tabular}\n"
     ]
    }
   ],
   "source": [
    "import tabulate\n",
    "\n",
    "from text3d2video.experiment_analysis import print_latex_table\n",
    "\n",
    "print_latex_table(rows)"
   ]
  },
  {
   "cell_type": "code",
   "execution_count": 32,
   "metadata": {},
   "outputs": [
    {
     "name": "stdout",
     "output_type": "stream",
     "text": [
      "Moviepy - Building video outs/benchmark.mp4.\n",
      "Moviepy - Writing video outs/benchmark.mp4\n",
      "\n"
     ]
    },
    {
     "name": "stderr",
     "output_type": "stream",
     "text": [
      "                                                            \r"
     ]
    },
    {
     "name": "stdout",
     "output_type": "stream",
     "text": [
      "Moviepy - Done !\n",
      "Moviepy - video ready outs/benchmark.mp4\n"
     ]
    }
   ],
   "source": [
    "from text3d2video.utilities.video_comparison import video_grid\n",
    "from text3d2video.utilities.video_util import pil_frames_to_clip\n",
    "\n",
    "clips_grid = map_array(run_data, lambda d: pil_frames_to_clip(d.frames))\n",
    "vid = video_grid(clips_grid, y_labels=labels[0])\n",
    "vid.write_videofile(\"outs/benchmark.mp4\")"
   ]
  }
 ],
 "metadata": {
  "kernelspec": {
   "display_name": "thesis4",
   "language": "python",
   "name": "python3"
  },
  "language_info": {
   "codemirror_mode": {
    "name": "ipython",
    "version": 3
   },
   "file_extension": ".py",
   "mimetype": "text/x-python",
   "name": "python",
   "nbconvert_exporter": "python",
   "pygments_lexer": "ipython3",
   "version": "3.9.20"
  }
 },
 "nbformat": 4,
 "nbformat_minor": 2
}
