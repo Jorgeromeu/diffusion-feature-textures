{
 "cells": [
  {
   "cell_type": "code",
   "execution_count": 146,
   "metadata": {},
   "outputs": [
    {
     "name": "stdout",
     "output_type": "stream",
     "text": [
      "The autoreload extension is already loaded. To reload it, use:\n",
      "  %reload_ext autoreload\n"
     ]
    }
   ],
   "source": [
    "%load_ext autoreload\n",
    "%autoreload 2\n",
    "\n",
    "import tabulate\n",
    "from omegaconf import OmegaConf\n",
    "import wandb_util.wandb_util as wbu\n",
    "from scripts.wandb_experiments.benchmark import BenchmarkConfig"
   ]
  },
  {
   "cell_type": "code",
   "execution_count": 161,
   "metadata": {},
   "outputs": [
    {
     "name": "stdout",
     "output_type": "stream",
     "text": [
      "animation_tag            texturing_tag         src_tag                 prompt                seed\n",
      "-----------------------  --------------------  ----------------------  ------------------  ------\n",
      "mv_cat_statue_25:latest  cat_statue_mv:latest  cat_statue_mv:latest    Metalic Cat Statue       0\n",
      "ymca_20:latest           human_mv:latest       ymca_src:latest         Stormtrooper             0\n",
      "ymca_20:latest           human_mv:latest       ymca_src:latest         Deadpool                 0\n",
      "ymca_20:latest           human_mv:latest       ymca_src:latest         Abraham Lincoln          0\n",
      "rumba_20:latest          human_mv:latest       rumba_src:latest        Stormtrooper             0\n",
      "catwalk_180_20:latest    human_mv:latest       catwalk_180_src:latest  Deadpool                 0\n",
      "catwalk_180_20:latest    human_mv:latest       catwalk_180_src:latest  Sormtrooper              0\n"
     ]
    }
   ],
   "source": [
    "from scripts.wandb_experiments.benchmark import GeometryAndPrompts\n",
    "from text3d2video.util import concat_lists\n",
    "\n",
    "\n",
    "mv_cat = GeometryAndPrompts(\n",
    "    \"mv_cat_statue_25:latest\",\n",
    "    \"cat_statue_mv:latest\",\n",
    "    \"cat_statue_mv:latest\",\n",
    "    [\"Metalic Cat Statue\"],\n",
    "    1,\n",
    ")\n",
    "\n",
    "ymca = GeometryAndPrompts(\n",
    "    \"ymca_20:latest\",\n",
    "    \"human_mv:latest\",\n",
    "    \"ymca_src:latest\",\n",
    "    [\"Stormtrooper\", \"Deadpool\", \"Abraham Lincoln\"],\n",
    "    1,\n",
    ")\n",
    "\n",
    "rumba = GeometryAndPrompts(\n",
    "    \"rumba_20:latest\",\n",
    "    \"human_mv:latest\",\n",
    "    \"rumba_src:latest\",\n",
    "    [\"Stormtrooper\"],\n",
    "    1,\n",
    ")\n",
    "\n",
    "\n",
    "turn_around = GeometryAndPrompts(\n",
    "    \"catwalk_180_20:latest\",\n",
    "    \"human_mv:latest\",\n",
    "    \"catwalk_180_src:latest\",\n",
    "    [\"Deadpool\", \"Sormtrooper\"],\n",
    "    1,\n",
    ")\n",
    "\n",
    "geometries_and_promtps = [\n",
    "    mv_cat,\n",
    "    ymca,\n",
    "    rumba,\n",
    "    turn_around,\n",
    "]\n",
    "\n",
    "scenes = concat_lists(s.to_scenes() for s in geometries_and_promtps)\n",
    "print(tabulate.tabulate([s.tabulate_row() for s in scenes], headers=\"keys\"))"
   ]
  },
  {
   "cell_type": "code",
   "execution_count": 169,
   "metadata": {},
   "outputs": [
    {
     "name": "stdout",
     "output_type": "stream",
     "text": [
      "name              fun                       config\n",
      "----------------  ------------------------  -------------------------------------------------------\n",
      "GR                run_generative_rendering  prompt: ''\n",
      "                                            animation_tag: ''\n",
      "                                            generative_rendering:\n",
      "                                              module_paths:\n",
      "                                              - mid_block.attentions.0.transformer_blocks.0.attn1\n",
      "                                              - up_blocks.1.attentions.0.transformer_blocks.0.attn1\n",
      "                                              - up_blocks.1.attentions.1.transformer_blocks.0.attn1\n",
      "                                              - up_blocks.1.attentions.2.transformer_blocks.0.attn1\n",
      "                                              - up_blocks.2.attentions.0.transformer_blocks.0.attn1\n",
      "                                              - up_blocks.2.attentions.1.transformer_blocks.0.attn1\n",
      "                                              - up_blocks.2.attentions.2.transformer_blocks.0.attn1\n",
      "                                              - up_blocks.3.attentions.0.transformer_blocks.0.attn1\n",
      "                                              - up_blocks.3.attentions.1.transformer_blocks.0.attn1\n",
      "                                              - up_blocks.3.attentions.2.transformer_blocks.0.attn1\n",
      "                                              do_pre_attn_injection: true\n",
      "                                              do_post_attn_injection: true\n",
      "                                              feature_blend_alpha: 0.8\n",
      "                                              attend_to_self_kv: false\n",
      "                                              mean_features_weight: 0.5\n",
      "                                              chunk_size: 5\n",
      "                                              num_inference_steps: 15\n",
      "                                              guidance_scale: 7.5\n",
      "                                              controlnet_conditioning_scale: 1.0\n",
      "                                              num_keyframes: 3\n",
      "                                            model:\n",
      "                                              sd_repo: runwayml/stable-diffusion-v1-5\n",
      "                                              controlnet_repo: lllyasviel/control_v11f1p_sd15_depth\n",
      "                                            src_anim_tag: null\n",
      "                                            texture_tag: null\n",
      "                                            start_noise_level: 0.0\n",
      "                                            seed: 0\n",
      "                                            kf_seed: 0\n",
      "                                            out_artifact: video\n",
      "RenderThenGR-0    run_generative_rendering  prompt: ''\n",
      "                                            animation_tag: ''\n",
      "                                            generative_rendering:\n",
      "                                              module_paths:\n",
      "                                              - mid_block.attentions.0.transformer_blocks.0.attn1\n",
      "                                              - up_blocks.1.attentions.0.transformer_blocks.0.attn1\n",
      "                                              - up_blocks.1.attentions.1.transformer_blocks.0.attn1\n",
      "                                              - up_blocks.1.attentions.2.transformer_blocks.0.attn1\n",
      "                                              - up_blocks.2.attentions.0.transformer_blocks.0.attn1\n",
      "                                              - up_blocks.2.attentions.1.transformer_blocks.0.attn1\n",
      "                                              - up_blocks.2.attentions.2.transformer_blocks.0.attn1\n",
      "                                              - up_blocks.3.attentions.0.transformer_blocks.0.attn1\n",
      "                                              - up_blocks.3.attentions.1.transformer_blocks.0.attn1\n",
      "                                              - up_blocks.3.attentions.2.transformer_blocks.0.attn1\n",
      "                                              do_pre_attn_injection: true\n",
      "                                              do_post_attn_injection: true\n",
      "                                              feature_blend_alpha: 0.8\n",
      "                                              attend_to_self_kv: false\n",
      "                                              mean_features_weight: 0.5\n",
      "                                              chunk_size: 5\n",
      "                                              num_inference_steps: 15\n",
      "                                              guidance_scale: 7.5\n",
      "                                              controlnet_conditioning_scale: 1.0\n",
      "                                              num_keyframes: 3\n",
      "                                            model:\n",
      "                                              sd_repo: runwayml/stable-diffusion-v1-5\n",
      "                                              controlnet_repo: lllyasviel/control_v11f1p_sd15_depth\n",
      "                                            src_anim_tag: null\n",
      "                                            texture_tag: null\n",
      "                                            start_noise_level: 0.0\n",
      "                                            seed: 0\n",
      "                                            kf_seed: 0\n",
      "                                            out_artifact: video\n",
      "RenderThenGR-0.2  run_generative_rendering  prompt: ''\n",
      "                                            animation_tag: ''\n",
      "                                            generative_rendering:\n",
      "                                              module_paths:\n",
      "                                              - mid_block.attentions.0.transformer_blocks.0.attn1\n",
      "                                              - up_blocks.1.attentions.0.transformer_blocks.0.attn1\n",
      "                                              - up_blocks.1.attentions.1.transformer_blocks.0.attn1\n",
      "                                              - up_blocks.1.attentions.2.transformer_blocks.0.attn1\n",
      "                                              - up_blocks.2.attentions.0.transformer_blocks.0.attn1\n",
      "                                              - up_blocks.2.attentions.1.transformer_blocks.0.attn1\n",
      "                                              - up_blocks.2.attentions.2.transformer_blocks.0.attn1\n",
      "                                              - up_blocks.3.attentions.0.transformer_blocks.0.attn1\n",
      "                                              - up_blocks.3.attentions.1.transformer_blocks.0.attn1\n",
      "                                              - up_blocks.3.attentions.2.transformer_blocks.0.attn1\n",
      "                                              do_pre_attn_injection: true\n",
      "                                              do_post_attn_injection: true\n",
      "                                              feature_blend_alpha: 0.8\n",
      "                                              attend_to_self_kv: false\n",
      "                                              mean_features_weight: 0.5\n",
      "                                              chunk_size: 5\n",
      "                                              num_inference_steps: 15\n",
      "                                              guidance_scale: 7.5\n",
      "                                              controlnet_conditioning_scale: 1.0\n",
      "                                              num_keyframes: 3\n",
      "                                            model:\n",
      "                                              sd_repo: runwayml/stable-diffusion-v1-5\n",
      "                                              controlnet_repo: lllyasviel/control_v11f1p_sd15_depth\n",
      "                                            src_anim_tag: null\n",
      "                                            texture_tag: null\n",
      "                                            start_noise_level: 0.2\n",
      "                                            seed: 0\n",
      "                                            kf_seed: 0\n",
      "                                            out_artifact: video\n",
      "RenderThenGR-0.4  run_generative_rendering  prompt: ''\n",
      "                                            animation_tag: ''\n",
      "                                            generative_rendering:\n",
      "                                              module_paths:\n",
      "                                              - mid_block.attentions.0.transformer_blocks.0.attn1\n",
      "                                              - up_blocks.1.attentions.0.transformer_blocks.0.attn1\n",
      "                                              - up_blocks.1.attentions.1.transformer_blocks.0.attn1\n",
      "                                              - up_blocks.1.attentions.2.transformer_blocks.0.attn1\n",
      "                                              - up_blocks.2.attentions.0.transformer_blocks.0.attn1\n",
      "                                              - up_blocks.2.attentions.1.transformer_blocks.0.attn1\n",
      "                                              - up_blocks.2.attentions.2.transformer_blocks.0.attn1\n",
      "                                              - up_blocks.3.attentions.0.transformer_blocks.0.attn1\n",
      "                                              - up_blocks.3.attentions.1.transformer_blocks.0.attn1\n",
      "                                              - up_blocks.3.attentions.2.transformer_blocks.0.attn1\n",
      "                                              do_pre_attn_injection: true\n",
      "                                              do_post_attn_injection: true\n",
      "                                              feature_blend_alpha: 0.8\n",
      "                                              attend_to_self_kv: false\n",
      "                                              mean_features_weight: 0.5\n",
      "                                              chunk_size: 5\n",
      "                                              num_inference_steps: 15\n",
      "                                              guidance_scale: 7.5\n",
      "                                              controlnet_conditioning_scale: 1.0\n",
      "                                              num_keyframes: 3\n",
      "                                            model:\n",
      "                                              sd_repo: runwayml/stable-diffusion-v1-5\n",
      "                                              controlnet_repo: lllyasviel/control_v11f1p_sd15_depth\n",
      "                                            src_anim_tag: null\n",
      "                                            texture_tag: null\n",
      "                                            start_noise_level: 0.4\n",
      "                                            seed: 0\n",
      "                                            kf_seed: 0\n",
      "                                            out_artifact: video\n"
     ]
    }
   ],
   "source": [
    "from scripts.wandb_experiments.benchmark import Method\n",
    "from scripts.wandb_runs.run_generative_rendering import (\n",
    "    RunGenerativeRenderingConfig,\n",
    "    run_generative_rendering,\n",
    ")\n",
    "from text3d2video.pipelines.generative_rendering_pipeline import (\n",
    "    GenerativeRenderingConfig,\n",
    ")\n",
    "from text3d2video.pipelines.pipeline_utils import ModelConfig\n",
    "from text3d2video.utilities.omegaconf_util import get_import_path\n",
    "\n",
    "\n",
    "decoder_paths = [\n",
    "    \"mid_block.attentions.0.transformer_blocks.0.attn1\",\n",
    "    \"up_blocks.1.attentions.0.transformer_blocks.0.attn1\",\n",
    "    \"up_blocks.1.attentions.1.transformer_blocks.0.attn1\",\n",
    "    \"up_blocks.1.attentions.2.transformer_blocks.0.attn1\",\n",
    "    \"up_blocks.2.attentions.0.transformer_blocks.0.attn1\",\n",
    "    \"up_blocks.2.attentions.1.transformer_blocks.0.attn1\",\n",
    "    \"up_blocks.2.attentions.2.transformer_blocks.0.attn1\",\n",
    "    \"up_blocks.3.attentions.0.transformer_blocks.0.attn1\",\n",
    "    \"up_blocks.3.attentions.1.transformer_blocks.0.attn1\",\n",
    "    \"up_blocks.3.attentions.2.transformer_blocks.0.attn1\",\n",
    "]\n",
    "# GR base Config\n",
    "base_gr = OmegaConf.structured(\n",
    "    RunGenerativeRenderingConfig(\n",
    "        \"\",\n",
    "        \"\",\n",
    "        GenerativeRenderingConfig(decoder_paths, num_keyframes=3),\n",
    "        ModelConfig(),\n",
    "    )\n",
    ")\n",
    "\n",
    "# ControlNet base Config\n",
    "base_controlnet = OmegaConf.structured(\n",
    "    RunGenerativeRenderingConfig(\n",
    "        \"\",\n",
    "        \"\",\n",
    "        GenerativeRenderingConfig(\n",
    "            [], do_pre_attn_injection=False, do_post_attn_injection=False\n",
    "        ),\n",
    "        ModelConfig(),\n",
    "    )\n",
    ")\n",
    "\n",
    "methods = [\n",
    "    Method(\"GR\", get_import_path(run_generative_rendering), base_gr),\n",
    "    # Method(\"ControlNet\", get_import_path(run_generative_rendering), base_controlnet),\n",
    "]\n",
    "\n",
    "start_noises = [0, 0.2, 0.4]\n",
    "for start_noise in start_noises:\n",
    "    base_render_gr = OmegaConf.structured(\n",
    "        RunGenerativeRenderingConfig(\n",
    "            \"\",\n",
    "            \"\",\n",
    "            GenerativeRenderingConfig(decoder_paths),\n",
    "            ModelConfig(),\n",
    "            start_noise_level=start_noise,\n",
    "        )\n",
    "    )\n",
    "\n",
    "    methods.append(\n",
    "        Method(\n",
    "            f\"RenderThenGR-{start_noise}\",\n",
    "            get_import_path(run_generative_rendering),\n",
    "            base_render_gr,\n",
    "        )\n",
    "    )\n",
    "\n",
    "print(tabulate.tabulate([m.tabulate_row() for m in methods], headers=\"keys\"))"
   ]
  },
  {
   "cell_type": "code",
   "execution_count": 171,
   "metadata": {},
   "outputs": [
    {
     "ename": "",
     "evalue": "",
     "output_type": "error",
     "traceback": [
      "\u001b[1;31mThe Kernel crashed while executing code in the current cell or a previous cell. \n",
      "\u001b[1;31mPlease review the code in the cell(s) to identify a possible cause of the failure. \n",
      "\u001b[1;31mClick <a href='https://aka.ms/vscodeJupyterKernelCrash'>here</a> for more info. \n",
      "\u001b[1;31mView Jupyter <a href='command:jupyter.viewOutput'>log</a> for further details."
     ]
    }
   ],
   "source": [
    "from scripts.wandb_experiments.benchmark import benchmark\n",
    "\n",
    "\n",
    "config = BenchmarkConfig(scenes, methods)\n",
    "config = OmegaConf.structured(config)\n",
    "\n",
    "spec = benchmark(config)"
   ]
  },
  {
   "cell_type": "code",
   "execution_count": 103,
   "metadata": {},
   "outputs": [
    {
     "name": "stdout",
     "output_type": "stream",
     "text": [
      "Experiment: https://wandb.ai/romeu/diffusion-3D-features/groups/benchmark_small_new/workspace\n",
      "\n",
      "Would execute 10 new runs:\n",
      "- human_mvlatest_Stormtrooper\n",
      "- cat_statue_mvlatest_SilverCatStatue\n",
      "- human_mvlatest_Deadpool\n",
      "- cat_statue_mvlatest_DeadpoolCatStatue\n",
      "- GR\n",
      "- GR\n",
      "- GR\n",
      "- GR\n",
      "- GR\n",
      "- GR\n",
      "\n",
      "Would delete 4 outdated runs:\n",
      "- cat_statue_mvlatest_DeadpoolCatStatue (rc8vghnu)\n",
      "- cat_statue_mvlatest_SilverCatStatue (ciy4uflz)\n",
      "- human_mvlatest_Stormtrooper    (7zkokcdt)\n",
      "- human_mvlatest_Deadpool        (3r2vta29)\n",
      "\n",
      "Do you want to continue? (y/n)\n",
      "Deleting 4 runs\n",
      "Executing 10 runs\n"
     ]
    },
    {
     "name": "stderr",
     "output_type": "stream",
     "text": [
      "\u001b[34m\u001b[1mwandb\u001b[0m: Using wandb-core as the SDK backend. Please refer to https://wandb.me/wandb-core for more information.\n",
      "\u001b[34m\u001b[1mwandb\u001b[0m: Currently logged in as: \u001b[33mromeu\u001b[0m. Use \u001b[1m`wandb login --relogin`\u001b[0m to force relogin\n"
     ]
    },
    {
     "data": {
      "text/html": [
       "Tracking run with wandb version 0.18.3"
      ],
      "text/plain": [
       "<IPython.core.display.HTML object>"
      ]
     },
     "metadata": {},
     "output_type": "display_data"
    },
    {
     "data": {
      "text/html": [
       "Run data is saved locally in <code>/home/jorge/thesis/wandb/run-20250508_123517-zpsiecbd</code>"
      ],
      "text/plain": [
       "<IPython.core.display.HTML object>"
      ]
     },
     "metadata": {},
     "output_type": "display_data"
    },
    {
     "data": {
      "text/html": [
       "Syncing run <strong><a href='https://wandb.ai/romeu/diffusion-3D-features/runs/zpsiecbd' target=\"_blank\">human_mvlatest_Stormtrooper</a></strong> to <a href='https://wandb.ai/romeu/diffusion-3D-features' target=\"_blank\">Weights & Biases</a> (<a href='https://wandb.me/run' target=\"_blank\">docs</a>)<br/>"
      ],
      "text/plain": [
       "<IPython.core.display.HTML object>"
      ]
     },
     "metadata": {},
     "output_type": "display_data"
    },
    {
     "data": {
      "text/html": [
       " View project at <a href='https://wandb.ai/romeu/diffusion-3D-features' target=\"_blank\">https://wandb.ai/romeu/diffusion-3D-features</a>"
      ],
      "text/plain": [
       "<IPython.core.display.HTML object>"
      ]
     },
     "metadata": {},
     "output_type": "display_data"
    },
    {
     "data": {
      "text/html": [
       " View run at <a href='https://wandb.ai/romeu/diffusion-3D-features/runs/zpsiecbd' target=\"_blank\">https://wandb.ai/romeu/diffusion-3D-features/runs/zpsiecbd</a>"
      ],
      "text/plain": [
       "<IPython.core.display.HTML object>"
      ]
     },
     "metadata": {},
     "output_type": "display_data"
    },
    {
     "name": "stderr",
     "output_type": "stream",
     "text": [
      "\u001b[34m\u001b[1mwandb\u001b[0m:   4 of 4 files downloaded.  \n"
     ]
    },
    {
     "data": {
      "application/vnd.jupyter.widget-view+json": {
       "model_id": "dc22255e613941a7b13c38229c3085b9",
       "version_major": 2,
       "version_minor": 0
      },
      "text/plain": [
       "Loading pipeline components...:   0%|          | 0/5 [00:00<?, ?it/s]"
      ]
     },
     "metadata": {},
     "output_type": "display_data"
    },
    {
     "name": "stderr",
     "output_type": "stream",
     "text": [
      "100%|██████████| 15/15 [01:15<00:00,  5.02s/it]\n"
     ]
    },
    {
     "name": "stdout",
     "output_type": "stream",
     "text": [
      "Moviepy - Building video /tmp/tmpx0_ypkal.mp4.\n",
      "Moviepy - Writing video /tmp/tmpx0_ypkal.mp4\n",
      "\n"
     ]
    },
    {
     "name": "stderr",
     "output_type": "stream",
     "text": [
      "                                                   \r"
     ]
    },
    {
     "name": "stdout",
     "output_type": "stream",
     "text": [
      "Moviepy - Done !\n",
      "Moviepy - video ready /tmp/tmpx0_ypkal.mp4\n"
     ]
    },
    {
     "name": "stderr",
     "output_type": "stream",
     "text": [
      "\u001b[34m\u001b[1mwandb\u001b[0m: Adding directory to artifact (/tmp/local_artifacts/rgb_texture/human_mvlatest_Stormtrooper)... Done. 0.1s\n"
     ]
    },
    {
     "data": {
      "application/vnd.jupyter.widget-view+json": {
       "model_id": "db4411ee5890443cb3843ef6c43e5dec",
       "version_major": 2,
       "version_minor": 0
      },
      "text/plain": [
       "VBox(children=(Label(value='2.169 MB of 12.505 MB uploaded\\r'), FloatProgress(value=0.17348266584182068, max=1…"
      ]
     },
     "metadata": {},
     "output_type": "display_data"
    },
    {
     "data": {
      "text/html": [
       "<style>\n",
       "    table.wandb td:nth-child(1) { padding: 0 10px; text-align: left ; width: auto;} td:nth-child(2) {text-align: left ; width: 100%}\n",
       "    .wandb-row { display: flex; flex-direction: row; flex-wrap: wrap; justify-content: flex-start; width: 100% }\n",
       "    .wandb-col { display: flex; flex-direction: column; flex-basis: 100%; flex: 1; padding: 10px; }\n",
       "    </style>\n",
       "<div class=\"wandb-row\"><div class=\"wandb-col\"><h3>Run summary:</h3><br/><table class=\"wandb\"><tr><td>hash</td><td>f76677aaf8c0c659e649...</td></tr></table><br/></div></div>"
      ],
      "text/plain": [
       "<IPython.core.display.HTML object>"
      ]
     },
     "metadata": {},
     "output_type": "display_data"
    },
    {
     "data": {
      "text/html": [
       " View run <strong style=\"color:#cdcd00\">human_mvlatest_Stormtrooper</strong> at: <a href='https://wandb.ai/romeu/diffusion-3D-features/runs/zpsiecbd' target=\"_blank\">https://wandb.ai/romeu/diffusion-3D-features/runs/zpsiecbd</a><br/> View project at: <a href='https://wandb.ai/romeu/diffusion-3D-features' target=\"_blank\">https://wandb.ai/romeu/diffusion-3D-features</a><br/>Synced 5 W&B file(s), 0 media file(s), 2 artifact file(s) and 2 other file(s)"
      ],
      "text/plain": [
       "<IPython.core.display.HTML object>"
      ]
     },
     "metadata": {},
     "output_type": "display_data"
    },
    {
     "data": {
      "text/html": [
       "Find logs at: <code>./wandb/run-20250508_123517-zpsiecbd/logs</code>"
      ],
      "text/plain": [
       "<IPython.core.display.HTML object>"
      ]
     },
     "metadata": {},
     "output_type": "display_data"
    },
    {
     "name": "stderr",
     "output_type": "stream",
     "text": [
      "\u001b[34m\u001b[1mwandb\u001b[0m: Using wandb-core as the SDK backend. Please refer to https://wandb.me/wandb-core for more information.\n",
      "\u001b[34m\u001b[1mwandb\u001b[0m: Currently logged in as: \u001b[33mromeu\u001b[0m. Use \u001b[1m`wandb login --relogin`\u001b[0m to force relogin\n"
     ]
    },
    {
     "data": {
      "text/html": [
       "Tracking run with wandb version 0.18.3"
      ],
      "text/plain": [
       "<IPython.core.display.HTML object>"
      ]
     },
     "metadata": {},
     "output_type": "display_data"
    },
    {
     "data": {
      "text/html": [
       "Run data is saved locally in <code>/home/jorge/thesis/wandb/run-20250508_123654-2pi8ga6e</code>"
      ],
      "text/plain": [
       "<IPython.core.display.HTML object>"
      ]
     },
     "metadata": {},
     "output_type": "display_data"
    },
    {
     "data": {
      "text/html": [
       "Syncing run <strong><a href='https://wandb.ai/romeu/diffusion-3D-features/runs/2pi8ga6e' target=\"_blank\">cat_statue_mvlatest_SilverCatStatue</a></strong> to <a href='https://wandb.ai/romeu/diffusion-3D-features' target=\"_blank\">Weights & Biases</a> (<a href='https://wandb.me/run' target=\"_blank\">docs</a>)<br/>"
      ],
      "text/plain": [
       "<IPython.core.display.HTML object>"
      ]
     },
     "metadata": {},
     "output_type": "display_data"
    },
    {
     "data": {
      "text/html": [
       " View project at <a href='https://wandb.ai/romeu/diffusion-3D-features' target=\"_blank\">https://wandb.ai/romeu/diffusion-3D-features</a>"
      ],
      "text/plain": [
       "<IPython.core.display.HTML object>"
      ]
     },
     "metadata": {},
     "output_type": "display_data"
    },
    {
     "data": {
      "text/html": [
       " View run at <a href='https://wandb.ai/romeu/diffusion-3D-features/runs/2pi8ga6e' target=\"_blank\">https://wandb.ai/romeu/diffusion-3D-features/runs/2pi8ga6e</a>"
      ],
      "text/plain": [
       "<IPython.core.display.HTML object>"
      ]
     },
     "metadata": {},
     "output_type": "display_data"
    },
    {
     "name": "stderr",
     "output_type": "stream",
     "text": [
      "\u001b[34m\u001b[1mwandb\u001b[0m:   4 of 4 files downloaded.  \n"
     ]
    },
    {
     "data": {
      "application/vnd.jupyter.widget-view+json": {
       "model_id": "1ba8a127b35746ac8ef96837648043d3",
       "version_major": 2,
       "version_minor": 0
      },
      "text/plain": [
       "Loading pipeline components...:   0%|          | 0/5 [00:00<?, ?it/s]"
      ]
     },
     "metadata": {},
     "output_type": "display_data"
    },
    {
     "name": "stderr",
     "output_type": "stream",
     "text": [
      "100%|██████████| 15/15 [00:52<00:00,  3.52s/it]\n"
     ]
    },
    {
     "name": "stdout",
     "output_type": "stream",
     "text": [
      "Moviepy - Building video /tmp/tmpk810snog.mp4.\n",
      "Moviepy - Writing video /tmp/tmpk810snog.mp4\n",
      "\n"
     ]
    },
    {
     "name": "stderr",
     "output_type": "stream",
     "text": [
      "                                                   \r"
     ]
    },
    {
     "name": "stdout",
     "output_type": "stream",
     "text": [
      "Moviepy - Done !\n",
      "Moviepy - video ready /tmp/tmpk810snog.mp4\n"
     ]
    },
    {
     "name": "stderr",
     "output_type": "stream",
     "text": [
      "\u001b[34m\u001b[1mwandb\u001b[0m: Adding directory to artifact (/tmp/local_artifacts/rgb_texture/cat_statue_mvlatest_SilverCatStatue)... Done. 0.1s\n"
     ]
    },
    {
     "data": {
      "application/vnd.jupyter.widget-view+json": {
       "model_id": "42159ff457d04b5ba10fabb735092fd7",
       "version_major": 2,
       "version_minor": 0
      },
      "text/plain": [
       "VBox(children=(Label(value='1.782 MB of 12.118 MB uploaded\\r'), FloatProgress(value=0.14705961515547827, max=1…"
      ]
     },
     "metadata": {},
     "output_type": "display_data"
    },
    {
     "data": {
      "text/html": [
       "<style>\n",
       "    table.wandb td:nth-child(1) { padding: 0 10px; text-align: left ; width: auto;} td:nth-child(2) {text-align: left ; width: 100%}\n",
       "    .wandb-row { display: flex; flex-direction: row; flex-wrap: wrap; justify-content: flex-start; width: 100% }\n",
       "    .wandb-col { display: flex; flex-direction: column; flex-basis: 100%; flex: 1; padding: 10px; }\n",
       "    </style>\n",
       "<div class=\"wandb-row\"><div class=\"wandb-col\"><h3>Run summary:</h3><br/><table class=\"wandb\"><tr><td>hash</td><td>7ed9a67667b8454d109b...</td></tr></table><br/></div></div>"
      ],
      "text/plain": [
       "<IPython.core.display.HTML object>"
      ]
     },
     "metadata": {},
     "output_type": "display_data"
    },
    {
     "data": {
      "text/html": [
       " View run <strong style=\"color:#cdcd00\">cat_statue_mvlatest_SilverCatStatue</strong> at: <a href='https://wandb.ai/romeu/diffusion-3D-features/runs/2pi8ga6e' target=\"_blank\">https://wandb.ai/romeu/diffusion-3D-features/runs/2pi8ga6e</a><br/> View project at: <a href='https://wandb.ai/romeu/diffusion-3D-features' target=\"_blank\">https://wandb.ai/romeu/diffusion-3D-features</a><br/>Synced 5 W&B file(s), 0 media file(s), 2 artifact file(s) and 2 other file(s)"
      ],
      "text/plain": [
       "<IPython.core.display.HTML object>"
      ]
     },
     "metadata": {},
     "output_type": "display_data"
    },
    {
     "data": {
      "text/html": [
       "Find logs at: <code>./wandb/run-20250508_123654-2pi8ga6e/logs</code>"
      ],
      "text/plain": [
       "<IPython.core.display.HTML object>"
      ]
     },
     "metadata": {},
     "output_type": "display_data"
    },
    {
     "name": "stderr",
     "output_type": "stream",
     "text": [
      "\u001b[34m\u001b[1mwandb\u001b[0m: Using wandb-core as the SDK backend. Please refer to https://wandb.me/wandb-core for more information.\n",
      "\u001b[34m\u001b[1mwandb\u001b[0m: Currently logged in as: \u001b[33mromeu\u001b[0m. Use \u001b[1m`wandb login --relogin`\u001b[0m to force relogin\n"
     ]
    },
    {
     "data": {
      "text/html": [
       "Tracking run with wandb version 0.18.3"
      ],
      "text/plain": [
       "<IPython.core.display.HTML object>"
      ]
     },
     "metadata": {},
     "output_type": "display_data"
    },
    {
     "data": {
      "text/html": [
       "Run data is saved locally in <code>/home/jorge/thesis/wandb/run-20250508_123806-vn053ibh</code>"
      ],
      "text/plain": [
       "<IPython.core.display.HTML object>"
      ]
     },
     "metadata": {},
     "output_type": "display_data"
    },
    {
     "data": {
      "text/html": [
       "Syncing run <strong><a href='https://wandb.ai/romeu/diffusion-3D-features/runs/vn053ibh' target=\"_blank\">human_mvlatest_Deadpool</a></strong> to <a href='https://wandb.ai/romeu/diffusion-3D-features' target=\"_blank\">Weights & Biases</a> (<a href='https://wandb.me/run' target=\"_blank\">docs</a>)<br/>"
      ],
      "text/plain": [
       "<IPython.core.display.HTML object>"
      ]
     },
     "metadata": {},
     "output_type": "display_data"
    },
    {
     "data": {
      "text/html": [
       " View project at <a href='https://wandb.ai/romeu/diffusion-3D-features' target=\"_blank\">https://wandb.ai/romeu/diffusion-3D-features</a>"
      ],
      "text/plain": [
       "<IPython.core.display.HTML object>"
      ]
     },
     "metadata": {},
     "output_type": "display_data"
    },
    {
     "data": {
      "text/html": [
       " View run at <a href='https://wandb.ai/romeu/diffusion-3D-features/runs/vn053ibh' target=\"_blank\">https://wandb.ai/romeu/diffusion-3D-features/runs/vn053ibh</a>"
      ],
      "text/plain": [
       "<IPython.core.display.HTML object>"
      ]
     },
     "metadata": {},
     "output_type": "display_data"
    },
    {
     "name": "stderr",
     "output_type": "stream",
     "text": [
      "\u001b[34m\u001b[1mwandb\u001b[0m:   4 of 4 files downloaded.  \n"
     ]
    },
    {
     "data": {
      "application/vnd.jupyter.widget-view+json": {
       "model_id": "498d61d6db9d4f80987dee70d44bc15f",
       "version_major": 2,
       "version_minor": 0
      },
      "text/plain": [
       "Loading pipeline components...:   0%|          | 0/5 [00:00<?, ?it/s]"
      ]
     },
     "metadata": {},
     "output_type": "display_data"
    },
    {
     "name": "stderr",
     "output_type": "stream",
     "text": [
      "100%|██████████| 15/15 [01:15<00:00,  5.01s/it]\n"
     ]
    },
    {
     "name": "stdout",
     "output_type": "stream",
     "text": [
      "Moviepy - Building video /tmp/tmpn0hweyfy.mp4.\n",
      "Moviepy - Writing video /tmp/tmpn0hweyfy.mp4\n",
      "\n"
     ]
    },
    {
     "name": "stderr",
     "output_type": "stream",
     "text": [
      "                                                   \r"
     ]
    },
    {
     "name": "stdout",
     "output_type": "stream",
     "text": [
      "Moviepy - Done !\n",
      "Moviepy - video ready /tmp/tmpn0hweyfy.mp4\n"
     ]
    },
    {
     "name": "stderr",
     "output_type": "stream",
     "text": [
      "\u001b[34m\u001b[1mwandb\u001b[0m: Adding directory to artifact (/tmp/local_artifacts/rgb_texture/human_mvlatest_Deadpool)... Done. 0.1s\n"
     ]
    },
    {
     "data": {
      "application/vnd.jupyter.widget-view+json": {
       "model_id": "d5a9afdd2e2b4ba79e71138bcec90632",
       "version_major": 2,
       "version_minor": 0
      },
      "text/plain": [
       "VBox(children=(Label(value='1.941 MB of 12.308 MB uploaded\\r'), FloatProgress(value=0.1576799144870326, max=1.…"
      ]
     },
     "metadata": {},
     "output_type": "display_data"
    },
    {
     "data": {
      "text/html": [
       "<style>\n",
       "    table.wandb td:nth-child(1) { padding: 0 10px; text-align: left ; width: auto;} td:nth-child(2) {text-align: left ; width: 100%}\n",
       "    .wandb-row { display: flex; flex-direction: row; flex-wrap: wrap; justify-content: flex-start; width: 100% }\n",
       "    .wandb-col { display: flex; flex-direction: column; flex-basis: 100%; flex: 1; padding: 10px; }\n",
       "    </style>\n",
       "<div class=\"wandb-row\"><div class=\"wandb-col\"><h3>Run summary:</h3><br/><table class=\"wandb\"><tr><td>hash</td><td>5033ba7df7946a298481...</td></tr></table><br/></div></div>"
      ],
      "text/plain": [
       "<IPython.core.display.HTML object>"
      ]
     },
     "metadata": {},
     "output_type": "display_data"
    },
    {
     "data": {
      "text/html": [
       " View run <strong style=\"color:#cdcd00\">human_mvlatest_Deadpool</strong> at: <a href='https://wandb.ai/romeu/diffusion-3D-features/runs/vn053ibh' target=\"_blank\">https://wandb.ai/romeu/diffusion-3D-features/runs/vn053ibh</a><br/> View project at: <a href='https://wandb.ai/romeu/diffusion-3D-features' target=\"_blank\">https://wandb.ai/romeu/diffusion-3D-features</a><br/>Synced 5 W&B file(s), 0 media file(s), 2 artifact file(s) and 2 other file(s)"
      ],
      "text/plain": [
       "<IPython.core.display.HTML object>"
      ]
     },
     "metadata": {},
     "output_type": "display_data"
    },
    {
     "data": {
      "text/html": [
       "Find logs at: <code>./wandb/run-20250508_123806-vn053ibh/logs</code>"
      ],
      "text/plain": [
       "<IPython.core.display.HTML object>"
      ]
     },
     "metadata": {},
     "output_type": "display_data"
    },
    {
     "name": "stderr",
     "output_type": "stream",
     "text": [
      "\u001b[34m\u001b[1mwandb\u001b[0m: Using wandb-core as the SDK backend. Please refer to https://wandb.me/wandb-core for more information.\n",
      "\u001b[34m\u001b[1mwandb\u001b[0m: Currently logged in as: \u001b[33mromeu\u001b[0m. Use \u001b[1m`wandb login --relogin`\u001b[0m to force relogin\n"
     ]
    },
    {
     "data": {
      "text/html": [
       "Tracking run with wandb version 0.18.3"
      ],
      "text/plain": [
       "<IPython.core.display.HTML object>"
      ]
     },
     "metadata": {},
     "output_type": "display_data"
    },
    {
     "data": {
      "text/html": [
       "Run data is saved locally in <code>/home/jorge/thesis/wandb/run-20250508_123943-2tfxo30b</code>"
      ],
      "text/plain": [
       "<IPython.core.display.HTML object>"
      ]
     },
     "metadata": {},
     "output_type": "display_data"
    },
    {
     "data": {
      "text/html": [
       "Syncing run <strong><a href='https://wandb.ai/romeu/diffusion-3D-features/runs/2tfxo30b' target=\"_blank\">cat_statue_mvlatest_DeadpoolCatStatue</a></strong> to <a href='https://wandb.ai/romeu/diffusion-3D-features' target=\"_blank\">Weights & Biases</a> (<a href='https://wandb.me/run' target=\"_blank\">docs</a>)<br/>"
      ],
      "text/plain": [
       "<IPython.core.display.HTML object>"
      ]
     },
     "metadata": {},
     "output_type": "display_data"
    },
    {
     "data": {
      "text/html": [
       " View project at <a href='https://wandb.ai/romeu/diffusion-3D-features' target=\"_blank\">https://wandb.ai/romeu/diffusion-3D-features</a>"
      ],
      "text/plain": [
       "<IPython.core.display.HTML object>"
      ]
     },
     "metadata": {},
     "output_type": "display_data"
    },
    {
     "data": {
      "text/html": [
       " View run at <a href='https://wandb.ai/romeu/diffusion-3D-features/runs/2tfxo30b' target=\"_blank\">https://wandb.ai/romeu/diffusion-3D-features/runs/2tfxo30b</a>"
      ],
      "text/plain": [
       "<IPython.core.display.HTML object>"
      ]
     },
     "metadata": {},
     "output_type": "display_data"
    },
    {
     "name": "stderr",
     "output_type": "stream",
     "text": [
      "\u001b[34m\u001b[1mwandb\u001b[0m:   4 of 4 files downloaded.  \n"
     ]
    },
    {
     "data": {
      "application/vnd.jupyter.widget-view+json": {
       "model_id": "4713b94b98b4456bb8fc77dbe08d8f43",
       "version_major": 2,
       "version_minor": 0
      },
      "text/plain": [
       "Loading pipeline components...:   0%|          | 0/5 [00:00<?, ?it/s]"
      ]
     },
     "metadata": {},
     "output_type": "display_data"
    },
    {
     "name": "stderr",
     "output_type": "stream",
     "text": [
      "100%|██████████| 15/15 [00:52<00:00,  3.51s/it]\n"
     ]
    },
    {
     "name": "stdout",
     "output_type": "stream",
     "text": [
      "Moviepy - Building video /tmp/tmp2ik9_zqx.mp4.\n",
      "Moviepy - Writing video /tmp/tmp2ik9_zqx.mp4\n",
      "\n"
     ]
    },
    {
     "name": "stderr",
     "output_type": "stream",
     "text": [
      "                                                   \r"
     ]
    },
    {
     "name": "stdout",
     "output_type": "stream",
     "text": [
      "Moviepy - Done !\n",
      "Moviepy - video ready /tmp/tmp2ik9_zqx.mp4\n"
     ]
    },
    {
     "name": "stderr",
     "output_type": "stream",
     "text": [
      "\u001b[34m\u001b[1mwandb\u001b[0m: Adding directory to artifact (/tmp/local_artifacts/rgb_texture/cat_statue_mvlatest_DeadpoolCatStatue)... Done. 0.1s\n"
     ]
    },
    {
     "data": {
      "application/vnd.jupyter.widget-view+json": {
       "model_id": "fe8e0070d1934d2b83b14fa38a7de148",
       "version_major": 2,
       "version_minor": 0
      },
      "text/plain": [
       "VBox(children=(Label(value='1.722 MB of 12.089 MB uploaded\\r'), FloatProgress(value=0.14246702314759485, max=1…"
      ]
     },
     "metadata": {},
     "output_type": "display_data"
    },
    {
     "data": {
      "text/html": [
       "<style>\n",
       "    table.wandb td:nth-child(1) { padding: 0 10px; text-align: left ; width: auto;} td:nth-child(2) {text-align: left ; width: 100%}\n",
       "    .wandb-row { display: flex; flex-direction: row; flex-wrap: wrap; justify-content: flex-start; width: 100% }\n",
       "    .wandb-col { display: flex; flex-direction: column; flex-basis: 100%; flex: 1; padding: 10px; }\n",
       "    </style>\n",
       "<div class=\"wandb-row\"><div class=\"wandb-col\"><h3>Run summary:</h3><br/><table class=\"wandb\"><tr><td>hash</td><td>43db97e71d6d29298943...</td></tr></table><br/></div></div>"
      ],
      "text/plain": [
       "<IPython.core.display.HTML object>"
      ]
     },
     "metadata": {},
     "output_type": "display_data"
    },
    {
     "data": {
      "text/html": [
       " View run <strong style=\"color:#cdcd00\">cat_statue_mvlatest_DeadpoolCatStatue</strong> at: <a href='https://wandb.ai/romeu/diffusion-3D-features/runs/2tfxo30b' target=\"_blank\">https://wandb.ai/romeu/diffusion-3D-features/runs/2tfxo30b</a><br/> View project at: <a href='https://wandb.ai/romeu/diffusion-3D-features' target=\"_blank\">https://wandb.ai/romeu/diffusion-3D-features</a><br/>Synced 5 W&B file(s), 0 media file(s), 2 artifact file(s) and 2 other file(s)"
      ],
      "text/plain": [
       "<IPython.core.display.HTML object>"
      ]
     },
     "metadata": {},
     "output_type": "display_data"
    },
    {
     "data": {
      "text/html": [
       "Find logs at: <code>./wandb/run-20250508_123943-2tfxo30b/logs</code>"
      ],
      "text/plain": [
       "<IPython.core.display.HTML object>"
      ]
     },
     "metadata": {},
     "output_type": "display_data"
    },
    {
     "name": "stderr",
     "output_type": "stream",
     "text": [
      "\u001b[34m\u001b[1mwandb\u001b[0m: Using wandb-core as the SDK backend. Please refer to https://wandb.me/wandb-core for more information.\n",
      "\u001b[34m\u001b[1mwandb\u001b[0m: Currently logged in as: \u001b[33mromeu\u001b[0m. Use \u001b[1m`wandb login --relogin`\u001b[0m to force relogin\n"
     ]
    },
    {
     "data": {
      "text/html": [
       "Tracking run with wandb version 0.18.3"
      ],
      "text/plain": [
       "<IPython.core.display.HTML object>"
      ]
     },
     "metadata": {},
     "output_type": "display_data"
    },
    {
     "data": {
      "text/html": [
       "Run data is saved locally in <code>/home/jorge/thesis/wandb/run-20250508_124054-0t41v1jf</code>"
      ],
      "text/plain": [
       "<IPython.core.display.HTML object>"
      ]
     },
     "metadata": {},
     "output_type": "display_data"
    },
    {
     "data": {
      "text/html": [
       "Syncing run <strong><a href='https://wandb.ai/romeu/diffusion-3D-features/runs/0t41v1jf' target=\"_blank\">GR</a></strong> to <a href='https://wandb.ai/romeu/diffusion-3D-features' target=\"_blank\">Weights & Biases</a> (<a href='https://wandb.me/run' target=\"_blank\">docs</a>)<br/>"
      ],
      "text/plain": [
       "<IPython.core.display.HTML object>"
      ]
     },
     "metadata": {},
     "output_type": "display_data"
    },
    {
     "data": {
      "text/html": [
       " View project at <a href='https://wandb.ai/romeu/diffusion-3D-features' target=\"_blank\">https://wandb.ai/romeu/diffusion-3D-features</a>"
      ],
      "text/plain": [
       "<IPython.core.display.HTML object>"
      ]
     },
     "metadata": {},
     "output_type": "display_data"
    },
    {
     "data": {
      "text/html": [
       " View run at <a href='https://wandb.ai/romeu/diffusion-3D-features/runs/0t41v1jf' target=\"_blank\">https://wandb.ai/romeu/diffusion-3D-features/runs/0t41v1jf</a>"
      ],
      "text/plain": [
       "<IPython.core.display.HTML object>"
      ]
     },
     "metadata": {},
     "output_type": "display_data"
    },
    {
     "name": "stderr",
     "output_type": "stream",
     "text": [
      "\u001b[34m\u001b[1mwandb\u001b[0m:   4 of 4 files downloaded.  \n",
      "\u001b[34m\u001b[1mwandb\u001b[0m:   1 of 1 files downloaded.  \n",
      "\u001b[34m\u001b[1mwandb\u001b[0m:   1 of 1 files downloaded.  \n",
      "Traceback (most recent call last):\n",
      "  File \"/home/jorge/thesis/wandb_util/wandb_util.py\", line 390, in wrapper\n",
      "    result = func(cfg, run_config, *args, **kwargs)\n",
      "  File \"/home/jorge/thesis/scripts/wandb_runs/run_generative_rendering.py\", line 61, in run_generative_rendering\n",
      "    texture = texture.read_anim_seq()\n",
      "  File \"/home/jorge/thesis/text3d2video/artifacts/anim_artifact.py\", line 102, in read_anim_seq\n",
      "    verts_uvs, faces_uvs = self.uv_data()\n",
      "  File \"/home/jorge/thesis/text3d2video/artifacts/anim_artifact.py\", line 86, in uv_data\n",
      "    verts_uvs = torch.load(self._verts_uvs_path(), weights_only=False)\n",
      "  File \"/home/jorge/miniconda3/envs/thesis4/lib/python3.9/site-packages/torch/serialization.py\", line 1065, in load\n",
      "    with _open_file_like(f, 'rb') as opened_file:\n",
      "  File \"/home/jorge/miniconda3/envs/thesis4/lib/python3.9/site-packages/torch/serialization.py\", line 468, in _open_file_like\n",
      "    return _open_file(name_or_buffer, mode)\n",
      "  File \"/home/jorge/miniconda3/envs/thesis4/lib/python3.9/site-packages/torch/serialization.py\", line 449, in __init__\n",
      "    super().__init__(open(name, mode))\n",
      "FileNotFoundError: [Errno 2] No such file or directory: '/home/jorge/thesis/artifacts/human_mvlatest_Stormtrooper:v5/verts_uvs.pt'\n"
     ]
    },
    {
     "data": {
      "application/vnd.jupyter.widget-view+json": {
       "model_id": "2576155a797840beaced37b67c856825",
       "version_major": 2,
       "version_minor": 0
      },
      "text/plain": [
       "VBox(children=(Label(value='0.010 MB of 0.010 MB uploaded\\r'), FloatProgress(value=1.0, max=1.0)))"
      ]
     },
     "metadata": {},
     "output_type": "display_data"
    },
    {
     "data": {
      "text/html": [
       " View run <strong style=\"color:#cdcd00\">GR</strong> at: <a href='https://wandb.ai/romeu/diffusion-3D-features/runs/0t41v1jf' target=\"_blank\">https://wandb.ai/romeu/diffusion-3D-features/runs/0t41v1jf</a><br/> View project at: <a href='https://wandb.ai/romeu/diffusion-3D-features' target=\"_blank\">https://wandb.ai/romeu/diffusion-3D-features</a><br/>Synced 5 W&B file(s), 0 media file(s), 0 artifact file(s) and 0 other file(s)"
      ],
      "text/plain": [
       "<IPython.core.display.HTML object>"
      ]
     },
     "metadata": {},
     "output_type": "display_data"
    },
    {
     "data": {
      "text/html": [
       "Find logs at: <code>./wandb/run-20250508_124054-0t41v1jf/logs</code>"
      ],
      "text/plain": [
       "<IPython.core.display.HTML object>"
      ]
     },
     "metadata": {},
     "output_type": "display_data"
    },
    {
     "name": "stderr",
     "output_type": "stream",
     "text": [
      "Process Process-40:\n",
      "Traceback (most recent call last):\n",
      "  File \"/home/jorge/miniconda3/envs/thesis4/lib/python3.9/multiprocessing/process.py\", line 315, in _bootstrap\n",
      "    self.run()\n",
      "  File \"/home/jorge/miniconda3/envs/thesis4/lib/python3.9/multiprocessing/process.py\", line 108, in run\n",
      "    self._target(*self._args, **self._kwargs)\n",
      "  File \"/home/jorge/thesis/wandb_util/wandb_util.py\", line 390, in wrapper\n",
      "    result = func(cfg, run_config, *args, **kwargs)\n",
      "  File \"/home/jorge/thesis/scripts/wandb_runs/run_generative_rendering.py\", line 61, in run_generative_rendering\n",
      "    texture = texture.read_anim_seq()\n",
      "  File \"/home/jorge/thesis/text3d2video/artifacts/anim_artifact.py\", line 102, in read_anim_seq\n",
      "    verts_uvs, faces_uvs = self.uv_data()\n",
      "  File \"/home/jorge/thesis/text3d2video/artifacts/anim_artifact.py\", line 86, in uv_data\n",
      "    verts_uvs = torch.load(self._verts_uvs_path(), weights_only=False)\n",
      "  File \"/home/jorge/miniconda3/envs/thesis4/lib/python3.9/site-packages/torch/serialization.py\", line 1065, in load\n",
      "    with _open_file_like(f, 'rb') as opened_file:\n",
      "  File \"/home/jorge/miniconda3/envs/thesis4/lib/python3.9/site-packages/torch/serialization.py\", line 468, in _open_file_like\n",
      "    return _open_file(name_or_buffer, mode)\n",
      "  File \"/home/jorge/miniconda3/envs/thesis4/lib/python3.9/site-packages/torch/serialization.py\", line 449, in __init__\n",
      "    super().__init__(open(name, mode))\n",
      "FileNotFoundError: [Errno 2] No such file or directory: '/home/jorge/thesis/artifacts/human_mvlatest_Stormtrooper:v5/verts_uvs.pt'\n",
      "\u001b[34m\u001b[1mwandb\u001b[0m: Using wandb-core as the SDK backend. Please refer to https://wandb.me/wandb-core for more information.\n",
      "\u001b[34m\u001b[1mwandb\u001b[0m: Currently logged in as: \u001b[33mromeu\u001b[0m. Use \u001b[1m`wandb login --relogin`\u001b[0m to force relogin\n"
     ]
    },
    {
     "data": {
      "text/html": [
       "Tracking run with wandb version 0.18.3"
      ],
      "text/plain": [
       "<IPython.core.display.HTML object>"
      ]
     },
     "metadata": {},
     "output_type": "display_data"
    },
    {
     "data": {
      "text/html": [
       "Run data is saved locally in <code>/home/jorge/thesis/wandb/run-20250508_124101-ncmfglq8</code>"
      ],
      "text/plain": [
       "<IPython.core.display.HTML object>"
      ]
     },
     "metadata": {},
     "output_type": "display_data"
    },
    {
     "data": {
      "text/html": [
       "Syncing run <strong><a href='https://wandb.ai/romeu/diffusion-3D-features/runs/ncmfglq8' target=\"_blank\">GR</a></strong> to <a href='https://wandb.ai/romeu/diffusion-3D-features' target=\"_blank\">Weights & Biases</a> (<a href='https://wandb.me/run' target=\"_blank\">docs</a>)<br/>"
      ],
      "text/plain": [
       "<IPython.core.display.HTML object>"
      ]
     },
     "metadata": {},
     "output_type": "display_data"
    },
    {
     "data": {
      "text/html": [
       " View project at <a href='https://wandb.ai/romeu/diffusion-3D-features' target=\"_blank\">https://wandb.ai/romeu/diffusion-3D-features</a>"
      ],
      "text/plain": [
       "<IPython.core.display.HTML object>"
      ]
     },
     "metadata": {},
     "output_type": "display_data"
    },
    {
     "data": {
      "text/html": [
       " View run at <a href='https://wandb.ai/romeu/diffusion-3D-features/runs/ncmfglq8' target=\"_blank\">https://wandb.ai/romeu/diffusion-3D-features/runs/ncmfglq8</a>"
      ],
      "text/plain": [
       "<IPython.core.display.HTML object>"
      ]
     },
     "metadata": {},
     "output_type": "display_data"
    },
    {
     "name": "stderr",
     "output_type": "stream",
     "text": [
      "\u001b[34m\u001b[1mwandb\u001b[0m:   4 of 4 files downloaded.  \n",
      "\u001b[34m\u001b[1mwandb\u001b[0m:   1 of 1 files downloaded.  \n",
      "Traceback (most recent call last):\n",
      "  File \"/home/jorge/thesis/wandb_util/wandb_util.py\", line 390, in wrapper\n",
      "    result = func(cfg, run_config, *args, **kwargs)\n",
      "  File \"/home/jorge/thesis/scripts/wandb_runs/run_generative_rendering.py\", line 61, in run_generative_rendering\n",
      "    texture = texture.read_anim_seq()\n",
      "  File \"/home/jorge/thesis/text3d2video/artifacts/anim_artifact.py\", line 102, in read_anim_seq\n",
      "    verts_uvs, faces_uvs = self.uv_data()\n",
      "  File \"/home/jorge/thesis/text3d2video/artifacts/anim_artifact.py\", line 86, in uv_data\n",
      "    verts_uvs = torch.load(self._verts_uvs_path(), weights_only=False)\n",
      "  File \"/home/jorge/miniconda3/envs/thesis4/lib/python3.9/site-packages/torch/serialization.py\", line 1065, in load\n",
      "    with _open_file_like(f, 'rb') as opened_file:\n",
      "  File \"/home/jorge/miniconda3/envs/thesis4/lib/python3.9/site-packages/torch/serialization.py\", line 468, in _open_file_like\n",
      "    return _open_file(name_or_buffer, mode)\n",
      "  File \"/home/jorge/miniconda3/envs/thesis4/lib/python3.9/site-packages/torch/serialization.py\", line 449, in __init__\n",
      "    super().__init__(open(name, mode))\n",
      "FileNotFoundError: [Errno 2] No such file or directory: '/home/jorge/thesis/artifacts/human_mvlatest_Stormtrooper:v5/verts_uvs.pt'\n"
     ]
    },
    {
     "data": {
      "application/vnd.jupyter.widget-view+json": {
       "model_id": "9d38866224094b88a934b7790b539cdf",
       "version_major": 2,
       "version_minor": 0
      },
      "text/plain": [
       "VBox(children=(Label(value='0.010 MB of 0.010 MB uploaded\\r'), FloatProgress(value=1.0, max=1.0)))"
      ]
     },
     "metadata": {},
     "output_type": "display_data"
    },
    {
     "data": {
      "text/html": [
       " View run <strong style=\"color:#cdcd00\">GR</strong> at: <a href='https://wandb.ai/romeu/diffusion-3D-features/runs/ncmfglq8' target=\"_blank\">https://wandb.ai/romeu/diffusion-3D-features/runs/ncmfglq8</a><br/> View project at: <a href='https://wandb.ai/romeu/diffusion-3D-features' target=\"_blank\">https://wandb.ai/romeu/diffusion-3D-features</a><br/>Synced 5 W&B file(s), 0 media file(s), 0 artifact file(s) and 0 other file(s)"
      ],
      "text/plain": [
       "<IPython.core.display.HTML object>"
      ]
     },
     "metadata": {},
     "output_type": "display_data"
    },
    {
     "data": {
      "text/html": [
       "Find logs at: <code>./wandb/run-20250508_124101-ncmfglq8/logs</code>"
      ],
      "text/plain": [
       "<IPython.core.display.HTML object>"
      ]
     },
     "metadata": {},
     "output_type": "display_data"
    },
    {
     "name": "stderr",
     "output_type": "stream",
     "text": [
      "Process Process-41:\n",
      "Traceback (most recent call last):\n",
      "  File \"/home/jorge/miniconda3/envs/thesis4/lib/python3.9/multiprocessing/process.py\", line 315, in _bootstrap\n",
      "    self.run()\n",
      "  File \"/home/jorge/miniconda3/envs/thesis4/lib/python3.9/multiprocessing/process.py\", line 108, in run\n",
      "    self._target(*self._args, **self._kwargs)\n",
      "  File \"/home/jorge/thesis/wandb_util/wandb_util.py\", line 390, in wrapper\n",
      "    result = func(cfg, run_config, *args, **kwargs)\n",
      "  File \"/home/jorge/thesis/scripts/wandb_runs/run_generative_rendering.py\", line 61, in run_generative_rendering\n",
      "    texture = texture.read_anim_seq()\n",
      "  File \"/home/jorge/thesis/text3d2video/artifacts/anim_artifact.py\", line 102, in read_anim_seq\n",
      "    verts_uvs, faces_uvs = self.uv_data()\n",
      "  File \"/home/jorge/thesis/text3d2video/artifacts/anim_artifact.py\", line 86, in uv_data\n",
      "    verts_uvs = torch.load(self._verts_uvs_path(), weights_only=False)\n",
      "  File \"/home/jorge/miniconda3/envs/thesis4/lib/python3.9/site-packages/torch/serialization.py\", line 1065, in load\n",
      "    with _open_file_like(f, 'rb') as opened_file:\n",
      "  File \"/home/jorge/miniconda3/envs/thesis4/lib/python3.9/site-packages/torch/serialization.py\", line 468, in _open_file_like\n",
      "    return _open_file(name_or_buffer, mode)\n",
      "  File \"/home/jorge/miniconda3/envs/thesis4/lib/python3.9/site-packages/torch/serialization.py\", line 449, in __init__\n",
      "    super().__init__(open(name, mode))\n",
      "FileNotFoundError: [Errno 2] No such file or directory: '/home/jorge/thesis/artifacts/human_mvlatest_Stormtrooper:v5/verts_uvs.pt'\n",
      "\u001b[34m\u001b[1mwandb\u001b[0m: Using wandb-core as the SDK backend. Please refer to https://wandb.me/wandb-core for more information.\n",
      "\u001b[34m\u001b[1mwandb\u001b[0m: Currently logged in as: \u001b[33mromeu\u001b[0m. Use \u001b[1m`wandb login --relogin`\u001b[0m to force relogin\n"
     ]
    },
    {
     "data": {
      "text/html": [
       "Tracking run with wandb version 0.18.3"
      ],
      "text/plain": [
       "<IPython.core.display.HTML object>"
      ]
     },
     "metadata": {},
     "output_type": "display_data"
    },
    {
     "data": {
      "text/html": [
       "Run data is saved locally in <code>/home/jorge/thesis/wandb/run-20250508_124108-fqlaj527</code>"
      ],
      "text/plain": [
       "<IPython.core.display.HTML object>"
      ]
     },
     "metadata": {},
     "output_type": "display_data"
    },
    {
     "data": {
      "text/html": [
       "Syncing run <strong><a href='https://wandb.ai/romeu/diffusion-3D-features/runs/fqlaj527' target=\"_blank\">GR</a></strong> to <a href='https://wandb.ai/romeu/diffusion-3D-features' target=\"_blank\">Weights & Biases</a> (<a href='https://wandb.me/run' target=\"_blank\">docs</a>)<br/>"
      ],
      "text/plain": [
       "<IPython.core.display.HTML object>"
      ]
     },
     "metadata": {},
     "output_type": "display_data"
    },
    {
     "data": {
      "text/html": [
       " View project at <a href='https://wandb.ai/romeu/diffusion-3D-features' target=\"_blank\">https://wandb.ai/romeu/diffusion-3D-features</a>"
      ],
      "text/plain": [
       "<IPython.core.display.HTML object>"
      ]
     },
     "metadata": {},
     "output_type": "display_data"
    },
    {
     "data": {
      "text/html": [
       " View run at <a href='https://wandb.ai/romeu/diffusion-3D-features/runs/fqlaj527' target=\"_blank\">https://wandb.ai/romeu/diffusion-3D-features/runs/fqlaj527</a>"
      ],
      "text/plain": [
       "<IPython.core.display.HTML object>"
      ]
     },
     "metadata": {},
     "output_type": "display_data"
    },
    {
     "name": "stderr",
     "output_type": "stream",
     "text": [
      "\u001b[34m\u001b[1mwandb\u001b[0m:   4 of 4 files downloaded.  \n",
      "\u001b[34m\u001b[1mwandb\u001b[0m:   1 of 1 files downloaded.  \n",
      "Traceback (most recent call last):\n",
      "  File \"/home/jorge/thesis/wandb_util/wandb_util.py\", line 390, in wrapper\n",
      "    result = func(cfg, run_config, *args, **kwargs)\n",
      "  File \"/home/jorge/thesis/scripts/wandb_runs/run_generative_rendering.py\", line 61, in run_generative_rendering\n",
      "    texture = texture.read_anim_seq()\n",
      "  File \"/home/jorge/thesis/text3d2video/artifacts/anim_artifact.py\", line 102, in read_anim_seq\n",
      "    verts_uvs, faces_uvs = self.uv_data()\n",
      "  File \"/home/jorge/thesis/text3d2video/artifacts/anim_artifact.py\", line 86, in uv_data\n",
      "    verts_uvs = torch.load(self._verts_uvs_path(), weights_only=False)\n",
      "  File \"/home/jorge/miniconda3/envs/thesis4/lib/python3.9/site-packages/torch/serialization.py\", line 1065, in load\n",
      "    with _open_file_like(f, 'rb') as opened_file:\n",
      "  File \"/home/jorge/miniconda3/envs/thesis4/lib/python3.9/site-packages/torch/serialization.py\", line 468, in _open_file_like\n",
      "    return _open_file(name_or_buffer, mode)\n",
      "  File \"/home/jorge/miniconda3/envs/thesis4/lib/python3.9/site-packages/torch/serialization.py\", line 449, in __init__\n",
      "    super().__init__(open(name, mode))\n",
      "FileNotFoundError: [Errno 2] No such file or directory: '/home/jorge/thesis/artifacts/human_mvlatest_Stormtrooper:v5/verts_uvs.pt'\n"
     ]
    },
    {
     "data": {
      "application/vnd.jupyter.widget-view+json": {
       "model_id": "7338a82c41524ca3881d156d115cc273",
       "version_major": 2,
       "version_minor": 0
      },
      "text/plain": [
       "VBox(children=(Label(value='0.010 MB of 0.010 MB uploaded\\r'), FloatProgress(value=1.0, max=1.0)))"
      ]
     },
     "metadata": {},
     "output_type": "display_data"
    },
    {
     "data": {
      "text/html": [
       " View run <strong style=\"color:#cdcd00\">GR</strong> at: <a href='https://wandb.ai/romeu/diffusion-3D-features/runs/fqlaj527' target=\"_blank\">https://wandb.ai/romeu/diffusion-3D-features/runs/fqlaj527</a><br/> View project at: <a href='https://wandb.ai/romeu/diffusion-3D-features' target=\"_blank\">https://wandb.ai/romeu/diffusion-3D-features</a><br/>Synced 5 W&B file(s), 0 media file(s), 0 artifact file(s) and 0 other file(s)"
      ],
      "text/plain": [
       "<IPython.core.display.HTML object>"
      ]
     },
     "metadata": {},
     "output_type": "display_data"
    },
    {
     "data": {
      "text/html": [
       "Find logs at: <code>./wandb/run-20250508_124108-fqlaj527/logs</code>"
      ],
      "text/plain": [
       "<IPython.core.display.HTML object>"
      ]
     },
     "metadata": {},
     "output_type": "display_data"
    },
    {
     "name": "stderr",
     "output_type": "stream",
     "text": [
      "Process Process-42:\n",
      "Traceback (most recent call last):\n",
      "  File \"/home/jorge/miniconda3/envs/thesis4/lib/python3.9/multiprocessing/process.py\", line 315, in _bootstrap\n",
      "    self.run()\n",
      "  File \"/home/jorge/miniconda3/envs/thesis4/lib/python3.9/multiprocessing/process.py\", line 108, in run\n",
      "    self._target(*self._args, **self._kwargs)\n",
      "  File \"/home/jorge/thesis/wandb_util/wandb_util.py\", line 390, in wrapper\n",
      "    result = func(cfg, run_config, *args, **kwargs)\n",
      "  File \"/home/jorge/thesis/scripts/wandb_runs/run_generative_rendering.py\", line 61, in run_generative_rendering\n",
      "    texture = texture.read_anim_seq()\n",
      "  File \"/home/jorge/thesis/text3d2video/artifacts/anim_artifact.py\", line 102, in read_anim_seq\n",
      "    verts_uvs, faces_uvs = self.uv_data()\n",
      "  File \"/home/jorge/thesis/text3d2video/artifacts/anim_artifact.py\", line 86, in uv_data\n",
      "    verts_uvs = torch.load(self._verts_uvs_path(), weights_only=False)\n",
      "  File \"/home/jorge/miniconda3/envs/thesis4/lib/python3.9/site-packages/torch/serialization.py\", line 1065, in load\n",
      "    with _open_file_like(f, 'rb') as opened_file:\n",
      "  File \"/home/jorge/miniconda3/envs/thesis4/lib/python3.9/site-packages/torch/serialization.py\", line 468, in _open_file_like\n",
      "    return _open_file(name_or_buffer, mode)\n",
      "  File \"/home/jorge/miniconda3/envs/thesis4/lib/python3.9/site-packages/torch/serialization.py\", line 449, in __init__\n",
      "    super().__init__(open(name, mode))\n",
      "FileNotFoundError: [Errno 2] No such file or directory: '/home/jorge/thesis/artifacts/human_mvlatest_Stormtrooper:v5/verts_uvs.pt'\n",
      "\u001b[34m\u001b[1mwandb\u001b[0m: Using wandb-core as the SDK backend. Please refer to https://wandb.me/wandb-core for more information.\n",
      "\u001b[34m\u001b[1mwandb\u001b[0m: Currently logged in as: \u001b[33mromeu\u001b[0m. Use \u001b[1m`wandb login --relogin`\u001b[0m to force relogin\n"
     ]
    },
    {
     "data": {
      "text/html": [
       "Tracking run with wandb version 0.18.3"
      ],
      "text/plain": [
       "<IPython.core.display.HTML object>"
      ]
     },
     "metadata": {},
     "output_type": "display_data"
    },
    {
     "data": {
      "text/html": [
       "Run data is saved locally in <code>/home/jorge/thesis/wandb/run-20250508_124114-8rnlrpms</code>"
      ],
      "text/plain": [
       "<IPython.core.display.HTML object>"
      ]
     },
     "metadata": {},
     "output_type": "display_data"
    },
    {
     "data": {
      "text/html": [
       "Syncing run <strong><a href='https://wandb.ai/romeu/diffusion-3D-features/runs/8rnlrpms' target=\"_blank\">GR</a></strong> to <a href='https://wandb.ai/romeu/diffusion-3D-features' target=\"_blank\">Weights & Biases</a> (<a href='https://wandb.me/run' target=\"_blank\">docs</a>)<br/>"
      ],
      "text/plain": [
       "<IPython.core.display.HTML object>"
      ]
     },
     "metadata": {},
     "output_type": "display_data"
    },
    {
     "data": {
      "text/html": [
       " View project at <a href='https://wandb.ai/romeu/diffusion-3D-features' target=\"_blank\">https://wandb.ai/romeu/diffusion-3D-features</a>"
      ],
      "text/plain": [
       "<IPython.core.display.HTML object>"
      ]
     },
     "metadata": {},
     "output_type": "display_data"
    },
    {
     "data": {
      "text/html": [
       " View run at <a href='https://wandb.ai/romeu/diffusion-3D-features/runs/8rnlrpms' target=\"_blank\">https://wandb.ai/romeu/diffusion-3D-features/runs/8rnlrpms</a>"
      ],
      "text/plain": [
       "<IPython.core.display.HTML object>"
      ]
     },
     "metadata": {},
     "output_type": "display_data"
    },
    {
     "name": "stderr",
     "output_type": "stream",
     "text": [
      "\u001b[34m\u001b[1mwandb\u001b[0m:   4 of 4 files downloaded.  \n",
      "\u001b[34m\u001b[1mwandb\u001b[0m:   1 of 1 files downloaded.  \n",
      "\u001b[34m\u001b[1mwandb\u001b[0m:   1 of 1 files downloaded.  \n",
      "Traceback (most recent call last):\n",
      "  File \"/home/jorge/thesis/wandb_util/wandb_util.py\", line 390, in wrapper\n",
      "    result = func(cfg, run_config, *args, **kwargs)\n",
      "  File \"/home/jorge/thesis/scripts/wandb_runs/run_generative_rendering.py\", line 61, in run_generative_rendering\n",
      "    texture = texture.read_anim_seq()\n",
      "  File \"/home/jorge/thesis/text3d2video/artifacts/anim_artifact.py\", line 102, in read_anim_seq\n",
      "    verts_uvs, faces_uvs = self.uv_data()\n",
      "  File \"/home/jorge/thesis/text3d2video/artifacts/anim_artifact.py\", line 86, in uv_data\n",
      "    verts_uvs = torch.load(self._verts_uvs_path(), weights_only=False)\n",
      "  File \"/home/jorge/miniconda3/envs/thesis4/lib/python3.9/site-packages/torch/serialization.py\", line 1065, in load\n",
      "    with _open_file_like(f, 'rb') as opened_file:\n",
      "  File \"/home/jorge/miniconda3/envs/thesis4/lib/python3.9/site-packages/torch/serialization.py\", line 468, in _open_file_like\n",
      "    return _open_file(name_or_buffer, mode)\n",
      "  File \"/home/jorge/miniconda3/envs/thesis4/lib/python3.9/site-packages/torch/serialization.py\", line 449, in __init__\n",
      "    super().__init__(open(name, mode))\n",
      "FileNotFoundError: [Errno 2] No such file or directory: '/home/jorge/thesis/artifacts/cat_statue_mvlatest_SilverCatStatue:v2/verts_uvs.pt'\n"
     ]
    },
    {
     "data": {
      "application/vnd.jupyter.widget-view+json": {
       "model_id": "35479159cf30427d8a4a103ffb412dd4",
       "version_major": 2,
       "version_minor": 0
      },
      "text/plain": [
       "VBox(children=(Label(value='0.010 MB of 0.010 MB uploaded\\r'), FloatProgress(value=1.0, max=1.0)))"
      ]
     },
     "metadata": {},
     "output_type": "display_data"
    },
    {
     "data": {
      "text/html": [
       " View run <strong style=\"color:#cdcd00\">GR</strong> at: <a href='https://wandb.ai/romeu/diffusion-3D-features/runs/8rnlrpms' target=\"_blank\">https://wandb.ai/romeu/diffusion-3D-features/runs/8rnlrpms</a><br/> View project at: <a href='https://wandb.ai/romeu/diffusion-3D-features' target=\"_blank\">https://wandb.ai/romeu/diffusion-3D-features</a><br/>Synced 5 W&B file(s), 0 media file(s), 0 artifact file(s) and 0 other file(s)"
      ],
      "text/plain": [
       "<IPython.core.display.HTML object>"
      ]
     },
     "metadata": {},
     "output_type": "display_data"
    },
    {
     "data": {
      "text/html": [
       "Find logs at: <code>./wandb/run-20250508_124114-8rnlrpms/logs</code>"
      ],
      "text/plain": [
       "<IPython.core.display.HTML object>"
      ]
     },
     "metadata": {},
     "output_type": "display_data"
    },
    {
     "name": "stderr",
     "output_type": "stream",
     "text": [
      "Process Process-43:\n",
      "Traceback (most recent call last):\n",
      "  File \"/home/jorge/miniconda3/envs/thesis4/lib/python3.9/multiprocessing/process.py\", line 315, in _bootstrap\n",
      "    self.run()\n",
      "  File \"/home/jorge/miniconda3/envs/thesis4/lib/python3.9/multiprocessing/process.py\", line 108, in run\n",
      "    self._target(*self._args, **self._kwargs)\n",
      "  File \"/home/jorge/thesis/wandb_util/wandb_util.py\", line 390, in wrapper\n",
      "    result = func(cfg, run_config, *args, **kwargs)\n",
      "  File \"/home/jorge/thesis/scripts/wandb_runs/run_generative_rendering.py\", line 61, in run_generative_rendering\n",
      "    texture = texture.read_anim_seq()\n",
      "  File \"/home/jorge/thesis/text3d2video/artifacts/anim_artifact.py\", line 102, in read_anim_seq\n",
      "    verts_uvs, faces_uvs = self.uv_data()\n",
      "  File \"/home/jorge/thesis/text3d2video/artifacts/anim_artifact.py\", line 86, in uv_data\n",
      "    verts_uvs = torch.load(self._verts_uvs_path(), weights_only=False)\n",
      "  File \"/home/jorge/miniconda3/envs/thesis4/lib/python3.9/site-packages/torch/serialization.py\", line 1065, in load\n",
      "    with _open_file_like(f, 'rb') as opened_file:\n",
      "  File \"/home/jorge/miniconda3/envs/thesis4/lib/python3.9/site-packages/torch/serialization.py\", line 468, in _open_file_like\n",
      "    return _open_file(name_or_buffer, mode)\n",
      "  File \"/home/jorge/miniconda3/envs/thesis4/lib/python3.9/site-packages/torch/serialization.py\", line 449, in __init__\n",
      "    super().__init__(open(name, mode))\n",
      "FileNotFoundError: [Errno 2] No such file or directory: '/home/jorge/thesis/artifacts/cat_statue_mvlatest_SilverCatStatue:v2/verts_uvs.pt'\n",
      "\u001b[34m\u001b[1mwandb\u001b[0m: Using wandb-core as the SDK backend. Please refer to https://wandb.me/wandb-core for more information.\n",
      "\u001b[34m\u001b[1mwandb\u001b[0m: Currently logged in as: \u001b[33mromeu\u001b[0m. Use \u001b[1m`wandb login --relogin`\u001b[0m to force relogin\n"
     ]
    },
    {
     "data": {
      "text/html": [
       "Tracking run with wandb version 0.18.3"
      ],
      "text/plain": [
       "<IPython.core.display.HTML object>"
      ]
     },
     "metadata": {},
     "output_type": "display_data"
    },
    {
     "data": {
      "text/html": [
       "Run data is saved locally in <code>/home/jorge/thesis/wandb/run-20250508_124121-cwo2lhqq</code>"
      ],
      "text/plain": [
       "<IPython.core.display.HTML object>"
      ]
     },
     "metadata": {},
     "output_type": "display_data"
    },
    {
     "data": {
      "text/html": [
       "Syncing run <strong><a href='https://wandb.ai/romeu/diffusion-3D-features/runs/cwo2lhqq' target=\"_blank\">GR</a></strong> to <a href='https://wandb.ai/romeu/diffusion-3D-features' target=\"_blank\">Weights & Biases</a> (<a href='https://wandb.me/run' target=\"_blank\">docs</a>)<br/>"
      ],
      "text/plain": [
       "<IPython.core.display.HTML object>"
      ]
     },
     "metadata": {},
     "output_type": "display_data"
    },
    {
     "data": {
      "text/html": [
       " View project at <a href='https://wandb.ai/romeu/diffusion-3D-features' target=\"_blank\">https://wandb.ai/romeu/diffusion-3D-features</a>"
      ],
      "text/plain": [
       "<IPython.core.display.HTML object>"
      ]
     },
     "metadata": {},
     "output_type": "display_data"
    },
    {
     "data": {
      "text/html": [
       " View run at <a href='https://wandb.ai/romeu/diffusion-3D-features/runs/cwo2lhqq' target=\"_blank\">https://wandb.ai/romeu/diffusion-3D-features/runs/cwo2lhqq</a>"
      ],
      "text/plain": [
       "<IPython.core.display.HTML object>"
      ]
     },
     "metadata": {},
     "output_type": "display_data"
    },
    {
     "name": "stderr",
     "output_type": "stream",
     "text": [
      "\u001b[34m\u001b[1mwandb\u001b[0m:   4 of 4 files downloaded.  \n",
      "\u001b[34m\u001b[1mwandb\u001b[0m:   1 of 1 files downloaded.  \n",
      "\u001b[34m\u001b[1mwandb\u001b[0m:   1 of 1 files downloaded.  \n",
      "Traceback (most recent call last):\n",
      "  File \"/home/jorge/thesis/wandb_util/wandb_util.py\", line 390, in wrapper\n",
      "    result = func(cfg, run_config, *args, **kwargs)\n",
      "  File \"/home/jorge/thesis/scripts/wandb_runs/run_generative_rendering.py\", line 61, in run_generative_rendering\n",
      "    texture = texture.read_anim_seq()\n",
      "  File \"/home/jorge/thesis/text3d2video/artifacts/anim_artifact.py\", line 102, in read_anim_seq\n",
      "    verts_uvs, faces_uvs = self.uv_data()\n",
      "  File \"/home/jorge/thesis/text3d2video/artifacts/anim_artifact.py\", line 86, in uv_data\n",
      "    verts_uvs = torch.load(self._verts_uvs_path(), weights_only=False)\n",
      "  File \"/home/jorge/miniconda3/envs/thesis4/lib/python3.9/site-packages/torch/serialization.py\", line 1065, in load\n",
      "    with _open_file_like(f, 'rb') as opened_file:\n",
      "  File \"/home/jorge/miniconda3/envs/thesis4/lib/python3.9/site-packages/torch/serialization.py\", line 468, in _open_file_like\n",
      "    return _open_file(name_or_buffer, mode)\n",
      "  File \"/home/jorge/miniconda3/envs/thesis4/lib/python3.9/site-packages/torch/serialization.py\", line 449, in __init__\n",
      "    super().__init__(open(name, mode))\n",
      "FileNotFoundError: [Errno 2] No such file or directory: '/home/jorge/thesis/artifacts/human_mvlatest_Deadpool:v5/verts_uvs.pt'\n"
     ]
    },
    {
     "data": {
      "application/vnd.jupyter.widget-view+json": {
       "model_id": "6e421e3df0ce492899151ec71e4a3b7e",
       "version_major": 2,
       "version_minor": 0
      },
      "text/plain": [
       "VBox(children=(Label(value='0.010 MB of 0.010 MB uploaded\\r'), FloatProgress(value=1.0, max=1.0)))"
      ]
     },
     "metadata": {},
     "output_type": "display_data"
    },
    {
     "data": {
      "text/html": [
       " View run <strong style=\"color:#cdcd00\">GR</strong> at: <a href='https://wandb.ai/romeu/diffusion-3D-features/runs/cwo2lhqq' target=\"_blank\">https://wandb.ai/romeu/diffusion-3D-features/runs/cwo2lhqq</a><br/> View project at: <a href='https://wandb.ai/romeu/diffusion-3D-features' target=\"_blank\">https://wandb.ai/romeu/diffusion-3D-features</a><br/>Synced 5 W&B file(s), 0 media file(s), 0 artifact file(s) and 0 other file(s)"
      ],
      "text/plain": [
       "<IPython.core.display.HTML object>"
      ]
     },
     "metadata": {},
     "output_type": "display_data"
    },
    {
     "data": {
      "text/html": [
       "Find logs at: <code>./wandb/run-20250508_124121-cwo2lhqq/logs</code>"
      ],
      "text/plain": [
       "<IPython.core.display.HTML object>"
      ]
     },
     "metadata": {},
     "output_type": "display_data"
    },
    {
     "name": "stderr",
     "output_type": "stream",
     "text": [
      "Process Process-44:\n",
      "Traceback (most recent call last):\n",
      "  File \"/home/jorge/miniconda3/envs/thesis4/lib/python3.9/multiprocessing/process.py\", line 315, in _bootstrap\n",
      "    self.run()\n",
      "  File \"/home/jorge/miniconda3/envs/thesis4/lib/python3.9/multiprocessing/process.py\", line 108, in run\n",
      "    self._target(*self._args, **self._kwargs)\n",
      "  File \"/home/jorge/thesis/wandb_util/wandb_util.py\", line 390, in wrapper\n",
      "    result = func(cfg, run_config, *args, **kwargs)\n",
      "  File \"/home/jorge/thesis/scripts/wandb_runs/run_generative_rendering.py\", line 61, in run_generative_rendering\n",
      "    texture = texture.read_anim_seq()\n",
      "  File \"/home/jorge/thesis/text3d2video/artifacts/anim_artifact.py\", line 102, in read_anim_seq\n",
      "    verts_uvs, faces_uvs = self.uv_data()\n",
      "  File \"/home/jorge/thesis/text3d2video/artifacts/anim_artifact.py\", line 86, in uv_data\n",
      "    verts_uvs = torch.load(self._verts_uvs_path(), weights_only=False)\n",
      "  File \"/home/jorge/miniconda3/envs/thesis4/lib/python3.9/site-packages/torch/serialization.py\", line 1065, in load\n",
      "    with _open_file_like(f, 'rb') as opened_file:\n",
      "  File \"/home/jorge/miniconda3/envs/thesis4/lib/python3.9/site-packages/torch/serialization.py\", line 468, in _open_file_like\n",
      "    return _open_file(name_or_buffer, mode)\n",
      "  File \"/home/jorge/miniconda3/envs/thesis4/lib/python3.9/site-packages/torch/serialization.py\", line 449, in __init__\n",
      "    super().__init__(open(name, mode))\n",
      "FileNotFoundError: [Errno 2] No such file or directory: '/home/jorge/thesis/artifacts/human_mvlatest_Deadpool:v5/verts_uvs.pt'\n",
      "\u001b[34m\u001b[1mwandb\u001b[0m: Using wandb-core as the SDK backend. Please refer to https://wandb.me/wandb-core for more information.\n",
      "\u001b[34m\u001b[1mwandb\u001b[0m: Currently logged in as: \u001b[33mromeu\u001b[0m. Use \u001b[1m`wandb login --relogin`\u001b[0m to force relogin\n"
     ]
    },
    {
     "data": {
      "text/html": [
       "Tracking run with wandb version 0.18.3"
      ],
      "text/plain": [
       "<IPython.core.display.HTML object>"
      ]
     },
     "metadata": {},
     "output_type": "display_data"
    },
    {
     "data": {
      "text/html": [
       "Run data is saved locally in <code>/home/jorge/thesis/wandb/run-20250508_124128-8tsog3b5</code>"
      ],
      "text/plain": [
       "<IPython.core.display.HTML object>"
      ]
     },
     "metadata": {},
     "output_type": "display_data"
    },
    {
     "data": {
      "text/html": [
       "Syncing run <strong><a href='https://wandb.ai/romeu/diffusion-3D-features/runs/8tsog3b5' target=\"_blank\">GR</a></strong> to <a href='https://wandb.ai/romeu/diffusion-3D-features' target=\"_blank\">Weights & Biases</a> (<a href='https://wandb.me/run' target=\"_blank\">docs</a>)<br/>"
      ],
      "text/plain": [
       "<IPython.core.display.HTML object>"
      ]
     },
     "metadata": {},
     "output_type": "display_data"
    },
    {
     "data": {
      "text/html": [
       " View project at <a href='https://wandb.ai/romeu/diffusion-3D-features' target=\"_blank\">https://wandb.ai/romeu/diffusion-3D-features</a>"
      ],
      "text/plain": [
       "<IPython.core.display.HTML object>"
      ]
     },
     "metadata": {},
     "output_type": "display_data"
    },
    {
     "data": {
      "text/html": [
       " View run at <a href='https://wandb.ai/romeu/diffusion-3D-features/runs/8tsog3b5' target=\"_blank\">https://wandb.ai/romeu/diffusion-3D-features/runs/8tsog3b5</a>"
      ],
      "text/plain": [
       "<IPython.core.display.HTML object>"
      ]
     },
     "metadata": {},
     "output_type": "display_data"
    },
    {
     "name": "stderr",
     "output_type": "stream",
     "text": [
      "\u001b[34m\u001b[1mwandb\u001b[0m:   4 of 4 files downloaded.  \n",
      "\u001b[34m\u001b[1mwandb\u001b[0m:   1 of 1 files downloaded.  \n",
      "\u001b[34m\u001b[1mwandb\u001b[0m:   1 of 1 files downloaded.  \n",
      "Traceback (most recent call last):\n",
      "  File \"/home/jorge/thesis/wandb_util/wandb_util.py\", line 390, in wrapper\n",
      "    result = func(cfg, run_config, *args, **kwargs)\n",
      "  File \"/home/jorge/thesis/scripts/wandb_runs/run_generative_rendering.py\", line 61, in run_generative_rendering\n",
      "    texture = texture.read_anim_seq()\n",
      "  File \"/home/jorge/thesis/text3d2video/artifacts/anim_artifact.py\", line 102, in read_anim_seq\n",
      "    verts_uvs, faces_uvs = self.uv_data()\n",
      "  File \"/home/jorge/thesis/text3d2video/artifacts/anim_artifact.py\", line 86, in uv_data\n",
      "    verts_uvs = torch.load(self._verts_uvs_path(), weights_only=False)\n",
      "  File \"/home/jorge/miniconda3/envs/thesis4/lib/python3.9/site-packages/torch/serialization.py\", line 1065, in load\n",
      "    with _open_file_like(f, 'rb') as opened_file:\n",
      "  File \"/home/jorge/miniconda3/envs/thesis4/lib/python3.9/site-packages/torch/serialization.py\", line 468, in _open_file_like\n",
      "    return _open_file(name_or_buffer, mode)\n",
      "  File \"/home/jorge/miniconda3/envs/thesis4/lib/python3.9/site-packages/torch/serialization.py\", line 449, in __init__\n",
      "    super().__init__(open(name, mode))\n",
      "FileNotFoundError: [Errno 2] No such file or directory: '/home/jorge/thesis/artifacts/cat_statue_mvlatest_DeadpoolCatStatue:v3/verts_uvs.pt'\n"
     ]
    },
    {
     "data": {
      "application/vnd.jupyter.widget-view+json": {
       "model_id": "5745434912054040b68c525f0e8c8761",
       "version_major": 2,
       "version_minor": 0
      },
      "text/plain": [
       "VBox(children=(Label(value='0.010 MB of 0.010 MB uploaded\\r'), FloatProgress(value=1.0, max=1.0)))"
      ]
     },
     "metadata": {},
     "output_type": "display_data"
    },
    {
     "data": {
      "text/html": [
       " View run <strong style=\"color:#cdcd00\">GR</strong> at: <a href='https://wandb.ai/romeu/diffusion-3D-features/runs/8tsog3b5' target=\"_blank\">https://wandb.ai/romeu/diffusion-3D-features/runs/8tsog3b5</a><br/> View project at: <a href='https://wandb.ai/romeu/diffusion-3D-features' target=\"_blank\">https://wandb.ai/romeu/diffusion-3D-features</a><br/>Synced 5 W&B file(s), 0 media file(s), 0 artifact file(s) and 0 other file(s)"
      ],
      "text/plain": [
       "<IPython.core.display.HTML object>"
      ]
     },
     "metadata": {},
     "output_type": "display_data"
    },
    {
     "data": {
      "text/html": [
       "Find logs at: <code>./wandb/run-20250508_124128-8tsog3b5/logs</code>"
      ],
      "text/plain": [
       "<IPython.core.display.HTML object>"
      ]
     },
     "metadata": {},
     "output_type": "display_data"
    },
    {
     "name": "stderr",
     "output_type": "stream",
     "text": [
      "Process Process-45:\n",
      "Traceback (most recent call last):\n",
      "  File \"/home/jorge/miniconda3/envs/thesis4/lib/python3.9/multiprocessing/process.py\", line 315, in _bootstrap\n",
      "    self.run()\n",
      "  File \"/home/jorge/miniconda3/envs/thesis4/lib/python3.9/multiprocessing/process.py\", line 108, in run\n",
      "    self._target(*self._args, **self._kwargs)\n",
      "  File \"/home/jorge/thesis/wandb_util/wandb_util.py\", line 390, in wrapper\n",
      "    result = func(cfg, run_config, *args, **kwargs)\n",
      "  File \"/home/jorge/thesis/scripts/wandb_runs/run_generative_rendering.py\", line 61, in run_generative_rendering\n",
      "    texture = texture.read_anim_seq()\n",
      "  File \"/home/jorge/thesis/text3d2video/artifacts/anim_artifact.py\", line 102, in read_anim_seq\n",
      "    verts_uvs, faces_uvs = self.uv_data()\n",
      "  File \"/home/jorge/thesis/text3d2video/artifacts/anim_artifact.py\", line 86, in uv_data\n",
      "    verts_uvs = torch.load(self._verts_uvs_path(), weights_only=False)\n",
      "  File \"/home/jorge/miniconda3/envs/thesis4/lib/python3.9/site-packages/torch/serialization.py\", line 1065, in load\n",
      "    with _open_file_like(f, 'rb') as opened_file:\n",
      "  File \"/home/jorge/miniconda3/envs/thesis4/lib/python3.9/site-packages/torch/serialization.py\", line 468, in _open_file_like\n",
      "    return _open_file(name_or_buffer, mode)\n",
      "  File \"/home/jorge/miniconda3/envs/thesis4/lib/python3.9/site-packages/torch/serialization.py\", line 449, in __init__\n",
      "    super().__init__(open(name, mode))\n",
      "FileNotFoundError: [Errno 2] No such file or directory: '/home/jorge/thesis/artifacts/cat_statue_mvlatest_DeadpoolCatStatue:v3/verts_uvs.pt'\n"
     ]
    }
   ],
   "source": [
    "from scripts.wandb_experiments.benchmark import benchmark\n",
    "\n",
    "wbu.sync_experiment(benchmark, config, \"benchmark_small_new\")"
   ]
  },
  {
   "cell_type": "code",
   "execution_count": 14,
   "metadata": {},
   "outputs": [
    {
     "name": "stdout",
     "output_type": "stream",
     "text": [
      "https://wandb.ai/romeu/diffusion-3D-features/groups/benchmark_small/workspace\n"
     ]
    }
   ],
   "source": [
    "from scripts.wandb_experiments.benchmark import split_runs\n",
    "\n",
    "exp_name = \"benchmark_small\"\n",
    "\n",
    "runs = wbu.get_logged_runs(exp_name)\n",
    "print(wbu.get_exp_url(exp_name))\n",
    "texture_runs, video_gen_runs = split_runs(runs)"
   ]
  },
  {
   "cell_type": "code",
   "execution_count": 15,
   "metadata": {},
   "outputs": [
    {
     "data": {
      "text/plain": [
       "(9, 6)"
      ]
     },
     "execution_count": 15,
     "metadata": {},
     "output_type": "execute_result"
    }
   ],
   "source": [
    "from text3d2video.util import group_into_array\n",
    "\n",
    "\n",
    "def scene_key(run):\n",
    "    config = OmegaConf.create(run.config)\n",
    "    return f\"{config.animation_tag}-{config.prompt}\"\n",
    "\n",
    "\n",
    "def method_key(run):\n",
    "    return run.name.split(\"_\")[0]\n",
    "\n",
    "\n",
    "runs_grouped, labels = group_into_array(video_gen_runs, [method_key, scene_key])\n",
    "\n",
    "# methods = [\"ControlNet\", \"GR\"]\n",
    "# method_indices = [labels[0].index(m) for m in methods]\n",
    "\n",
    "runs_grouped.shape"
   ]
  },
  {
   "cell_type": "code",
   "execution_count": 16,
   "metadata": {},
   "outputs": [
    {
     "name": "stderr",
     "output_type": "stream",
     "text": [
      "  0%|          | 0/54 [00:00<?, ?it/s]"
     ]
    },
    {
     "name": "stderr",
     "output_type": "stream",
     "text": [
      " 22%|██▏       | 12/54 [01:00<04:02,  5.78s/it]\u001b[34m\u001b[1mwandb\u001b[0m: Using wandb-core as the SDK backend. Please refer to https://wandb.me/wandb-core for more information.\n",
      "\u001b[34m\u001b[1mwandb\u001b[0m:   10 of 10 files downloaded.  \n",
      "\u001b[34m\u001b[1mwandb\u001b[0m:   10 of 10 files downloaded.  4m\u001b[1mwandb\u001b[0m: \\ 1 of 10 files downloaded...\n",
      "\u001b[34m\u001b[1mwandb\u001b[0m:   20 of 20 files downloaded.  4m\u001b[1mwandb\u001b[0m: \\ 1 of 20 files downloaded...\n",
      "\u001b[34m\u001b[1mwandb\u001b[0m:   20 of 20 files downloaded.  4m\u001b[1mwandb\u001b[0m: \\ 1 of 20 files downloaded...\n",
      "\u001b[34m\u001b[1mwandb\u001b[0m:   20 of 20 files downloaded.  4m\u001b[1mwandb\u001b[0m: \\ 1 of 20 files downloaded...\n",
      "\u001b[34m\u001b[1mwandb\u001b[0m:   20 of 20 files downloaded.  4m\u001b[1mwandb\u001b[0m: \\ 1 of 20 files downloaded...\n",
      "\u001b[34m\u001b[1mwandb\u001b[0m:   10 of 10 files downloaded.  4m\u001b[1mwandb\u001b[0m: \\ 1 of 10 files downloaded...\n",
      "\u001b[34m\u001b[1mwandb\u001b[0m:   10 of 10 files downloaded.  4m\u001b[1mwandb\u001b[0m: \\ 1 of 10 files downloaded...\n",
      "\u001b[34m\u001b[1mwandb\u001b[0m:   20 of 20 files downloaded.  4m\u001b[1mwandb\u001b[0m: \\ 1 of 20 files downloaded...\n",
      "\u001b[34m\u001b[1mwandb\u001b[0m:   20 of 20 files downloaded.  4m\u001b[1mwandb\u001b[0m: \\ 1 of 20 files downloaded...\n",
      "\u001b[34m\u001b[1mwandb\u001b[0m:   20 of 20 files downloaded.  4m\u001b[1mwandb\u001b[0m: \\ 1 of 20 files downloaded...\n",
      "\u001b[34m\u001b[1mwandb\u001b[0m:   20 of 20 files downloaded.  4m\u001b[1mwandb\u001b[0m: \\ 1 of 20 files downloaded...\n",
      "100%|██████████| 54/54 [04:39<00:00,  5.17s/it]\n"
     ]
    }
   ],
   "source": [
    "from text3d2video.experiment_analysis import GrData\n",
    "from text3d2video.util import map_array\n",
    "\n",
    "\n",
    "run_data = map_array(runs_grouped, GrData.from_gr_run, pbar=True)"
   ]
  },
  {
   "cell_type": "code",
   "execution_count": 17,
   "metadata": {},
   "outputs": [
    {
     "name": "stderr",
     "output_type": "stream",
     "text": [
      "100%|██████████| 54/54 [00:15<00:00,  3.49it/s]\n",
      "100%|██████████| 54/54 [00:15<00:00,  3.43it/s]\n"
     ]
    },
    {
     "data": {
      "text/plain": [
       "array([[None, None, None, None, None, None],\n",
       "       [None, None, None, None, None, None],\n",
       "       [None, None, None, None, None, None],\n",
       "       [None, None, None, None, None, None],\n",
       "       [None, None, None, None, None, None],\n",
       "       [None, None, None, None, None, None],\n",
       "       [None, None, None, None, None, None],\n",
       "       [None, None, None, None, None, None],\n",
       "       [None, None, None, None, None, None]], dtype=object)"
      ]
     },
     "execution_count": 17,
     "metadata": {},
     "output_type": "execute_result"
    }
   ],
   "source": [
    "from scripts.wandb_experiments.benchmark import GrRunData\n",
    "from text3d2video.clip_metrics import CLIPMetrics\n",
    "from text3d2video.util import map_array\n",
    "from functools import partial\n",
    "\n",
    "clip = CLIPMetrics()\n",
    "\n",
    "map_array(run_data, partial(GrRunData.compute_clip_metrics, model=clip), pbar=True)\n",
    "map_array(run_data, GrRunData.compute_uv_mse, pbar=True)"
   ]
  },
  {
   "cell_type": "code",
   "execution_count": 18,
   "metadata": {},
   "outputs": [
    {
     "name": "stderr",
     "output_type": "stream",
     "text": [
      "  0%|          | 0/54 [00:00<?, ?it/s]"
     ]
    },
    {
     "name": "stderr",
     "output_type": "stream",
     "text": [
      "huggingface/tokenizers: The current process just got forked, after parallelism has already been used. Disabling parallelism to avoid deadlocks...\n",
      "To disable this warning, you can either:\n",
      "\t- Avoid using `tokenizers` before the fork if possible\n",
      "\t- Explicitly set the environment variable TOKENIZERS_PARALLELISM=(true | false)\n",
      "  2%|▏         | 1/54 [00:00<00:09,  5.34it/s]huggingface/tokenizers: The current process just got forked, after parallelism has already been used. Disabling parallelism to avoid deadlocks...\n",
      "To disable this warning, you can either:\n",
      "\t- Avoid using `tokenizers` before the fork if possible\n",
      "\t- Explicitly set the environment variable TOKENIZERS_PARALLELISM=(true | false)\n",
      "  4%|▎         | 2/54 [00:00<00:09,  5.28it/s]huggingface/tokenizers: The current process just got forked, after parallelism has already been used. Disabling parallelism to avoid deadlocks...\n",
      "To disable this warning, you can either:\n",
      "\t- Avoid using `tokenizers` before the fork if possible\n",
      "\t- Explicitly set the environment variable TOKENIZERS_PARALLELISM=(true | false)\n",
      "  6%|▌         | 3/54 [00:00<00:09,  5.24it/s]huggingface/tokenizers: The current process just got forked, after parallelism has already been used. Disabling parallelism to avoid deadlocks...\n",
      "To disable this warning, you can either:\n",
      "\t- Avoid using `tokenizers` before the fork if possible\n",
      "\t- Explicitly set the environment variable TOKENIZERS_PARALLELISM=(true | false)\n",
      "  7%|▋         | 4/54 [00:00<00:09,  5.21it/s]huggingface/tokenizers: The current process just got forked, after parallelism has already been used. Disabling parallelism to avoid deadlocks...\n",
      "To disable this warning, you can either:\n",
      "\t- Avoid using `tokenizers` before the fork if possible\n",
      "\t- Explicitly set the environment variable TOKENIZERS_PARALLELISM=(true | false)\n",
      "  9%|▉         | 5/54 [00:00<00:09,  5.20it/s]huggingface/tokenizers: The current process just got forked, after parallelism has already been used. Disabling parallelism to avoid deadlocks...\n",
      "To disable this warning, you can either:\n",
      "\t- Avoid using `tokenizers` before the fork if possible\n",
      "\t- Explicitly set the environment variable TOKENIZERS_PARALLELISM=(true | false)\n",
      " 11%|█         | 6/54 [00:01<00:09,  5.17it/s]huggingface/tokenizers: The current process just got forked, after parallelism has already been used. Disabling parallelism to avoid deadlocks...\n",
      "To disable this warning, you can either:\n",
      "\t- Avoid using `tokenizers` before the fork if possible\n",
      "\t- Explicitly set the environment variable TOKENIZERS_PARALLELISM=(true | false)\n",
      " 13%|█▎        | 7/54 [00:01<00:08,  5.26it/s]huggingface/tokenizers: The current process just got forked, after parallelism has already been used. Disabling parallelism to avoid deadlocks...\n",
      "To disable this warning, you can either:\n",
      "\t- Avoid using `tokenizers` before the fork if possible\n",
      "\t- Explicitly set the environment variable TOKENIZERS_PARALLELISM=(true | false)\n",
      " 15%|█▍        | 8/54 [00:01<00:08,  5.27it/s]huggingface/tokenizers: The current process just got forked, after parallelism has already been used. Disabling parallelism to avoid deadlocks...\n",
      "To disable this warning, you can either:\n",
      "\t- Avoid using `tokenizers` before the fork if possible\n",
      "\t- Explicitly set the environment variable TOKENIZERS_PARALLELISM=(true | false)\n",
      " 17%|█▋        | 9/54 [00:01<00:08,  5.15it/s]huggingface/tokenizers: The current process just got forked, after parallelism has already been used. Disabling parallelism to avoid deadlocks...\n",
      "To disable this warning, you can either:\n",
      "\t- Avoid using `tokenizers` before the fork if possible\n",
      "\t- Explicitly set the environment variable TOKENIZERS_PARALLELISM=(true | false)\n",
      " 19%|█▊        | 10/54 [00:01<00:08,  5.12it/s]huggingface/tokenizers: The current process just got forked, after parallelism has already been used. Disabling parallelism to avoid deadlocks...\n",
      "To disable this warning, you can either:\n",
      "\t- Avoid using `tokenizers` before the fork if possible\n",
      "\t- Explicitly set the environment variable TOKENIZERS_PARALLELISM=(true | false)\n",
      " 20%|██        | 11/54 [00:02<00:08,  5.10it/s]huggingface/tokenizers: The current process just got forked, after parallelism has already been used. Disabling parallelism to avoid deadlocks...\n",
      "To disable this warning, you can either:\n",
      "\t- Avoid using `tokenizers` before the fork if possible\n",
      "\t- Explicitly set the environment variable TOKENIZERS_PARALLELISM=(true | false)\n",
      " 22%|██▏       | 12/54 [00:02<00:08,  5.08it/s]huggingface/tokenizers: The current process just got forked, after parallelism has already been used. Disabling parallelism to avoid deadlocks...\n",
      "To disable this warning, you can either:\n",
      "\t- Avoid using `tokenizers` before the fork if possible\n",
      "\t- Explicitly set the environment variable TOKENIZERS_PARALLELISM=(true | false)\n",
      " 24%|██▍       | 13/54 [00:02<00:07,  5.17it/s]huggingface/tokenizers: The current process just got forked, after parallelism has already been used. Disabling parallelism to avoid deadlocks...\n",
      "To disable this warning, you can either:\n",
      "\t- Avoid using `tokenizers` before the fork if possible\n",
      "\t- Explicitly set the environment variable TOKENIZERS_PARALLELISM=(true | false)\n",
      " 26%|██▌       | 14/54 [00:02<00:07,  5.15it/s]huggingface/tokenizers: The current process just got forked, after parallelism has already been used. Disabling parallelism to avoid deadlocks...\n",
      "To disable this warning, you can either:\n",
      "\t- Avoid using `tokenizers` before the fork if possible\n",
      "\t- Explicitly set the environment variable TOKENIZERS_PARALLELISM=(true | false)\n",
      " 28%|██▊       | 15/54 [00:02<00:07,  5.08it/s]huggingface/tokenizers: The current process just got forked, after parallelism has already been used. Disabling parallelism to avoid deadlocks...\n",
      "To disable this warning, you can either:\n",
      "\t- Avoid using `tokenizers` before the fork if possible\n",
      "\t- Explicitly set the environment variable TOKENIZERS_PARALLELISM=(true | false)\n",
      " 30%|██▉       | 16/54 [00:03<00:07,  5.03it/s]huggingface/tokenizers: The current process just got forked, after parallelism has already been used. Disabling parallelism to avoid deadlocks...\n",
      "To disable this warning, you can either:\n",
      "\t- Avoid using `tokenizers` before the fork if possible\n",
      "\t- Explicitly set the environment variable TOKENIZERS_PARALLELISM=(true | false)\n",
      " 31%|███▏      | 17/54 [00:03<00:07,  5.02it/s]huggingface/tokenizers: The current process just got forked, after parallelism has already been used. Disabling parallelism to avoid deadlocks...\n",
      "To disable this warning, you can either:\n",
      "\t- Avoid using `tokenizers` before the fork if possible\n",
      "\t- Explicitly set the environment variable TOKENIZERS_PARALLELISM=(true | false)\n",
      " 33%|███▎      | 18/54 [00:03<00:07,  5.00it/s]huggingface/tokenizers: The current process just got forked, after parallelism has already been used. Disabling parallelism to avoid deadlocks...\n",
      "To disable this warning, you can either:\n",
      "\t- Avoid using `tokenizers` before the fork if possible\n",
      "\t- Explicitly set the environment variable TOKENIZERS_PARALLELISM=(true | false)\n",
      " 35%|███▌      | 19/54 [00:03<00:06,  5.07it/s]huggingface/tokenizers: The current process just got forked, after parallelism has already been used. Disabling parallelism to avoid deadlocks...\n",
      "To disable this warning, you can either:\n",
      "\t- Avoid using `tokenizers` before the fork if possible\n",
      "\t- Explicitly set the environment variable TOKENIZERS_PARALLELISM=(true | false)\n",
      " 37%|███▋      | 20/54 [00:03<00:06,  5.16it/s]huggingface/tokenizers: The current process just got forked, after parallelism has already been used. Disabling parallelism to avoid deadlocks...\n",
      "To disable this warning, you can either:\n",
      "\t- Avoid using `tokenizers` before the fork if possible\n",
      "\t- Explicitly set the environment variable TOKENIZERS_PARALLELISM=(true | false)\n",
      " 39%|███▉      | 21/54 [00:04<00:06,  4.99it/s]huggingface/tokenizers: The current process just got forked, after parallelism has already been used. Disabling parallelism to avoid deadlocks...\n",
      "To disable this warning, you can either:\n",
      "\t- Avoid using `tokenizers` before the fork if possible\n",
      "\t- Explicitly set the environment variable TOKENIZERS_PARALLELISM=(true | false)\n",
      " 41%|████      | 22/54 [00:04<00:06,  4.85it/s]huggingface/tokenizers: The current process just got forked, after parallelism has already been used. Disabling parallelism to avoid deadlocks...\n",
      "To disable this warning, you can either:\n",
      "\t- Avoid using `tokenizers` before the fork if possible\n",
      "\t- Explicitly set the environment variable TOKENIZERS_PARALLELISM=(true | false)\n",
      " 43%|████▎     | 23/54 [00:04<00:06,  4.72it/s]huggingface/tokenizers: The current process just got forked, after parallelism has already been used. Disabling parallelism to avoid deadlocks...\n",
      "To disable this warning, you can either:\n",
      "\t- Avoid using `tokenizers` before the fork if possible\n",
      "\t- Explicitly set the environment variable TOKENIZERS_PARALLELISM=(true | false)\n",
      " 44%|████▍     | 24/54 [00:04<00:06,  4.74it/s]huggingface/tokenizers: The current process just got forked, after parallelism has already been used. Disabling parallelism to avoid deadlocks...\n",
      "To disable this warning, you can either:\n",
      "\t- Avoid using `tokenizers` before the fork if possible\n",
      "\t- Explicitly set the environment variable TOKENIZERS_PARALLELISM=(true | false)\n",
      " 46%|████▋     | 25/54 [00:04<00:06,  4.73it/s]huggingface/tokenizers: The current process just got forked, after parallelism has already been used. Disabling parallelism to avoid deadlocks...\n",
      "To disable this warning, you can either:\n",
      "\t- Avoid using `tokenizers` before the fork if possible\n",
      "\t- Explicitly set the environment variable TOKENIZERS_PARALLELISM=(true | false)\n",
      " 48%|████▊     | 26/54 [00:05<00:05,  4.71it/s]huggingface/tokenizers: The current process just got forked, after parallelism has already been used. Disabling parallelism to avoid deadlocks...\n",
      "To disable this warning, you can either:\n",
      "\t- Avoid using `tokenizers` before the fork if possible\n",
      "\t- Explicitly set the environment variable TOKENIZERS_PARALLELISM=(true | false)\n",
      " 50%|█████     | 27/54 [00:05<00:05,  4.55it/s]huggingface/tokenizers: The current process just got forked, after parallelism has already been used. Disabling parallelism to avoid deadlocks...\n",
      "To disable this warning, you can either:\n",
      "\t- Avoid using `tokenizers` before the fork if possible\n",
      "\t- Explicitly set the environment variable TOKENIZERS_PARALLELISM=(true | false)\n",
      " 52%|█████▏    | 28/54 [00:05<00:05,  4.62it/s]huggingface/tokenizers: The current process just got forked, after parallelism has already been used. Disabling parallelism to avoid deadlocks...\n",
      "To disable this warning, you can either:\n",
      "\t- Avoid using `tokenizers` before the fork if possible\n",
      "\t- Explicitly set the environment variable TOKENIZERS_PARALLELISM=(true | false)\n",
      " 54%|█████▎    | 29/54 [00:05<00:05,  4.69it/s]huggingface/tokenizers: The current process just got forked, after parallelism has already been used. Disabling parallelism to avoid deadlocks...\n",
      "To disable this warning, you can either:\n",
      "\t- Avoid using `tokenizers` before the fork if possible\n",
      "\t- Explicitly set the environment variable TOKENIZERS_PARALLELISM=(true | false)\n",
      " 56%|█████▌    | 30/54 [00:06<00:05,  4.72it/s]huggingface/tokenizers: The current process just got forked, after parallelism has already been used. Disabling parallelism to avoid deadlocks...\n",
      "To disable this warning, you can either:\n",
      "\t- Avoid using `tokenizers` before the fork if possible\n",
      "\t- Explicitly set the environment variable TOKENIZERS_PARALLELISM=(true | false)\n",
      " 57%|█████▋    | 31/54 [00:06<00:04,  4.83it/s]huggingface/tokenizers: The current process just got forked, after parallelism has already been used. Disabling parallelism to avoid deadlocks...\n",
      "To disable this warning, you can either:\n",
      "\t- Avoid using `tokenizers` before the fork if possible\n",
      "\t- Explicitly set the environment variable TOKENIZERS_PARALLELISM=(true | false)\n",
      " 59%|█████▉    | 32/54 [00:06<00:04,  4.80it/s]huggingface/tokenizers: The current process just got forked, after parallelism has already been used. Disabling parallelism to avoid deadlocks...\n",
      "To disable this warning, you can either:\n",
      "\t- Avoid using `tokenizers` before the fork if possible\n",
      "\t- Explicitly set the environment variable TOKENIZERS_PARALLELISM=(true | false)\n",
      " 61%|██████    | 33/54 [00:06<00:04,  4.79it/s]huggingface/tokenizers: The current process just got forked, after parallelism has already been used. Disabling parallelism to avoid deadlocks...\n",
      "To disable this warning, you can either:\n",
      "\t- Avoid using `tokenizers` before the fork if possible\n",
      "\t- Explicitly set the environment variable TOKENIZERS_PARALLELISM=(true | false)\n",
      " 63%|██████▎   | 34/54 [00:06<00:04,  4.77it/s]huggingface/tokenizers: The current process just got forked, after parallelism has already been used. Disabling parallelism to avoid deadlocks...\n",
      "To disable this warning, you can either:\n",
      "\t- Avoid using `tokenizers` before the fork if possible\n",
      "\t- Explicitly set the environment variable TOKENIZERS_PARALLELISM=(true | false)\n",
      " 65%|██████▍   | 35/54 [00:07<00:04,  4.75it/s]huggingface/tokenizers: The current process just got forked, after parallelism has already been used. Disabling parallelism to avoid deadlocks...\n",
      "To disable this warning, you can either:\n",
      "\t- Avoid using `tokenizers` before the fork if possible\n",
      "\t- Explicitly set the environment variable TOKENIZERS_PARALLELISM=(true | false)\n",
      " 67%|██████▋   | 36/54 [00:07<00:03,  4.69it/s]huggingface/tokenizers: The current process just got forked, after parallelism has already been used. Disabling parallelism to avoid deadlocks...\n",
      "To disable this warning, you can either:\n",
      "\t- Avoid using `tokenizers` before the fork if possible\n",
      "\t- Explicitly set the environment variable TOKENIZERS_PARALLELISM=(true | false)\n",
      " 69%|██████▊   | 37/54 [00:07<00:03,  4.73it/s]huggingface/tokenizers: The current process just got forked, after parallelism has already been used. Disabling parallelism to avoid deadlocks...\n",
      "To disable this warning, you can either:\n",
      "\t- Avoid using `tokenizers` before the fork if possible\n",
      "\t- Explicitly set the environment variable TOKENIZERS_PARALLELISM=(true | false)\n",
      " 70%|███████   | 38/54 [00:07<00:03,  4.78it/s]huggingface/tokenizers: The current process just got forked, after parallelism has already been used. Disabling parallelism to avoid deadlocks...\n",
      "To disable this warning, you can either:\n",
      "\t- Avoid using `tokenizers` before the fork if possible\n",
      "\t- Explicitly set the environment variable TOKENIZERS_PARALLELISM=(true | false)\n",
      " 72%|███████▏  | 39/54 [00:07<00:03,  4.60it/s]huggingface/tokenizers: The current process just got forked, after parallelism has already been used. Disabling parallelism to avoid deadlocks...\n",
      "To disable this warning, you can either:\n",
      "\t- Avoid using `tokenizers` before the fork if possible\n",
      "\t- Explicitly set the environment variable TOKENIZERS_PARALLELISM=(true | false)\n",
      " 74%|███████▍  | 40/54 [00:08<00:03,  4.49it/s]huggingface/tokenizers: The current process just got forked, after parallelism has already been used. Disabling parallelism to avoid deadlocks...\n",
      "To disable this warning, you can either:\n",
      "\t- Avoid using `tokenizers` before the fork if possible\n",
      "\t- Explicitly set the environment variable TOKENIZERS_PARALLELISM=(true | false)\n",
      " 76%|███████▌  | 41/54 [00:08<00:02,  4.52it/s]huggingface/tokenizers: The current process just got forked, after parallelism has already been used. Disabling parallelism to avoid deadlocks...\n",
      "To disable this warning, you can either:\n",
      "\t- Avoid using `tokenizers` before the fork if possible\n",
      "\t- Explicitly set the environment variable TOKENIZERS_PARALLELISM=(true | false)\n",
      " 78%|███████▊  | 42/54 [00:08<00:02,  4.44it/s]huggingface/tokenizers: The current process just got forked, after parallelism has already been used. Disabling parallelism to avoid deadlocks...\n",
      "To disable this warning, you can either:\n",
      "\t- Avoid using `tokenizers` before the fork if possible\n",
      "\t- Explicitly set the environment variable TOKENIZERS_PARALLELISM=(true | false)\n",
      " 80%|███████▉  | 43/54 [00:08<00:02,  4.45it/s]huggingface/tokenizers: The current process just got forked, after parallelism has already been used. Disabling parallelism to avoid deadlocks...\n",
      "To disable this warning, you can either:\n",
      "\t- Avoid using `tokenizers` before the fork if possible\n",
      "\t- Explicitly set the environment variable TOKENIZERS_PARALLELISM=(true | false)\n",
      " 81%|████████▏ | 44/54 [00:09<00:02,  4.43it/s]huggingface/tokenizers: The current process just got forked, after parallelism has already been used. Disabling parallelism to avoid deadlocks...\n",
      "To disable this warning, you can either:\n",
      "\t- Avoid using `tokenizers` before the fork if possible\n",
      "\t- Explicitly set the environment variable TOKENIZERS_PARALLELISM=(true | false)\n",
      " 83%|████████▎ | 45/54 [00:09<00:02,  4.33it/s]huggingface/tokenizers: The current process just got forked, after parallelism has already been used. Disabling parallelism to avoid deadlocks...\n",
      "To disable this warning, you can either:\n",
      "\t- Avoid using `tokenizers` before the fork if possible\n",
      "\t- Explicitly set the environment variable TOKENIZERS_PARALLELISM=(true | false)\n",
      " 85%|████████▌ | 46/54 [00:09<00:01,  4.36it/s]huggingface/tokenizers: The current process just got forked, after parallelism has already been used. Disabling parallelism to avoid deadlocks...\n",
      "To disable this warning, you can either:\n",
      "\t- Avoid using `tokenizers` before the fork if possible\n",
      "\t- Explicitly set the environment variable TOKENIZERS_PARALLELISM=(true | false)\n",
      " 87%|████████▋ | 47/54 [00:09<00:01,  4.31it/s]huggingface/tokenizers: The current process just got forked, after parallelism has already been used. Disabling parallelism to avoid deadlocks...\n",
      "To disable this warning, you can either:\n",
      "\t- Avoid using `tokenizers` before the fork if possible\n",
      "\t- Explicitly set the environment variable TOKENIZERS_PARALLELISM=(true | false)\n",
      " 89%|████████▉ | 48/54 [00:10<00:01,  4.36it/s]huggingface/tokenizers: The current process just got forked, after parallelism has already been used. Disabling parallelism to avoid deadlocks...\n",
      "To disable this warning, you can either:\n",
      "\t- Avoid using `tokenizers` before the fork if possible\n",
      "\t- Explicitly set the environment variable TOKENIZERS_PARALLELISM=(true | false)\n",
      " 91%|█████████ | 49/54 [00:10<00:01,  4.38it/s]huggingface/tokenizers: The current process just got forked, after parallelism has already been used. Disabling parallelism to avoid deadlocks...\n",
      "To disable this warning, you can either:\n",
      "\t- Avoid using `tokenizers` before the fork if possible\n",
      "\t- Explicitly set the environment variable TOKENIZERS_PARALLELISM=(true | false)\n",
      " 93%|█████████▎| 50/54 [00:10<00:00,  4.54it/s]huggingface/tokenizers: The current process just got forked, after parallelism has already been used. Disabling parallelism to avoid deadlocks...\n",
      "To disable this warning, you can either:\n",
      "\t- Avoid using `tokenizers` before the fork if possible\n",
      "\t- Explicitly set the environment variable TOKENIZERS_PARALLELISM=(true | false)\n",
      " 94%|█████████▍| 51/54 [00:10<00:00,  4.54it/s]huggingface/tokenizers: The current process just got forked, after parallelism has already been used. Disabling parallelism to avoid deadlocks...\n",
      "To disable this warning, you can either:\n",
      "\t- Avoid using `tokenizers` before the fork if possible\n",
      "\t- Explicitly set the environment variable TOKENIZERS_PARALLELISM=(true | false)\n",
      " 96%|█████████▋| 52/54 [00:10<00:00,  4.52it/s]huggingface/tokenizers: The current process just got forked, after parallelism has already been used. Disabling parallelism to avoid deadlocks...\n",
      "To disable this warning, you can either:\n",
      "\t- Avoid using `tokenizers` before the fork if possible\n",
      "\t- Explicitly set the environment variable TOKENIZERS_PARALLELISM=(true | false)\n",
      " 98%|█████████▊| 53/54 [00:11<00:00,  4.42it/s]huggingface/tokenizers: The current process just got forked, after parallelism has already been used. Disabling parallelism to avoid deadlocks...\n",
      "To disable this warning, you can either:\n",
      "\t- Avoid using `tokenizers` before the fork if possible\n",
      "\t- Explicitly set the environment variable TOKENIZERS_PARALLELISM=(true | false)\n",
      "100%|██████████| 54/54 [00:11<00:00,  4.75it/s]\n",
      "huggingface/tokenizers: The current process just got forked, after parallelism has already been used. Disabling parallelism to avoid deadlocks...\n",
      "To disable this warning, you can either:\n",
      "\t- Avoid using `tokenizers` before the fork if possible\n",
      "\t- Explicitly set the environment variable TOKENIZERS_PARALLELISM=(true | false)\n",
      "huggingface/tokenizers: The current process just got forked, after parallelism has already been used. Disabling parallelism to avoid deadlocks...\n",
      "To disable this warning, you can either:\n",
      "\t- Avoid using `tokenizers` before the fork if possible\n",
      "\t- Explicitly set the environment variable TOKENIZERS_PARALLELISM=(true | false)\n",
      "huggingface/tokenizers: The current process just got forked, after parallelism has already been used. Disabling parallelism to avoid deadlocks...\n",
      "To disable this warning, you can either:\n",
      "\t- Avoid using `tokenizers` before the fork if possible\n",
      "\t- Explicitly set the environment variable TOKENIZERS_PARALLELISM=(true | false)\n",
      "huggingface/tokenizers: The current process just got forked, after parallelism has already been used. Disabling parallelism to avoid deadlocks...\n",
      "To disable this warning, you can either:\n",
      "\t- Avoid using `tokenizers` before the fork if possible\n",
      "\t- Explicitly set the environment variable TOKENIZERS_PARALLELISM=(true | false)\n",
      "huggingface/tokenizers: The current process just got forked, after parallelism has already been used. Disabling parallelism to avoid deadlocks...\n",
      "To disable this warning, you can either:\n",
      "\t- Avoid using `tokenizers` before the fork if possible\n",
      "\t- Explicitly set the environment variable TOKENIZERS_PARALLELISM=(true | false)\n",
      "huggingface/tokenizers: The current process just got forked, after parallelism has already been used. Disabling parallelism to avoid deadlocks...\n",
      "To disable this warning, you can either:\n",
      "\t- Avoid using `tokenizers` before the fork if possible\n",
      "\t- Explicitly set the environment variable TOKENIZERS_PARALLELISM=(true | false)\n",
      "huggingface/tokenizers: The current process just got forked, after parallelism has already been used. Disabling parallelism to avoid deadlocks...\n",
      "To disable this warning, you can either:\n",
      "\t- Avoid using `tokenizers` before the fork if possible\n",
      "\t- Explicitly set the environment variable TOKENIZERS_PARALLELISM=(true | false)\n",
      "huggingface/tokenizers: The current process just got forked, after parallelism has already been used. Disabling parallelism to avoid deadlocks...\n",
      "To disable this warning, you can either:\n",
      "\t- Avoid using `tokenizers` before the fork if possible\n",
      "\t- Explicitly set the environment variable TOKENIZERS_PARALLELISM=(true | false)\n",
      "huggingface/tokenizers: The current process just got forked, after parallelism has already been used. Disabling parallelism to avoid deadlocks...\n",
      "To disable this warning, you can either:\n",
      "\t- Avoid using `tokenizers` before the fork if possible\n",
      "\t- Explicitly set the environment variable TOKENIZERS_PARALLELISM=(true | false)\n",
      "huggingface/tokenizers: The current process just got forked, after parallelism has already been used. Disabling parallelism to avoid deadlocks...\n",
      "To disable this warning, you can either:\n",
      "\t- Avoid using `tokenizers` before the fork if possible\n",
      "\t- Explicitly set the environment variable TOKENIZERS_PARALLELISM=(true | false)\n"
     ]
    },
    {
     "name": "stdout",
     "output_type": "stream",
     "text": [
      "Moviepy - Building video outs/benchmark_small.mp4.\n",
      "Moviepy - Writing video outs/benchmark_small.mp4\n",
      "\n"
     ]
    },
    {
     "name": "stderr",
     "output_type": "stream",
     "text": [
      "                                                            \r"
     ]
    },
    {
     "name": "stdout",
     "output_type": "stream",
     "text": [
      "Moviepy - Done !\n",
      "Moviepy - video ready outs/benchmark_small.mp4\n"
     ]
    }
   ],
   "source": [
    "from text3d2video.utilities.video_comparison import VideoLabel, add_label_to_clip\n",
    "\n",
    "\n",
    "def video_with_metrics(d: GrRunData):\n",
    "    clip = pil_frames_to_clip(d.frames)\n",
    "\n",
    "    rows = []\n",
    "    if d.frame_consistency is not None:\n",
    "        rows.append(f\"FC: {d.frame_consistency:.4f}\")\n",
    "    if d.prompt_fidelity is not None:\n",
    "        rows.append(f\"PF: {d.prompt_fidelity:.4f}\")\n",
    "    if d.uv_mse is not None:\n",
    "        rows.append(f\"UV MSE: {d.uv_mse:.4f}\")\n",
    "\n",
    "    content = \"\\n\".join(rows).format(d=d)\n",
    "    label = VideoLabel(content, font_size=30)\n",
    "    return add_label_to_clip(clip, label, position=(\"left\", \"bottom\"))\n",
    "\n",
    "\n",
    "cropped_run_data = run_data[:, :]\n",
    "vids = map_array(cropped_run_data, video_with_metrics, pbar=True)\n",
    "\n",
    "vid = video_grid(vids, y_labels=labels[0])\n",
    "vid.write_videofile(\"outs/benchmark_small.mp4\")"
   ]
  },
  {
   "cell_type": "code",
   "execution_count": 56,
   "metadata": {},
   "outputs": [
    {
     "name": "stdout",
     "output_type": "stream",
     "text": [
      "Method                 UV MSE    Frame Consistency    Prompt Fidelity\n",
      "-----------------  ----------  -------------------  -----------------\n",
      "ControlNet         0.127024               0.899591           0.310699\n",
      "GR                 0.0202782              0.959487           0.309206\n",
      "RenderThenCN-0.25  0.0832425              0.92785            0.315243\n",
      "RenderThenCN-0.5   0.0360604              0.929483           0.310039\n",
      "RenderThenGR-0     0.0147605              0.953705           0.310851\n",
      "RenderThenGR-0.25  0.0138913              0.959041           0.301336\n",
      "RenderThenGR-0.5   0.00714404             0.955827           0.296033\n",
      "RenderThenGR-0.75  0.00489579             0.956097           0.294004\n",
      "RenderThenGR-1     0.00148459             0.958688           0.290508\n"
     ]
    }
   ],
   "source": [
    "import tabulate\n",
    "\n",
    "\n",
    "table_rows = []\n",
    "\n",
    "values = []\n",
    "\n",
    "for row_i, row in enumerate(cropped_run_data):\n",
    "    method = labels[0][row_i]\n",
    "\n",
    "    uv_mse = map_array(row, lambda d: d.uv_mse).mean()\n",
    "    fc = map_array(row, lambda d: d.frame_consistency).mean()\n",
    "    pf = map_array(row, lambda d: d.prompt_fidelity).mean()\n",
    "\n",
    "    table_rows.append([method, uv_mse, fc, pf])\n",
    "\n",
    "    values.append([uv_mse, fc, pf])\n",
    "\n",
    "\n",
    "\n",
    "headers = [\"Method\", \"UV MSE\", \"Frame Consistency\", \"Prompt Fidelity\"]\n",
    "print(tabulate.tabulate(table_rows, headers=headers, tablefmt=\"markdown\"))"
   ]
  }
 ],
 "metadata": {
  "kernelspec": {
   "display_name": "thesis4",
   "language": "python",
   "name": "python3"
  },
  "language_info": {
   "codemirror_mode": {
    "name": "ipython",
    "version": 3
   },
   "file_extension": ".py",
   "mimetype": "text/x-python",
   "name": "python",
   "nbconvert_exporter": "python",
   "pygments_lexer": "ipython3",
   "version": "3.9.20"
  }
 },
 "nbformat": 4,
 "nbformat_minor": 2
}
