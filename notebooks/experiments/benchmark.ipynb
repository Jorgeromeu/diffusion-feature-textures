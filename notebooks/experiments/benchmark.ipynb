{
 "cells": [
  {
   "cell_type": "code",
   "execution_count": 1,
   "metadata": {},
   "outputs": [],
   "source": [
    "%load_ext autoreload\n",
    "%autoreload 2\n",
    "\n",
    "import tabulate\n",
    "from omegaconf import OmegaConf\n",
    "import wandb_util.wandb_util as wbu\n",
    "from scripts.wandb_experiments.benchmark import BenchmarkConfig\n",
    "import multiprocessing as mp\n",
    "mp.set_start_method('spawn', force=True)"
   ]
  },
  {
   "cell_type": "code",
   "execution_count": 3,
   "metadata": {},
   "outputs": [
    {
     "name": "stdout",
     "output_type": "stream",
     "text": [
      "animation_tag            texturing_tag         src_tag                 prompt                seed\n",
      "-----------------------  --------------------  ----------------------  ------------------  ------\n",
      "mv_cat_statue_25:latest  cat_statue_mv:latest  cat_statue_mv:latest    Metalic Cat Statue       0\n",
      "ymca_20:latest           human_mv:latest       ymca_src:latest         Stormtrooper             0\n",
      "ymca_20:latest           human_mv:latest       ymca_src:latest         Deadpool                 0\n",
      "rumba_20:latest          human_mv:latest       rumba_src:latest        Stormtrooper             0\n",
      "catwalk_180_20:latest    human_mv:latest       catwalk_180_src:latest  Deadpool                 0\n",
      "catwalk_180_20:latest    human_mv:latest       catwalk_180_src:latest  Deadpool                 1\n",
      "catwalk_180_20:latest    human_mv:latest       catwalk_180_src:latest  Deadpool                 2\n",
      "mv_helmet_25:latest      mv_helmet:latest      mv_helmet:latest        Shiny Helmet             0\n"
     ]
    }
   ],
   "source": [
    "from scripts.wandb_experiments.benchmark import GeometryAndPrompts\n",
    "from text3d2video.util import concat_lists\n",
    "\n",
    "cat_prompts = [\"Metalic Cat Statue\"]\n",
    "\n",
    "mv_cat = GeometryAndPrompts(\n",
    "    \"mv_cat_statue_25:latest\",\n",
    "    \"cat_statue_mv:latest\",\n",
    "    \"cat_statue_mv:latest\",\n",
    "    [\"Metalic Cat Statue\"],\n",
    "    1,\n",
    ")\n",
    "\n",
    "mv_helmet = GeometryAndPrompts(\n",
    "    \"mv_helmet_25:latest\",\n",
    "    \"mv_helmet:latest\",\n",
    "    \"mv_helmet:latest\",\n",
    "    [\"Shiny Helmet\"],\n",
    "    1,\n",
    ")\n",
    "\n",
    "ymca = GeometryAndPrompts(\n",
    "    \"ymca_20:latest\",\n",
    "    \"human_mv:latest\",\n",
    "    \"ymca_src:latest\",\n",
    "    [\"Stormtrooper\", \"Deadpool\"],\n",
    "    1,\n",
    ")\n",
    "\n",
    "rumba = GeometryAndPrompts(\n",
    "    \"rumba_20:latest\",\n",
    "    \"human_mv:latest\",\n",
    "    \"rumba_src:latest\",\n",
    "    [\"Stormtrooper\"],\n",
    "    1,\n",
    ")\n",
    "\n",
    "\n",
    "turn_around = GeometryAndPrompts(\n",
    "    \"catwalk_180_20:latest\",\n",
    "    \"human_mv:latest\",\n",
    "    \"catwalk_180_src:latest\",\n",
    "    [\"Deadpool\"],\n",
    "    3,\n",
    ")\n",
    "\n",
    "geometries_and_promtps = [\n",
    "    mv_cat,\n",
    "    ymca,\n",
    "    rumba,\n",
    "    turn_around,\n",
    "    mv_helmet,\n",
    "]\n",
    "\n",
    "scenes = concat_lists(s.to_scenes() for s in geometries_and_promtps)\n",
    "print(tabulate.tabulate([s.tabulate_row() for s in scenes], headers=\"keys\"))"
   ]
  },
  {
   "cell_type": "code",
   "execution_count": 6,
   "metadata": {},
   "outputs": [
    {
     "name": "stdout",
     "output_type": "stream",
     "text": [
      "name              fun\n",
      "----------------  ------------------------\n",
      "GR                run_generative_rendering\n",
      "ControlNet        run_generative_rendering\n",
      "Texture           render_texture_to_anim\n",
      "RenderThenGR-0    run_generative_rendering\n",
      "RenderThenGR-0.2  run_generative_rendering\n",
      "RenderThenGR-0.4  run_generative_rendering\n"
     ]
    }
   ],
   "source": [
    "from scripts.wandb_experiments.benchmark import Method\n",
    "from scripts.wandb_runs.render_texture import (\n",
    "    RenderTextureConfig,\n",
    "    render_texture_to_anim,\n",
    ")\n",
    "from scripts.wandb_runs.run_generative_rendering import (\n",
    "    RunGenerativeRenderingConfig,\n",
    "    run_generative_rendering,\n",
    ")\n",
    "from text3d2video.pipelines.generative_rendering_pipeline import (\n",
    "    GenerativeRenderingConfig,\n",
    ")\n",
    "from text3d2video.pipelines.pipeline_utils import ModelConfig\n",
    "from text3d2video.utilities.omegaconf_util import get_import_path\n",
    "\n",
    "# GR base Config\n",
    "base_gr = OmegaConf.structured(\n",
    "    RunGenerativeRenderingConfig(\n",
    "        prompt=\"\",\n",
    "        animation_tag=\"\",\n",
    "        generative_rendering=GenerativeRenderingConfig(num_keyframes=3),\n",
    "        model=ModelConfig(),\n",
    "        texture_tag=None,\n",
    "        src_anim_tag=None,\n",
    "    )\n",
    ")\n",
    "\n",
    "# ControlNet base Config\n",
    "base_controlnet = OmegaConf.structured(\n",
    "    RunGenerativeRenderingConfig(\n",
    "        prompt=\"\",\n",
    "        animation_tag=\"\",\n",
    "        generative_rendering=GenerativeRenderingConfig(\n",
    "            do_pre_attn_injection=False, do_post_attn_injection=False\n",
    "        ),\n",
    "        model=ModelConfig(),\n",
    "        texture_tag=None,\n",
    "        src_anim_tag=None,\n",
    "    )\n",
    ")\n",
    "\n",
    "base_render = OmegaConf.structured(\n",
    "    RenderTextureConfig(\n",
    "        prompt=\"\",\n",
    "        animation_tag=\"\",\n",
    "        texture_tag=\"\",\n",
    "    )\n",
    ")\n",
    "\n",
    "methods = [\n",
    "    Method(\"GR\", get_import_path(run_generative_rendering), base_gr),\n",
    "    Method(\"ControlNet\", get_import_path(run_generative_rendering), base_controlnet),\n",
    "    Method(\"Texture\", get_import_path(render_texture_to_anim), base_render),\n",
    "]\n",
    "\n",
    "start_noises = [0, 0.2, 0.4]\n",
    "for start_noise in start_noises:\n",
    "    base_render_gr = OmegaConf.structured(\n",
    "        RunGenerativeRenderingConfig(\n",
    "            \"\",\n",
    "            \"\",\n",
    "            GenerativeRenderingConfig(),\n",
    "            ModelConfig(),\n",
    "            start_noise_level=start_noise,\n",
    "            texture_tag=\"\",\n",
    "            src_anim_tag=\"\",\n",
    "        )\n",
    "    )\n",
    "\n",
    "    methods.append(\n",
    "        Method(\n",
    "            f\"RenderThenGR-{start_noise}\",\n",
    "            get_import_path(run_generative_rendering),\n",
    "            base_render_gr,\n",
    "        )\n",
    "    )\n",
    "\n",
    "print(tabulate.tabulate([m.tabulate_row(with_config=False) for m in methods], headers=\"keys\"))"
   ]
  },
  {
   "cell_type": "code",
   "execution_count": 7,
   "metadata": {},
   "outputs": [],
   "source": [
    "from scripts.wandb_experiments.benchmark import benchmark\n",
    "\n",
    "config = BenchmarkConfig(scenes, methods)\n",
    "config = OmegaConf.structured(config)\n",
    "\n",
    "spec = benchmark(config)"
   ]
  },
  {
   "cell_type": "code",
   "execution_count": 9,
   "metadata": {},
   "outputs": [
    {
     "name": "stdout",
     "output_type": "stream",
     "text": [
      "Experiment: https://wandb.ai/romeu/diffusion-3D-features/groups/benchmark_new3/workspace\n",
      "\n",
      "Would execute 0 new runs:\n",
      "\n",
      "Would delete 2 outdated runs:\n",
      "- Texture                        (d5u7wqcd)\n",
      "- Texture                        (ktsmi5cj)\n",
      "\n",
      "Do you want to continue? (y/n)\n",
      "Aborting\n"
     ]
    }
   ],
   "source": [
    "from scripts.wandb_experiments.benchmark import benchmark\n",
    "# \n",
    "wbu.sync_experiment(benchmark, config, \"benchmark_new3\")"
   ]
  },
  {
   "cell_type": "code",
   "execution_count": 10,
   "metadata": {},
   "outputs": [
    {
     "name": "stdout",
     "output_type": "stream",
     "text": [
      "https://wandb.ai/romeu/diffusion-3D-features/groups/benchmark_new3/workspace\n"
     ]
    }
   ],
   "source": [
    "from scripts.wandb_experiments.benchmark import split_runs\n",
    "\n",
    "exp_name = \"benchmark_new3\"\n",
    "\n",
    "runs = wbu.get_logged_runs(exp_name)\n",
    "print(wbu.get_exp_url(exp_name))\n",
    "texture_runs, video_gen_runs = split_runs(runs)"
   ]
  },
  {
   "cell_type": "code",
   "execution_count": 13,
   "metadata": {},
   "outputs": [],
   "source": [
    "from text3d2video.util import group_into_array\n",
    "\n",
    "\n",
    "def scene_key(run):\n",
    "    config = OmegaConf.create(run.config)\n",
    "    return f\"{config.animation_tag}-{config.prompt}\"\n",
    "\n",
    "def method_key(run):\n",
    "    return run.name.split(\"_\")[0]\n",
    "\n",
    "runs_grouped, labels = group_into_array(video_gen_runs, [method_key, scene_key])"
   ]
  },
  {
   "cell_type": "code",
   "execution_count": 16,
   "metadata": {},
   "outputs": [
    {
     "name": "stderr",
     "output_type": "stream",
     "text": [
      "\n",
      "\u001b[A\n",
      "\u001b[A\n",
      "\u001b[A\n",
      "\u001b[A\n",
      "\u001b[A\n",
      "\u001b[A\n",
      "\u001b[A\n",
      "\u001b[A\n",
      "\u001b[A\n",
      "\u001b[A\n",
      "\u001b[A\n",
      "\u001b[A\n",
      "\u001b[A\n",
      "\u001b[A\n",
      "\u001b[A\n",
      "\u001b[A\n",
      "\u001b[A\n",
      "\u001b[A\n",
      "\u001b[A\n",
      "\u001b[A\n",
      "\u001b[A\n",
      "\u001b[A\n",
      "\u001b[A\n",
      "\u001b[A\n",
      "\u001b[A\n",
      "\u001b[A\n",
      "\u001b[A\n",
      "\u001b[A\n",
      "\u001b[A\n",
      "\u001b[A\n",
      "\u001b[A\n",
      "\u001b[34m\u001b[1mwandb\u001b[0m:   20 of 20 files downloaded.  ..\n",
      "\n",
      "\u001b[34m\u001b[1mwandb\u001b[0m:   25 of 25 files downloaded.  ..\n",
      "\n",
      "\u001b[34m\u001b[1mwandb\u001b[0m:   20 of 20 files downloaded.  ..\n",
      "\n",
      "\u001b[34m\u001b[1mwandb\u001b[0m:   20 of 20 files downloaded.  ..\n",
      "\n",
      " 83%|████████▎ | 30/36 [03:34<00:42,  7.14s/it]\n",
      "\u001b[34m\u001b[1mwandb\u001b[0m:   20 of 20 files downloaded.  \n",
      "\n",
      "100%|██████████| 36/36 [00:43<00:00,  1.21s/it]\n"
     ]
    }
   ],
   "source": [
    "from text3d2video.experiment_analysis import VideoTraces\n",
    "from text3d2video.util import map_array\n",
    "\n",
    "run_data = map_array(runs_grouped, VideoTraces.from_run, pbar=True)"
   ]
  },
  {
   "cell_type": "code",
   "execution_count": 18,
   "metadata": {},
   "outputs": [
    {
     "name": "stderr",
     "output_type": "stream",
     "text": [
      " 83%|████████▎ | 30/36 [03:21<00:40,  6.71s/it]\n"
     ]
    }
   ],
   "source": [
    "from text3d2video.clip_metrics import CLIPMetrics\n",
    "from text3d2video.util import map_array\n",
    "\n",
    "clip = CLIPMetrics()\n",
    "\n",
    "# map_array(\n",
    "    # run_data, partial(VideoTraces.compute_clip_metrics, model=clip), pbar=True\n",
    "# )\n",
    "# map_array(run_data, GeneratedVideoTraces.compute_uv_mse, pbar=True)"
   ]
  },
  {
   "cell_type": "code",
   "execution_count": 29,
   "metadata": {},
   "outputs": [],
   "source": [
    "from text3d2video.utilities.video_util import pil_frames_to_clip\n"
   ]
  },
  {
   "cell_type": "code",
   "execution_count": 31,
   "metadata": {},
   "outputs": [
    {
     "name": "stderr",
     "output_type": "stream",
     "text": [
      "huggingface/tokenizers: The current process just got forked, after parallelism has already been used. Disabling parallelism to avoid deadlocks...\n",
      "To disable this warning, you can either:\n",
      "\t- Avoid using `tokenizers` before the fork if possible\n",
      "\t- Explicitly set the environment variable TOKENIZERS_PARALLELISM=(true | false)\n",
      "huggingface/tokenizers: The current process just got forked, after parallelism has already been used. Disabling parallelism to avoid deadlocks...\n",
      "To disable this warning, you can either:\n",
      "\t- Avoid using `tokenizers` before the fork if possible\n",
      "\t- Explicitly set the environment variable TOKENIZERS_PARALLELISM=(true | false)\n",
      "huggingface/tokenizers: The current process just got forked, after parallelism has already been used. Disabling parallelism to avoid deadlocks...\n",
      "To disable this warning, you can either:\n",
      "\t- Avoid using `tokenizers` before the fork if possible\n",
      "\t- Explicitly set the environment variable TOKENIZERS_PARALLELISM=(true | false)\n",
      "huggingface/tokenizers: The current process just got forked, after parallelism has already been used. Disabling parallelism to avoid deadlocks...\n",
      "To disable this warning, you can either:\n",
      "\t- Avoid using `tokenizers` before the fork if possible\n",
      "\t- Explicitly set the environment variable TOKENIZERS_PARALLELISM=(true | false)\n",
      "huggingface/tokenizers: The current process just got forked, after parallelism has already been used. Disabling parallelism to avoid deadlocks...\n",
      "To disable this warning, you can either:\n",
      "\t- Avoid using `tokenizers` before the fork if possible\n",
      "\t- Explicitly set the environment variable TOKENIZERS_PARALLELISM=(true | false)\n",
      "huggingface/tokenizers: The current process just got forked, after parallelism has already been used. Disabling parallelism to avoid deadlocks...\n",
      "To disable this warning, you can either:\n",
      "\t- Avoid using `tokenizers` before the fork if possible\n",
      "\t- Explicitly set the environment variable TOKENIZERS_PARALLELISM=(true | false)\n",
      "  0%|          | 0/36 [02:33<?, ?it/s]huggingface/tokenizers: The current process just got forked, after parallelism has already been used. Disabling parallelism to avoid deadlocks...\n",
      "To disable this warning, you can either:\n",
      "\t- Avoid using `tokenizers` before the fork if possible\n",
      "\t- Explicitly set the environment variable TOKENIZERS_PARALLELISM=(true | false)\n"
     ]
    },
    {
     "name": "stdout",
     "output_type": "stream",
     "text": [
      "Moviepy - Building video outs/benchmark_with_tex.mp4.\n",
      "Moviepy - Writing video outs/benchmark_with_tex.mp4\n",
      "\n"
     ]
    },
    {
     "name": "stderr",
     "output_type": "stream",
     "text": [
      "  0%|          | 0/36 [02:50<?, ?it/s]"
     ]
    },
    {
     "name": "stdout",
     "output_type": "stream",
     "text": [
      "Moviepy - Done !\n",
      "Moviepy - video ready outs/benchmark_with_tex.mp4\n"
     ]
    }
   ],
   "source": [
    "from text3d2video.utilities.video_comparison import video_grid\n",
    "\n",
    "clips_grid = map_array(run_data, lambda d: pil_frames_to_clip(d.frames))\n",
    "vid = video_grid(clips_grid, y_labels=labels[0])\n",
    "vid.write_videofile(\"outs/benchmark_with_tex.mp4\")"
   ]
  },
  {
   "cell_type": "code",
   "execution_count": 52,
   "metadata": {},
   "outputs": [
    {
     "name": "stdout",
     "output_type": "stream",
     "text": [
      "Method            UV MSE      Frame Consistency    Prompt Fidelity\n",
      "----------------  --------  -------------------  -----------------\n",
      "ControlNet                             0.903655           0.29956\n",
      "GR                                     0.966159           0.300501\n",
      "RenderThenGR-0                         0.962151           0.299237\n",
      "RenderThenGR-0.2                       0.95788            0.294666\n",
      "RenderThenGR-0.4                       0.960727           0.293029\n"
     ]
    }
   ],
   "source": [
    "import tabulate\n",
    "\n",
    "\n",
    "# table_rows = []\n",
    "# values = []\n",
    "table_rows = []\n",
    "\n",
    "for row_i, row in enumerate(run_data):\n",
    "    method = labels[0][row_i]\n",
    "\n",
    "    # uv_mse = map_array(row, lambda d: d.uv_mse).mean()\n",
    "    fc = map_array(row, lambda d: d.frame_consistency).mean()\n",
    "    pf = map_array(row, lambda d: d.prompt_fidelity).mean()\n",
    "\n",
    "    table_rows.append(\n",
    "        {\n",
    "            \"Method\": method,\n",
    "            \"UV MSE\": None,\n",
    "            \"Frame Consistency\": fc,\n",
    "            \"Prompt Fidelity\": pf,\n",
    "        }\n",
    "    )\n",
    "\n",
    "print(tabulate.tabulate(table_rows, headers=\"keys\", tablefmt=\"markdown\"))"
   ]
  }
 ],
 "metadata": {
  "kernelspec": {
   "display_name": "thesis4",
   "language": "python",
   "name": "python3"
  },
  "language_info": {
   "codemirror_mode": {
    "name": "ipython",
    "version": 3
   },
   "file_extension": ".py",
   "mimetype": "text/x-python",
   "name": "python",
   "nbconvert_exporter": "python",
   "pygments_lexer": "ipython3",
   "version": "3.9.20"
  }
 },
 "nbformat": 4,
 "nbformat_minor": 2
}
