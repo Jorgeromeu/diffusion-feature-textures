{
 "cells": [
  {
   "cell_type": "code",
   "execution_count": 1,
   "metadata": {},
   "outputs": [],
   "source": [
    "%load_ext autoreload\n",
    "%autoreload 2\n",
    "\n",
    "from omegaconf import OmegaConf\n",
    "import wandb_util.wandb_util as wbu\n",
    "import multiprocessing as mp\n",
    "mp.set_start_method('spawn', force=True)"
   ]
  },
  {
   "cell_type": "code",
   "execution_count": 2,
   "metadata": {},
   "outputs": [
    {
     "name": "stdout",
     "output_type": "stream",
     "text": [
      "Experiment: https://wandb.ai/romeu/diffusion-3D-features/groups/benchmark_big/workspace\n",
      "Experiment up-to-date!\n"
     ]
    }
   ],
   "source": [
    "from wandb_util.wandb_util import ExperimentConfig\n",
    "\n",
    "\n",
    "config = OmegaConf.load('config/experiments/gr_benchmark_big.yaml')\n",
    "config = ExperimentConfig(**config)\n",
    "config.exp_name = \"benchmark_big\"\n",
    "\n",
    "config.sync_experiment()"
   ]
  },
  {
   "cell_type": "code",
   "execution_count": 3,
   "metadata": {},
   "outputs": [
    {
     "name": "stdout",
     "output_type": "stream",
     "text": [
      "https://wandb.ai/romeu/diffusion-3D-features/groups/benchmark_big/workspace\n",
      "216\n"
     ]
    }
   ],
   "source": [
    "from scripts.wandb_experiments.benchmark import split_runs\n",
    "\n",
    "exp_name = \"benchmark_big\"\n",
    "\n",
    "runs = wbu.get_logged_runs(exp_name)\n",
    "print(wbu.get_exp_url(exp_name))\n",
    "texture_runs, video_gen_runs = split_runs(runs)\n",
    "print(len(video_gen_runs))"
   ]
  },
  {
   "cell_type": "code",
   "execution_count": 4,
   "metadata": {},
   "outputs": [
    {
     "data": {
      "text/plain": [
       "(24, 7)"
      ]
     },
     "execution_count": 4,
     "metadata": {},
     "output_type": "execute_result"
    }
   ],
   "source": [
    "from text3d2video.util import group_into_array, map_array\n",
    "\n",
    "def scene_key(run):\n",
    "    config = OmegaConf.create(run.config)\n",
    "    return f\"{config.animation_tag}-{config.prompt}\"\n",
    "\n",
    "def method_key(run):\n",
    "    return run.name.split(\"_\")[0]\n",
    "\n",
    "all_runs_grouped, all_labels = group_into_array(video_gen_runs, [method_key, scene_key])\n",
    "all_runs_grouped.shape"
   ]
  },
  {
   "cell_type": "code",
   "execution_count": null,
   "metadata": {},
   "outputs": [],
   "source": [
    "from scripts.wandb_runs.run_generative_rendering import RunGenerativeRenderingConfig\n",
    "\n",
    "method_configs = map_array(\n",
    "    all_runs_grouped[:, 0],\n",
    "    lambda r: RunGenerativeRenderingConfig(**OmegaConf.create(r.config)),\n",
    ")"
   ]
  },
  {
   "cell_type": "code",
   "execution_count": 54,
   "metadata": {},
   "outputs": [],
   "source": [
    "alpha_exp_indices = []\n",
    "\n",
    "for i, method in enumerate(method_configs):\n",
    "    # use src tag\n",
    "    if method.src_anim_tag is None:\n",
    "        continue\n",
    "\n",
    "    # no texture\n",
    "    if method.texture_tag is not None:\n",
    "        continue\n",
    "\n",
    "    if method.start_noise_level != 0.0:\n",
    "        continue\n",
    "\n",
    "    alpha_exp_indices.append(i)\n"
   ]
  },
  {
   "cell_type": "code",
   "execution_count": 58,
   "metadata": {},
   "outputs": [],
   "source": [
    "import numpy as np\n",
    "\n",
    "from text3d2video.util import index_list\n",
    "\n",
    "method_indices = alpha_exp_indices\n",
    "scene_indices = [0,1,2,3,4]\n",
    "runs_grouped = all_runs_grouped[np.ix_(method_indices, scene_indices)]\n",
    "\n",
    "method_labels = index_list(all_labels[0], method_indices)\n",
    "scene_labels = index_list(all_labels[1], scene_indices)\n",
    "labels = [method_labels, scene_labels]"
   ]
  },
  {
   "cell_type": "code",
   "execution_count": 59,
   "metadata": {},
   "outputs": [
    {
     "name": "stderr",
     "output_type": "stream",
     "text": [
      "  7%|▋         | 1/15 [00:01<00:14,  1.02s/it]\u001b[34m\u001b[1mwandb\u001b[0m: Using wandb-core as the SDK backend. Please refer to https://wandb.me/wandb-core for more information.\n",
      "\u001b[34m\u001b[1mwandb\u001b[0m:   20 of 20 files downloaded.  \n",
      "\u001b[34m\u001b[1mwandb\u001b[0m:   20 of 20 files downloaded.  m\u001b[1mwandb\u001b[0m: \\ 1 of 20 files downloaded...\n",
      "\u001b[34m\u001b[1mwandb\u001b[0m:   25 of 25 files downloaded.  m\u001b[1mwandb\u001b[0m: \\ 1 of 25 files downloaded...\n",
      "\u001b[34m\u001b[1mwandb\u001b[0m:   20 of 20 files downloaded.  m\u001b[1mwandb\u001b[0m: \\ 1 of 20 files downloaded...\n",
      "\u001b[34m\u001b[1mwandb\u001b[0m:   20 of 20 files downloaded.  m\u001b[1mwandb\u001b[0m: \\ 1 of 20 files downloaded...\n",
      "\u001b[34m\u001b[1mwandb\u001b[0m:   20 of 20 files downloaded.  m\u001b[1mwandb\u001b[0m: \\ 1 of 20 files downloaded...\n",
      "\u001b[34m\u001b[1mwandb\u001b[0m:   25 of 25 files downloaded.  m\u001b[1mwandb\u001b[0m: \\ 1 of 25 files downloaded...\n",
      "\u001b[34m\u001b[1mwandb\u001b[0m:   20 of 20 files downloaded.  m\u001b[1mwandb\u001b[0m: \\ 1 of 20 files downloaded...\n",
      "\u001b[34m\u001b[1mwandb\u001b[0m:   20 of 20 files downloaded.  4m\u001b[1mwandb\u001b[0m: \\ 1 of 20 files downloaded...\n",
      "\u001b[34m\u001b[1mwandb\u001b[0m:   20 of 20 files downloaded.  4m\u001b[1mwandb\u001b[0m: \\ 1 of 20 files downloaded...\n",
      "\u001b[34m\u001b[1mwandb\u001b[0m:   25 of 25 files downloaded.  4m\u001b[1mwandb\u001b[0m: \\ 1 of 25 files downloaded...\n",
      "\u001b[34m\u001b[1mwandb\u001b[0m:   20 of 20 files downloaded.  4m\u001b[1mwandb\u001b[0m: \\ 1 of 20 files downloaded...\n",
      "100%|██████████| 15/15 [00:25<00:00,  1.69s/it]\n"
     ]
    }
   ],
   "source": [
    "from text3d2video.experiment_analysis import VideoTraces\n",
    "\n",
    "run_data = map_array(runs_grouped, VideoTraces.from_run, pbar=True)"
   ]
  },
  {
   "cell_type": "code",
   "execution_count": 61,
   "metadata": {},
   "outputs": [
    {
     "name": "stdout",
     "output_type": "stream",
     "text": [
      "Moviepy - Building video benchmark_big.mp4.\n",
      "Moviepy - Writing video benchmark_big.mp4\n",
      "\n"
     ]
    },
    {
     "name": "stderr",
     "output_type": "stream",
     "text": [
      "                                                            \r"
     ]
    },
    {
     "name": "stdout",
     "output_type": "stream",
     "text": [
      "Moviepy - Done !\n",
      "Moviepy - video ready benchmark_big.mp4\n"
     ]
    }
   ],
   "source": [
    "from text3d2video.utilities.video_comparison import video_grid\n",
    "from text3d2video.utilities.video_util import pil_frames_to_clip\n",
    "\n",
    "\n",
    "run_data.shape\n",
    "\n",
    "vids = map_array(run_data, lambda run: pil_frames_to_clip(run.frames))\n",
    "vid = video_grid(vids)\n",
    "\n",
    "vid.write_videofile(\"benchmark_big.mp4\")"
   ]
  },
  {
   "cell_type": "code",
   "execution_count": null,
   "metadata": {},
   "outputs": [],
   "source": [
    "from einops import rearrange\n",
    "from text3d2video.util import map_object_array, object_array\n",
    "\n",
    "frame_indices = [0, 1, 2, 3]\n",
    "\n",
    "ims = map_object_array(\n",
    "    run_data, lambda x: object_array(index_list(x.frames, frame_indices))\n",
    ")\n",
    "ims = rearrange(ims, \"method scene frame -> scene method frame\")"
   ]
  },
  {
   "cell_type": "code",
   "execution_count": 36,
   "metadata": {},
   "outputs": [
    {
     "ename": "TypeError",
     "evalue": "Image data of dtype object cannot be converted to float",
     "output_type": "error",
     "traceback": [
      "\u001b[0;31m---------------------------------------------------------------------------\u001b[0m",
      "\u001b[0;31mTypeError\u001b[0m                                 Traceback (most recent call last)",
      "Cell \u001b[0;32mIn[36], line 8\u001b[0m\n\u001b[1;32m      5\u001b[0m fig, axs \u001b[38;5;241m=\u001b[39m make_grid(\u001b[38;5;28mlist\u001b[39m(ims\u001b[38;5;241m.\u001b[39mshape), dim_labels\u001b[38;5;241m=\u001b[39m{\u001b[38;5;241m1\u001b[39m: method_labels}, scale\u001b[38;5;241m=\u001b[39m\u001b[38;5;241m3\u001b[39m)\n\u001b[1;32m      7\u001b[0m \u001b[38;5;28;01mfor\u001b[39;00m idx, ax \u001b[38;5;129;01min\u001b[39;00m np\u001b[38;5;241m.\u001b[39mndenumerate(axs):\n\u001b[0;32m----> 8\u001b[0m     \u001b[43max\u001b[49m\u001b[38;5;241;43m.\u001b[39;49m\u001b[43mimshow\u001b[49m\u001b[43m(\u001b[49m\u001b[43mims\u001b[49m\u001b[43m[\u001b[49m\u001b[43midx\u001b[49m\u001b[43m]\u001b[49m\u001b[43m)\u001b[49m\n\u001b[1;32m     10\u001b[0m plt\u001b[38;5;241m.\u001b[39msavefig(\u001b[38;5;124m\"\u001b[39m\u001b[38;5;124mouts/mpl_figs/benchmark_qual.png\u001b[39m\u001b[38;5;124m\"\u001b[39m, bbox_inches\u001b[38;5;241m=\u001b[39m\u001b[38;5;124m\"\u001b[39m\u001b[38;5;124mtight\u001b[39m\u001b[38;5;124m\"\u001b[39m, dpi\u001b[38;5;241m=\u001b[39m\u001b[38;5;241m200\u001b[39m)\n",
      "File \u001b[0;32m~/miniconda3/envs/thesis4/lib/python3.9/site-packages/matplotlib/__init__.py:1473\u001b[0m, in \u001b[0;36m_preprocess_data.<locals>.inner\u001b[0;34m(ax, data, *args, **kwargs)\u001b[0m\n\u001b[1;32m   1470\u001b[0m \u001b[38;5;129m@functools\u001b[39m\u001b[38;5;241m.\u001b[39mwraps(func)\n\u001b[1;32m   1471\u001b[0m \u001b[38;5;28;01mdef\u001b[39;00m \u001b[38;5;21minner\u001b[39m(ax, \u001b[38;5;241m*\u001b[39margs, data\u001b[38;5;241m=\u001b[39m\u001b[38;5;28;01mNone\u001b[39;00m, \u001b[38;5;241m*\u001b[39m\u001b[38;5;241m*\u001b[39mkwargs):\n\u001b[1;32m   1472\u001b[0m     \u001b[38;5;28;01mif\u001b[39;00m data \u001b[38;5;129;01mis\u001b[39;00m \u001b[38;5;28;01mNone\u001b[39;00m:\n\u001b[0;32m-> 1473\u001b[0m         \u001b[38;5;28;01mreturn\u001b[39;00m \u001b[43mfunc\u001b[49m\u001b[43m(\u001b[49m\n\u001b[1;32m   1474\u001b[0m \u001b[43m            \u001b[49m\u001b[43max\u001b[49m\u001b[43m,\u001b[49m\n\u001b[1;32m   1475\u001b[0m \u001b[43m            \u001b[49m\u001b[38;5;241;43m*\u001b[39;49m\u001b[38;5;28;43mmap\u001b[39;49m\u001b[43m(\u001b[49m\u001b[43msanitize_sequence\u001b[49m\u001b[43m,\u001b[49m\u001b[43m \u001b[49m\u001b[43margs\u001b[49m\u001b[43m)\u001b[49m\u001b[43m,\u001b[49m\n\u001b[1;32m   1476\u001b[0m \u001b[43m            \u001b[49m\u001b[38;5;241;43m*\u001b[39;49m\u001b[38;5;241;43m*\u001b[39;49m\u001b[43m{\u001b[49m\u001b[43mk\u001b[49m\u001b[43m:\u001b[49m\u001b[43m \u001b[49m\u001b[43msanitize_sequence\u001b[49m\u001b[43m(\u001b[49m\u001b[43mv\u001b[49m\u001b[43m)\u001b[49m\u001b[43m \u001b[49m\u001b[38;5;28;43;01mfor\u001b[39;49;00m\u001b[43m \u001b[49m\u001b[43mk\u001b[49m\u001b[43m,\u001b[49m\u001b[43m \u001b[49m\u001b[43mv\u001b[49m\u001b[43m \u001b[49m\u001b[38;5;129;43;01min\u001b[39;49;00m\u001b[43m \u001b[49m\u001b[43mkwargs\u001b[49m\u001b[38;5;241;43m.\u001b[39;49m\u001b[43mitems\u001b[49m\u001b[43m(\u001b[49m\u001b[43m)\u001b[49m\u001b[43m}\u001b[49m\u001b[43m)\u001b[49m\n\u001b[1;32m   1478\u001b[0m     bound \u001b[38;5;241m=\u001b[39m new_sig\u001b[38;5;241m.\u001b[39mbind(ax, \u001b[38;5;241m*\u001b[39margs, \u001b[38;5;241m*\u001b[39m\u001b[38;5;241m*\u001b[39mkwargs)\n\u001b[1;32m   1479\u001b[0m     auto_label \u001b[38;5;241m=\u001b[39m (bound\u001b[38;5;241m.\u001b[39marguments\u001b[38;5;241m.\u001b[39mget(label_namer)\n\u001b[1;32m   1480\u001b[0m                   \u001b[38;5;129;01mor\u001b[39;00m bound\u001b[38;5;241m.\u001b[39mkwargs\u001b[38;5;241m.\u001b[39mget(label_namer))\n",
      "File \u001b[0;32m~/miniconda3/envs/thesis4/lib/python3.9/site-packages/matplotlib/axes/_axes.py:5895\u001b[0m, in \u001b[0;36mAxes.imshow\u001b[0;34m(self, X, cmap, norm, aspect, interpolation, alpha, vmin, vmax, origin, extent, interpolation_stage, filternorm, filterrad, resample, url, **kwargs)\u001b[0m\n\u001b[1;32m   5892\u001b[0m \u001b[38;5;28;01mif\u001b[39;00m aspect \u001b[38;5;129;01mis\u001b[39;00m \u001b[38;5;129;01mnot\u001b[39;00m \u001b[38;5;28;01mNone\u001b[39;00m:\n\u001b[1;32m   5893\u001b[0m     \u001b[38;5;28mself\u001b[39m\u001b[38;5;241m.\u001b[39mset_aspect(aspect)\n\u001b[0;32m-> 5895\u001b[0m \u001b[43mim\u001b[49m\u001b[38;5;241;43m.\u001b[39;49m\u001b[43mset_data\u001b[49m\u001b[43m(\u001b[49m\u001b[43mX\u001b[49m\u001b[43m)\u001b[49m\n\u001b[1;32m   5896\u001b[0m im\u001b[38;5;241m.\u001b[39mset_alpha(alpha)\n\u001b[1;32m   5897\u001b[0m \u001b[38;5;28;01mif\u001b[39;00m im\u001b[38;5;241m.\u001b[39mget_clip_path() \u001b[38;5;129;01mis\u001b[39;00m \u001b[38;5;28;01mNone\u001b[39;00m:\n\u001b[1;32m   5898\u001b[0m     \u001b[38;5;66;03m# image does not already have clipping set, clip to Axes patch\u001b[39;00m\n",
      "File \u001b[0;32m~/miniconda3/envs/thesis4/lib/python3.9/site-packages/matplotlib/image.py:729\u001b[0m, in \u001b[0;36m_ImageBase.set_data\u001b[0;34m(self, A)\u001b[0m\n\u001b[1;32m    727\u001b[0m \u001b[38;5;28;01mif\u001b[39;00m \u001b[38;5;28misinstance\u001b[39m(A, PIL\u001b[38;5;241m.\u001b[39mImage\u001b[38;5;241m.\u001b[39mImage):\n\u001b[1;32m    728\u001b[0m     A \u001b[38;5;241m=\u001b[39m pil_to_array(A)  \u001b[38;5;66;03m# Needed e.g. to apply png palette.\u001b[39;00m\n\u001b[0;32m--> 729\u001b[0m \u001b[38;5;28mself\u001b[39m\u001b[38;5;241m.\u001b[39m_A \u001b[38;5;241m=\u001b[39m \u001b[38;5;28;43mself\u001b[39;49m\u001b[38;5;241;43m.\u001b[39;49m\u001b[43m_normalize_image_array\u001b[49m\u001b[43m(\u001b[49m\u001b[43mA\u001b[49m\u001b[43m)\u001b[49m\n\u001b[1;32m    730\u001b[0m \u001b[38;5;28mself\u001b[39m\u001b[38;5;241m.\u001b[39m_imcache \u001b[38;5;241m=\u001b[39m \u001b[38;5;28;01mNone\u001b[39;00m\n\u001b[1;32m    731\u001b[0m \u001b[38;5;28mself\u001b[39m\u001b[38;5;241m.\u001b[39mstale \u001b[38;5;241m=\u001b[39m \u001b[38;5;28;01mTrue\u001b[39;00m\n",
      "File \u001b[0;32m~/miniconda3/envs/thesis4/lib/python3.9/site-packages/matplotlib/image.py:692\u001b[0m, in \u001b[0;36m_ImageBase._normalize_image_array\u001b[0;34m(A)\u001b[0m\n\u001b[1;32m    690\u001b[0m A \u001b[38;5;241m=\u001b[39m cbook\u001b[38;5;241m.\u001b[39msafe_masked_invalid(A, copy\u001b[38;5;241m=\u001b[39m\u001b[38;5;28;01mTrue\u001b[39;00m)\n\u001b[1;32m    691\u001b[0m \u001b[38;5;28;01mif\u001b[39;00m A\u001b[38;5;241m.\u001b[39mdtype \u001b[38;5;241m!=\u001b[39m np\u001b[38;5;241m.\u001b[39muint8 \u001b[38;5;129;01mand\u001b[39;00m \u001b[38;5;129;01mnot\u001b[39;00m np\u001b[38;5;241m.\u001b[39mcan_cast(A\u001b[38;5;241m.\u001b[39mdtype, \u001b[38;5;28mfloat\u001b[39m, \u001b[38;5;124m\"\u001b[39m\u001b[38;5;124msame_kind\u001b[39m\u001b[38;5;124m\"\u001b[39m):\n\u001b[0;32m--> 692\u001b[0m     \u001b[38;5;28;01mraise\u001b[39;00m \u001b[38;5;167;01mTypeError\u001b[39;00m(\u001b[38;5;124mf\u001b[39m\u001b[38;5;124m\"\u001b[39m\u001b[38;5;124mImage data of dtype \u001b[39m\u001b[38;5;132;01m{\u001b[39;00mA\u001b[38;5;241m.\u001b[39mdtype\u001b[38;5;132;01m}\u001b[39;00m\u001b[38;5;124m cannot be \u001b[39m\u001b[38;5;124m\"\u001b[39m\n\u001b[1;32m    693\u001b[0m                     \u001b[38;5;124mf\u001b[39m\u001b[38;5;124m\"\u001b[39m\u001b[38;5;124mconverted to float\u001b[39m\u001b[38;5;124m\"\u001b[39m)\n\u001b[1;32m    694\u001b[0m \u001b[38;5;28;01mif\u001b[39;00m A\u001b[38;5;241m.\u001b[39mndim \u001b[38;5;241m==\u001b[39m \u001b[38;5;241m3\u001b[39m \u001b[38;5;129;01mand\u001b[39;00m A\u001b[38;5;241m.\u001b[39mshape[\u001b[38;5;241m-\u001b[39m\u001b[38;5;241m1\u001b[39m] \u001b[38;5;241m==\u001b[39m \u001b[38;5;241m1\u001b[39m:\n\u001b[1;32m    695\u001b[0m     A \u001b[38;5;241m=\u001b[39m A\u001b[38;5;241m.\u001b[39msqueeze(\u001b[38;5;241m-\u001b[39m\u001b[38;5;241m1\u001b[39m)  \u001b[38;5;66;03m# If just (M, N, 1), assume scalar and apply colormap.\u001b[39;00m\n",
      "\u001b[0;31mTypeError\u001b[0m: Image data of dtype object cannot be converted to float"
     ]
    },
    {
     "data": {
      "image/png": "[encoded data removed]",
      "text/plain": [
       "<Figure size 1200x1800 with 24 Axes>"
      ]
     },
     "metadata": {},
     "output_type": "display_data"
    }
   ],
   "source": [
    "from matplotlib import pyplot as plt\n",
    "from text3d2video.utilities.matplotlib_utils import make_grid\n",
    "\n",
    "\n",
    "fig, axs = make_grid(list(ims.shape), dim_labels={1: method_labels}, scale=3)\n",
    "\n",
    "for idx, ax in np.ndenumerate(axs):\n",
    "    ax.imshow(ims[idx])\n",
    "\n",
    "plt.savefig(\"outs/mpl_figs/benchmark_qual.png\", bbox_inches=\"tight\", dpi=200)"
   ]
  }
 ],
 "metadata": {
  "kernelspec": {
   "display_name": "thesis4",
   "language": "python",
   "name": "python3"
  },
  "language_info": {
   "codemirror_mode": {
    "name": "ipython",
    "version": 3
   },
   "file_extension": ".py",
   "mimetype": "text/x-python",
   "name": "python",
   "nbconvert_exporter": "python",
   "pygments_lexer": "ipython3",
   "version": "3.9.20"
  }
 },
 "nbformat": 4,
 "nbformat_minor": 2
}
