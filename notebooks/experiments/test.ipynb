{
 "cells": [
  {
   "cell_type": "code",
   "execution_count": 1,
   "metadata": {},
   "outputs": [],
   "source": [
    "%load_ext autoreload\n",
    "%autoreload 2\n",
    "\n",
    "from text3d2video.pipelines.pipeline_utils import ModelConfig\n",
    "from text3d2video.pipelines.texgen_pipeline import TexGenConfig"
   ]
  },
  {
   "cell_type": "code",
   "execution_count": 2,
   "metadata": {},
   "outputs": [],
   "source": [
    "from omegaconf import OmegaConf\n",
    "from scripts.wandb_runs.run_texgen import RunTexGenConfig\n",
    "\n",
    "decoder_paths = [\n",
    "    \"mid_block.attentions.0.transformer_blocks.0.attn1\",\n",
    "    \"up_blocks.1.attentions.0.transformer_blocks.0.attn1\",\n",
    "    \"up_blocks.1.attentions.1.transformer_blocks.0.attn1\",\n",
    "    \"up_blocks.1.attentions.2.transformer_blocks.0.attn1\",\n",
    "    \"up_blocks.2.attentions.0.transformer_blocks.0.attn1\",\n",
    "    \"up_blocks.2.attentions.1.transformer_blocks.0.attn1\",\n",
    "    \"up_blocks.2.attentions.2.transformer_blocks.0.attn1\",\n",
    "    \"up_blocks.3.attentions.0.transformer_blocks.0.attn1\",\n",
    "    \"up_blocks.3.attentions.1.transformer_blocks.0.attn1\",\n",
    "    \"up_blocks.3.attentions.2.transformer_blocks.0.attn1\",\n",
    "]\n",
    "\n",
    "cfg = RunTexGenConfig(\n",
    "    prompt='metalic cat',\n",
    "    animation_tag='cat_mv:latest',\n",
    "    seed=0,\n",
    "    model=ModelConfig(),\n",
    "    texgen=TexGenConfig(\n",
    "        module_paths=decoder_paths\n",
    "    )\n",
    "\n",
    ")\n",
    "cfg = OmegaConf.structured(cfg)"
   ]
  },
  {
   "cell_type": "code",
   "execution_count": 6,
   "metadata": {},
   "outputs": [
    {
     "name": "stderr",
     "output_type": "stream",
     "text": [
      "\u001b[34m\u001b[1mwandb\u001b[0m:   4 of 4 files downloaded.  \n"
     ]
    },
    {
     "data": {
      "application/vnd.jupyter.widget-view+json": {
       "model_id": "a0e5a04b0e1946b7977bf0f36a144dd9",
       "version_major": 2,
       "version_minor": 0
      },
      "text/plain": [
       "Loading pipeline components...:   0%|          | 0/5 [00:00<?, ?it/s]"
      ]
     },
     "metadata": {},
     "output_type": "display_data"
    },
    {
     "name": "stderr",
     "output_type": "stream",
     "text": [
      "100%|██████████| 10/10 [00:25<00:00,  2.59s/it]\n"
     ]
    },
    {
     "name": "stdout",
     "output_type": "stream",
     "text": [
      "Moviepy - Building video /tmp/tmpv8blnvma.mp4.\n",
      "Moviepy - Writing video /tmp/tmpv8blnvma.mp4\n",
      "\n"
     ]
    },
    {
     "name": "stderr",
     "output_type": "stream",
     "text": [
      "                                                   \r"
     ]
    },
    {
     "name": "stdout",
     "output_type": "stream",
     "text": [
      "Moviepy - Done !\n",
      "Moviepy - video ready /tmp/tmpv8blnvma.mp4\n"
     ]
    },
    {
     "name": "stderr",
     "output_type": "stream",
     "text": [
      "\u001b[34m\u001b[1mwandb\u001b[0m: Adding directory to artifact (/tmp/local_artifacts/video/texture_frames)... Done. 0.0s\n"
     ]
    }
   ],
   "source": [
    "from scripts.wandb_runs.run_texgen import run_texgen\n",
    "from wandb_util.wandb_util import RunConfig, RunSpecification\n",
    "\n",
    "run_config = RunConfig(wandb=False)\n",
    "spec = RunSpecification('.', run_texgen, cfg, run_config)\n",
    "\n",
    "spec.launch()"
   ]
  }
 ],
 "metadata": {
  "kernelspec": {
   "display_name": "thesis4",
   "language": "python",
   "name": "python3"
  },
  "language_info": {
   "codemirror_mode": {
    "name": "ipython",
    "version": 3
   },
   "file_extension": ".py",
   "mimetype": "text/x-python",
   "name": "python",
   "nbconvert_exporter": "python",
   "pygments_lexer": "ipython3",
   "version": "3.9.20"
  }
 },
 "nbformat": 4,
 "nbformat_minor": 2
}
