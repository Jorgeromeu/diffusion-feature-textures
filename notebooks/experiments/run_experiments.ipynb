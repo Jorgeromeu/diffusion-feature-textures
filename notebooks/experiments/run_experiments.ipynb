{
 "cells": [
  {
   "cell_type": "code",
   "execution_count": 1,
   "metadata": {},
   "outputs": [],
   "source": [
    "%load_ext autoreload\n",
    "%autoreload 2\n",
    "\n",
    "from scripts.experiments.bad_poses import BadPosesExperiment\n",
    "from scripts.experiments.example_experiment import ExampleExperiment\n",
    "from scripts.experiments.reposable_diffusion_ablation import (\n",
    "    ReposableDiffusionAblationExperiment,\n",
    ")\n",
    "\n",
    "example_exp = ExampleExperiment()\n",
    "bad_poses = BadPosesExperiment()\n",
    "reposable_diffusion = ReposableDiffusionAblationExperiment()\n",
    "\n",
    "e = reposable_diffusion"
   ]
  },
  {
   "cell_type": "code",
   "execution_count": 2,
   "metadata": {},
   "outputs": [
    {
     "name": "stdout",
     "output_type": "stream",
     "text": [
      "generative_rendering.attend_to_self_kv    generative_rendering.do_post_attn_injection    generative_rendering.do_pre_attn_injection    source_frames.artifact_tag       target_frames.artifact_tag\n",
      "----------------------------------------  ---------------------------------------------  --------------------------------------------  -------------------------------  -------------------------------\n",
      "False                                     False                                          False                                         booty:latest                     booty:latest\n",
      "False                                     False                                          True                                          booty:latest                     booty:latest\n",
      "True                                      False                                          True                                          booty:latest                     booty:latest\n",
      "False                                     True                                           False                                         booty:latest                     booty:latest\n",
      "False                                     True                                           True                                          booty:latest                     booty:latest\n",
      "True                                      True                                           True                                          booty:latest                     booty:latest\n",
      "False                                     False                                          False                                         mixamo-human_barrel_roll:latest  mixamo-human_barrel_roll:latest\n",
      "False                                     False                                          True                                          mixamo-human_barrel_roll:latest  mixamo-human_barrel_roll:latest\n",
      "True                                      False                                          True                                          mixamo-human_barrel_roll:latest  mixamo-human_barrel_roll:latest\n",
      "False                                     True                                           False                                         mixamo-human_barrel_roll:latest  mixamo-human_barrel_roll:latest\n",
      "False                                     True                                           True                                          mixamo-human_barrel_roll:latest  mixamo-human_barrel_roll:latest\n",
      "True                                      True                                           True                                          mixamo-human_barrel_roll:latest  mixamo-human_barrel_roll:latest\n",
      "False                                     False                                          False                                         mixamo-human_barrel_roll:latest  mixamo-human_orth_pan:latest\n",
      "False                                     False                                          True                                          mixamo-human_barrel_roll:latest  mixamo-human_orth_pan:latest\n",
      "True                                      False                                          True                                          mixamo-human_barrel_roll:latest  mixamo-human_orth_pan:latest\n",
      "False                                     True                                           False                                         mixamo-human_barrel_roll:latest  mixamo-human_orth_pan:latest\n",
      "False                                     True                                           True                                          mixamo-human_barrel_roll:latest  mixamo-human_orth_pan:latest\n",
      "True                                      True                                           True                                          mixamo-human_barrel_roll:latest  mixamo-human_orth_pan:latest\n"
     ]
    }
   ],
   "source": [
    "e.print_distinctive_keys()"
   ]
  },
  {
   "cell_type": "code",
   "execution_count": 3,
   "metadata": {},
   "outputs": [
    {
     "name": "stdout",
     "output_type": "stream",
     "text": [
      "Would remove 12 runs\n",
      "name                    state\n",
      "----------------------  --------\n",
      "dazzling-valley-1516    finished\n",
      "happy-plasma-1517       finished\n",
      "fast-voice-1518         finished\n",
      "lemon-moon-1519         finished\n",
      "distinctive-brook-1520  finished\n",
      "grateful-dew-1521       finished\n",
      "golden-monkey-1522      finished\n",
      "comic-violet-1523       finished\n",
      "cerulean-forest-1524    finished\n",
      "eager-fog-1525          finished\n",
      "comfy-blaze-1526        finished\n",
      "sandy-dream-1527        finished\n",
      "Would execute 0 new runs\n"
     ]
    }
   ],
   "source": [
    "from text3d2video.experiment_util import runs_table\n",
    "\n",
    "e.execute_runs(dry_run=True)"
   ]
  },
  {
   "cell_type": "code",
   "execution_count": 6,
   "metadata": {},
   "outputs": [
    {
     "data": {
      "text/plain": [
       "[<Run romeu/diffusion-3D-features/419kkdq2 (finished)>,\n",
       " <Run romeu/diffusion-3D-features/7rsmcenx (finished)>,\n",
       " <Run romeu/diffusion-3D-features/8e6ir51l (finished)>,\n",
       " <Run romeu/diffusion-3D-features/chcj6kow (finished)>,\n",
       " <Run romeu/diffusion-3D-features/wuqfv0a8 (finished)>,\n",
       " <Run romeu/diffusion-3D-features/f9ln0bq6 (finished)>,\n",
       " <Run romeu/diffusion-3D-features/k5xf50xk (finished)>,\n",
       " <Run romeu/diffusion-3D-features/w9jg7gxd (finished)>,\n",
       " <Run romeu/diffusion-3D-features/4eum5e8x (finished)>,\n",
       " <Run romeu/diffusion-3D-features/ldp3n13t (finished)>,\n",
       " <Run romeu/diffusion-3D-features/slvbctka (finished)>,\n",
       " <Run romeu/diffusion-3D-features/236vtp9k (finished)>,\n",
       " <Run romeu/diffusion-3D-features/0xni6qk5 (finished)>,\n",
       " <Run romeu/diffusion-3D-features/79w0zi14 (finished)>,\n",
       " <Run romeu/diffusion-3D-features/0emd3ytz (finished)>,\n",
       " <Run romeu/diffusion-3D-features/16cxvk4r (finished)>,\n",
       " <Run romeu/diffusion-3D-features/db0di104 (finished)>,\n",
       " <Run romeu/diffusion-3D-features/w6ka12jy (finished)>,\n",
       " <Run romeu/diffusion-3D-features/vypjlwko (finished)>,\n",
       " <Run romeu/diffusion-3D-features/mhd5km9t (finished)>,\n",
       " <Run romeu/diffusion-3D-features/wgkxru20 (finished)>,\n",
       " <Run romeu/diffusion-3D-features/0b8plmh4 (finished)>,\n",
       " <Run romeu/diffusion-3D-features/um1nokef (finished)>,\n",
       " <Run romeu/diffusion-3D-features/eb9818tf (finished)>,\n",
       " <Run romeu/diffusion-3D-features/cie98x9v (finished)>,\n",
       " <Run romeu/diffusion-3D-features/oxnkv5hk (finished)>,\n",
       " <Run romeu/diffusion-3D-features/8q7i7tmt (finished)>,\n",
       " <Run romeu/diffusion-3D-features/azy2va31 (finished)>,\n",
       " <Run romeu/diffusion-3D-features/1aqloavw (finished)>,\n",
       " <Run romeu/diffusion-3D-features/i39nqd59 (finished)>,\n",
       " <Run romeu/diffusion-3D-features/6cciboqp (finished)>,\n",
       " <Run romeu/diffusion-3D-features/giv5ea8n (finished)>,\n",
       " <Run romeu/diffusion-3D-features/y8cdany2 (finished)>,\n",
       " <Run romeu/diffusion-3D-features/0gifxk9d (finished)>,\n",
       " <Run romeu/diffusion-3D-features/q2t07s2m (finished)>,\n",
       " <Run romeu/diffusion-3D-features/cbqthwg7 (finished)>]"
      ]
     },
     "execution_count": 6,
     "metadata": {},
     "output_type": "execute_result"
    }
   ],
   "source": [
    "e.get_logged_runs()"
   ]
  },
  {
   "cell_type": "code",
   "execution_count": 5,
   "metadata": {},
   "outputs": [
    {
     "name": "stdout",
     "output_type": "stream",
     "text": [
      "name                  state     generative_rendering.attend_to_self_kv    generative_rendering.do_pre_attn_injection    generative_rendering.do_post_attn_injection\n",
      "--------------------  --------  ----------------------------------------  --------------------------------------------  ---------------------------------------------\n",
      "dark-dew-1480         finished  False                                     False                                         False\n",
      "bright-blaze-1481     finished  False                                     True                                          False\n",
      "icy-oath-1482         finished  True                                      True                                          False\n",
      "decent-universe-1483  finished  False                                     False                                         True\n",
      "northern-water-1484   finished  False                                     True                                          True\n",
      "peachy-snow-1485      finished  True                                      True                                          True\n"
     ]
    }
   ],
   "source": [
    "runs = e.get_logged_runs(filters={f\"config.source_frames.artifact_tag\": \"booty:latest\"})\n",
    "\n",
    "runs_table(runs, show_distinctive_cofig=True)"
   ]
  },
  {
   "cell_type": "code",
   "execution_count": null,
   "metadata": {},
   "outputs": [
    {
     "name": "stdout",
     "output_type": "stream",
     "text": [
      "Moviepy - Building video __temp__.mp4.\n",
      "Moviepy - Writing video __temp__.mp4\n",
      "\n"
     ]
    },
    {
     "name": "stderr",
     "output_type": "stream",
     "text": [
      "t:  50%|█████     | 11/22 [00:01<00:01,  8.81it/s, now=None]"
     ]
    }
   ],
   "source": [
    "from text3d2video.clip_metrics import CLIPMetrics\n",
    "\n",
    "\n",
    "# clip_metrics = CLIPMetrics()\n",
    "\n",
    "video = e.video_comparison(runs=runs, with_text=True)\n",
    "video.ipython_display()"
   ]
  }
 ],
 "metadata": {
  "kernelspec": {
   "display_name": "thesis4",
   "language": "python",
   "name": "python3"
  },
  "language_info": {
   "codemirror_mode": {
    "name": "ipython",
    "version": 3
   },
   "file_extension": ".py",
   "mimetype": "text/x-python",
   "name": "python",
   "nbconvert_exporter": "python",
   "pygments_lexer": "ipython3",
   "version": "3.9.20"
  }
 },
 "nbformat": 4,
 "nbformat_minor": 2
}
