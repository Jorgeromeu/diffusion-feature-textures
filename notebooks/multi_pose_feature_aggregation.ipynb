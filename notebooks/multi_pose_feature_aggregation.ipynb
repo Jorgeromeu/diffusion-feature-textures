{
 "cells": [
  {
   "cell_type": "code",
   "execution_count": 36,
   "metadata": {},
   "outputs": [
    {
     "name": "stdout",
     "output_type": "stream",
     "text": [
      "The autoreload extension is already loaded. To reload it, use:\n",
      "  %reload_ext autoreload\n"
     ]
    }
   ],
   "source": [
    "%load_ext autoreload\n",
    "%autoreload 2\n",
    "\n",
    "import torch\n",
    "from diffusers import ControlNetModel\n",
    "\n",
    "from text3d2video.artifacts.animation_artifact import AnimationArtifact\n",
    "from text3d2video.ipython_utils import display_ims\n",
    "import torchvision.transforms.functional as TF\n",
    "from text3d2video.generative_rendering import GenerativeRenderingPipeline\n",
    "\n",
    "animation = AnimationArtifact.from_wandb_artifact_tag('joyful-jump:latest')"
   ]
  },
  {
   "cell_type": "code",
   "execution_count": 7,
   "metadata": {},
   "outputs": [
    {
     "name": "stderr",
     "output_type": "stream",
     "text": [
      "/home/jorge/miniconda3/envs/thesis4/lib/python3.9/site-packages/pytorch3d/io/obj_io.py:546: UserWarning: No mtl file provided\n",
      "  warnings.warn(\"No mtl file provided\")\n"
     ]
    }
   ],
   "source": [
    "from pytorch3d.io import load_obj\n",
    "\n",
    "device = torch.device(\"cuda\")\n",
    "verts, faces, aux = load_obj(animation.get_frame_path(1), device=device)"
   ]
  },
  {
   "cell_type": "code",
   "execution_count": 31,
   "metadata": {},
   "outputs": [],
   "source": [
    "from pytorch3d.renderer import TexturesUV\n",
    "from pytorch3d.structures import Meshes\n",
    "\n",
    "texture_res = 100\n",
    "empty_texture_map = torch.zeros((texture_res, texture_res, 3), device=device)\n",
    "\n",
    "\n",
    "tex = TexturesUV(\n",
    "    verts_uvs=[aux.verts_uvs.to(device)],\n",
    "    faces_uvs=[faces.textures_idx.to(device)],\n",
    "    maps=[empty_texture_map.to(device)],\n",
    ")\n",
    "\n",
    "mesh = Meshes(\n",
    "    verts=[verts.to(device)], faces=[faces.verts_idx.to(device)], textures=tex\n",
    ")"
   ]
  },
  {
   "cell_type": "code",
   "execution_count": 39,
   "metadata": {},
   "outputs": [
    {
     "data": {
      "image/png": "[encoded data removed]",
      "text/plain": [
       "<Figure size 100x100 with 1 Axes>"
      ]
     },
     "metadata": {},
     "output_type": "display_data"
    },
    {
     "data": {
      "text/plain": [
       "<Figure size 640x480 with 0 Axes>"
      ]
     },
     "metadata": {},
     "output_type": "display_data"
    }
   ],
   "source": [
    "from torchvision.io import read_image\n",
    "\n",
    "image = read_image(\"data/collins.png\")\n",
    "display_ims([TF.to_pil_image(image)])"
   ]
  },
  {
   "cell_type": "code",
   "execution_count": 63,
   "metadata": {},
   "outputs": [
    {
     "data": {
      "image/png": "[encoded data removed]",
      "text/plain": [
       "<Figure size 300x300 with 1 Axes>"
      ]
     },
     "metadata": {},
     "output_type": "display_data"
    },
    {
     "data": {
      "text/plain": [
       "<Figure size 640x480 with 0 Axes>"
      ]
     },
     "metadata": {},
     "output_type": "display_data"
    }
   ],
   "source": [
    "from einops import rearrange\n",
    "from text3d2video.ipython_utils import display_ims\n",
    "from text3d2video.rendering import make_feature_renderer\n",
    "from text3d2video.util import front_camera\n",
    "\n",
    "\n",
    "camera = front_camera()\n",
    "renderer = make_feature_renderer(camera, texture_res)\n",
    "\n",
    "render = renderer(mesh)\n",
    "render = TF.to_pil_image(rearrange(render, \"1 h w c -> c h w\"))\n",
    "\n",
    "display_ims([render], scale=3)"
   ]
  },
  {
   "cell_type": "code",
   "execution_count": 67,
   "metadata": {},
   "outputs": [
    {
     "name": "stdout",
     "output_type": "stream",
     "text": [
      "Elapsed time: 2.3124 seconds\n"
     ]
    }
   ],
   "source": [
    "from codetiming import Timer\n",
    "from torch import Tensor\n",
    "\n",
    "uv_coord = Tensor([0.5, 0.5]).to(device)\n",
    "\n",
    "with Timer() as t:\n",
    "\n",
    "    for triangle in mesh.faces_list()[0]:\n",
    "        # indices of each vert in the triangle \n",
    "        a, b, c = triangle\n",
    "\n",
    "        # get the uv coordinates of each vert in the triangle\n",
    "        uv_a = mesh.textures.verts_uvs_list()[0][a]\n",
    "        uv_b = mesh.textures.verts_uvs_list()[0][b]\n",
    "        uv_c = mesh.textures.verts_uvs_list()[0][c]\n",
    "\n",
    "        # calculate the barycentric coordinates of the uv_coord in the triangle\n",
    "        v0 = uv_b - uv_a"
   ]
  },
  {
   "cell_type": "code",
   "execution_count": 59,
   "metadata": {},
   "outputs": [],
   "source": [
    "triangle_indices = mesh.faces_list()[0]\n",
    "uvs = mesh.textures.verts_uvs_list()[0]\n",
    "triangles = uvs[triangle_indices]"
   ]
  },
  {
   "cell_type": "code",
   "execution_count": 81,
   "metadata": {},
   "outputs": [
    {
     "data": {
      "text/plain": [
       "tensor(-0.0197, device='cuda:0')"
      ]
     },
     "execution_count": 81,
     "metadata": {},
     "output_type": "execute_result"
    }
   ],
   "source": [
    "p = Tensor([0.5, 0.5])\n",
    "t = triangles[0]\n",
    "\n",
    "area_abc = 0.5 * (t[0][0] * (t[1][1] - t[2][1]) + t[1][0] * (t[2][1] - t[0][1]) + t[2][0] * (t[0][1] - t[1][1]))\n",
    "area_abc"
   ]
  }
 ],
 "metadata": {
  "kernelspec": {
   "display_name": "thesis4",
   "language": "python",
   "name": "python3"
  },
  "language_info": {
   "codemirror_mode": {
    "name": "ipython",
    "version": 3
   },
   "file_extension": ".py",
   "mimetype": "text/x-python",
   "name": "python",
   "nbconvert_exporter": "python",
   "pygments_lexer": "ipython3",
   "version": "3.9.20"
  }
 },
 "nbformat": 4,
 "nbformat_minor": 2
}
