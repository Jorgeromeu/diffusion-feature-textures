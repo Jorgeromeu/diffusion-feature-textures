{
 "cells": [
  {
   "cell_type": "code",
   "execution_count": 1,
   "metadata": {},
   "outputs": [],
   "source": [
    "%load_ext autoreload\n",
    "%autoreload 2\n",
    "\n",
    "from diffusers import ControlNetModel\n",
    "import torch"
   ]
  },
  {
   "cell_type": "code",
   "execution_count": 2,
   "metadata": {},
   "outputs": [
    {
     "data": {
      "application/vnd.jupyter.widget-view+json": {
       "model_id": "a1640658023a4f4c9523a1df7897f4a4",
       "version_major": 2,
       "version_minor": 0
      },
      "text/plain": [
       "Loading pipeline components...:   0%|          | 0/5 [00:00<?, ?it/s]"
      ]
     },
     "metadata": {},
     "output_type": "display_data"
    },
    {
     "name": "stderr",
     "output_type": "stream",
     "text": [
      "/home/jorge/miniconda3/envs/thesis4/lib/python3.9/site-packages/transformers/tokenization_utils_base.py:1617: FutureWarning: `clean_up_tokenization_spaces` was not set. It will be set to `True` by default. This behavior will be deprecated in transformers v4.45, and will be then set to `False` by default. For more details check this issue: https://github.com/huggingface/transformers/issues/31884\n",
      "  warnings.warn(\n"
     ]
    }
   ],
   "source": [
    "from text3d2video.generative_rendering import GenerativeRenderingPipeline\n",
    "\n",
    "sd_repo = \"runwayml/stable-diffusion-v1-5\"\n",
    "controlnet_repo = \"lllyasviel/control_v11f1p_sd15_depth\"\n",
    "\n",
    "device = torch.device(\"cuda\")\n",
    "dtype = torch.float16\n",
    "\n",
    "controlnet = ControlNetModel.from_pretrained(controlnet_repo, torch_dtype=dtype).to(\n",
    "    device\n",
    ")\n",
    "\n",
    "pipe = GenerativeRenderingPipeline.from_pretrained(\n",
    "    sd_repo, controlnet=controlnet, torch_dtype=dtype\n",
    ").to(device)"
   ]
  },
  {
   "cell_type": "code",
   "execution_count": 3,
   "metadata": {},
   "outputs": [
    {
     "name": "stderr",
     "output_type": "stream",
     "text": [
      "/home/jorge/miniconda3/envs/thesis4/lib/python3.9/site-packages/pytorch3d/io/obj_io.py:546: UserWarning: No mtl file provided\n",
      "  warnings.warn(\"No mtl file provided\")\n"
     ]
    }
   ],
   "source": [
    "from text3d2video.artifacts.animation_artifact import AnimationArtifact\n",
    "\n",
    "animation = AnimationArtifact.from_wandb_artifact_tag(\"joyful-jump:latest\")\n",
    "\n",
    "frame_nums = animation.frame_nums(50)\n",
    "frames = animation.load_frames(frame_nums)\n",
    "verts_uvs, faces_uvs = animation.texture_data()"
   ]
  },
  {
   "cell_type": "code",
   "execution_count": 5,
   "metadata": {},
   "outputs": [
    {
     "name": "stdout",
     "output_type": "stream",
     "text": [
      "torch.Size([2, 10, 4, 64, 64])\n",
      "torch.Size([2, 10, 4, 64, 64])\n",
      "torch.Size([2, 10, 4, 64, 64])\n",
      "torch.Size([2, 10, 4, 64, 64])\n",
      "torch.Size([2, 10, 4, 64, 64])\n",
      "torch.Size([2, 10, 4, 64, 64])\n"
     ]
    }
   ],
   "source": [
    "n_frames = 60\n",
    "latents = pipe.prepare_latents(n_frames, 512)\n",
    "\n",
    "latents_stacked = torch.stack([latents] * 2)\n",
    "latents_stacked.shape\n",
    "\n",
    "chunk_size = 10\n",
    "\n",
    "for chunk_latents in latents_stacked.split(chunk_size, dim=1):\n",
    "    print(chunk_latents.shape)"
   ]
  },
  {
   "cell_type": "code",
   "execution_count": 10,
   "metadata": {},
   "outputs": [
    {
     "data": {
      "text/plain": [
       "(tensor([0, 1, 2, 3, 4, 5, 6, 7, 8, 9]),\n",
       " tensor([10, 11, 12, 13, 14, 15, 16, 17, 18, 19]),\n",
       " tensor([20, 21, 22, 23, 24, 25, 26, 27, 28, 29]),\n",
       " tensor([30, 31, 32, 33, 34, 35, 36, 37, 38, 39]),\n",
       " tensor([40, 41, 42, 43, 44, 45, 46, 47, 48, 49]),\n",
       " tensor([50, 51, 52, 53, 54, 55, 56, 57, 58, 59]))"
      ]
     },
     "execution_count": 10,
     "metadata": {},
     "output_type": "execute_result"
    }
   ],
   "source": [
    "torch.split(torch.arange(0, 60), 10)"
   ]
  }
 ],
 "metadata": {
  "kernelspec": {
   "display_name": "thesis4",
   "language": "python",
   "name": "python3"
  },
  "language_info": {
   "codemirror_mode": {
    "name": "ipython",
    "version": 3
   },
   "file_extension": ".py",
   "mimetype": "text/x-python",
   "name": "python",
   "nbconvert_exporter": "python",
   "pygments_lexer": "ipython3",
   "version": "3.9.20"
  }
 },
 "nbformat": 4,
 "nbformat_minor": 2
}
