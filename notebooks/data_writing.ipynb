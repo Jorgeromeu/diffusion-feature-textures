{
 "cells": [
  {
   "cell_type": "code",
   "execution_count": 5,
   "metadata": {},
   "outputs": [
    {
     "name": "stdout",
     "output_type": "stream",
     "text": [
      "latents/time_0/frame_0 (4, 64, 64)\n"
     ]
    }
   ],
   "source": [
    "import torch\n",
    "from text3d2video.artifacts.diffusion_data import DiffusionDataManager, LatentsWriter\n",
    "\n",
    "data_manager = DiffusionDataManager(\"h5_file.h5\", enabled=True)\n",
    "latent_writer = LatentsWriter(data_manager, \"latents\")\n",
    "\n",
    "data_manager.save_frame_indices = [0]\n",
    "data_manager.save_noise_levels = [0]\n",
    "\n",
    "data_manager.begin_recording()\n",
    "\n",
    "latent_writer.write_latent(0, 0, torch.randn(4, 64, 64))\n",
    "\n",
    "data_manager.end_recording()\n",
    "\n",
    "data_manager.print_datasets()"
   ]
  },
  {
   "cell_type": "code",
   "execution_count": 35,
   "metadata": {},
   "outputs": [
    {
     "name": "stdout",
     "output_type": "stream",
     "text": [
      "latents/time_0/frame_0 (4, 64, 64)\n"
     ]
    }
   ],
   "source": [
    "class StyleAlignedWriter(DiffusionDataManager):\n",
    "    def __init__(self, h5_file_path):\n",
    "        super().__init__(h5_file_path, enabled=True)\n",
    "\n",
    "        self.save_frame_indices = [0]\n",
    "        self.save_noise_levels = [0]\n",
    "        self.latents_writer = LatentsWriter(self, data_path=\"latents\", enabled=True)\n",
    "\n",
    "writer = StyleAlignedWriter(\"h5_file.h5\")\n",
    "writer.begin_recording()\n",
    "writer.latents_writer.write_latent(0, 0, torch.randn(4, 64, 64))\n",
    "writer.end_recording()\n",
    "\n",
    "writer.print_datasets()"
   ]
  }
 ],
 "metadata": {
  "kernelspec": {
   "display_name": "thesis4",
   "language": "python",
   "name": "python3"
  },
  "language_info": {
   "codemirror_mode": {
    "name": "ipython",
    "version": 3
   },
   "file_extension": ".py",
   "mimetype": "text/x-python",
   "name": "python",
   "nbconvert_exporter": "python",
   "pygments_lexer": "ipython3",
   "version": "3.9.20"
  }
 },
 "nbformat": 4,
 "nbformat_minor": 2
}
