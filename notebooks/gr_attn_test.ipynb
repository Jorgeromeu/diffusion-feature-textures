{
 "cells": [
  {
   "cell_type": "code",
   "execution_count": 1,
   "metadata": {},
   "outputs": [
    {
     "data": {
      "application/vnd.jupyter.widget-view+json": {
       "model_id": "3dd142e3c1434e5b823a683bf30b31cd",
       "version_major": 2,
       "version_minor": 0
      },
      "text/plain": [
       "Loading pipeline components...:   0%|          | 0/5 [00:00<?, ?it/s]"
      ]
     },
     "metadata": {},
     "output_type": "display_data"
    }
   ],
   "source": [
    "%load_ext autoreload\n",
    "%autoreload 2\n",
    "\n",
    "# load pipeline\n",
    "from diffusers.models import ControlNetModel\n",
    "from diffusers.schedulers import DPMSolverMultistepScheduler\n",
    "import torch\n",
    "\n",
    "from text3d2video.generative_rendering.configs import GenerativeRenderingConfig\n",
    "from dataclasses import replace\n",
    "from text3d2video.generative_rendering.generative_rendering_pipeline import (\n",
    "    GenerativeRenderingPipeline,\n",
    ")\n",
    "from text3d2video.generative_rendering.generative_rendering_attn import (\n",
    "    GenerativeRenderingAttn,\n",
    ")\n",
    "from text3d2video.generative_rendering.generative_rendering_attn import GrAttentionMode\n",
    "\n",
    "device = torch.device(\"cuda\")\n",
    "dtype = torch.float16\n",
    "\n",
    "sd_repo = \"runwayml/stable-diffusion-v1-5\"\n",
    "controlnet_repo = \"lllyasviel/control_v11f1p_sd15_depth\"\n",
    "\n",
    "controlnet = ControlNetModel.from_pretrained(controlnet_repo, torch_dtype=dtype).to(\n",
    "    device\n",
    ")\n",
    "\n",
    "module_paths = [\n",
    "      \"down_blocks.0.attentions.0.transformer_blocks.0.attn1\",\n",
    "      \"down_blocks.0.attentions.1.transformer_blocks.0.attn1\",\n",
    "      \"down_blocks.1.attentions.0.transformer_blocks.0.attn1\",\n",
    "      \"down_blocks.1.attentions.1.transformer_blocks.0.attn1\",\n",
    "      \"down_blocks.2.attentions.0.transformer_blocks.0.attn1\",\n",
    "      \"down_blocks.2.attentions.1.transformer_blocks.0.attn1\",\n",
    "      \"mid_block.attentions.0.transformer_blocks.0.attn1\",\n",
    "      \"up_blocks.1.attentions.0.transformer_blocks.0.attn1\",\n",
    "      \"up_blocks.1.attentions.1.transformer_blocks.0.attn1\",\n",
    "      \"up_blocks.1.attentions.2.transformer_blocks.0.attn1\",\n",
    "      \"up_blocks.2.attentions.0.transformer_blocks.0.attn1\",\n",
    "      \"up_blocks.2.attentions.1.transformer_blocks.0.attn1\",\n",
    "      \"up_blocks.2.attentions.2.transformer_blocks.0.attn1\",\n",
    "      \"up_blocks.3.attentions.0.transformer_blocks.0.attn1\",\n",
    "      \"up_blocks.3.attentions.1.transformer_blocks.0.attn1\",\n",
    "      \"up_blocks.3.attentions.2.transformer_blocks.0.attn1\",\n",
    "]\n",
    "\n",
    "gr_config = GenerativeRenderingConfig(\n",
    "    seed= 0,\n",
    "    resolution=512,\n",
    "    do_pre_attn_injection= True,\n",
    "    do_post_attn_injection= False,\n",
    "    feature_blend_alpha= 0.5,\n",
    "    attend_to_self_kv= False,\n",
    "    mean_features_weight= 0.5,\n",
    "    chunk_size = 5,\n",
    "    num_keyframes = 4,\n",
    "    num_inference_steps = 10,\n",
    "    guidance_scale = 7.5,\n",
    "    controlnet_conditioning_scale = 1.0,\n",
    "    module_paths = module_paths\n",
    ")\n",
    "\n",
    "pipe: GenerativeRenderingPipeline = GenerativeRenderingPipeline.from_pretrained(\n",
    "    sd_repo, controlnet=controlnet, torch_dtype=dtype, gr_config=gr_config\n",
    ").to(device)\n",
    "\n",
    "pipe.scheduler = DPMSolverMultistepScheduler.from_config(pipe.scheduler.config)"
   ]
  },
  {
   "cell_type": "code",
   "execution_count": 2,
   "metadata": {},
   "outputs": [],
   "source": [
    "attn = pipe.unet.down_blocks[0].attentions[0].transformer_blocks[0].attn1"
   ]
  },
  {
   "cell_type": "code",
   "execution_count": 14,
   "metadata": {},
   "outputs": [],
   "source": [
    "# feature extraction, enabled layer\n",
    "\n",
    "H = 64\n",
    "d = attn.to_q.in_features\n",
    "T = H * H\n",
    "B = 2\n",
    "F = 5\n",
    "\n",
    "processor = GenerativeRenderingAttn(\n",
    "    pipe.unet,\n",
    "    gr_config,\n",
    ")\n",
    "processor.gr_config = gr_config\n",
    "\n",
    "x = torch.randn(B * F, T, d).cuda().to(dtype)\n",
    "\n",
    "processor.gr_attn_mode = GrAttentionMode.FEATURE_EXTRACTION\n",
    "attn.processor = processor\n",
    "y = attn(x)\n",
    "\n",
    "processor.pre_attn_features\n",
    "\n",
    "pre_attn_features = list(processor.pre_attn_features.values())[0]\n",
    "post_attn_features = list(processor.post_attn_features.values())[0]\n",
    "\n",
    "assert len(processor.pre_attn_features) == 1\n",
    "assert len(processor.post_attn_features) == 1\n",
    "\n",
    "assert pre_attn_features.shape == (B, F * T, d)\n",
    "assert post_attn_features.shape == (B, F, d, H, H)"
   ]
  },
  {
   "cell_type": "code",
   "execution_count": 34,
   "metadata": {},
   "outputs": [
    {
     "name": "stdout",
     "output_type": "stream",
     "text": [
      "{}\n",
      "{}\n"
     ]
    }
   ],
   "source": [
    "# feature extraction, disabled layer\n",
    "\n",
    "test_config = replace(gr_config)\n",
    "\n",
    "# remove module paths from config\n",
    "test_config.module_paths = []\n",
    "\n",
    "processor = GenerativeRenderingAttn(\n",
    "    pipe.unet,\n",
    "    test_config,\n",
    ")\n",
    "\n",
    "processor.gr_attn_mode = GrAttentionMode.FEATURE_EXTRACTION\n",
    "attn.processor = processor\n",
    "y = attn(x)\n",
    "\n",
    "\n",
    "print(processor.pre_attn_features)\n",
    "print(processor.post_attn_features)\n",
    "\n",
    "assert(processor.pre_attn_features == {})\n",
    "assert(processor.post_attn_features == {})"
   ]
  },
  {
   "cell_type": "code",
   "execution_count": 37,
   "metadata": {},
   "outputs": [
    {
     "data": {
      "text/plain": [
       "torch.Size([10, 4096, 320])"
      ]
     },
     "execution_count": 37,
     "metadata": {},
     "output_type": "execute_result"
    }
   ],
   "source": [
    "# feature injection\n",
    "test_config = replace(gr_config)\n",
    "\n",
    "processor = GenerativeRenderingAttn(\n",
    "    pipe.unet,\n",
    "    test_config,\n",
    ")\n",
    "\n",
    "processor.gr_attn_mode = GrAttentionMode.FEATURE_INJECTION\n",
    "\n",
    "attn.processor = processor\n",
    "y = attn(x)\n",
    "\n",
    "y.shape"
   ]
  },
  {
   "cell_type": "code",
   "execution_count": 76,
   "metadata": {},
   "outputs": [
    {
     "data": {
      "text/plain": [
       "True"
      ]
     },
     "execution_count": 76,
     "metadata": {},
     "output_type": "execute_result"
    }
   ],
   "source": []
  }
 ],
 "metadata": {
  "kernelspec": {
   "display_name": "thesis4",
   "language": "python",
   "name": "python3"
  },
  "language_info": {
   "codemirror_mode": {
    "name": "ipython",
    "version": 3
   },
   "file_extension": ".py",
   "mimetype": "text/x-python",
   "name": "python",
   "nbconvert_exporter": "python",
   "pygments_lexer": "ipython3",
   "version": "3.9.20"
  }
 },
 "nbformat": 4,
 "nbformat_minor": 2
}
