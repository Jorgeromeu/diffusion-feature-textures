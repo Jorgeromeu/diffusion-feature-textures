{
 "cells": [
  {
   "cell_type": "code",
   "execution_count": 45,
   "metadata": {},
   "outputs": [
    {
     "name": "stdout",
     "output_type": "stream",
     "text": [
      "The autoreload extension is already loaded. To reload it, use:\n",
      "  %reload_ext autoreload\n"
     ]
    },
    {
     "data": {
      "application/vnd.jupyter.widget-view+json": {
       "model_id": "25aa65dce69c4ad0872bab4a1447cbaa",
       "version_major": 2,
       "version_minor": 0
      },
      "text/plain": [
       "Loading pipeline components...:   0%|          | 0/5 [00:00<?, ?it/s]"
      ]
     },
     "metadata": {},
     "output_type": "display_data"
    }
   ],
   "source": [
    "%load_ext autoreload\n",
    "%autoreload 2\n",
    "\n",
    "# load pipeline\n",
    "from diffusers.models import ControlNetModel\n",
    "from diffusers.schedulers import DPMSolverMultistepScheduler\n",
    "import torch\n",
    "\n",
    "from text3d2video.generative_rendering.configs import GenerativeRenderingConfig\n",
    "from text3d2video.generative_rendering.generative_rendering_pipeline import (\n",
    "    GenerativeRenderingPipeline,\n",
    ")\n",
    "from text3d2video.generative_rendering.generative_rendering_attn import (\n",
    "    GenerativeRenderingAttn,\n",
    ")\n",
    "\n",
    "device = torch.device(\"cuda\")\n",
    "dtype = torch.float16\n",
    "\n",
    "sd_repo = \"runwayml/stable-diffusion-v1-5\"\n",
    "controlnet_repo = \"lllyasviel/control_v11f1p_sd15_depth\"\n",
    "\n",
    "controlnet = ControlNetModel.from_pretrained(controlnet_repo, torch_dtype=dtype).to(\n",
    "    device\n",
    ")\n",
    "\n",
    "module_paths = [\n",
    "      \"down_blocks.0.attentions.0.transformer_blocks.0.attn1\",\n",
    "      \"down_blocks.0.attentions.1.transformer_blocks.0.attn1\",\n",
    "      \"down_blocks.1.attentions.0.transformer_blocks.0.attn1\",\n",
    "      \"down_blocks.1.attentions.1.transformer_blocks.0.attn1\",\n",
    "      \"down_blocks.2.attentions.0.transformer_blocks.0.attn1\",\n",
    "      \"down_blocks.2.attentions.1.transformer_blocks.0.attn1\",\n",
    "      \"mid_block.attentions.0.transformer_blocks.0.attn1\",\n",
    "      \"up_blocks.1.attentions.0.transformer_blocks.0.attn1\",\n",
    "      \"up_blocks.1.attentions.1.transformer_blocks.0.attn1\",\n",
    "      \"up_blocks.1.attentions.2.transformer_blocks.0.attn1\",\n",
    "      \"up_blocks.2.attentions.0.transformer_blocks.0.attn1\",\n",
    "      \"up_blocks.2.attentions.1.transformer_blocks.0.attn1\",\n",
    "      \"up_blocks.2.attentions.2.transformer_blocks.0.attn1\",\n",
    "      \"up_blocks.3.attentions.0.transformer_blocks.0.attn1\",\n",
    "      \"up_blocks.3.attentions.1.transformer_blocks.0.attn1\",\n",
    "      \"up_blocks.3.attentions.2.transformer_blocks.0.attn1\",\n",
    "]\n",
    "\n",
    "gr_config = GenerativeRenderingConfig(\n",
    "    seed= 0,\n",
    "    resolution=512,\n",
    "    do_pre_attn_injection= True,\n",
    "    do_post_attn_injection= True,\n",
    "    feature_blend_alpha= 0.5,\n",
    "    attend_to_self_kv= False,\n",
    "    mean_features_weight= 0.5,\n",
    "    chunk_size = 5,\n",
    "    num_keyframes = 4,\n",
    "    num_inference_steps = 10,\n",
    "    guidance_scale = 7.5,\n",
    "    controlnet_conditioning_scale = 1.0,\n",
    "    module_paths = module_paths\n",
    ")\n",
    "\n",
    "pipe: GenerativeRenderingPipeline = GenerativeRenderingPipeline.from_pretrained(\n",
    "    sd_repo, controlnet=controlnet, torch_dtype=dtype\n",
    ").to(device)\n",
    "\n",
    "pipe.scheduler = DPMSolverMultistepScheduler.from_config(pipe.scheduler.config)"
   ]
  },
  {
   "cell_type": "code",
   "execution_count": 47,
   "metadata": {},
   "outputs": [],
   "source": [
    "from text3d2video.sd_feature_extraction import get_module_from_path\n",
    "\n",
    "module_path = module_paths[0]\n",
    "attn = get_module_from_path(pipe.unet, module_path)"
   ]
  },
  {
   "cell_type": "code",
   "execution_count": 48,
   "metadata": {},
   "outputs": [],
   "source": [
    "# feature extraction, enabled layer\n",
    "\n",
    "from text3d2video.artifacts.gr_data import GrDataArtifact\n",
    "from text3d2video.generative_rendering.configs import GrSaveConfig\n",
    "from text3d2video.generative_rendering.generative_rendering_attn import GrAttnMode\n",
    "\n",
    "# create input feature map\n",
    "H = 64\n",
    "d = attn.to_q.in_features\n",
    "T = H * H\n",
    "B = 2\n",
    "F = 5\n",
    "\n",
    "x = torch.randn(B * F, T, d).cuda().to(dtype)\n",
    "\n",
    "gr_save_config = GrSaveConfig(\n",
    "    enabled=True,\n",
    "    save_latents=False,\n",
    "    save_q=True,\n",
    "    save_k=False,\n",
    "    save_v=False,\n",
    "    save_features=False,\n",
    "    save_features_3d=False,\n",
    "    n_frames=5,\n",
    "    n_timesteps=5,\n",
    "    out_artifact=\"test\",\n",
    "    module_paths=[module_path],\n",
    ")\n",
    "\n",
    "# create GrData object\n",
    "gr_data = GrDataArtifact.init_from_cfg(gr_save_config)\n",
    "gr_data.begin_recording()\n",
    "\n",
    "# Create GR processor\n",
    "processor = GenerativeRenderingAttn(\n",
    "    pipe.unet,\n",
    "    gr_config,\n",
    ")\n",
    "processor.gr_config = gr_config\n",
    "\n",
    "# set mode to feature extraction\n",
    "processor.mode = GrAttnMode.FEATURE_EXTRACTION\n",
    "attn.processor = processor\n",
    "\n",
    "# forward pass\n",
    "y = attn(x)\n",
    "\n",
    "gr_data.end_recording()"
   ]
  },
  {
   "cell_type": "code",
   "execution_count": 49,
   "metadata": {},
   "outputs": [
    {
     "name": "stdout",
     "output_type": "stream",
     "text": [
      "frame_indices (0,)\n",
      "timesteps (0,)\n"
     ]
    }
   ],
   "source": [
    "gr_data.print_datasets()"
   ]
  }
 ],
 "metadata": {
  "kernelspec": {
   "display_name": "thesis4",
   "language": "python",
   "name": "python3"
  },
  "language_info": {
   "codemirror_mode": {
    "name": "ipython",
    "version": 3
   },
   "file_extension": ".py",
   "mimetype": "text/x-python",
   "name": "python",
   "nbconvert_exporter": "python",
   "pygments_lexer": "ipython3",
   "version": "3.9.20"
  }
 },
 "nbformat": 4,
 "nbformat_minor": 2
}
