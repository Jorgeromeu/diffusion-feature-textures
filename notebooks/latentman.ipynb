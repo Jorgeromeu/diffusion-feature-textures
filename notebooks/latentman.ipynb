{
 "cells": [
  {
   "cell_type": "code",
   "execution_count": 18,
   "metadata": {},
   "outputs": [
    {
     "name": "stdout",
     "output_type": "stream",
     "text": [
      "The autoreload extension is already loaded. To reload it, use:\n",
      "  %reload_ext autoreload\n"
     ]
    }
   ],
   "source": [
    "%load_ext autoreload\n",
    "%autoreload 2\n",
    "import torch\n",
    "import wandb\n",
    "from pytorch3d.renderer import FoVPerspectiveCameras, look_at_view_transform\n",
    "from text3d2video.rendering import make_rasterizer"
   ]
  },
  {
   "cell_type": "code",
   "execution_count": 26,
   "metadata": {},
   "outputs": [
    {
     "name": "stderr",
     "output_type": "stream",
     "text": [
      "\u001b[34m\u001b[1mwandb\u001b[0m: Downloading large artifact dancing:latest, 144.70MB. 73 files... \n",
      "\u001b[34m\u001b[1mwandb\u001b[0m:   73 of 73 files downloaded.  \n",
      "Done. 0:0:0.4\n"
     ]
    }
   ],
   "source": [
    "from text3d2video.wandb_util import AnimationArtifact\n",
    "\n",
    "device = torch.device('cuda:0')\n",
    "\n",
    "animation_art = 'dancing:latest'\n",
    "\n",
    "api = wandb.Api({\n",
    "    'entity': 'romeu',\n",
    "    'project': 'diffusion-3D-features'\n",
    "})\n",
    "\n",
    "animation_art = api.artifact(f'romeu/diffusion-3D-features/{animation_art}')\n",
    "animation_art = AnimationArtifact(animation_art)\n",
    "\n",
    "animation = animation_art.get_animation()"
   ]
  },
  {
   "cell_type": "code",
   "execution_count": 27,
   "metadata": {},
   "outputs": [],
   "source": [
    "R, T = look_at_view_transform(dist=2, azim=0, elev=0)\n",
    "cameras = FoVPerspectiveCameras(device=device, R=R, T=T, fov=60)\n",
    "rasterizer = make_rasterizer(cameras)"
   ]
  },
  {
   "cell_type": "code",
   "execution_count": 30,
   "metadata": {},
   "outputs": [
    {
     "name": "stderr",
     "output_type": "stream",
     "text": [
      "/home/jorge/miniconda3/envs/thesis/lib/python3.10/site-packages/pytorch3d/io/obj_io.py:544: UserWarning: No mtl file provided\n",
      "  warnings.warn(\"No mtl file provided\")\n"
     ]
    },
    {
     "data": {
      "text/plain": [
       "<pytorch3d.structures.meshes.Meshes at 0x7b0320dc9060>"
      ]
     },
     "execution_count": 30,
     "metadata": {},
     "output_type": "execute_result"
    }
   ],
   "source": [
    "animation.load_frame(1)"
   ]
  }
 ],
 "metadata": {
  "kernelspec": {
   "display_name": "thesis",
   "language": "python",
   "name": "python3"
  },
  "language_info": {
   "codemirror_mode": {
    "name": "ipython",
    "version": 3
   },
   "file_extension": ".py",
   "mimetype": "text/x-python",
   "name": "python",
   "nbconvert_exporter": "python",
   "pygments_lexer": "ipython3",
   "version": "3.8.19"
  }
 },
 "nbformat": 4,
 "nbformat_minor": 2
}
