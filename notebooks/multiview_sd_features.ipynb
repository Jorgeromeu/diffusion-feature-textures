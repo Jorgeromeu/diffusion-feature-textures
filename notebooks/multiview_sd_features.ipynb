{
 "cells": [
  {
   "cell_type": "code",
   "execution_count": 3,
   "metadata": {},
   "outputs": [
    {
     "name": "stdout",
     "output_type": "stream",
     "text": [
      "The autoreload extension is already loaded. To reload it, use:\n",
      "  %reload_ext autoreload\n"
     ]
    }
   ],
   "source": [
    "%load_ext autoreload\n",
    "%autoreload 2\n",
    "\n",
    "import wandb\n",
    "import torch\n",
    "from einops import rearrange\n",
    "from text3d2video.artifacts.multiview_features_artifact import MVFeaturesArtifact\n",
    "from text3d2video.wandb_util import first_used_artifact_of_type\n",
    "from text3d2video.artifacts.animation_artifact import AnimationArtifact\n",
    "from matplotlib import pyplot as plt\n",
    "from text3d2video.visualization import RgbPcaUtil"
   ]
  },
  {
   "cell_type": "code",
   "execution_count": 4,
   "metadata": {},
   "outputs": [
    {
     "name": "stderr",
     "output_type": "stream",
     "text": [
      "\u001b[34m\u001b[1mwandb\u001b[0m: Using wandb-core as the SDK backend. Please refer to https://wandb.me/wandb-core for more information.\n",
      "\u001b[34m\u001b[1mwandb\u001b[0m: Downloading large artifact deadpool_mv_features:latest, 5167.45MB. 118 files... \n",
      "\u001b[34m\u001b[1mwandb\u001b[0m:   118 of 118 files downloaded.  \n",
      "Done. 0:0:7.8\n",
      "\u001b[34m\u001b[1mwandb\u001b[0m: Downloading large artifact backflip:v0, 121.09MB. 61 files... \n",
      "\u001b[34m\u001b[1mwandb\u001b[0m:   61 of 61 files downloaded.  \n",
      "Done. 0:0:0.3\n",
      "/home/jorge/miniconda3/envs/thesis/lib/python3.8/site-packages/pytorch3d/io/obj_io.py:546: UserWarning: No mtl file provided\n",
      "  warnings.warn(\"No mtl file provided\")\n"
     ]
    }
   ],
   "source": [
    "api = wandb.Api()\n",
    "\n",
    "mv_features = 'deadpool_mv_features:latest'\n",
    "mv_features = api.artifact(f'romeu/diffusion-3D-features/{mv_features}')\n",
    "mv_features = MVFeaturesArtifact.from_wandb_artifact(mv_features)\n",
    "\n",
    "mv_featuers_run = mv_features.wandb_artifact.logged_by()\n",
    "animation = first_used_artifact_of_type(mv_featuers_run, AnimationArtifact.artifact_type)\n",
    "animation = AnimationArtifact.from_wandb_artifact(animation)\n",
    "mesh = animation.load_static_mesh()"
   ]
  },
  {
   "cell_type": "code",
   "execution_count": 5,
   "metadata": {},
   "outputs": [],
   "source": [
    "features_path = mv_features.get_features_path()\n",
    "files = list(features_path.iterdir())"
   ]
  },
  {
   "cell_type": "code",
   "execution_count": 9,
   "metadata": {},
   "outputs": [
    {
     "data": {
      "image/png": "[encoded data removed]",
      "text/plain": [
       "<Figure size 900x100 with 9 Axes>"
      ]
     },
     "metadata": {},
     "output_type": "display_data"
    }
   ],
   "source": [
    "feature_id = {'layer':'level_0', 'timestep': 20}\n",
    "features = [mv_features.get_feature(i, feature_id) for i in mv_features.view_indices()]\n",
    "\n",
    "all_features = torch.stack(features)\n",
    "\n",
    "all_features = rearrange(all_features, 'v c h w -> (v h w) c')\n",
    "pca = RgbPcaUtil(all_features.shape[1])\n",
    "pca.fit(all_features)\n",
    "\n",
    "features_rgb = [pca.feature_map_to_rgb(feature) for feature in features]\n",
    "\n",
    "cams = mv_features.get_cameras()\n",
    "\n",
    "N = len(features_rgb)\n",
    "scale = 1\n",
    "fig, axs = plt.subplots(1, N, figsize=(scale*N, scale))\n",
    "for i in range(N):\n",
    "    axs[i].imshow(features_rgb[i].permute(1,2,0))\n",
    "    axs[i].axis('off')"
   ]
  }
 ],
 "metadata": {
  "kernelspec": {
   "display_name": "thesis",
   "language": "python",
   "name": "python3"
  },
  "language_info": {
   "codemirror_mode": {
    "name": "ipython",
    "version": 3
   },
   "file_extension": ".py",
   "mimetype": "text/x-python",
   "name": "python",
   "nbconvert_exporter": "python",
   "pygments_lexer": "ipython3",
   "version": "3.8.19"
  }
 },
 "nbformat": 4,
 "nbformat_minor": 2
}
