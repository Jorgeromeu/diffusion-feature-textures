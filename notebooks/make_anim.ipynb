{
 "cells": [
  {
   "cell_type": "code",
   "execution_count": 1,
   "metadata": {
    "notebookRunGroups": {
     "groupValue": "1"
    }
   },
   "outputs": [
    {
     "data": {
      "text/plain": [
       "<torch.autograd.grad_mode.set_grad_enabled at 0x7dcf46642d30>"
      ]
     },
     "execution_count": 1,
     "metadata": {},
     "output_type": "execute_result"
    }
   ],
   "source": [
    "%load_ext autoreload\n",
    "%autoreload 2\n",
    "\n",
    "import torch\n",
    "\n",
    "torch.set_grad_enabled(False)"
   ]
  },
  {
   "cell_type": "code",
   "execution_count": 2,
   "metadata": {},
   "outputs": [
    {
     "name": "stderr",
     "output_type": "stream",
     "text": [
      "100%|██████████| 20/20 [00:05<00:00,  3.77it/s]\n"
     ]
    }
   ],
   "source": [
    "from scripts.log_animation_usd import create_anim_from_usd\n",
    "\n",
    "seq = create_anim_from_usd('/home/jorge/anim.usdc', n_frames=20)"
   ]
  },
  {
   "cell_type": "code",
   "execution_count": 17,
   "metadata": {},
   "outputs": [
    {
     "name": "stderr",
     "output_type": "stream",
     "text": [
      "WARNING:py.warnings:/home/jorge/miniconda3/envs/thesis4/lib/python3.9/site-packages/pytorch3d/io/obj_io.py:546: UserWarning: No mtl file provided\n",
      "  warnings.warn(\"No mtl file provided\")\n",
      "\n"
     ]
    }
   ],
   "source": [
    "from text3d2video.rendering import AnimSequence\n",
    "from text3d2video.util import read_obj_with_uvs\n",
    "from text3d2video.utilities.camera_placement import turntable_extrinsics\n",
    "from pytorch3d.renderer import FoVPerspectiveCameras\n",
    "\n",
    "mesh, verts_uvs, faces_uvs = read_obj_with_uvs('data/meshes/mixamo-human.obj')\n",
    "R, T = turntable_extrinsics()\n",
    "cams = FoVPerspectiveCameras(R=R, T=T, device='cuda', fov=30)\n",
    "meshes = mesh.extend(len(R))\n",
    "\n",
    "seq = AnimSequence(\n",
    "    cams,\n",
    "    mesh,\n",
    "    verts_uvs,\n",
    "    faces_uvs\n",
    ")"
   ]
  },
  {
   "cell_type": "code",
   "execution_count": 4,
   "metadata": {},
   "outputs": [],
   "source": [
    "from text3d2video.artifacts.anim_artifact import AnimationArtifact\n",
    "\n",
    "anim = AnimationArtifact.from_wandb_artifact_tag('joyful_jump_20:latest')\n",
    "# frame_indices = anim.frame_indices(20)\n",
    "\n",
    "\n",
    "frame_indices = [0, 7, 8, 9, 12]\n",
    "seq = anim.read_anim_seq(frame_indices)"
   ]
  },
  {
   "cell_type": "code",
   "execution_count": 5,
   "metadata": {},
   "outputs": [
    {
     "data": {
      "text/html": [
       "<video controls   height=\"300\">\n",
       " <source src=\"data:video/mp4;base64,AAAAIGZ0eXBpc29tAAACAGlzb21pc28yYXZjMW1wNDEAAAAIZnJlZQAATd5tZGF0AAACrwYF//+r3EXpvebZSLeWLNgg2SPu73gyNjQgLSBjb3JlIDE1OSByMjk5MSAxNzcxYjU1IC0gSC4yNjQvTVBFRy00IEFWQyBjb2RlYyAtIENvcHlsZWZ0IDIwMDMtMjAxOSAtIGh0dHA6Ly93d3cudmlkZW9sYW4ub3JnL3gyNjQuaHRtbCAtIG9wdGlvbnM6IGNhYmFjPTEgcmVmPTMgZGVibG9jaz0xOjA6MCBhbmFseXNlPTB4MzoweDExMyBtZT1oZXggc3VibWU9NyBwc3k9MSBwc3lfcmQ9MS4wMDowLjAwIG1peGVkX3JlZj0xIG1lX3JhbmdlPTE2IGNocm9tYV9tZT0xIHRyZWxsaXM9MSA4eDhkY3Q9MSBjcW09MCBkZWFkem9uZT0yMSwxMSBmYXN0X3Bza2lwPTEgY2hyb21hX3FwX29mZnNldD0tMiB0aHJlYWRzPTE4IGxvb2thaGVhZF90aHJlYWRzPTMgc2xpY2VkX3RocmVhZHM9MCBucj0wIGRlY2ltYXRlPTEgaW50ZXJsYWNlZD0wIGJsdXJheV9jb21wYXQ9MCBjb25zdHJhaW5lZF9pbnRyYT0wIGJmcmFtZXM9MyBiX3B5cmFtaWQ9MiBiX2FkYXB0PTEgYl9iaWFzPTAgZGlyZWN0PTEgd2VpZ2h0Yj0xIG9wZW5fZ29wPTAgd2VpZ2h0cD0yIGtleWludD0yNTAga2V5aW50X21pbj0xNSBzY2VuZWN1dD00MCBpbnRyYV9yZWZyZXNoPTAgcmNfbG9va2FoZWFkPTQwIHJjPWNyZiBtYnRyZWU9MSBjcmY9MjMuMCBxY29tcD0wLjYwIHFwbWluPTAgcXBtYXg9NjkgcXBzdGVwPTQgaXBfcmF0aW89MS40MCBhcT0xOjEuMDAAgAAAFf9liIQAL//+9q78yytHC5UuHVl7s1Hy6EnOirEE2DoaAAADAAADAArdTMi874cT78Es54AVPCHx6uLDJKv4St1fltGjoo2r+VaiLccFmibVhqks3nHyg1KxGv5ZF+kafiDGL4RU2PVXXv/52trNKh3rGrQY8kNrEQYZaw0QPKv70e6eVdIQr3zxMAI9UmTf0x/zGX+6O+leJCjl+uOK+9b3OwgxLaQbfBLbuw151Pv2/huNg9zSalrnlohi2FJK/QdvJ2rqGXV5QavVaBBLDYQ1arY7p2ebnieHvK4LTLjIW8ZFNI1rORhSNzIb1mYKWWwHMHutvZum3VBbpLkqTDvBXCi2YDrF5Iz+Wi+a4grpVdsr2xPQIm/05ej+wjMV79Uhr+3pDTQxag5mtihj03JAhAmZSDDXHz8Tlt2jCtECTUY191RBtot4AuD1L2KUQKPbgEwSeoq1thW1wd89RxeQ5UGR1Wuy6X46Bc5O5NRq2oci3z28AoqPon3d0iKaP/8OOf7hYAR/HRE9yC+DWebn7hufsnqbcrPXg5iAfbT2BZHhotpxE7Hv9qoxS4co/Pd/PXaBDsq24m1QyjniWfnHpqAOkk/E1gcqGF5cZjF6qs3+3FPGqE6SZESsX5mPXF4tobuFJgW0x0masuE6uimGU4rjwbv37Y8EnNldvZSSnNTZnQvmWStEHzQ7gqEIjATpB9XzL/5tTR/ogqcdcd3gOZ+O0i0wKTBogxv4k2uL3jdltNmBDpaz7Qdf/3hMQ4U1DCPAA4nN7Uerkio9jQUKPINy9hqZD6HzGcuqmhqCwnhuOttC2ZEbZqhl6FWi9rmzCM9E0rXMq1rCnTXGLRgiC3m/QdnWb/MII8vFYMwJmnXDw06/84dejTCwzX9cpcTc2EuBwdp0++SjYbEw6fxLc9NxrAVoIkSduCk6kfFg1z15B361x7E9ErFKecLtEuSq0LOWgDxkaekBTbUr2Fxb0OD4moPKNJ7J8OaaEvnE6FGrZ4/y3QdUoFNmjLaSqtZ65Wr63GvG/r7cc1TMcRKz8l5vFaIrkLESwj9dG0O+mk9p+G2GoCzcDbnMWf23JD6ibYA2X80DDveyappF3Aa/6T/3ZPJa+F8KIAMV7kGQ4+J3WDdemwi/NF8X25PFDFx1R11Dsl1LSzECeLziPTOa/BWo6TEFsMMoZ8uJmG2QsQi4AcfednK7WIqhjcFpTwcM94Wfal019GDOrssn8Nd5F+YLurQeXT/uI1+t+OMu2oPp5XvcjANeewwkhlrjlVOwm5XKjBcwC6C6tQbv5HgYkMcwVDnOZTAHJ3UphSbw1LCgHMmn0BwrJJR3NUwKsWpW9+W1Xeiubv+I1Haaiy2CiLypN9IJB9Fb0x5xfOyFmNZXA31t5uc/wEqBnitaEK2iaWRCkWSO+S7ZmGU7iCK6yfiFWk6njkNTGLOromAG2NyIHWppmBSXWvbsAbDRDuME8+7K6r2oUMEbZ3JjjsgG72e8Ot24xJYXYf5elbqEwgVus+dmG0R4lpY8oHJZv4TbFVpZvzStBSYIEAgKzkmdAgEK+X+j01asYF9T8G/hPYVCse4WKvRmxnMAejwA1SNziat/ww5X++XhZ/GD5u2Q6coBwsezSDCbSVvefcFEtuL/4MphOTXRn1lYH9vPp1umhmidEU0Vv35lARhKBkrlBuW5t+YNLEG1W4RMjn4HruRJVNR3Xfxte7Xz33pLmDHAFwxcLFQgbnewlGr02dRVkuFikCsuxiOR+6UR+7cA/KqBz6n8Ydlf+rIJTpDpvN518mqeL7eEzN+xbXlAauUnVj32eW+Aa+LXLKh75hSkeL7l3SIMtpM7Y+nYwt70BQA0YGA2v9PA0BTKHyZU9gZ7/Sait3wHRcPHjQamjUIQG/BG0wEctkZrMgm9NCeMIMf5UPhEAlk68X65K0w6xMyZdX08p5zOgPDPFvgvOYs5K3jr4lqiHMfQUTs5OeSL0CntJdLJVpxdvUiLACTAAsteNsqktb3MT/FfJr3HsVk9rvACFwgAAXA5IR5MACpAcCqN+ZAAAD5AAH759CiDXUFHX5d2VdZ9m2bpvXa4oVrMWnXptvu80lVNOiKqk4Kqs52DtQLl0tZcWl5DpM2pQfjyCHetijqBkMwtpCX2ysHX+6v5FW8mmirKXwHjdbBKXUPKi98dxihNHM/s/QgYHjUsq28AAe7LDXX5GR8UxxygkTXFjgxaE2dzxmPamtR6Xb1yKiftP75xkkcv2W+lhR+E+fhUz6Fr7V+AALphDcT0FnjfJ+yqClyCK0yRlCkSYZJyeGXr5Jk725GP+sKvBB2QaXnxMClZAGNsbdjiejpFwiL639D5wULOUVeqEdYMCuKNFy2ffnkYR2Z82ytmgzlqk77OZzxazTuDkDMUGQe/kw2HEHMqAJ4tXhPkhlGdLojPCi2Hb6gkgI2lFSlMwYVuwmEiZlwe7GzqKmDKDoVFk/glM95KTya/E+i8kw2/X78Uf/UFaFC16jnSurQj9vjNnpobRd5lUDWqeqwg4IU7XQNjWYAEgy/FzF/ZZVaDHjU779/iFm9ymT8a9GmKfXwzqGXzvtkKkgYvMyvxFMKu4p5X2PmshSGjZLMj3c+iQuHIbr+hoP1HEuI/BGM6AEvDko371TRRNjrrq/VADDkD5/LxGwZs4iST8piIemfpP//6kAVB+yXtUi4jgfCo3iD84EkwtLg9QzzZM6mbs5DJUkgj34WOx94aO8Cm3uJKGxsQi54y5YA2hyWL5SbdsCR4PDrrQ4RRFUOK9rZSFj7BhjzdA3/zRsFFkoRZHr+EdEO9YeT/T1yDNT8gUBhiJqvY3xRzmpQoz4tkv2fAIdIDNwUevv/nLmUjARn2v7MQqSJmsuPbl54ZxltbdYODFYzLrf68WKZpRvEikIbSI0GbXcTajx9T+EjiJGJvVnvUA9i7dUFzfR7luymnAiysmaDR2WjMlGxdLFWV7DNB8oskW0cUdVJfHWzkvGIBYmBdmCBub9am26SH9wABa5Fwi+zkAFiZPsVUE0+holYb9EA01h6+BQ2c1QYNLBR/TkUUxuzA3CvUfeKTL2L3zDEUhwQl7cfcgEP8rFnkKU7IQKR0iCR9rGSKBmFf/Jrj6q8JQXP4l0qyvr5li7ZpgNSY+iwf8iPb3+u5PmKy1PzjSCNzc9B3EZKXXX+r5i98tozork4ZSQz3me72j2FA7i+swddNc3TEzoiwCISFPnX33CfLNuSz5H/D7MvWYR62auGun7Ff6t8mBy2sefTJPCwN+EBhSmzU/Y4Cg8bV1lhrL+CHd5xwswm/t0+z7NVfn/tHl6M2mi0JlVw4Bx2dH1wEBoKULMTU1WzfIIdnfv+Lc/DSpQ64Ae5fV3D7c8Sj+94uJzC+oWc4iN1R1CPA594CYndFJHmJ2w73XqFVWhgHQ/sPMOpd+YQq0AYUjs6P740ROfaWrDnsxyNML0BHLYpe2poJu6TM9Ff+99LIaqBD54iBs6DltKh0r5KaFfBkEM9Em4ooiQrv7O4birDRZy66i3HzLUOZn4dp5rJc2uYO8TGymjfcGoOXrQQuPasmmZ58jxASi6w16V3gDQc5ZV3368OcSQ8wGrzQlPxFvD6AhcZk/xkv57ZIrp22uABvtmvXKr6r95w835DJS/SbH3ueciTkQXFQ1uaA+nz69zvthEcYJF9mJGPM5FIYpII0le4qmdkLWw8o+FyKe7DmYmad0cDGjCrXI0p4Ypbc9xiAgOltbZM+ICN89zFd2Ns30EThtl4D71HbGHec2UbyTBQA+T6xSjsqdKRV+F6ESHST+FT73DtTXX387jvRN9Z4wwnP/l92SzwoNwah4JvOjm6GfXjLRHhvc+wmIbAt+r+AiNg3WFujrRwAr/NceTPvy545C+c3M3ozgozEDKCs922Sp0GE5ytIkZMGmIAYKi7fiIAmY+2BtGrADMYbIibroNzS+bibH9vy86YYSIkJnNdxwCwBxti7uBzgMv+LAEftLcBtvNLRXwPGbn+0RDOuN0dbJbTh6NpVSorcDbiSqH8v8vAr8CST/xUXR8UoZ2EpNA6wUYBDUsBAo0jwcCCEBFDQ34wfLjIZUATT0o0YO7+aHDn2kMuVpq8jOSt+c8hORZbFHl6Hi664gLWwmIKkLm5gYMyF/rpFUJgpvnbaDx/gbWGrP993hPpvjg+iQ3igoeprg3SgVjSF2GwowXe9+xJ/Zky/suw4kusyp7v8H/xZQhxuZ2aDTNA13suM+x4h8Ha5rMo5QldiJzPZDd3adACbmzcGlUW9447XtulOWVlfF3FQMnJ4N048bO9nhK70eiBS21thZ7C6+lWsgfla1nCD75CB0+eLdPLPLoDz+u8su+tC2t75qhE5Vxs1O2dAYqi/J4tf+TeSv10PIb3sBZ59RJXgEvRiD1mW0ktXSyPLrcZS4dp7wJETbP01bdpl7lfmFb1ekTdiOtV9WbhIUVfOkXN+QrWGp4Ixk9g5tVpEo2Bnm6XFfi8Mka1fSv8VEPFOnsZpQbUAsqqt5tc9s5s/07TKb8PFbIKYmZVCGmgDqsxqpuj/8Zm9DlNYrfQLAxQaM7hodJwW5ZzxcminmUbDX6IbPEEz5nqwnmOYrNv26u/0LhKew2sKPJ+P5srxkDXUxlW/nCR9UAyBlHLYCobJ/wmwl/D7a155iw6tgoRcuIaAq+/nOR7qoUMjUAv68Fad561p7h5PJ56Xd/C9ysIqTbzS3o+PndlzWdvAg9JdO3vw4XpyCMpd/J++D18jw6rUJtyD5z2OdbGKkzaQbVHx/6rs7RcSt58b69IzQvefN1EcctFamHnQga6+H69e+8xLq1YoRsXf9bW1V+SJ4mA6HaA1e4T6BjzyAieeypvh9cQd8+8gI9T4MCgq8nbMTRUf/8gVyknRQQe6N3t+2jO4pqeZqkUo3GZjSI3iYw5XKfxCafI6N/0/z8flGpTIzeK0S0OzjPq20IAjbU8HNfHAdPxnMdvn/PucPo/9DIvL5lmmFuxX7ctRAgBnUylnqcP512XyXKaGAZLaGRLmylNDG2oV77fVikZAJcbc1SYKoH6SvpGysTCb6G9Iyt0+dr6O6X5XnSYyHgclvsdugC79RNBt/4WAae1pjOvySgy1tgYgL+WmIP1x+Ed4n3laGS6NikkyJ8b3d/t6MknH+UtAoaU7zY3E3KZge+uEfMJX4Fb553jUzXkLgkVFquRn5SLQfKKWAUt3pF7x/+yudVk3RnAmZnErTwFFhghT7C3becl2guaJJRKESPhcH/Qiioi5sCdauG6oY1gbxOVxUfcTxiAK64GiIdb3whJ0tv9n1XmtpngyJWIzWpXd1Oo1neZIR783mEri+ttgNrywTXy43Y7zYwHuoNENN15Snma38BflDwWN/OjClbjCyYwDyRZFb4k5bmhCWg+7yDbiygBQRhdGrjYxSdjrHrZ0ixzvB3JSxzgHPp+HQKmsReyqyZa0IKZHxzG5s1uLrIbdfd+PaRYtjEVkEDe/0AVfGLRu0WbP/4PZBUuls7f89BKXttKABSOCL1MTKLkrAnAb1R1Au+aeI5CxwQj69HlRpvVjZdqjOaz6dh+Znj4Ggjxx19wmSVQFtu/718ZN/zZ4wlJ51AgR4bwOKjeC+yc8gX1gAe3UeMgV3qgHXEMWZC6dAbkqWvlTiiLTeAk0bLXtjanRa2bFVjKv/GIoMgUlHLRf/P3oC/W5AILvEX+a6T0Nq/FqWsoqzGKkE5FPKJQwnBfwCHTStwZlFAHg4pEHrHgyezvmzReyXHMea2bp7h7apVUjC4Oa9KsRmDgqXx7SGHl9OkUhpvXormdvRf5+QYA0woTSMP+et7QW0fFagO1U1CC8BZ008Kos+sHqjfSsL4C9F2um/XVFr6ShSgLnPZ7wbCo8xAnNgZl4NJgGNLNJtizK+xbJQdWYBxlotnx7c+2JhIp/ADraUERBR3Sd9qUpCq/hhiT4yIbSrwn+Hs3GK++JKo2v8fOhIj7eWpK44R9OcvJ3eZjKJqXJzouQ/Se6polIth/bgMLTiDhf3BreOz1YhHUkgZ/s9GDawGCGIqqSXvDCWkDaGAAgXZIrAovIAygGsoBBObLoONzsBtDlCnxipekPl51BU7110WqFD30i0ZK1BWjC2F2rsHpn74p2T2uDdlWWIyiLfbLlN9RZmF9w+oxW6BPEbksNkvIIuyVPhut2AsLdNzvdUSMvt1LDL+pQ6JNhQ0Qk0XV2IUURJfP87taSEEzrdSWW9ncLDj8zXzHdWwUwWRqU0SDao5uWER4+OMQeDx+LFjes73NwWs/mp5QeqScJppTs3AcTajFfEXrVuYfAEX0c58fXF3ouXhvaz5P50ei2ga5sMYG2zAAi5N6wytz9agxmuEMTAfr/4twlBK0449TIFeAF77DXdj5D7Vgkc4i//jpO9Yj8RS+JvlpS2bP8ToCCBHUdxFS0Wbc3xrskH+JWUWr/LbsSfMdWogj9MqEO18z3C5gzs9zNDMh3k7Zf+ffFFP09jaUy4JOjQiSiuYxYMrt5MF/Nl86+EoSYhMs8FS0/3qAOwVlRZMGB1k/wtMlDvbxID/sxj78SfgALyG0RMd/0M+/qkbWfFZtGYvCuEs5PicTHgNN9li1cwW8XQCPGt9D9ELdvNaUoW7vsjDI+pR2rVGQGQU5ZHJ6NS1IT9QX1Bq5qcSf39sJ+Oov3VnS2HZp3mEgBI3/+AO2SPSBY6YtGUQaeUeeqMJI7tWNbXFDyE0bRtgENtO5AEd0dhWS8E7Fmuc5aIvGN8yIQAbC6NF7MEfUxqB2y3dJZ+D1jViWsENojEU/+KfF7TbpFDaKGP34kEA/VXpiJzQP9XiAluy/Qe65IbAL3TfGV1sBwE881p/GK1tQofB4dvWmw4ycYB7m29NjUtkt3HDgamZcvd5Vg2VOUQmetSjKulx1ACsIUw9ardLJ+Nl5NChbF2p+7LzaLoYhisMzXZMbUDc/FLFkAe6VYV2bTv6kRrUx/+w53SO/OT+LYa34VmJCPpTbthR8rXmb1KsUINRgvZ76uRdcvsQwd3ZDMGgH+DqgWZJKhBRjH5f01X5VSqFq/cwIa4jml0jSjKC334lqNGXwfvzJjTIwqAStXHCPEwmjAkA2gr9Zd8eZw+6XJLlqyODwaEv/+dZrVlhq2VLRCn4RleaPcyrc4BASh53wugbYdi+Tsif14NKJGcSyYXF1vM0+iOhqp9AgO3pmqU5Y9jTcvikl0jB2M8mzdu+kYGhSJjCHi5D8Uq4Xd5yOKtLxKv2gcf8P58qHkhpxbJZ6p7DCSdQ+XMTih2aKpwyRqAocruG51bTqCfTEB+OWkSQCUGtY71LrtEBeOcFf9uNPPjyqfXFPc9o6PeyZWNDIWtxj0UUfSp4iLzIVlz5qmRmppFj3ypXn2OBe5pFzDpH79E2AkSpu7UC9xIlCvjKbP72jGfwvXs1AQlKtIKkByQwEMNEPCe0cP0QxUgW90gALh/DmN9Rs6vOE8xKEAAArGQZohbEL//oywEwy9LAEPDYXXvcMMqhPhsDmqv/P4+h6bNaeteRKQxDcITUOiJFiFm0ncU9e+chyCRICxDaThTMqvOIe+DRpt5yefcKCszPorq0fViZ/3sMHRkC2iEOjRpD7LcY8ZzvvysCSyBea5cHE3735VELXz0ULLvlYjlCJfuEqk4lLpuORLc26w7h9tFMc96qvKuk5I6QyQA7BfSZbnSFYDwtk7K/mYoE295LaK/3nTjnTjBEBG9pFVuMqgNGUyS9hhlPtC5WkDmPwgEB0YOfxSHVTl/uTSXo0eIt/70PURsWILFmKriCOeC6a5GO+lZuAwjUAY6NhzO8O7yN47n0XrAQKbCLQWgG43MJWozsiV3f1yoXJpmxH5WBFfyn/0i6ZXMk+1kKTxVrYBjFw4rVGeZkX56WBglrnvNjiEqWAiPd//5hXP+A5NYeaiNpm0OS8Z9hR0BGXT9rpxOX9R0oTiNcowuQYs2m3HKRZttAWq+VzUiY6j+yh4Hjh1N0IpUoPEl168V0zwE7MJTc1LYOhIXD5KqfwMxIe1wiuoCGPrVIYf4hfVSSqYKLBf1TqN/R7YwTYdfM47O1c3Y7T8Bo+8/GgyHQCTx9HZQjr+Gs7S7RDcjki6pPc2qGCEo7+oAEGDLYO9FdUPEu/sZWJfwjbk573lBgQzExSTj/Fh7R4Ny7ZyOvsmZ8i6CyQKyzbw9GMdoFWNu//cPvZd2kNRUug3pkS8YKlHMuq84LuoJLwiADL1WedukECFHu7kCodlf4w+e3SaSOKUp+eLrpKG6b83a1xtyW898ejHmRiLEfwK/MpxWLN2AKrJCxHWSiBvosOxDFcQth/rF3NueqTLxU9c1umrl8ITIlqSl9Sfj7qn8PI+FnMs6fANazuyluaac6cU3Mk5bHudD4xYOwQE0nNSCdTbF8QRBSTdX+8FgM4fvKsLFbvJJmL2EaHaTks+Jkq53eulWX8agSGQ1EFfSWYTMMWqPYvC3QyqgU4LbhE5DFWM6HBvlhmF3HwL7YpA/OsRkrmtlNx3qEwENJ5Hs10owF+CbJ+0xxICipNbx7Fq+D//Z0I6HS8LLSkpPXhNsigRWMSGqBJ5lTP8YYdxDlPDMXGNZ1ZTjIzZ2ycAgxmSfUpz5W4IByR2T+OyjrXpH/hff/7g5Fn65fcsNDbncsqK+bC1I4Uej6taQ6I9BQv8NOHXmK0AyfaZTDPV18I01KxXsSXwcsqXZzoyNPv50QvKHXqDQNwuc+dVqMqkMlKjU7vCbW9bDZOt2T/WxFIRf+IsZG2LHa4pG5q9Q/6GyD/rQCYZehf2soBypxqn/72kDlI6cBpfd9rRXi7n1JLoE+IzbZETuHzI2NAdVCP2qY6o9nGB4yvwnyBNh9LvI3I/Bi47au7FOjoFTLlTvPD6/idwMZDNkPVs0bSnKiFlENsmsf/TTQkqcTVLSOQfyGN9wHAEV2QYp7U/LCmW//j2R4CPjWIGQ+KvNWe//WLdQ8PWilsOGpa9q1IYUQUA7+LhrLumehYShk5AsSZLAcPT7PfhhYeCItz09GxMu+iz1HerI6lzlwZhcpa8+jePRBsQhH/o0ZWRb7hqSvnX0mmP9cAXiIlcI9RfUgW5E4bBt3r/HgvYo03fuN+83nLWQtA2PNiJ+eT7ltYKFDXtGsho3fjrUF+X1wJfo6kGpOaYcKt4jeQYSA3JY0q6hL+2Mq7ifVnIYS/nevitjW0YheHeZVj2IoeGOMOg2ugAWCfPI9p77cNos/uXkrwR/RK+y+rkflTMx/y8oY5fVngAKEaOJXgfiMNM0D40Yix3eWi34yXHzCscCH6E8izTVXl62MjZSNBden+VhusioyGjgpDn64fdXmvY1iBLkD97Y4e0+HLqS3pAuFrA3NiOrefRPPluu15G4CIT21GYBovywpH774ntCP9bAmzUf4ipAizc7jWy51pdVTtOaF58Ni1/KNAq8Szos6QdPk5WzTtA/LLtfVPBak407/5OGxZIrQ6wBJM1vMJmwTWHLeeyGTQHbHPHyBtZnWRaAtk7DPmQz3P2x9Gh3G2/HOXpC3ETzDBSrz/J/AEt52/8jmhxx0LI5nUuk+BzUEQ13qa3ul0tYjTTH/7fXveluh0HyydpsMr0M5pCoUgku5lPf4ZM9VVnDBFR6ffe55ovSmyWkaDCuQ0ZacmJc2jMk3oD/S3vEUrIesI/t/5dYx8Ysz0G2/GkQEHnWV8yuIcJDnXMtTl50gk0jnZxRSH+PFVMTcbZRWsahE/gNo1GufN+htqGgUfNxGncitWX3wb1OVj5zdancUNmzUxm9y2cxFvpS95mFAcvDct6vaovijJtmoafOsPfUXmPZhguwPBtV/Z4cSnnzFplVMj6oXMkqfxUrJN/GRh3/5BCpNBEnEp39ih+oOr4x9/wN/npYEWaCNRpaJXfv33y8/eBjG+1hOVs6gSJR0Y9C2AKw2BlHYyCucppwNSdc0R281sQhpGZeU+o1qKg3Cujb5XqlJ4berEKDge3G7qIxh63GmA9Dk8Nzbs3uUGGh8Hw0XOwZTt5pCr36k3tOCy+LQ3XWJzZ+XteZ/17gH6Jjp1n6HQKJ2DHaKVxFwcmKT4RcsOY0TOGm/VEvwl5vpziBEy7G35KiJQ/9fKgoynxTDcTqeLVf7ZT8kAYUN2gzz3d1H3fu8P16PaVHqosjjbGTkYE1Ulp2iuWwD9To3VxB5v++NWZVrodYrWcluFMUSsuctLQhWU7MJ+9zPfZ2GEHwHmF91iDcwlQS6Gl9g0HioNCErVdC94bsf1njOa8nuPVQiBTbY5RCJ1OAZRlRxGIvoPoI2HisuMaBVEt4p7nqFrNWmvE+5+bvZ3FPyyCAQfEm4BnueultDJdDZrWRYI2UtV/YSMuRkuEHjvaM3YhmLoTM7S+BGF9mZM6DxvRQO87vG/aRaUXCWXeOaZPE7x80BP7JBFoF55oKaa7wnEzfp/X159yqoc3AOoa958LoIjszlncPNLU2eRUVDVYYg0/7DvPnrSDWA8UAZuhBxik+rKO7+vOfmQmc+hkdJR7xdq3HltqcAkus9B9PHVi0fXQJxqPNU+cWewptz9i8H+NblomcQGdIfK6IEBOm1hI6O0qCbcVhIXqlSehsAAmy2oWHxg2G+D1GlXHqIHV9T0tQ72QBB2cLHo2EUY084P9ZcY50R0toHtfnoaRE5YqG4QczlXO6cYLqdL+H5O2RyDPRAaWbTzHAENOYB66M6uznkPGrMuvZ7nLuRjPbi4EBvMq3tgCTd8C5VpsVmtjfwHvnl+L7w4lpy1MWRY1i7izN5QcBt3pOF6miL0PLMnPr9h6yyEAr12qGSliQe6PUN+6dUWSAYzhNExzbl8TiJyOpGa8iowZ5dBj49vuU4rsc57cQShnbZbqBhmClBg4LXY8C8k18CIbwfAhdThgq2wdwuCRQvcTDUkxsUcRp84pZy60ICHR9jYFeORB8Xa7XuqUuBJ/D39fxqC5jAF+tozQ4ACZSj2UeSV8HtZw1N3IEOtKb70l+tZduAQfqGIR8XgfONfGbzzFPqyuG73AQHTeSCGYK/qQbtI8PtyV+94PNzh+nli6/XwAZx4kVigaqptXiZFB/fkK7PtT9vNVcNTgAj9aqvnNL8cUL12R9NifxDrNu47Z7w/eoon6lgB0BTf30jwJgAAADIxBmkI8IZMphC///oywARg5kABKUS7IAv9tRj1422uWfPVB6fj3ma1CLrg5HTJGK4zuD4vb0CwkzmsbQN+vnDfeoHABrUYPgBZX8OLlqJw9lm3b6GIrXJjG4y2+7O7I9wJhQ+QW3AF0ouTsm08MOUp1sq4QF0zHRcM8uNBm8vsA0uiESjN5CuGIp/zlzmdMzVDYrCAXtV1J77ixfaPh4p9S5+tOeqO6yyputzN2el18X2UEHQFNR3cGG+YhizOK2adr29L/nGJ+KfBcVxTAxUD/xHI2JSPrp7KfZ3LiDYVB9wqLcbOkCwNoHvhcVb6E80lb6z5aNOzsrkCd23ODUfuVumJOvYZc8or0Qml/wzGiIIOeN/ou7Q9uMOW1v4jaeS9YWJL8QxlyH3/JGhPFFXHFFRBZ0oN3evmqOS/jw4YlYmAj6mS6oumEiqMJeGdKwuUFL8I+uryEzCdpFRfUs7Jd4p56VZ+W56novW0h/ihR5mqIrTH5wGUQuFGf2fjWuT0bevz9Qr5DE+taof0QoGArbT5gmrJVK0kJNKygFEsng2M55kBHjC1imOb+bbhPn94idjtSXXlrefPcxWNIN2bFhhBmNfLwoARJQOrmJXxE+X/hfqZB74XmKAvb8Sfx6TA6gSVyFFGjT3puZ4TDkG+6sHBiXPDrdkkzozYLYc+wwScf2XBlTwbX2CoOFb+Bav8hc2XQPP2EZtvlAxmDNka+BaLRFrPn5qRjyBHCDNiTFB4Ys23mm97ZjmEBGnHpDG7Cr1aW5Ai/fmPLagtb1h+6NSuflwIoC5GN9PvGzd1U084WVO+apvSCeHF9rcglnIXzIJ5+rAjCcVRhaZ7JqhR1zN1CAJfEKBCDNVQUi/kx+EOLpsCzDzQXHJf+wacKhK4ndZIDBwOqSsQj6PiPlGbdL9NRP7/cX9WSJMWEvTvLUrWoJGLTuZUUlGoY+7aGuT3lLmgLvyrv50nGj8VYNJgju5XEFVtN1OWy2nAGpITOzMmcCqfLFcNQe3KVj/DE4dq57f0w0M4B+d1Q+fclPhWyCgEN7nFaVb5a1M0/dy8Vv3mpb/fSULjQ0C2983QkbXUGAmnVBr6/xqQDxtfFx0GLvpXHJkgmr4ZkRKJqlO3qK51cE41BkQzviIafXskbtsYoZpYtIBzxENeoL2HaK9nNci0FyU5N52gjUHdLugJr6GSQSXwxmNwSWsXzfzVY8QxLx2RZCmG45vreYvAOYCqc8wh3v0Adgw0GUeG0Fl4lIgiGcor9Jg3XiMUUm7NqUfBsa/AFiaPAIbBDE7JC5f0NWn++kP/YVaAn2nqYQWOGeNi+C1tSQa9zExOtga6V9CTpZdmIcpVn87iO2j1meCm0z+EmAo4XmGZahj83atrzy1kC9WXloz0ArJtj79rdV5Bf3EznoWm3Ty00JgJcJ40nI9HcZOkiCwIwwVW+igZPOlpWrWmjzUXXIqvS6kSs0OAKkf5A+9/VuQVMYpvdJGktfymeT+nCngAYfzT5l1dSJAcSlk1h174z2/gsYBIXQMqp427M2RAAAm7PDYoSCksIVNYPlTZ46ed9D+ka2UIwJ3+WC8k/uP4gnkcTlVLjWpumxr/DJHq0Gnv10lRl5SgCxj48meyNGZjZGfywUM3dcXgI70ObEiaVDmuQnj3BYmWfYe43iH8DqPLM4IqEKW6wSb6N0+L8RP94T6E0CzRXphiE1JK+8iRdb3L740//pwxcaeBbq0hovNmjDgbI12BHE00PjdXaH/MMPA4le841i3cRdwqV/5rgCrGT/VgwxVKVlses7mT7T18xYQSPoGgz0cvl7VzaNZs8Dsipkq4zI8QKmXMDj/h8SLBBfAv/1fTymLGEo0hjO6czx3WNqdDjJ34aIoCeF6dnoJcIBWSqddSRXlFot0/De8WMDUpFAQGsJ5j4N3MkRnlM9WMhwvajmCC4Ii4p13MnY2wGCkZ+Ot6Lkxw3dHE8dthxsW1SW70Ii00c2n2siGgu8+F0v+oxX+Qv1mFzkJbMOKeXb764lNLBNSoh1Ta/DyeEOU3bOWA6706ffhV2k1PrszunmbaGhuilfm/NqS4g+9Qy8xgRYxoWtq7mcSRWkA+Jlc/gjrpL/iKoFCGHRjO35yEQMMLoQH/bLgO3ghX5lGIxAIBBIEqGiZkkvlkt4RhPmG4VgkhHXjoftZGFLG59OhvH/YVSVocqyxFcDELrJTwo7TXWbWSII4PPqIedpRq7Xus5TjDqBrvWl38si2dlcGXijLOBwa8xwocEtH3+sNhkLtQZLuSHlH2Dwrsn+byOswZhog5eZQ08Zc5odgmy0TkjxLePyCgbu4qk55wroAUHCPEsP6wbwlPtVGpFtIvbKPxNPlhe79AnLzFj6IQp/PlGDfCnkIPKi4lGnSUiwTKgTRMaqgchmAiAGOTUpnwLgSk3HgSCZmRC1MMnSkM02zyHIbC9cGzwEbNNWzAaOHFBpoqy0oza2CU7KRi6N7YtDxsixgxOzeSMLpmFRPrgK5IBOLsDjZJh70PXUM5nTHkOyKcdBeDcaZeUyHA7B8hR1aS7hauaZ+e+H3OBklPB1TEPeYfsBX+NcpoexInwgUsk7onakt6ZN8dlsRtWgPdMGOaFAwXt4phN+SXuYZxbdW2hHhkbbn8BXkRMoVu8fAf53tN5/aQWmBGYQXwCPzCTxmA1KdJUoqNq2vZIAVdH6F0vsu36SLyXnOLk7hPk0ld9m2v/7ifFymFwgBW5T84/zfl/MacAaS19zfcZKZjQKIslceX53Nwbt6EtAjQaVHQC/XqjrXOINOuC1EPziGSAV5YHqjv1I8XF8jUlJ477o3hXYoemGRLT2hLOyFf3q8quSXQgyhGRWMT+4OeTFMbwcu9aLJ7gHZDj8on0jbNrH39soYK9EJVj5AlQPfTls4UH66rd/8rDak8ANx/MRgZ1jzgz0pYciAvD+mb2bglprJ13in4WouTcXHmBGFJuyNSrhX5wwgvyGuwFxcazYP0368CpcQBN8okWqhKUyVlg2f7M6NwTKMCg2qCz2P03TQAAAwKNnAIU7PlB8tswYuzmv7xncaqNY1ywN8ULOSqXywT4N4Nf1EBVZvf3XoLH5jKrvmCospwRDTRwhHC7L3QPVCk3RpmJs8/uQxsUTfcM5Bm86RO3jyAfiB90hehTaY0k00u/5ADUNdQhpxq36RsJeBoP97K+9xcxjnJ2wgCrzJW48JGb8bJukM49YXI+pcNP6OjX7gLl5UFHPWgSBK3ysEHre1DhjVt4rPoGWDknPP3rJMaiRFT0svYU44SHbLH4z3V2THrB6fYBJ6Xqs0k2Y0APqEvZS+Ad8wmHIq1pUVtx9HnSspGbPgteJAB+Q3Pzh/9vdPDxiexjEeCc77cufq6jmk+knzHHJwryiwiy4u0gDZz2cQb9ENHY9w2lT1+15qkpI4AsqkFM1dPLgseSbBOV6rwHGyui7G2WtwqDrRzkGuzcGhQHr5yFP49K+Ks/lRorzx+0IRzwEX6CNPYPUsB/QuyEHp6MKR9bzpk9jW5O6r0UPICOwy3SGcbVrtAK04UeXoz9rtG/T9dDPQwwQLyHChR/S6fTtmm59dlFLAbSXnDbc00riIZL6vMvNKN+1FWhJGm4kmrJd4W0ozHN22//OtfzdLY1UHP37aHWCkjjdfnBgViJMiIcjcfGy0Ir2gwe57EF8Jjo/IZvdo///dRpxyh8zJFx0d9K/La+XIxyxG9ayx33x2FCUOeCecgiMckpHPFj99aOLOGbX7wCU2Ii8wst70LI2FwhoM4h7ib5whPAAAsD6dDWwlFPfIYBWbUT0E7Zg/0wji+C5NvwCU2+WdMdf1x8cmaEh266bI9MexxlGp5IXM4VklHil7SjfljsrcESoUe4C8/mqgugeZ2z7Ww0Ta1CIQGIlOMcYD0t6A1WsvPKnamSI6hCz1RNw1PYdjW7Rh5QgMiuhM93FIkP2aVdSqNga8yM9uPvnC/+xd2upS9pXHCIxD/InMf3YQnDDyMz4GsJJSyBBdiVjCfbxMS+UMEzDByxThY6ztIxqt2fxBkIzKLnjP5vJkQIwMijvBohEbT/yff5SLxH6fJJIz+Rl0OmWKYVzM+akU3ek87odN5R8QXrxGRdg210kGVSxTCQYLrmyV5TOUzaXd6RIE7azeUiFvmQO48m6gGuhhgdRWbWf6PxOWLtj7+ttQZZJkNwucLt43flYBm1YqmtgAX0YAXaMYlB3QNQFeYmYNFkz4wfTi4p0tk+ZByNkxTCqqw7UMz+ZuCp9J4UGQAAEaBBmmNJ4Q8mUwIb//6nhAAyMUtQBE1hldPNqal9B7p4YfqLsxCPsRqAv5jlvLG2gK68U8vk9N8qOl7pozKZMmrJ3thaWf4yCMDLFGlRYmQhIPvs73jZhZlQ/xa4Jy8h3363z3BdOF9/dAejdz5kuYFskvUTbkSEd63xH/71SiBmyt5PvJCCCJ2DnjdaDjqcwDmQpJV7gwI3uRiE5csnv0eWf5VZoHy49Je5K4Cg3+hXtD5h5d+9uqW6aO8Y0awoCb/CZerZDkstyZGPQiPRcb2KowfQNGqGlZs8+4DeGd9YKHKKQa5ocLNO9QHRUoO6rYjYo9T3ycSz/rRydsfgWsyegoHbNzWgdfYiMMqpdbLi30jmK29Oj1Zm7rvttg51QsKPmBEnUDAlvBiulwlbPG6MC+IcaFuPtv+X3L/7S6ie324CDeNTIrCctfJmnAgGD/qvKfODCwxApdAqr75cF8dAVhivYsnq7dKHkKvL3kYzLbUD8zFb63aiwxQOSZCcjmzg/n6Jt3D8M9igHjq85jnLh1QrOWYwsqIPSRLLq1RwerRCyZXvl3p7AofMXfZg67oNVCKLHFqKKHWYXg5VEZdVVXXlYD30fERS2l1ZS96UqO+FamBLeTorLliTRrYeJxqa/2/YllU3nm6L+YpZ6d6ZaYSukplHsvLj0rdWt1iV8prtKK6xQen+6dz7JAD1N3xnnotxKPSH/k6ZH9nAOAY/rYNjr5rPuzNDgsCj9S72xwFuBaaj3bNtJdwBAjt7lAXlREZhVfuweekAWKP5uZy2OkgJNbkPRfJuAgdf8CG4t6tkziTCcWVrGTvLqkbyfAI/sppuGxPdNXnH8cBvjEQJHCz3cYb5BJbUMAAaRF7TlGS1lMz6PxHcGoyrwRABU8cEjkC8H5HapbFlhkRvNp2zWwvZNUEYps24Q+TWxJxOV19BUAobtvPC+Hc0T/w4lvoH3OLcfDpmOrOiDvgIkPrXhZRKVE3yORpZticQGSX03RyVRzywTjiFNfm/e01bg6ensW0+rBMdHViLpT86t7HBheMLlhP/+62X8JpvDJS2XTW6EFTFPN+mL7L9gnMV3J1xqv1arki1ZCFcXWEknyZ48InY5aPPYfXM5cAXv9tr1uQQxv+FZDevg7+KVsWLepCnqy1YObRvAhXqjFxVgd8gB12nKX1SL4RZupB7HwAwPkvvcb+uKbYwsPpiDCkJaLpIYCfYhsXNojp/9UjIz2jMaCbIZcsMs7qAU3cjMSHYbcwamfnFFkKYB+WLIXZo9d+6bdrg8K36CVTKxdxDC/PyAqiMM+rf/v4wcZ6G5wWbVWdjMe4zJf44rMb4YfbNSlY8EFJ09eZS5lSeYZCxc99deUFsxB230AFdNsY76XVKT2MVfhekdliqRXJCpeeZgf/KlvbnBLfs0ZcUd7lixspo424OuC7/n4EKhPyBmDgdYFj8lRU00txGlB7Ege9UtKIF+KC8AwBQc7DK2a6YgBF6ZbCM8SGlY54Dug7jHQrBPvJ/meOAdjWFsXZhdO76Xm7SM+lKq4utvr/T5D7glu95nmAHSsH4RCYACMsu4r1a+mf+dGFMn+kzfSfkxm2grEPWe8ngYVceho++qUmzC/XC0PQihrsCkEdmEaQXwiLbWbdKPK2TNMejJR1aE1HQU01VOG16nfyIM3JricshHBSihUscdGuXoUuS4fxp8sFQZCjlJq/RmxYbtX6veJom9uOZCZoIVuRp+EZBFEltXVsWruR8nb+Jzh0omb70r1qE41w39grXjBSOjiLvb/RPDjJXwE3EDLeKh5+gvHx8GaVTM+IHIGbtM0D1QMs2SxDYoENtIEyFaWCQpe+Yv+GWxiIcVgZQgEK3srYi/QwPfejN+1nswyhZ0rCjpb3s3qRAj9QCP5dDKzkTABKqoIQYlp4RfV4n5mXlCFDzOjstFAO8R9VaQyMQ5pkZrOnl7rRTp32lxDZUXNx0sr2XOLFGpj2KPBD64fMlkarbiTt4ICuSEpwMdfpf9s7NGckGqERbCA/c8Dx/elsXC+n8CIx9Lh+yz5LEPv/U0+sWyHmLrCupdUosoQPPC9uDAK9oyQkLvOfhMvMejORgZ47uiZI2FqrI3ICDeP/i+1SI7ElRBYmXAgKPJPREBPPwrBFzLWnB8Z0xOhUljxS9YJq4KZ+L/ZyGDkAjo3iZYj/EjB8OM2PRqhYafTKF2EeJn+jc31usurDGPpKTRlvxjg8BhEriESwpPUsAqCqGLGAFtoUe6N6hSd2IRqeuLn/Pn+IFxIXagL8sAc4zz8/SUtIYDbuqpbkYlQAnxSDqsWfGRIlAgAKhd8OZmX75y04A/KkUbKEoDDB92Joz2mjmsGQiOx5LWH3qV9nnjDoJ09uaAgq0x8hKpE0cNuqiyqasftX3GXUCc+bd2s2Ed0qvs9PZW3m3BEjFYiTQ2CkbG8BX7lQnFP7hHI/j6G1ny4XW4pw3mZgLgVEysxbS8k9LQwFJ6PDYzKa+Xt7QwOWW/4dGAV+uJqddZfh0obc6LRvxrk1qIHOIzVcYh1L5leDp/WjpEQrtny7hvlx9sUPJAF87cRkcJ7p2m7BI8NOSeOAtW6hMGDt6/DyK+Yfa7kEe/neeVf9JIBh/9rikIZS3aQXthnoiiYSUZJJnPdCgfqu+A6MKP93WfhHPZxGhE4CcXEKp8GCUDDffIT0XrS1wDbmVBrfjVxWsb6+N1N/4vAauCetxA36t1XMfzzskEnqQnYG30ne46TLRfMFDbRYEJ22tC7OhdYYthEyZoCXsLP5SVRbbwLVXmgTzlAv0EPW6D9a+8cd8EKAEo2fBkNJ95wbT190m7agWBxPL2e/Rg2wkKdgNM9C6tZNetmeU488iXrYu6QhRl3UZefSQYueH6qvVkyKkON4EDgQL7XkTB/CmRGqacNH42vObBwqGd3qtY8+VCDg8ApxCB5xsWZwF72RU2Us/qjRK/0sWhcKaG/g+GBg7QZ5NQe1dywyW1BrgRPykLtBzvEPqiTVS7va4+CeNDt0ZNv/54ApnnMgaP1kRZUtzqGNwUV/o4LNnPq4ngqz8bbku57SfKsQergtaNqGPDpBWS8AbrVq5iSUS1cYxwZbDx3H957dtaLYClI9vvzqBvtMhLe9UdMoU2gFgj/j/+Tjh40FzXICv9XPldEffOkzax1jWDyGU6XR5HVE/tjBOwTRh2xjKjv9wmgcZifi0JLGoi1+YUnxb2FMKr8JGueKwZSFg6+TdKn53BZ3U3wDzq6+P4RTmoi1VuGOtTWg18zgSpGbWrHGM8y2pBGV0KpHSh1vKVZArfGqliQwM9EfWCHaADJRYP3znGNLtN3XZ1Elrv5Djgko8aYeV9Y8UgMQm3yg6ZmBW+V/nDOZL545ZYSyxjUqrhs6WdYD/7npWcJgPNgVmsWBT+wlqx6AX53ZtCQgGoq2XtU9Cip0HH/vVRg+SQ1S4OnzjG37zQLyTX0LaNkXecmnQKa6fMBNRQDs+1rNmmsa2eZ8EmQNWs6jSiOHVxfvSSIw2l2PVbFiUO3Sb1nhqbsar+9EdWBMiurj1PzWRiWr3L4FQxfUB5AF/F2UMMyIBq8Sbq70viXs+OOR+6HPOKsFZnGZsetmnum/arM5NPH+uGtM4Lsyfcp2C3yZFBuFOnJv1RUy5XQDIYXtHcY/pVT+dITinvs3VXhPWwes2f1NUcXA+7djo+KDIlomDJFDSsywX596qM80yBc/V5DGpfpPdvj/7LQ07oxPSFwEUlBqSSE11x+VN8ir5IsYEtFtWyTT7xBZlOxDQYdReUA+TnUPhTM/DFmde/tNb/ll6eaCJ2XXUyc5VLe6B9CMd+3vFaBv3E0gIjvesQvQVb0ZuTBjY8nMgRK3P7ECnSKmH57y8k4DGH3jDA4SrxcU9+uOZOKK//vy89/0zMuSL7mna+jOcXWJirlt4xRMFKJ38QYFA55nexJETxPGCuutoKhw1wy1Fzcmz95zXdtxny+1EFFEU3QcYvVQ2dSEQe1qDrh5lQZroa0Nj0JmhEcFHyWf2jIN6MeZ/N9+zt8PadxUMGVBQpCeM1f4+dX9Dhy87Hlf2p0ZdfDoA8M+GsipgJAsUG8ae+BVLIVzYuS2h6h+zFVStZd954/LbG6LHSg7lANvVkFbeHD8wqCcYcjdyS9zL/LHY34FI65sbG5TEyVbsv50W6gYh+c6hHtsNKJ2Zs0xblsVcmGVKyABIeD3Nq5uzhsE7NF0nk/Z/MiVDLiMbedMT5typmBWTj158vB0eYfz4Kkb3iERqx+ooCLKgFi4rhAcnMgGa5o5599c/PKQscJQISV+WB6v/CWWXb027JzCAg/zEDZy26X1xgljxyTnldwlTz5KnKglCZDgrCoWLnmHvv/BtBaQiYsbCfkBKdDD5YNp6590Z4lr53o+gZv0yDlz7YQp+tsUPaA6TotEti4PmCD2IxVancVmMVdzwh4pz4oE9qe1lTnuxPE2hTe1fk6VN3k4txy3uYP3Fl4PA31O9aHI+Tyyh6jrxN9t7Bx42zyon0/z/n/ji2khLDSMKDmh4QgkgOO13xvZbPCaXtwzxiZLbVcpZJTbQYNYQl9jRcEy6p2xvMdRi40ku3CtRZB0/0InR5GdttxjmH0WloYU/VjGXJdfazPYGr4RHp+Jv15zl7MOHHFhJkeCqnE5mouc1tJSrFieSEncKucQpmKUyPClXdkfT8k6UgFBb+HhIm+qX3Gk4R93wzlZoHf+RPrcx6UojnudjK8mBB0atyCHMeyJ5dvVWhe8ss9U2PlqFUslGmsYEqKAaqXEqSbl5igSiakPQrBvaeOj2qeEQH78I4aBnlCuhAht7ZF7J2oyVvbzfZmetT3bfB4NenGJGOrbejroxdCdePO5hv5QrBeFH7rUyE5BO8wz48W+WqjR+9MzrUZvNJHjSVMIbX2CISZyrn2ccugYqP0fLAsKHMsOjku6UHh4xy+10q2VEG0mRGUAYvvNE8qFZHChRHzBMR6Vnmjyvtkyhjx5zdh5IPt0j+WsBvTX3l3+wTD5O3s2XexQr6vBp38VNJEFjUvk01mQQJIGFkgWMgxfrb8HucM/lTqUhA569BPzFT0M6D0oOwPwtuQFuC3A3PowztuYDP37YNjhJfe5xKDm1fsBmWHYt8TC6/WMW3eFzWWWzsfjtnCXPkyvcDSZoCHmtJGTXzbkYxluoNuJWm/FRZTWOCg1K8zHDwPAJEj+czSrN/N8sYcNx7BQTHF8lb1dF2rtaAwCMcWBGaeNnLpPhPu5epkVTDnK+21Br7D/H0PWS3b4kI/SoILPMTzTvlMtEUWw5/SNDC8opj2NJ0KwksZLvY6gPZirUPcOSgPXoVl9OnwD3B7vffUMUY2gCI2/S/G5TN7rt4LDagALu37nJHra4/ADFXhgrxeJwJGO12MdEyToFmOO2D1R420OFPM1BYarDNWWgWnijdmzKScX4AjSc9jidZgSWn4TXPWcdtdAl3paAVDYFNAvR0BU4dp/1gd+vw1/NrYpPTuKQFLuDvdbCHULUEpeqIl1aOyi9Pr4hBGiYafGR61RHeuZhV0c9Egan1zLY9zgO/p4S4pUrgkVfS7XYnhwzFiqn01ejyx64UTQX3sCBu2THOzNYfr01GXgYeIj/kOiNbe8uOgBzxbMT1ppjBaS4VBhl4WdZVl2S5o7CAbtC5ByQIYXhhBohoyPATOsxzwZHRSY5G/CcJHtWLSuZkn6PyWnCoKuqQn/DxfkEduIBqrTINyPbPGUqWZsD12xMLzg7S8gnzHYEwPdzAN9JsRqBGJegxCpdNK3vGyE66OPsvYmjM8b/jKsIhsAXjx7MPtZ4X6MaDudtMAOD1nd4XtpgOS+UAAwkdNs8bYh1ACWIPQ3itwDK+D/SiD5IWpmst/3D80FuNuZl0hqganXOOGtn+q4MtkPfXG7fV9Pm/8yNR9rJUNOOP/N3j+bNK6uG+DyQVWQbnnwAMbsjYqi0HhH1nrhfHRfn6Z43eNILQ4MXapcOQy8L3TQ7TuAAAAt7QZqFSeEPJlMFETwv//6MsADGCwvL9tl01gAXPLF/7KJfSzCNzVHLRk4hjcyfBtb6Sqz130FkJkbsHoexvkBCNGeFw1QX2natPYss0EVuOWa4e+trpvdJJIJ5Uiz+2nMncR4s7axif4plw8yNZnyXdxsnB9kGkSUf3VSGCy5lCiTsuSl4POZtIY5lirhQchLmJ8tBw/Se3eCHtT8t1LHAAc56gk7MpfpAWnAPtiKlewGug4tBrLNBr0CJlhVKQsI9TIWs2Cy89Zqiko9mSJLiGL/J6+qiyAKhZtmtj+OpfjtCsxdTe0/aTdAaeotN7NjxPvQwvDneZ7iCW7tw8/iCTi2Wl1cceYLzk+9XkuMOaaMjqmpZfAo6euJLaSmyFysFbZxm0uXFdJtyrCOmAaOyu71BAhaTotcByXQFR6XntSzn7IfUZArrCEedM0xq6zZuNgsHTtXCIZh2EAc0HyEi5zCDxm9N7fFWZIX2PmT1kYsc03INh2f/lH4b2I0fXC2AW3OotEfXD4ETucsSKr6lzSs0ZT0nB76Zl2fnHxinpEj9ss1+Ps//BOPrjUJoIF5AUguOS1oGyVleEA1L/NIGfDYLZcYtxhQU3+DqFGx5Kt1Tm62oxy20Y05QnEd0viXtqpGHmakAbuzgbpa+AiqgY3qQsL8+nFqOBCyL4QOkAzCgIr2ESV6CeX6WEpopcEAcN1siUQXTKXisA373b5GceWocteZOFj+48IZaSEfvCpAASN0tJz1W9JcZU0D1Y2+78zUZu0rHkAA2E1BVpCNwsYy0wVNczwJ4wzmnRApSemvkexgvotDC338k880/vBlRpVWj7NJsPE5MvrhoyGTVNGUOnK4JEN+5+qDpONzPN0D7g2stt1pyAdSR+pa+8fZ4ZCTezOJ/diiZf6ynimxmrSXTpSemsjvKazw+BeZMSUOIZvNBvOUpa3izrc7vA7UjAbVJiFXIhitPiw6XG3zL5uxQ8O4MzwStLMKX7+kWwZmhT13wJr20mFxn5KmFnn5PUcLTucTfunWOdONRDkgTVChPOuoborCjBBH7FdEtVIEVEmrn0jgDgY1zG4scSu3CuXwlFtqRz9Gw1Faj8LvvmsTQdEsrBtFya5sbL98aQC2AOSmkpUnqs7TK79R0B6xw/3C9yspMTD9c9OReil7+p43hxZ6SzAEpd7hCDvlM3FU7KLnwXvhSBPYJCgShPsiSikQPdykh0mEUqjT9rTB6w2quppn58M9j6qf+5PZgaigpxmErWjV9BsT4GyMAePKt4jDL86jDDnnEBRTuU7t5H5UJ7fceGFzN3AMIO/guv4iD8BFJYsiW34Fr2YeszpG5uXmAXd8Oli3Ob6VzvLpCiDbiEu6I85wRzjmkdoQo2OvHJMCnJfwZnDP92nUeHxzYOZnSr/E+VrRfb1BvMKmdTZKplen1GurtwyeCjDaRuU4XhRLox8aFksLylmHs+0ryxdcDTn0QsALd6iibIQ2Z/I58M85YDh+6qMLC8r/9zmlZuOWN7rSXFsjhCxOt1W4G6E3d+HRYiZc3pft28qa7ByWmTFzQiAp1KvuwiFQ5Peuo66Y4O+GC4RIBM0ENjFz5hFKgK/fGwTWe+LXSSGjeCBi9V3xp7eDjGD95swmkWVaVgyRHvcFfxaQcdKeddWJvDyaRIqEOsMKhdnfD9JESbZUsyN3x12+smc8cTpLtmW8klLLBmJIyaQIRhIVSDQHatMXrfVlRGt0uAw8x/+QqsKeqBFoL3buOa7UY9Os9olsdLyaHv69w53GlTV5jc6mT5txAU68zvyl3b0ShjQWMvpDp+Jy0vbLjEGCkaEma+BMtBkAJvlpl/h/YJY07enyI5LZQrEsAUDkt50MsdNsLfjC6awDsQt1XWtGkNqnRgtGzhoiIvtbSi6YAXVuRNvEZfO9yabIF3ZHvp7omUnJfT4tHZEP8PJYlvdzpjqJgNN9AHm599yuP6zp+k4A+Se2GI46d7xMzZl53CmCH64pHm7lPCi+jf1pJ00IojdniPH6ScdUSn01IkRcvb3nRx4h5gx//DJW7vRjuUf6ZdgIGghI/uXrhqpl087rSFrUq4mrkN5+AoxxcS9Hh7NubFRazDtaIG1m2csewdhSJUZNCKqRjAVxYn3Nl40+dp0op8FFcJol3dR3qOVzs9K4jscFsfogm50eUukHt0/e9dU0wHlBRwhl4SpZnKhapGasDfvFooR29gvs+ulDjRMFJiRi4s0MxTUF5YUOmfnfqOVdrg0enqXBDUQ8pc5BTg+i1ipq7hmJmwlTo9K53c3A86UEyI+uTYFtcP772QcURD1walD1Vbpe0LdS7wfkhMOjNJ3GNT8wPyruJzhcLHdMteUqiPKQVmZlyNSazlVRkncMj0f1SC/9qklstJiaivuLt4TX8S067prOjPZfmHIEArYKtY7/d9k76hM6hRfNLEZnm8mEz/3xZilaUMAzVAzjDP/wMntCqPB4gl6BGc0Kt6iRekxW8Vh5yLGEtIawIZLOiABgyu29pZft0Qm2B8xxkvavnffdqZUMF7etVDZ80t8wqyTdwsfm9ETZ6XE+bJIPsZuQoUwZDYUYaMuyKLY2V0kOX4gH2Q8StP/HpJWG2oCjHS9llw9xF8JR6C+UgGgoLsDgZcu6Rc/AT888j8fLmBQDXXdlX5tgvUMc44gjZpKtWsnDN/odxPA/LUVgxMhFrOEOZKuSkbzsagHfjJiXzi24AmjSnbJWWc9iaeCGe3crcBNzk5ZAhVGN9MR6Cxno1YoupO8SfhrYb0392NGwgZRQ0M1AsRUeGcB6IintRIFR0XdcUGxyk/T/VtRgWZIniK1w1XdIeicvphSc+ewXPsI6VFFLbPNSHqN3aXeQhmfG8Km8ezsy13FkBE5IvoxVY9/1lKS4Chyv7ZrQ40qh5y9WywPpst2u0ekl04Z094NwGNm1QEMEonLoHIgP+RSvHOLtoqLB00FnzC5mHQYjYu0s+hhSRz8RYx9kROw9ReO8mGseC8MFYdIU3eEWeNTfFC0mHsf8H8NlC8h2oFGf+yq/Cppo/EminyGMvHGToyJDORzGRhYSrTxd1QorYgyL5zRTLyjZBSNHepiOUNEx6FWWmAjOdOmxI6CW+prGMRMmcT9vdN70Fy04aDfshyWTx42gpVx2q47+Tmuy74L7H1XOoApgeL05bvJiS/fePDmdRqizGRqZXC0uYILpGQDKPCMMoYR1J91mTsEDpYIl1Pi2kDHfuZrP8/O5Ev8HF2M9WboNyC61lNKHqqa3hrN0v73xzsdJmfaC5NovS19Bh4hmpgbI/iby2nKOpq2jmfQRLq2k9Ba//57118PR/9Xv41NfRXCz78enknBYlI8KHtDRW1rl0bS9+no5ErRqawEW+nUDIx+LvI783RIGx+yyeRVJNTpmoH4y7PtPY9fSrGmWDsB6AYwq/pk525aEq5nN+B2DzDUW7jws2VbNS9+5HIRp25LDUaNWmqlmadnMslXFo/aM9Ye7VdbpjW1Y+/40TYNdsrUwPAkBIC/T/+1xOznJY4YJRQzyYLvIO5ukn9d3P42oNKo8oTwxbFpMIyhdR2Bhvwlth9bfig+DXbbKwvgKHbbaXNtC2wYs6i4+wbATYQh/YTR+Xo5kg7WA7iNdbM53X7E3KVKazSVE65llp/+hTDlkOqxKDiepIzgTJsaPvVGatJghpE3TYqQM66/nWfjA1/rzNktjUkUtUbEmCKMtJjvRXNAK5gfCA0D2Np8QpuTdvBmjAl7eyT52sEWIdmFvdN6Y7uNkz24quggcET1Bqf4X4AmNvf3fhP13jnTRrzDY3ux3pdDIiedUGX3HymSlXalBllLoX3KICxnKVUi/wQKhc9Gtv028z2GKPMtNSYZ81jM56e0p5eVZFpnVPtxzk6/h02QPv0REAAACfAZ6kakL/AWtrxbjEKSSsQPy6u+joDCJNN1xMPa0ZPmz1w5oTrOF/gpMhOqF7BodDPVeWvnx6BnvUIMEimP0yVmzWGz2tTbgsuMXNSCTIJlpygY+o+IXl476olHLe1hMLvIeaH8alycqzVFaijqFyPB3a02XQ1yDRUWTVl2iEPmVnwl1Q8ftfb1kfhl35jNR+liJZN2CrxVUhW0P7zCghAAADQ21vb3YAAABsbXZoZAAAAAAAAAAAAAAAAAAAA+gAAAGQAAEAAAEAAAAAAAAAAAAAAAABAAAAAAAAAAAAAAAAAAAAAQAAAAAAAAAAAAAAAAAAQAAAAAAAAAAAAAAAAAAAAAAAAAAAAAAAAAAAAAAAAAIAAAJtdHJhawAAAFx0a2hkAAAAAwAAAAAAAAAAAAAAAQAAAAAAAAGQAAAAAAAAAAAAAAAAAAAAAAABAAAAAAAAAAAAAAAAAAAAAQAAAAAAAAAAAAAAAAAAQAAAAAIAAAACOAAAAAAAJGVkdHMAAAAcZWxzdAAAAAAAAAABAAABkAAACAAAAQAAAAAB5W1kaWEAAAAgbWRoZAAAAAAAAAAAAAAAAAAAPAAAABgAVcQAAAAAAC1oZGxyAAAAAAAAAAB2aWRlAAAAAAAAAAAAAAAAVmlkZW9IYW5kbGVyAAAAAZBtaW5mAAAAFHZtaGQAAAABAAAAAAAAAAAAAAAkZGluZgAAABxkcmVmAAAAAAAAAAEAAAAMdXJsIAAAAAEAAAFQc3RibAAAAJhzdHNkAAAAAAAAAAEAAACIYXZjMQAAAAAAAAABAAAAAAAAAAAAAAAAAAAAAAIAAjgASAAAAEgAAAAAAAAAAQAAAAAAAAAAAAAAAAAAAAAAAAAAAAAAAAAAAAAAAAAAABj//wAAADJhdmNDAWQAFv/hABlnZAAWrNlAgBJ+WEAAAAMAQAAAB4PFi2WAAQAGaOvjyyLAAAAAGHN0dHMAAAAAAAAAAQAAAAYAAAQAAAAAFHN0c3MAAAAAAAAAAQAAAAEAAAAoY3R0cwAAAAAAAAADAAAABAAACAAAAAABAAAMAAAAAAEAAAQAAAAAHHN0c2MAAAAAAAAAAQAAAAEAAAAGAAAAAQAAACxzdHN6AAAAAAAAAAAAAAAGAAAYtgAACsoAAAyQAAARpAAAC38AAACjAAAAFHN0Y28AAAAAAAAAAQAAADAAAABidWR0YQAAAFptZXRhAAAAAAAAACFoZGxyAAAAAAAAAABtZGlyYXBwbAAAAAAAAAAAAAAAAC1pbHN0AAAAJal0b28AAAAdZGF0YQAAAAEAAAAATGF2ZjU4LjI5LjEwMA==\" type=\"video/mp4\">\n",
       " Your browser does not support the video tag.\n",
       " </video>"
      ],
      "text/plain": [
       "<IPython.core.display.Video object>"
      ]
     },
     "execution_count": 5,
     "metadata": {},
     "output_type": "execute_result"
    }
   ],
   "source": [
    "from text3d2video.rendering import render_rgb_uv_map\n",
    "from text3d2video.utilities.video_comparison import display_vids\n",
    "from text3d2video.utilities.video_util import pil_frames_to_clip\n",
    "\n",
    "name = \"joyful_jump_short\"\n",
    "uvs = render_rgb_uv_map(seq.meshes, seq.cams, seq.verts_uvs, seq.faces_uvs)\n",
    "vid = pil_frames_to_clip(uvs, fps=15)\n",
    "display_vids([vid], title=name)"
   ]
  },
  {
   "cell_type": "code",
   "execution_count": 6,
   "metadata": {},
   "outputs": [
    {
     "name": "stderr",
     "output_type": "stream",
     "text": [
      "\u001b[34m\u001b[1mwandb\u001b[0m: Using wandb-core as the SDK backend. Please refer to https://wandb.me/wandb-core for more information.\n",
      "\u001b[34m\u001b[1mwandb\u001b[0m: Currently logged in as: \u001b[33mromeu\u001b[0m. Use \u001b[1m`wandb login --relogin`\u001b[0m to force relogin\n"
     ]
    },
    {
     "data": {
      "text/html": [
       "Tracking run with wandb version 0.18.3"
      ],
      "text/plain": [
       "<IPython.core.display.HTML object>"
      ]
     },
     "metadata": {},
     "output_type": "display_data"
    },
    {
     "data": {
      "text/html": [
       "Run data is saved locally in <code>/home/jorge/thesis/wandb/run-20250528_172016-9pgpjd8o</code>"
      ],
      "text/plain": [
       "<IPython.core.display.HTML object>"
      ]
     },
     "metadata": {},
     "output_type": "display_data"
    },
    {
     "data": {
      "text/html": [
       "Syncing run <strong><a href='https://wandb.ai/romeu/diffusion-3D-features/runs/9pgpjd8o' target=\"_blank\">solar-monkey-3707</a></strong> to <a href='https://wandb.ai/romeu/diffusion-3D-features' target=\"_blank\">Weights & Biases</a> (<a href='https://wandb.me/run' target=\"_blank\">docs</a>)<br/>"
      ],
      "text/plain": [
       "<IPython.core.display.HTML object>"
      ]
     },
     "metadata": {},
     "output_type": "display_data"
    },
    {
     "data": {
      "text/html": [
       " View project at <a href='https://wandb.ai/romeu/diffusion-3D-features' target=\"_blank\">https://wandb.ai/romeu/diffusion-3D-features</a>"
      ],
      "text/plain": [
       "<IPython.core.display.HTML object>"
      ]
     },
     "metadata": {},
     "output_type": "display_data"
    },
    {
     "data": {
      "text/html": [
       " View run at <a href='https://wandb.ai/romeu/diffusion-3D-features/runs/9pgpjd8o' target=\"_blank\">https://wandb.ai/romeu/diffusion-3D-features/runs/9pgpjd8o</a>"
      ],
      "text/plain": [
       "<IPython.core.display.HTML object>"
      ]
     },
     "metadata": {},
     "output_type": "display_data"
    },
    {
     "name": "stderr",
     "output_type": "stream",
     "text": [
      "\u001b[34m\u001b[1mwandb\u001b[0m: Adding directory to artifact (/tmp/local_artifacts/animation/joyful_jump_short)... Done. 0.0s\n"
     ]
    },
    {
     "data": {
      "application/vnd.jupyter.widget-view+json": {
       "model_id": "e7d1dd2389a743159ff05b3a42052f55",
       "version_major": 2,
       "version_minor": 0
      },
      "text/plain": [
       "VBox(children=(Label(value='1.225 MB of 4.929 MB uploaded\\r'), FloatProgress(value=0.24847546227605993, max=1.…"
      ]
     },
     "metadata": {},
     "output_type": "display_data"
    },
    {
     "data": {
      "text/html": [
       " View run <strong style=\"color:#cdcd00\">solar-monkey-3707</strong> at: <a href='https://wandb.ai/romeu/diffusion-3D-features/runs/9pgpjd8o' target=\"_blank\">https://wandb.ai/romeu/diffusion-3D-features/runs/9pgpjd8o</a><br/> View project at: <a href='https://wandb.ai/romeu/diffusion-3D-features' target=\"_blank\">https://wandb.ai/romeu/diffusion-3D-features</a><br/>Synced 5 W&B file(s), 0 media file(s), 5 artifact file(s) and 0 other file(s)"
      ],
      "text/plain": [
       "<IPython.core.display.HTML object>"
      ]
     },
     "metadata": {},
     "output_type": "display_data"
    },
    {
     "data": {
      "text/html": [
       "Find logs at: <code>./wandb/run-20250528_172016-9pgpjd8o/logs</code>"
      ],
      "text/plain": [
       "<IPython.core.display.HTML object>"
      ]
     },
     "metadata": {},
     "output_type": "display_data"
    }
   ],
   "source": [
    "from text3d2video.artifacts.anim_artifact import AnimationArtifact\n",
    "\n",
    "new_anim = AnimationArtifact.create_empty_artifact(name)\n",
    "new_anim.write_anim_seq(seq)\n",
    "new_anim.log_standalone()"
   ]
  }
 ],
 "metadata": {
  "kernelspec": {
   "display_name": "thesis4",
   "language": "python",
   "name": "python3"
  },
  "language_info": {
   "codemirror_mode": {
    "name": "ipython",
    "version": 3
   },
   "file_extension": ".py",
   "mimetype": "text/x-python",
   "name": "python",
   "nbconvert_exporter": "python",
   "pygments_lexer": "ipython3",
   "version": "3.9.20"
  }
 },
 "nbformat": 4,
 "nbformat_minor": 2
}
