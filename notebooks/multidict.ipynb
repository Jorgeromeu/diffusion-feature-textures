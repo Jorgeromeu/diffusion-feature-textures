{
 "cells": [
  {
   "cell_type": "code",
   "execution_count": 1,
   "metadata": {},
   "outputs": [],
   "source": [
    "%load_ext autoreload\n",
    "%autoreload 2\n",
    "\n",
    "from text3d2video.multidict import MultiDict\n",
    "\n",
    "d = MultiDict()\n",
    "d.add({'a': 1, 'b': 2}, 'x')\n",
    "d.get({'a': 1, 'b': 2})\n",
    "d.add({'a': 1}, 'y')"
   ]
  },
  {
   "cell_type": "code",
   "execution_count": 26,
   "metadata": {},
   "outputs": [
    {
     "name": "stdout",
     "output_type": "stream",
     "text": [
      "{'b': 2, 'a': 1} x\n"
     ]
    }
   ],
   "source": [
    "for k,v in d.items():\n",
    "    print(k, v)"
   ]
  },
  {
   "cell_type": "code",
   "execution_count": 3,
   "metadata": {},
   "outputs": [],
   "source": [
    "import torch\n",
    "\n",
    "\n",
    "d = MultiDict()\n",
    "\n",
    "for name in [f'level_{i}' for i in range(4)]:\n",
    "    for timestep in range(20):\n",
    "        for view in range(10):\n",
    "            key = {'view': view, 'timestep': timestep, 'layer': name}\n",
    "            tensor = torch.randn(100,100)\n",
    "            d.add(key, tensor)"
   ]
  },
  {
   "cell_type": "code",
   "execution_count": 4,
   "metadata": {},
   "outputs": [],
   "source": [
    "from pathlib import Path\n",
    "import shutil\n",
    "import torch\n",
    "\n",
    "folder = Path('outs/dir')\n",
    "folder.mkdir(parents=True, exist_ok=True)\n",
    "shutil.rmtree(folder)\n",
    "folder.mkdir(parents=True, exist_ok=True)\n",
    "\n",
    "d.serialize_multidict(\n",
    "    folder,\n",
    "    extension = 'pt',\n",
    "    save_fun = torch.save\n",
    ")\n"
   ]
  },
  {
   "cell_type": "code",
   "execution_count": 10,
   "metadata": {},
   "outputs": [
    {
     "data": {
      "text/plain": [
       "tensor([[ 0.8275, -0.5290, -1.3580,  ...,  0.6103, -0.1908, -0.5584],\n",
       "        [-0.6270, -0.3967,  1.1140,  ...,  0.9764, -1.1967, -0.6578],\n",
       "        [ 0.5680,  1.4688, -1.9294,  ...,  0.4950,  1.0891, -1.2829],\n",
       "        ...,\n",
       "        [-1.1959, -0.2713, -1.0753,  ...,  0.5614, -0.1969,  0.6049],\n",
       "        [ 0.6059,  0.3630,  1.2006,  ...,  1.0034, -0.2709,  0.9899],\n",
       "        [ 1.1913,  0.4496, -0.2282,  ...,  1.9380, -1.4701,  1.2580]])"
      ]
     },
     "execution_count": 10,
     "metadata": {},
     "output_type": "execute_result"
    }
   ],
   "source": [
    "loaded = MultiDict.read_multidict(folder, torch.load)\n",
    "\n",
    "key = {'view': 5, 'timestep': 10, 'layer': 'level_0'}\n",
    "tensor = loaded[key]\n",
    "\n",
    "tensor"
   ]
  },
  {
   "cell_type": "code",
   "execution_count": 107,
   "metadata": {},
   "outputs": [
    {
     "ename": "AttributeError",
     "evalue": "'frozenset' object has no attribute 'split'",
     "output_type": "error",
     "traceback": [
      "\u001b[0;31m---------------------------------------------------------------------------\u001b[0m",
      "\u001b[0;31mAttributeError\u001b[0m                            Traceback (most recent call last)",
      "Cell \u001b[0;32mIn[107], line 5\u001b[0m\n\u001b[1;32m      1\u001b[0m key \u001b[38;5;241m=\u001b[39m {\u001b[38;5;124m'\u001b[39m\u001b[38;5;124ma\u001b[39m\u001b[38;5;124m'\u001b[39m: \u001b[38;5;241m1\u001b[39m, \u001b[38;5;124m'\u001b[39m\u001b[38;5;124mb\u001b[39m\u001b[38;5;124m'\u001b[39m: \u001b[38;5;241m2\u001b[39m,}\n\u001b[1;32m      3\u001b[0m MultiDict\u001b[38;5;241m.\u001b[39m_dict_to_string_dict(key)\n\u001b[0;32m----> 5\u001b[0m \u001b[43md\u001b[49m\u001b[38;5;241;43m.\u001b[39;49m\u001b[43mkeys\u001b[49m\u001b[43m(\u001b[49m\u001b[43m)\u001b[49m\n",
      "File \u001b[0;32m~/thesis/text3d2video/multidict.py:42\u001b[0m, in \u001b[0;36mMultiDict.keys\u001b[0;34m(self)\u001b[0m\n\u001b[1;32m     41\u001b[0m \u001b[38;5;28;01mdef\u001b[39;00m \u001b[38;5;21mkeys\u001b[39m(\u001b[38;5;28mself\u001b[39m):\n\u001b[0;32m---> 42\u001b[0m     \u001b[38;5;28;01mreturn\u001b[39;00m [\u001b[38;5;28mself\u001b[39m\u001b[38;5;241m.\u001b[39m_str_to_dict(k) \u001b[38;5;28;01mfor\u001b[39;00m k \u001b[38;5;129;01min\u001b[39;00m \u001b[38;5;28mself\u001b[39m\u001b[38;5;241m.\u001b[39m_data\u001b[38;5;241m.\u001b[39mkeys()]\n",
      "File \u001b[0;32m~/thesis/text3d2video/multidict.py:42\u001b[0m, in \u001b[0;36m<listcomp>\u001b[0;34m(.0)\u001b[0m\n\u001b[1;32m     41\u001b[0m \u001b[38;5;28;01mdef\u001b[39;00m \u001b[38;5;21mkeys\u001b[39m(\u001b[38;5;28mself\u001b[39m):\n\u001b[0;32m---> 42\u001b[0m     \u001b[38;5;28;01mreturn\u001b[39;00m [\u001b[38;5;28;43mself\u001b[39;49m\u001b[38;5;241;43m.\u001b[39;49m\u001b[43m_str_to_dict\u001b[49m\u001b[43m(\u001b[49m\u001b[43mk\u001b[49m\u001b[43m)\u001b[49m \u001b[38;5;28;01mfor\u001b[39;00m k \u001b[38;5;129;01min\u001b[39;00m \u001b[38;5;28mself\u001b[39m\u001b[38;5;241m.\u001b[39m_data\u001b[38;5;241m.\u001b[39mkeys()]\n",
      "File \u001b[0;32m~/thesis/text3d2video/multidict.py:28\u001b[0m, in \u001b[0;36mMultiDict._str_to_dict\u001b[0;34m(cls, key)\u001b[0m\n\u001b[1;32m     26\u001b[0m \u001b[38;5;129m@classmethod\u001b[39m\n\u001b[1;32m     27\u001b[0m \u001b[38;5;28;01mdef\u001b[39;00m \u001b[38;5;21m_str_to_dict\u001b[39m(\u001b[38;5;28mcls\u001b[39m, key: \u001b[38;5;28mstr\u001b[39m) \u001b[38;5;241m-\u001b[39m\u001b[38;5;241m>\u001b[39m Dict[\u001b[38;5;28mstr\u001b[39m, Any]:\n\u001b[0;32m---> 28\u001b[0m     items_str \u001b[38;5;241m=\u001b[39m \u001b[43mkey\u001b[49m\u001b[38;5;241;43m.\u001b[39;49m\u001b[43msplit\u001b[49m(\u001b[38;5;124m\"\u001b[39m\u001b[38;5;124m&\u001b[39m\u001b[38;5;124m\"\u001b[39m)\n\u001b[1;32m     29\u001b[0m     items \u001b[38;5;241m=\u001b[39m [item\u001b[38;5;241m.\u001b[39msplit(\u001b[38;5;124m\"\u001b[39m\u001b[38;5;124m=\u001b[39m\u001b[38;5;124m\"\u001b[39m) \u001b[38;5;28;01mfor\u001b[39;00m item \u001b[38;5;129;01min\u001b[39;00m items_str]\n\u001b[1;32m     30\u001b[0m     \u001b[38;5;28;01mreturn\u001b[39;00m {k: v \u001b[38;5;28;01mfor\u001b[39;00m k, v \u001b[38;5;129;01min\u001b[39;00m items}\n",
      "\u001b[0;31mAttributeError\u001b[0m: 'frozenset' object has no attribute 'split'"
     ]
    }
   ],
   "source": [
    "key = {'a': 1, 'b': 2,}\n",
    "\n",
    "MultiDict._dict_to_string_dict(key)\n",
    "\n",
    "d.keys()"
   ]
  }
 ],
 "metadata": {
  "kernelspec": {
   "display_name": "thesis",
   "language": "python",
   "name": "python3"
  },
  "language_info": {
   "codemirror_mode": {
    "name": "ipython",
    "version": 3
   },
   "file_extension": ".py",
   "mimetype": "text/x-python",
   "name": "python",
   "nbconvert_exporter": "python",
   "pygments_lexer": "ipython3",
   "version": "3.10.14"
  }
 },
 "nbformat": 4,
 "nbformat_minor": 2
}
