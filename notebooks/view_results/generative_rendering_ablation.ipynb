{
 "cells": [
  {
   "cell_type": "code",
   "execution_count": 4,
   "metadata": {},
   "outputs": [
    {
     "name": "stdout",
     "output_type": "stream",
     "text": [
      "The autoreload extension is already loaded. To reload it, use:\n",
      "  %reload_ext autoreload\n"
     ]
    },
    {
     "data": {
      "text/plain": [
       "False"
      ]
     },
     "execution_count": 4,
     "metadata": {},
     "output_type": "execute_result"
    }
   ],
   "source": [
    "%load_ext autoreload\n",
    "%autoreload 2\n",
    "\n",
    "import wandb\n",
    "from omegaconf import OmegaConf\n",
    "import torch\n",
    "\n",
    "torch.cuda.is_available()"
   ]
  },
  {
   "cell_type": "code",
   "execution_count": 3,
   "metadata": {},
   "outputs": [
    {
     "ename": "NameError",
     "evalue": "name 'OmegaConf' is not defined",
     "output_type": "error",
     "traceback": [
      "\u001b[0;31m---------------------------------------------------------------------------\u001b[0m",
      "\u001b[0;31mNameError\u001b[0m                                 Traceback (most recent call last)",
      "Cell \u001b[0;32mIn[3], line 36\u001b[0m\n\u001b[1;32m     34\u001b[0m \u001b[38;5;66;03m# sort runs in each scene consistently\u001b[39;00m\n\u001b[1;32m     35\u001b[0m \u001b[38;5;28;01mfor\u001b[39;00m runs \u001b[38;5;129;01min\u001b[39;00m runs_grouped:\n\u001b[0;32m---> 36\u001b[0m     \u001b[43mruns\u001b[49m\u001b[38;5;241;43m.\u001b[39;49m\u001b[43msort\u001b[49m\u001b[43m(\u001b[49m\u001b[43mkey\u001b[49m\u001b[38;5;241;43m=\u001b[39;49m\u001b[43msort_fun\u001b[49m\u001b[43m)\u001b[49m\n\u001b[1;32m     39\u001b[0m \u001b[38;5;28;01mdef\u001b[39;00m \u001b[38;5;21minfo_fun\u001b[39m(run):\n\u001b[1;32m     40\u001b[0m     label \u001b[38;5;241m=\u001b[39m VideoLabel()\n",
      "Cell \u001b[0;32mIn[3], line 16\u001b[0m, in \u001b[0;36msort_fun\u001b[0;34m(run)\u001b[0m\n\u001b[1;32m     15\u001b[0m \u001b[38;5;28;01mdef\u001b[39;00m \u001b[38;5;21msort_fun\u001b[39m(run):\n\u001b[0;32m---> 16\u001b[0m     cfg \u001b[38;5;241m=\u001b[39m \u001b[43mOmegaConf\u001b[49m\u001b[38;5;241m.\u001b[39mcreate(run\u001b[38;5;241m.\u001b[39mconfig)\n\u001b[1;32m     17\u001b[0m     no_uv \u001b[38;5;241m=\u001b[39m \u001b[38;5;129;01mnot\u001b[39;00m cfg\u001b[38;5;241m.\u001b[39mgenerative_rendering\u001b[38;5;241m.\u001b[39mdo_uv_noise_init\n\u001b[1;32m     18\u001b[0m     no_pre_attn \u001b[38;5;241m=\u001b[39m \u001b[38;5;129;01mnot\u001b[39;00m cfg\u001b[38;5;241m.\u001b[39mgenerative_rendering\u001b[38;5;241m.\u001b[39mdo_pre_attn_injection\n",
      "\u001b[0;31mNameError\u001b[0m: name 'OmegaConf' is not defined"
     ]
    }
   ],
   "source": [
    "from text3d2video.evaluation.video_comparison import (\n",
    "    VideoLabel,\n",
    "    make_comparison_vid,\n",
    "    scene_key_fun,\n",
    ")\n",
    "from text3d2video.util import group_list_by\n",
    "\n",
    "api = wandb.Api()\n",
    "\n",
    "filters = {\"tags\": \"generative_rendering_ablation\"}\n",
    "runs = list(api.runs(\"romeu/diffusion-3D-features\", filters=filters))\n",
    "\n",
    "\n",
    "def sort_fun(run):\n",
    "    cfg = OmegaConf.create(run.config)\n",
    "    no_uv = not cfg.generative_rendering.do_uv_noise_init\n",
    "    no_pre_attn = not cfg.generative_rendering.do_pre_attn_injection\n",
    "    no_post_attn = not cfg.generative_rendering.do_post_attn_injection\n",
    "\n",
    "    if no_uv:\n",
    "        return 3\n",
    "    elif no_pre_attn:\n",
    "        return 2\n",
    "    elif no_post_attn:\n",
    "        return 1\n",
    "    else:\n",
    "        return 0\n",
    "\n",
    "\n",
    "# group runs by scene\n",
    "runs_grouped = group_list_by(runs, scene_key_fun)\n",
    "\n",
    "# sort runs in each scene consistently\n",
    "for runs in runs_grouped:\n",
    "    runs.sort(key=sort_fun)\n",
    "\n",
    "\n",
    "def info_fun(run):\n",
    "    label = VideoLabel()\n",
    "    cfg = OmegaConf.create(run.config)\n",
    "\n",
    "    no_uv = not cfg.generative_rendering.do_uv_noise_init\n",
    "    no_pre_attn = not cfg.generative_rendering.do_pre_attn_injection\n",
    "    no_post_attn = not cfg.generative_rendering.do_post_attn_injection\n",
    "\n",
    "    if no_uv:\n",
    "        label.content = \"No UV initialization\"\n",
    "    elif no_pre_attn:\n",
    "        label.content = \"No pre attn injection\"\n",
    "    elif no_post_attn:\n",
    "        label.content = \"No post attn injection\"\n",
    "    else:\n",
    "        label.content = \"Full\"\n",
    "\n",
    "    return label\n",
    "\n",
    "\n",
    "vid = make_comparison_vid(\n",
    "    runs_grouped,\n",
    "    info_fun,\n",
    "    download=False,\n",
    "    title=\"Generative Rendering Ablation\",\n",
    "    show_guidance_video=False,\n",
    ")\n",
    "\n",
    "vid.ipython_display()"
   ]
  }
 ],
 "metadata": {
  "kernelspec": {
   "display_name": "texture",
   "language": "python",
   "name": "python3"
  },
  "language_info": {
   "codemirror_mode": {
    "name": "ipython",
    "version": 3
   },
   "file_extension": ".py",
   "mimetype": "text/x-python",
   "name": "python",
   "nbconvert_exporter": "python",
   "pygments_lexer": "ipython3",
   "version": "3.10.14"
  }
 },
 "nbformat": 4,
 "nbformat_minor": 2
}
