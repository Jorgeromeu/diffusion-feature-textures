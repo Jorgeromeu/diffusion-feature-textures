{
 "cells": [
  {
   "cell_type": "code",
   "execution_count": 1,
   "metadata": {},
   "outputs": [],
   "source": [
    "%load_ext autoreload\n",
    "%autoreload 2\n",
    "\n",
    "from text3d2video.artifacts.gr_data import GrDataArtifact, GrSaveConfig\n",
    "from diffusers import DDIMScheduler\n",
    "\n",
    "module_paths = [\n",
    "    \"layer1\",\n",
    "    \"layer2\"\n",
    "]\n",
    "\n",
    "save_config = GrSaveConfig(\n",
    "    enabled=True,\n",
    "    save_latents=True,\n",
    "    save_q=True,\n",
    "    save_k=True,\n",
    "    save_v=True,\n",
    "    save_features=False,\n",
    "    save_features_3d=True,\n",
    "    n_frames=3,\n",
    "    n_timesteps=5,\n",
    "    out_artifact=\"gr_data\",\n",
    "    module_paths=module_paths,\n",
    ")"
   ]
  },
  {
   "cell_type": "code",
   "execution_count": 2,
   "metadata": {},
   "outputs": [
    {
     "name": "stderr",
     "output_type": "stream",
     "text": [
      "  0%|          | 0/30 [00:00<?, ?it/s]\n"
     ]
    },
    {
     "ename": "AttributeError",
     "evalue": "'GrDataArtifact' object has no attribute 'h5_file'",
     "output_type": "error",
     "traceback": [
      "\u001b[0;31m---------------------------------------------------------------------------\u001b[0m",
      "\u001b[0;31mAttributeError\u001b[0m                            Traceback (most recent call last)",
      "Cell \u001b[0;32mIn[2], line 20\u001b[0m\n\u001b[1;32m     17\u001b[0m latents \u001b[38;5;241m=\u001b[39m torch\u001b[38;5;241m.\u001b[39mrandn(B, \u001b[38;5;241m4\u001b[39m, \u001b[38;5;241m64\u001b[39m, \u001b[38;5;241m64\u001b[39m)\n\u001b[1;32m     19\u001b[0m \u001b[38;5;28;01mfor\u001b[39;00m i, t \u001b[38;5;129;01min\u001b[39;00m \u001b[38;5;28menumerate\u001b[39m(tqdm(scheduler\u001b[38;5;241m.\u001b[39mtimesteps)):\n\u001b[0;32m---> 20\u001b[0m     \u001b[43mgr_data\u001b[49m\u001b[38;5;241;43m.\u001b[39;49m\u001b[43msave_latents\u001b[49m\u001b[43m(\u001b[49m\u001b[43mlatents\u001b[49m\u001b[43m,\u001b[49m\u001b[43m \u001b[49m\u001b[43mi\u001b[49m\u001b[43m)\u001b[49m\n\u001b[1;32m     21\u001b[0m     \u001b[38;5;66;03m# simulate forward pass\u001b[39;00m\n\u001b[1;32m     22\u001b[0m     latents \u001b[38;5;241m=\u001b[39m torch\u001b[38;5;241m.\u001b[39mrandn_like(latents)\n",
      "File \u001b[0;32m~/thesis/text3d2video/artifacts/gr_data.py:106\u001b[0m, in \u001b[0;36mGrDataArtifact.save_latents\u001b[0;34m(self, latents, t)\u001b[0m\n\u001b[1;32m    104\u001b[0m \u001b[38;5;28;01mfor\u001b[39;00m frame_i \u001b[38;5;129;01min\u001b[39;00m \u001b[38;5;28mself\u001b[39m\u001b[38;5;241m.\u001b[39msave_frame_indices:\n\u001b[1;32m    105\u001b[0m     latent \u001b[38;5;241m=\u001b[39m latents[frame_i]\n\u001b[0;32m--> 106\u001b[0m     \u001b[38;5;28;43mself\u001b[39;49m\u001b[38;5;241;43m.\u001b[39;49m\u001b[43mcreate_dataset\u001b[49m\u001b[43m(\u001b[49m\n\u001b[1;32m    107\u001b[0m \u001b[43m        \u001b[49m\u001b[38;5;28;43mself\u001b[39;49m\u001b[38;5;241;43m.\u001b[39;49m\u001b[43m_latent_h5_path\u001b[49m\u001b[43m(\u001b[49m\u001b[43mt\u001b[49m\u001b[43m,\u001b[49m\u001b[43m \u001b[49m\u001b[43mframe_i\u001b[49m\u001b[43m)\u001b[49m\u001b[43m,\u001b[49m\n\u001b[1;32m    108\u001b[0m \u001b[43m        \u001b[49m\u001b[43mlatent\u001b[49m\u001b[38;5;241;43m.\u001b[39;49m\u001b[43mcpu\u001b[49m\u001b[43m(\u001b[49m\u001b[43m)\u001b[49m\u001b[43m,\u001b[49m\n\u001b[1;32m    109\u001b[0m \u001b[43m        \u001b[49m\u001b[43mdim_names\u001b[49m\u001b[38;5;241;43m=\u001b[39;49m\u001b[43m[\u001b[49m\u001b[38;5;124;43m\"\u001b[39;49m\u001b[38;5;124;43mchannel\u001b[39;49m\u001b[38;5;124;43m\"\u001b[39;49m\u001b[43m,\u001b[49m\u001b[43m \u001b[49m\u001b[38;5;124;43m\"\u001b[39;49m\u001b[38;5;124;43mheight\u001b[39;49m\u001b[38;5;124;43m\"\u001b[39;49m\u001b[43m,\u001b[49m\u001b[43m \u001b[49m\u001b[38;5;124;43m\"\u001b[39;49m\u001b[38;5;124;43mwidth\u001b[39;49m\u001b[38;5;124;43m\"\u001b[39;49m\u001b[43m]\u001b[49m\u001b[43m,\u001b[49m\n\u001b[1;32m    110\u001b[0m \u001b[43m    \u001b[49m\u001b[43m)\u001b[49m\n",
      "File \u001b[0;32m~/thesis/text3d2video/artifacts/tensors_artifact.py:26\u001b[0m, in \u001b[0;36mH5Artifact.create_dataset\u001b[0;34m(self, path, data, dim_names)\u001b[0m\n\u001b[1;32m     23\u001b[0m \u001b[38;5;28;01mif\u001b[39;00m \u001b[38;5;28misinstance\u001b[39m(data, torch\u001b[38;5;241m.\u001b[39mTensor):\n\u001b[1;32m     24\u001b[0m     data \u001b[38;5;241m=\u001b[39m data\u001b[38;5;241m.\u001b[39mcpu()\u001b[38;5;241m.\u001b[39mnumpy()\n\u001b[0;32m---> 26\u001b[0m d \u001b[38;5;241m=\u001b[39m \u001b[38;5;28;43mself\u001b[39;49m\u001b[38;5;241;43m.\u001b[39;49m\u001b[43mh5_file\u001b[49m\u001b[38;5;241m.\u001b[39mcreate_dataset(path, data\u001b[38;5;241m=\u001b[39mdata)\n\u001b[1;32m     28\u001b[0m \u001b[38;5;28;01mif\u001b[39;00m dim_names \u001b[38;5;129;01mis\u001b[39;00m \u001b[38;5;129;01mnot\u001b[39;00m \u001b[38;5;28;01mNone\u001b[39;00m \u001b[38;5;129;01mand\u001b[39;00m \u001b[38;5;28mlen\u001b[39m(dim_names) \u001b[38;5;241m!=\u001b[39m \u001b[38;5;28mlen\u001b[39m(data\u001b[38;5;241m.\u001b[39mshape):\n\u001b[1;32m     29\u001b[0m     \u001b[38;5;28;01mraise\u001b[39;00m \u001b[38;5;167;01mValueError\u001b[39;00m(\n\u001b[1;32m     30\u001b[0m         \u001b[38;5;124mf\u001b[39m\u001b[38;5;124m\"\"\"\u001b[39m\n\u001b[1;32m     31\u001b[0m \u001b[38;5;124m        dim_names should have the same length as the number of \u001b[39m\n\u001b[0;32m   (...)\u001b[0m\n\u001b[1;32m     34\u001b[0m \u001b[38;5;124m        \u001b[39m\u001b[38;5;124m\"\"\"\u001b[39m\n\u001b[1;32m     35\u001b[0m     )\n",
      "\u001b[0;31mAttributeError\u001b[0m: 'GrDataArtifact' object has no attribute 'h5_file'"
     ]
    }
   ],
   "source": [
    "import torch\n",
    "from tqdm import tqdm\n",
    "\n",
    "B = 10\n",
    "num_inference_steps = 30\n",
    "\n",
    "# setup scheduler\n",
    "scheduler = DDIMScheduler()\n",
    "scheduler.set_timesteps(num_inference_steps)\n",
    "\n",
    "# setup gr_data\n",
    "gr_data = GrDataArtifact.init_from_cfg(save_config)\n",
    "gr_data.compute_save_frame_indices(10)\n",
    "gr_data.compute_save_timesteps(scheduler)\n",
    "\n",
    "# create latents\n",
    "latents = torch.randn(B, 4, 64, 64)\n",
    "\n",
    "for i, t in enumerate(tqdm(scheduler.timesteps)):\n",
    "    gr_data.save_latents(latents, i)\n",
    "    # simulate forward pass\n",
    "    latents = torch.randn_like(latents)\n",
    "\n",
    "gr_data.save_latents(latents, 0)"
   ]
  }
 ],
 "metadata": {
  "kernelspec": {
   "display_name": "thesis4",
   "language": "python",
   "name": "python3"
  },
  "language_info": {
   "codemirror_mode": {
    "name": "ipython",
    "version": 3
   },
   "file_extension": ".py",
   "mimetype": "text/x-python",
   "name": "python",
   "nbconvert_exporter": "python",
   "pygments_lexer": "ipython3",
   "version": "3.9.20"
  }
 },
 "nbformat": 4,
 "nbformat_minor": 2
}
