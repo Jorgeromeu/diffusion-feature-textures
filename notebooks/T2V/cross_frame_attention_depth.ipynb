{
 "cells": [
  {
   "cell_type": "code",
   "execution_count": 4,
   "metadata": {},
   "outputs": [
    {
     "name": "stdout",
     "output_type": "stream",
     "text": [
      "The autoreload extension is already loaded. To reload it, use:\n",
      "  %reload_ext autoreload\n"
     ]
    }
   ],
   "source": [
    "%load_ext autoreload\n",
    "%autoreload 2\n",
    "import torch\n",
    "import wandb"
   ]
  },
  {
   "cell_type": "code",
   "execution_count": 2,
   "metadata": {},
   "outputs": [
    {
     "name": "stderr",
     "output_type": "stream",
     "text": [
      "/home/jorge/miniconda3/envs/thesis/lib/python3.8/site-packages/tqdm/auto.py:21: TqdmWarning: IProgress not found. Please update jupyter and ipywidgets. See https://ipywidgets.readthedocs.io/en/stable/user_install.html\n",
      "  from .autonotebook import tqdm as notebook_tqdm\n",
      "/home/jorge/miniconda3/envs/thesis/lib/python3.8/site-packages/torchvision/io/image.py:13: UserWarning: Failed to load image Python extension: '/home/jorge/miniconda3/envs/thesis/lib/python3.8/site-packages/torchvision/image.so: undefined symbol: _ZN3c1017RegisterOperatorsD1Ev'If you don't plan on using image functionality from `torchvision.io`, you can ignore this warning. Otherwise, there might be something wrong with your environment. Did you have `libjpeg` or `libpng` installed before building `torchvision` from source?\n",
      "  warn(\n",
      "Keyword arguments {'device': device(type='cuda')} are not expected by StableDiffusionControlNetPipeline and will be ignored.\n",
      "Loading pipeline components...:  67%|██████▋   | 4/6 [00:00<00:00,  4.43it/s]/home/jorge/miniconda3/envs/thesis/lib/python3.8/site-packages/transformers/tokenization_utils_base.py:1601: FutureWarning: `clean_up_tokenization_spaces` was not set. It will be set to `True` by default. This behavior will be depracted in transformers v4.45, and will be then set to `False` by default. For more details check this issue: https://github.com/huggingface/transformers/issues/31884\n",
      "  warnings.warn(\n",
      "Loading pipeline components...: 100%|██████████| 6/6 [00:00<00:00,  6.48it/s]\n",
      "You have disabled the safety checker for <class 'diffusers.pipelines.controlnet.pipeline_controlnet.StableDiffusionControlNetPipeline'> by passing `safety_checker=None`. Ensure that you abide to the conditions of the Stable Diffusion license and do not expose unfiltered results in services or applications open to the public. Both the diffusers team and Hugging Face strongly recommend to keep the safety filter enabled in all public facing circumstances, disabling it only for use-cases that involve analyzing network behavior or auditing its results. For more information, please have a look at https://github.com/huggingface/diffusers/pull/254 .\n"
     ]
    }
   ],
   "source": [
    "from diffusers import StableDiffusionControlNetPipeline, ControlNetModel\n",
    "from misc.cross_frame_attn import CrossFrameAttnProcessor\n",
    "\n",
    "device = torch.device('cuda')\n",
    "torch_dtype = torch.float16\n",
    "sd_repo = \"runwayml/stable-diffusion-v1-5\"\n",
    "controlnet_repo = \"lllyasviel/sd-controlnet-depth\"\n",
    "\n",
    "controlnet = ControlNetModel.from_pretrained(\n",
    "    controlnet_repo,\n",
    "    torch_dtype=torch_dtype,\n",
    "    device=device\n",
    ")\n",
    "\n",
    "pipe = StableDiffusionControlNetPipeline.from_pretrained(\n",
    "    sd_repo,\n",
    "    controlnet=controlnet,\n",
    "    device=device,\n",
    "    torch_dtype=torch_dtype,\n",
    "    safety_checker=None\n",
    ")\n",
    "pipe.enable_model_cpu_offload(gpu_id=0)\n",
    "\n",
    "cross_frame_processor = CrossFrameAttnProcessor(unet_chunk_size=2)\n",
    "pipe.unet.set_attn_processor(processor=cross_frame_processor)\n",
    "pipe.controlnet.set_attn_processor(processor=cross_frame_processor)"
   ]
  },
  {
   "cell_type": "code",
   "execution_count": 3,
   "metadata": {},
   "outputs": [
    {
     "name": "stderr",
     "output_type": "stream",
     "text": [
      "\u001b[34m\u001b[1mwandb\u001b[0m: Using wandb-core as the SDK backend. Please refer to https://wandb.me/wandb-core for more information.\n",
      "\u001b[34m\u001b[1mwandb\u001b[0m: Downloading large artifact backflip:latest, 121.09MB. 61 files... \n",
      "\u001b[34m\u001b[1mwandb\u001b[0m:   61 of 61 files downloaded.  \n",
      "Done. 0:0:0.4\n",
      "/home/jorge/miniconda3/envs/thesis/lib/python3.8/site-packages/pytorch3d/io/obj_io.py:546: UserWarning: No mtl file provided\n",
      "  warnings.warn(\"No mtl file provided\")\n"
     ]
    }
   ],
   "source": [
    "from text3d2video.artifacts.animation_artifact import AnimationArtifact\n",
    "from text3d2video.util import front_camera\n",
    "import wandb\n",
    "\n",
    "api = wandb.Api()\n",
    "animation = 'backflip:latest'\n",
    "animation = api.artifact(f'romeu/diffusion-3D-features/{animation}')\n",
    "animation = AnimationArtifact.from_wandb_artifact(animation)\n",
    "\n",
    "batch_size = 7\n",
    "frames = animation.load_frames(range(1, batch_size + 1))\n",
    "camera = front_camera()"
   ]
  },
  {
   "cell_type": "code",
   "execution_count": 4,
   "metadata": {},
   "outputs": [],
   "source": [
    "from text3d2video.rendering import make_rasterizer, normalize_depth_map\n",
    "import torchvision.transforms.functional as TF\n",
    "\n",
    "rasterizer = make_rasterizer(camera, 512)\n",
    "fragments = rasterizer(frames)\n",
    "depth_map_normalized = normalize_depth_map(fragments.zbuf)\n",
    "depth_ims = [TF.to_pil_image(depth_map_normalized[i, :, :, 0].cpu()) for i in range(batch_size)]"
   ]
  },
  {
   "cell_type": "code",
   "execution_count": 34,
   "metadata": {},
   "outputs": [
    {
     "data": {
      "text/html": [
       "Finishing last run (ID:j380l2dy) before initializing another..."
      ],
      "text/plain": [
       "<IPython.core.display.HTML object>"
      ]
     },
     "metadata": {},
     "output_type": "display_data"
    },
    {
     "data": {
      "text/html": [
       "<style>\n",
       "    table.wandb td:nth-child(1) { padding: 0 10px; text-align: left ; width: auto;} td:nth-child(2) {text-align: left ; width: 100%}\n",
       "    .wandb-row { display: flex; flex-direction: row; flex-wrap: wrap; justify-content: flex-start; width: 100% }\n",
       "    .wandb-col { display: flex; flex-direction: column; flex-basis: 100%; flex: 1; padding: 10px; }\n",
       "    </style>\n",
       "<div class=\"wandb-row\"><div class=\"wandb-col\"><h3>Run summary:</h3><br/><table class=\"wandb\"><tr><td>prompt</td><td>Stormtrooper doing a...</td></tr></table><br/></div></div>"
      ],
      "text/plain": [
       "<IPython.core.display.HTML object>"
      ]
     },
     "metadata": {},
     "output_type": "display_data"
    },
    {
     "data": {
      "text/html": [
       " View run <strong style=\"color:#cdcd00\">volcanic-snowflake-178</strong> at: <a href='https://wandb.ai/romeu/diffusion-3D-features/runs/j380l2dy' target=\"_blank\">https://wandb.ai/romeu/diffusion-3D-features/runs/j380l2dy</a><br/> View project at: <a href='https://wandb.ai/romeu/diffusion-3D-features' target=\"_blank\">https://wandb.ai/romeu/diffusion-3D-features</a><br/>Synced 5 W&B file(s), 0 media file(s), 2 artifact file(s) and 0 other file(s)"
      ],
      "text/plain": [
       "<IPython.core.display.HTML object>"
      ]
     },
     "metadata": {},
     "output_type": "display_data"
    },
    {
     "data": {
      "text/html": [
       "Find logs at: <code>./wandb/run-20240925_134857-j380l2dy/logs</code>"
      ],
      "text/plain": [
       "<IPython.core.display.HTML object>"
      ]
     },
     "metadata": {},
     "output_type": "display_data"
    },
    {
     "data": {
      "text/html": [
       "Successfully finished last run (ID:j380l2dy). Initializing new run:<br/>"
      ],
      "text/plain": [
       "<IPython.core.display.HTML object>"
      ]
     },
     "metadata": {},
     "output_type": "display_data"
    },
    {
     "data": {
      "text/html": [
       "Tracking run with wandb version 0.18.1"
      ],
      "text/plain": [
       "<IPython.core.display.HTML object>"
      ]
     },
     "metadata": {},
     "output_type": "display_data"
    },
    {
     "data": {
      "text/html": [
       "Run data is saved locally in <code>/home/jorge/thesis/wandb/run-20240925_135129-6hvp2mgj</code>"
      ],
      "text/plain": [
       "<IPython.core.display.HTML object>"
      ]
     },
     "metadata": {},
     "output_type": "display_data"
    },
    {
     "data": {
      "text/html": [
       "Syncing run <strong><a href='https://wandb.ai/romeu/diffusion-3D-features/runs/6hvp2mgj' target=\"_blank\">efficient-darkness-179</a></strong> to <a href='https://wandb.ai/romeu/diffusion-3D-features' target=\"_blank\">Weights & Biases</a> (<a href='https://wandb.me/run' target=\"_blank\">docs</a>)<br/>"
      ],
      "text/plain": [
       "<IPython.core.display.HTML object>"
      ]
     },
     "metadata": {},
     "output_type": "display_data"
    },
    {
     "data": {
      "text/html": [
       " View project at <a href='https://wandb.ai/romeu/diffusion-3D-features' target=\"_blank\">https://wandb.ai/romeu/diffusion-3D-features</a>"
      ],
      "text/plain": [
       "<IPython.core.display.HTML object>"
      ]
     },
     "metadata": {},
     "output_type": "display_data"
    },
    {
     "data": {
      "text/html": [
       " View run at <a href='https://wandb.ai/romeu/diffusion-3D-features/runs/6hvp2mgj' target=\"_blank\">https://wandb.ai/romeu/diffusion-3D-features/runs/6hvp2mgj</a>"
      ],
      "text/plain": [
       "<IPython.core.display.HTML object>"
      ]
     },
     "metadata": {},
     "output_type": "display_data"
    },
    {
     "name": "stderr",
     "output_type": "stream",
     "text": [
      "100%|██████████| 50/50 [00:31<00:00,  1.58it/s]\n"
     ]
    },
    {
     "name": "stdout",
     "output_type": "stream",
     "text": [
      "Moviepy - Building video /tmp/tmpa71hikgk/video.mp4.\n",
      "Moviepy - Writing video /tmp/tmpa71hikgk/video.mp4\n",
      "\n"
     ]
    },
    {
     "name": "stderr",
     "output_type": "stream",
     "text": [
      "\u001b[34m\u001b[1mwandb\u001b[0m: Adding directory to artifact (/tmp/tmpa71hikgk)... Done. 0.0s\n"
     ]
    },
    {
     "name": "stdout",
     "output_type": "stream",
     "text": [
      "Moviepy - Done !\n",
      "Moviepy - video ready /tmp/tmpa71hikgk/video.mp4\n"
     ]
    },
    {
     "data": {
      "text/plain": [
       "<Artifact spiderman-cross-frame>"
      ]
     },
     "execution_count": 34,
     "metadata": {},
     "output_type": "execute_result"
    }
   ],
   "source": [
    "from scripts.generate_video import generate_video\n",
    "from text3d2video.artifacts.video_artifact import VideoArtifact\n",
    "from text3d2video.ipython_utils import display_ims\n",
    "\n",
    "wandb.init(project='diffusion-3D-features', job_type='generate_video')\n",
    "\n",
    "name = 'spiderman'\n",
    "prompt = \"Spiderman doing a backflip\"\n",
    "\n",
    "wandb.log({'prompt': prompt})\n",
    "wandb.use_artifact(animation.wandb_artifact)\n",
    "\n",
    "ims = generate_video(pipe, prompt, depth_ims)\n",
    "\n",
    "video = VideoArtifact.create_wandb_artifact(f'{name}-cross-frame', frames=ims, fps=30)\n",
    "wandb.log_artifact(video)"
   ]
  },
  {
   "cell_type": "code",
   "execution_count": 24,
   "metadata": {},
   "outputs": [
    {
     "name": "stderr",
     "output_type": "stream",
     "text": [
      "\u001b[34m\u001b[1mwandb\u001b[0m:   1 of 1 files downloaded.  \n"
     ]
    },
    {
     "data": {
      "text/html": [
       "<video src=\"/home/jorge/thesis/artifacts/stormtrooper-cross-frame:v0/video.mp4\" controls  >\n",
       "      Your browser does not support the <code>video</code> element.\n",
       "    </video>"
      ],
      "text/plain": [
       "<IPython.core.display.Video object>"
      ]
     },
     "execution_count": 24,
     "metadata": {},
     "output_type": "execute_result"
    }
   ],
   "source": [
    "from text3d2video.artifacts.video_artifact import VideoArtifact\n",
    "from text3d2video.wandb_util import api_artifact\n",
    "\n",
    "artifact_tag = 'stormtrooper-cross-frame:latest'\n",
    "\n",
    "video = api_artifact(artifact_tag)\n",
    "video = VideoArtifact.from_wandb_artifact(video)\n",
    "video.ipy_display()"
   ]
  }
 ],
 "metadata": {
  "kernelspec": {
   "display_name": "thesis",
   "language": "python",
   "name": "python3"
  },
  "language_info": {
   "codemirror_mode": {
    "name": "ipython",
    "version": 3
   },
   "file_extension": ".py",
   "mimetype": "text/x-python",
   "name": "python",
   "nbconvert_exporter": "python",
   "pygments_lexer": "ipython3",
   "version": "3.8.19"
  }
 },
 "nbformat": 4,
 "nbformat_minor": 2
}
