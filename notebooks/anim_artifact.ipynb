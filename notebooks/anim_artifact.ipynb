{
 "cells": [
  {
   "cell_type": "code",
   "execution_count": 1,
   "metadata": {},
   "outputs": [],
   "source": [
    "%load_ext autoreload\n",
    "%autoreload 2\n",
    "\n",
    "import torch\n",
    "\n",
    "\n",
    "torch.set_grad_enabled(False)\n",
    "\n",
    "from text3d2video.artifacts.anim_artifact import AnimArtifact\n",
    "\n",
    "anim = AnimArtifact.from_wandb_artifact_tag(\"human_rotation_full:latest\")"
   ]
  },
  {
   "cell_type": "code",
   "execution_count": null,
   "metadata": {},
   "outputs": [
    {
     "data": {
      "text/plain": [
       "[<PIL.Image.Image image mode=L size=512x512>,\n",
       " <PIL.Image.Image image mode=L size=512x512>,\n",
       " <PIL.Image.Image image mode=L size=512x512>,\n",
       " <PIL.Image.Image image mode=L size=512x512>,\n",
       " <PIL.Image.Image image mode=L size=512x512>,\n",
       " <PIL.Image.Image image mode=L size=512x512>,\n",
       " <PIL.Image.Image image mode=L size=512x512>,\n",
       " <PIL.Image.Image image mode=L size=512x512>,\n",
       " <PIL.Image.Image image mode=L size=512x512>,\n",
       " <PIL.Image.Image image mode=L size=512x512>,\n",
       " <PIL.Image.Image image mode=L size=512x512>,\n",
       " <PIL.Image.Image image mode=L size=512x512>,\n",
       " <PIL.Image.Image image mode=L size=512x512>,\n",
       " <PIL.Image.Image image mode=L size=512x512>,\n",
       " <PIL.Image.Image image mode=L size=512x512>,\n",
       " <PIL.Image.Image image mode=L size=512x512>,\n",
       " <PIL.Image.Image image mode=L size=512x512>,\n",
       " <PIL.Image.Image image mode=L size=512x512>,\n",
       " <PIL.Image.Image image mode=L size=512x512>,\n",
       " <PIL.Image.Image image mode=L size=512x512>,\n",
       " <PIL.Image.Image image mode=L size=512x512>,\n",
       " <PIL.Image.Image image mode=L size=512x512>,\n",
       " <PIL.Image.Image image mode=L size=512x512>,\n",
       " <PIL.Image.Image image mode=L size=512x512>,\n",
       " <PIL.Image.Image image mode=L size=512x512>,\n",
       " <PIL.Image.Image image mode=L size=512x512>,\n",
       " <PIL.Image.Image image mode=L size=512x512>,\n",
       " <PIL.Image.Image image mode=L size=512x512>,\n",
       " <PIL.Image.Image image mode=L size=512x512>,\n",
       " <PIL.Image.Image image mode=L size=512x512>,\n",
       " <PIL.Image.Image image mode=L size=512x512>,\n",
       " <PIL.Image.Image image mode=L size=512x512>,\n",
       " <PIL.Image.Image image mode=L size=512x512>,\n",
       " <PIL.Image.Image image mode=L size=512x512>,\n",
       " <PIL.Image.Image image mode=L size=512x512>,\n",
       " <PIL.Image.Image image mode=L size=512x512>,\n",
       " <PIL.Image.Image image mode=L size=512x512>,\n",
       " <PIL.Image.Image image mode=L size=512x512>,\n",
       " <PIL.Image.Image image mode=L size=512x512>,\n",
       " <PIL.Image.Image image mode=L size=512x512>,\n",
       " <PIL.Image.Image image mode=L size=512x512>,\n",
       " <PIL.Image.Image image mode=L size=512x512>,\n",
       " <PIL.Image.Image image mode=L size=512x512>,\n",
       " <PIL.Image.Image image mode=L size=512x512>,\n",
       " <PIL.Image.Image image mode=L size=512x512>,\n",
       " <PIL.Image.Image image mode=L size=512x512>,\n",
       " <PIL.Image.Image image mode=L size=512x512>,\n",
       " <PIL.Image.Image image mode=L size=512x512>,\n",
       " <PIL.Image.Image image mode=L size=512x512>,\n",
       " <PIL.Image.Image image mode=L size=512x512>]"
      ]
     },
     "execution_count": 5,
     "metadata": {},
     "output_type": "execute_result"
    }
   ],
   "source": [
    "from text3d2video.camera_placement import turntable_cameras\n",
    "from text3d2video.ipython_utils import display_ims\n",
    "from text3d2video.rendering import render_depth_map\n",
    "\n",
    "frames = anim.frame_indices(50)\n",
    "unposed = anim.load_unposed_mesh()\n",
    "cams, meshes = anim.load_frames(frames)\n",
    "\n",
    "render_depth_map(meshes, cams)"
   ]
  }
 ],
 "metadata": {
  "kernelspec": {
   "display_name": "texture",
   "language": "python",
   "name": "python3"
  },
  "language_info": {
   "codemirror_mode": {
    "name": "ipython",
    "version": 3
   },
   "file_extension": ".py",
   "mimetype": "text/x-python",
   "name": "python",
   "nbconvert_exporter": "python",
   "pygments_lexer": "ipython3",
   "version": "3.10.14"
  }
 },
 "nbformat": 4,
 "nbformat_minor": 2
}
