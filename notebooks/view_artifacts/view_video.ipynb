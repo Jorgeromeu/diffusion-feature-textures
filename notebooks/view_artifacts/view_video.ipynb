{
 "cells": [
  {
   "cell_type": "code",
   "execution_count": 3,
   "metadata": {},
   "outputs": [
    {
     "name": "stdout",
     "output_type": "stream",
     "text": [
      "The autoreload extension is already loaded. To reload it, use:\n",
      "  %reload_ext autoreload\n"
     ]
    }
   ],
   "source": [
    "%load_ext autoreload\n",
    "%autoreload 2\n",
    "\n",
    "import text3d2video.wandb_util as wu"
   ]
  },
  {
   "cell_type": "code",
   "execution_count": 1,
   "metadata": {},
   "outputs": [
    {
     "ename": "NameError",
     "evalue": "name 'wu' is not defined",
     "output_type": "error",
     "traceback": [
      "\u001b[0;31m---------------------------------------------------------------------------\u001b[0m",
      "\u001b[0;31mNameError\u001b[0m                                 Traceback (most recent call last)",
      "Cell \u001b[0;32mIn[1], line 4\u001b[0m\n\u001b[1;32m      1\u001b[0m \u001b[38;5;28;01mfrom\u001b[39;00m \u001b[38;5;21;01mtext3d2video\u001b[39;00m\u001b[38;5;21;01m.\u001b[39;00m\u001b[38;5;21;01martifacts\u001b[39;00m\u001b[38;5;21;01m.\u001b[39;00m\u001b[38;5;21;01mvideo_artifact\u001b[39;00m \u001b[38;5;28;01mimport\u001b[39;00m VideoArtifact\n\u001b[1;32m      3\u001b[0m video_tag \u001b[38;5;241m=\u001b[39m \u001b[38;5;124m\"\u001b[39m\u001b[38;5;124mdeadpool-backflip:latest\u001b[39m\u001b[38;5;124m\"\u001b[39m\n\u001b[0;32m----> 4\u001b[0m video \u001b[38;5;241m=\u001b[39m \u001b[43mwu\u001b[49m\u001b[38;5;241m.\u001b[39mget_artifact(video_tag)\n\u001b[1;32m      5\u001b[0m video \u001b[38;5;241m=\u001b[39m VideoArtifact\u001b[38;5;241m.\u001b[39mfrom_wandb_artifact(video)\n\u001b[1;32m      6\u001b[0m video\u001b[38;5;241m.\u001b[39mipy_display()\n",
      "\u001b[0;31mNameError\u001b[0m: name 'wu' is not defined"
     ]
    }
   ],
   "source": [
    "from text3d2video.artifacts.video_artifact import VideoArtifact\n",
    "\n",
    "video_tag = \"deadpool-backflip:latest\"\n",
    "video = wu.get_artifact(video_tag)\n",
    "video = VideoArtifact.from_wandb_artifact(video)\n",
    "video.ipy_display()"
   ]
  }
 ],
 "metadata": {
  "kernelspec": {
   "display_name": "thesis4",
   "language": "python",
   "name": "python3"
  },
  "language_info": {
   "codemirror_mode": {
    "name": "ipython",
    "version": 3
   },
   "file_extension": ".py",
   "mimetype": "text/x-python",
   "name": "python",
   "nbconvert_exporter": "python",
   "pygments_lexer": "ipython3",
   "version": "3.9.20"
  }
 },
 "nbformat": 4,
 "nbformat_minor": 2
}
