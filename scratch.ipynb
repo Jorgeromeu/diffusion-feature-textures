{
 "cells": [
  {
   "cell_type": "code",
   "execution_count": 2,
   "id": "5d5a953ec14a214d",
   "metadata": {
    "collapsed": false,
    "ExecuteTime": {
     "end_time": "2024-08-22T15:20:23.587778817Z",
     "start_time": "2024-08-22T15:20:23.418787482Z"
    }
   },
   "outputs": [
    {
     "name": "stdout",
     "output_type": "stream",
     "text": [
      "The autoreload extension is already loaded. To reload it, use:\n",
      "  %reload_ext autoreload\n"
     ]
    }
   ],
   "source": [
    "%load_ext autoreload\n",
    "%autoreload 2\n",
    "\n",
    "import numpy as np\n",
    "import rerun as rr\n",
    "import torch\n",
    "from pytorch3d.io import load_objs_as_meshes\n",
    "from pytorch3d.renderer import (\n",
    "    MeshRenderer, MeshRasterizer, FoVPerspectiveCameras,\n",
    "    RasterizationSettings, look_at_view_transform,\n",
    "    PointLights\n",
    ")\n",
    "\n",
    "import rerun_util as ru\n"
   ]
  },
  {
   "cell_type": "code",
   "outputs": [
    {
     "name": "stderr",
     "output_type": "stream",
     "text": [
      "An exception occurred in telemetry logging.Disabling telemetry to prevent further exceptions.\n",
      "Traceback (most recent call last):\n",
      "  File \"/home/jorge/.conda/envs/texture/lib/python3.10/site-packages/iopath/common/file_io.py\", line 946, in __log_tmetry_keys\n",
      "    handler.log_event()\n",
      "  File \"/home/jorge/.conda/envs/texture/lib/python3.10/site-packages/iopath/common/event_logger.py\", line 97, in log_event\n",
      "    del self._evt\n",
      "AttributeError: _evt\n"
     ]
    }
   ],
   "source": [
    "device = torch.device(\"cuda:0\")\n",
    "meshes = load_objs_as_meshes(['data/cow_mesh/cow.obj'], device=device)"
   ],
   "metadata": {
    "collapsed": false,
    "ExecuteTime": {
     "end_time": "2024-08-22T15:20:27.901960926Z",
     "start_time": "2024-08-22T15:20:25.939729593Z"
    }
   },
   "id": "e5a7682f9e0c0e3b",
   "execution_count": 3
  },
  {
   "cell_type": "code",
   "outputs": [
    {
     "name": "stdout",
     "output_type": "stream",
     "text": [
      "(300, 300)\n"
     ]
    },
    {
     "name": "stderr",
     "output_type": "stream",
     "text": [
      "[2024-08-22T15:20:37Z INFO  re_sdk_comms::server] Hosting a SDK server over TCP at 0.0.0.0:9876. Connect with the Rerun logging SDK.\n",
      "[2024-08-22T15:20:37Z INFO  re_sdk_comms::server] New SDK client connected from: 127.0.0.1:56960\n",
      "[2024-08-22T15:20:37Z INFO  winit::platform_impl::platform::x11::window] Guessed window scale factor: 1\n"
     ]
    }
   ],
   "source": [
    "from pytorch3d.renderer import HardPhongShader\n",
    "\n",
    "torch.no_grad()\n",
    "\n",
    "# lights\n",
    "lights = PointLights(device=device, location=[[0.0, 0.0, -3.0]])\n",
    "\n",
    "# cameras\n",
    "dist = 2.7\n",
    "azim = np.random.randint(0, 360)\n",
    "elev = np.random.randint(0, 360)\n",
    "R, T = look_at_view_transform(dist=dist, azim=azim, elev=elev)\n",
    "\n",
    "cameras = FoVPerspectiveCameras(device=device, R=R, T=T, fov=60)\n",
    "\n",
    "ru.pt3d_FovCamera(cameras)\n",
    "\n",
    "# raster settings\n",
    "raster_settings = RasterizationSettings(\n",
    "    image_size=300,\n",
    "    blur_radius=0.0,\n",
    "    faces_per_pixel=1,\n",
    ")\n",
    "\n",
    "rasterizer = MeshRasterizer(cameras=cameras, raster_settings=raster_settings)\n",
    "shader = HardPhongShader(device=device, cameras=cameras, lights=lights)\n",
    "\n",
    "renderer = MeshRenderer(rasterizer=rasterizer, shader=shader)\n",
    "\n",
    "renders = renderer(meshes, cameras=cameras).cpu().numpy()\n",
    "fragments = rasterizer(meshes)\n",
    "\n",
    "render = renders[0]\n",
    "depth = fragments.zbuf[0, ..., 0].cpu().numpy()\n",
    "\n",
    "# VISUALIZATION:\n",
    "rr.init(spawn=True, application_id='meshvis')\n",
    "\n",
    "rr.log('/', rr.ViewCoordinates.LUF, static=True)\n",
    "rr.log('/', rr.Transform3D())\n",
    "\n",
    "# log mesh\n",
    "rr.log(\"mesh\", ru.pt3d_mesh(meshes))\n",
    "\n",
    "# log camera\n",
    "rr.log('cam', ru.pt3d_FovCamera(cameras))\n",
    "cam_trans = cameras.get_world_to_view_transform().inverse()\n",
    "rr.log('cam', ru.pt3d_transform(cam_trans))\n",
    "\n",
    "print(depth.shape)\n",
    "# log depth\n",
    "rr.log('cam', rr.Image(depth))\n"
   ],
   "metadata": {
    "collapsed": false,
    "ExecuteTime": {
     "end_time": "2024-08-22T15:20:37.812121013Z",
     "start_time": "2024-08-22T15:20:34.578076469Z"
    }
   },
   "id": "14892448d31cf0f9",
   "execution_count": 4
  }
 ],
 "metadata": {
  "kernelspec": {
   "display_name": "Python 3",
   "language": "python",
   "name": "python3"
  },
  "language_info": {
   "codemirror_mode": {
    "name": "ipython",
    "version": 2
   },
   "file_extension": ".py",
   "mimetype": "text/x-python",
   "name": "python",
   "nbconvert_exporter": "python",
   "pygments_lexer": "ipython2",
   "version": "2.7.6"
  }
 },
 "nbformat": 4,
 "nbformat_minor": 5
}
