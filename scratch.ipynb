{
 "cells": [
  {
   "cell_type": "code",
   "execution_count": null,
   "id": "5d5a953ec14a214d",
   "metadata": {
    "collapsed": false
   },
   "outputs": [],
   "source": [
    "import matplotlib.pyplot as plt\n",
    "import numpy as np\n",
    "import torch\n",
    "from pytorch3d.io import load_obj\n",
    "from pytorch3d.renderer import (\n",
    "    MeshRenderer, MeshRasterizer, FoVPerspectiveCameras, RasterizationSettings, SoftSilhouetteShader\n",
    ")\n",
    "from pytorch3d.structures import Meshes\n",
    "from scipy.spatial.transform import Rotation"
   ]
  },
  {
   "cell_type": "code",
   "outputs": [],
   "source": [
    "from pytorch3d.io import load_objs_as_meshes\n",
    "\n",
    "device = torch.device(\"cuda:0\")\n",
    "meshes = load_objs_as_meshes(['data/cow_mesh/cow.obj'], device=device)"
   ],
   "metadata": {
    "collapsed": false
   },
   "id": "e5a7682f9e0c0e3b",
   "execution_count": null
  },
  {
   "cell_type": "code",
   "outputs": [
    {
     "name": "stdout",
     "output_type": "stream",
     "text": [
      "tensor([[-0.0000, -0.0000, 2.7000]])\n",
      "tensor([[[-1.,  0.,  0.],\n",
      "         [ 0.,  1.,  0.],\n",
      "         [ 0.,  0., -1.]]])\n"
     ]
    },
    {
     "name": "stderr",
     "output_type": "stream",
     "text": [
      "[2024-08-20T14:59:25Z INFO  re_sdk::spawn] A process is already listening at this address. Assuming it's a Rerun Viewer. addr=0.0.0.0:9876\n",
      "[2024-08-20T14:59:25Z INFO  re_sdk_comms::server] New SDK client connected from: 127.0.0.1:46268\n"
     ]
    }
   ],
   "source": [
    "from pytorch3d.renderer import look_at_view_transform, PointLights, SoftPhongShader\n",
    "from torch import Tensor\n",
    "\n",
    "torch.no_grad()\n",
    "\n",
    "fov = 60\n",
    "sensor_size = 300\n",
    "\n",
    "def euler(x, y, z):\n",
    "    angles = [x, y, z]\n",
    "    angles_rad = [np.radians(angle) for angle in angles]\n",
    "    return Tensor(Rotation.from_euler('xyz', angles_rad).as_matrix()).unsqueeze(0)\n",
    "\n",
    "# Initialize a camera.\n",
    "# With world coordinates +Y up, +X left and +Z in, the front of the cow is facing the -Z direction. \n",
    "# So we move the camera by 180 in the azimuth direction so it is facing the front of the cow. \n",
    "\n",
    "# this is w2c!\n",
    "R, T = look_at_view_transform(2.7, 0, 0) \n",
    "cameras = FoVPerspectiveCameras(device=device, R=R, T=T, fov=fov)\n",
    "\n",
    "raster_settings = RasterizationSettings(\n",
    "    image_size=sensor_size,\n",
    "    blur_radius=0.0,\n",
    "    faces_per_pixel=50,\n",
    ")\n",
    "\n",
    "lights = PointLights(device=device, location=[[0.0, 0.0, -3.0]])\n",
    "\n",
    "renderer = MeshRenderer(\n",
    "    rasterizer=MeshRasterizer(cameras=cameras, raster_settings=raster_settings),\n",
    "    shader=SoftPhongShader(device=device, cameras=cameras, lights=lights)\n",
    ")\n",
    "\n",
    "render_og = renderer(meshes, cameras=cameras).cpu().numpy()\n",
    "render = render_og[0]\n",
    "\n",
    "def rr_meshes(meshes, batch_idx=0):\n",
    "    # extract verts and faces from idx-th mesh in batch    \n",
    "    verts = meshes.verts_list()[batch_idx].cpu()\n",
    "    faces = meshes.faces_list()[batch_idx].cpu()\n",
    "    vertex_normals = meshes.verts_normals_list()[batch_idx].cpu()\n",
    "    \n",
    "    tex = meshes.textures.maps_padded()[batch_idx].cpu().numpy()\n",
    "    uv = meshes.textures.verts_uvs_padded()[0].cpu().numpy()\n",
    "\n",
    "    return rr.Mesh3D(\n",
    "        vertex_positions=verts,\n",
    "        triangle_indices=faces,\n",
    "        vertex_normals=vertex_normals,\n",
    "    )\n",
    "\n",
    "focal_length = int(sensor_size / (2 * np.tan(fov * np.pi / 360)))\n",
    "\n",
    "import rerun as rr\n",
    "rr.init(spawn=True, application_id='meshvis')\n",
    "\n",
    "rr.log('/', rr.ViewCoordinates.LUF, static=True)\n",
    "rr.log('/', rr.Transform3D())\n",
    "\n",
    "rr.log(\"mesh\", rr_meshes(meshes))\n",
    "rr.log('cam', rr.Pinhole(width=sensor_size, height=sensor_size, focal_length=focal_length, camera_xyz=rr.ViewCoordinates.RIGHT_HAND_Y_UP))\n",
    "rr.log('cam', rr.Transform3D(translation=T.cpu(), mat3x3=R.cpu()))\n",
    "rr.log('cam', rr.Image(render))\n",
    "\n",
    "print(T)\n",
    "print(R)"
   ],
   "metadata": {
    "collapsed": false,
    "ExecuteTime": {
     "end_time": "2024-08-20T14:59:25.806666952Z",
     "start_time": "2024-08-20T14:59:25.718022508Z"
    }
   },
   "id": "14892448d31cf0f9",
   "execution_count": 19
  },
  {
   "cell_type": "code",
   "outputs": [],
   "source": [
    "from pytorch3d.transforms import Transform3d\n",
    "\n",
    "t = Transform3d()"
   ],
   "metadata": {
    "collapsed": false,
    "ExecuteTime": {
     "end_time": "2024-08-20T15:03:40.429331918Z",
     "start_time": "2024-08-20T15:03:40.424758369Z"
    }
   },
   "id": "e1857de93b485cdc",
   "execution_count": 38
  },
  {
   "cell_type": "code",
   "outputs": [],
   "source": [
    "cameras"
   ],
   "metadata": {
    "collapsed": false
   },
   "id": "60db611ad7a222f",
   "execution_count": null
  }
 ],
 "metadata": {
  "kernelspec": {
   "display_name": "Python 3",
   "language": "python",
   "name": "python3"
  },
  "language_info": {
   "codemirror_mode": {
    "name": "ipython",
    "version": 2
   },
   "file_extension": ".py",
   "mimetype": "text/x-python",
   "name": "python",
   "nbconvert_exporter": "python",
   "pygments_lexer": "ipython2",
   "version": "2.7.6"
  }
 },
 "nbformat": 4,
 "nbformat_minor": 5
}
