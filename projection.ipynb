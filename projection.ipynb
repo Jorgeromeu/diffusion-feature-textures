{
 "cells": [
  {
   "cell_type": "code",
   "execution_count": null,
   "id": "initial_id",
   "metadata": {
    "collapsed": true
   },
   "outputs": [],
   "source": [
    "import matplotlib.pyplot as plt\n",
    "\n",
    "%load_ext autoreload\n",
    "%autoreload 2\n",
    "\n",
    "from PIL import Image\n",
    "import torch\n",
    "from pytorch3d.io import load_objs_as_meshes\n",
    "from pytorch3d.renderer import FoVPerspectiveCameras, look_at_view_transform\n",
    "from rendering import init_renderer, rasterize_mesh\n",
    "import torchvision.transforms as transforms\n",
    "\n",
    "to_pil = transforms.ToPILImage()\n",
    "to_tensor = transforms.ToTensor()"
   ]
  },
  {
   "cell_type": "code",
   "outputs": [],
   "source": [
    "device = torch.device(\"cuda:0\")\n",
    "device = torch.device('cpu')\n",
    "mesh_og = load_objs_as_meshes(['data/cow_mesh/cow.obj'], device=device)\n",
    "\n",
    "mesh = mesh_og\n",
    "# subdiv = SubdivideMeshes()\n",
    "# mesh = subdiv(mesh_og)"
   ],
   "metadata": {
    "collapsed": false
   },
   "id": "4d2744062e10c1ce",
   "execution_count": null
  },
  {
   "cell_type": "code",
   "outputs": [],
   "source": [
    "R, T = look_at_view_transform(dist=2, azim=150, elev=0)\n",
    "cameras = FoVPerspectiveCameras(device=device, R=R, T=T, fov=60).cpu()"
   ],
   "metadata": {
    "collapsed": false
   },
   "id": "812b339dbaefc9c8",
   "execution_count": null
  },
  {
   "cell_type": "code",
   "outputs": [],
   "source": [
    "res = 512\n",
    "H, W = res, res\n",
    "\n",
    "renderer = init_renderer(cameras, resolution=res)\n",
    "fragments, depth_map = rasterize_mesh(renderer, mesh)"
   ],
   "metadata": {
    "collapsed": false
   },
   "id": "71202c0e4044a4a",
   "execution_count": null
  },
  {
   "cell_type": "code",
   "outputs": [],
   "source": [
    "image = Image.open('data/example/view.png').resize((res, res))\n",
    "feature_tensor = to_tensor(image).permute(1, 2, 0)"
   ],
   "metadata": {
    "collapsed": false,
    "ExecuteTime": {
     "end_time": "2024-09-03T15:38:58.350465416Z",
     "start_time": "2024-09-03T15:38:58.324302636Z"
    }
   },
   "id": "235bdc7553319850",
   "execution_count": 123
  },
  {
   "cell_type": "code",
   "outputs": [],
   "source": [
    "from util import project_feature_map_to_vertices\n",
    "\n",
    "vertex_colors = project_feature_map_to_vertices(\n",
    "    mesh,\n",
    "    cameras,\n",
    "    depth_map,\n",
    "    feature_tensor,\n",
    "    distance_epsilon=0.025\n",
    ")"
   ],
   "metadata": {
    "collapsed": false,
    "ExecuteTime": {
     "end_time": "2024-09-03T15:39:00.085311737Z",
     "start_time": "2024-09-03T15:38:59.309789350Z"
    }
   },
   "id": "b7b986c660bb7ef0",
   "execution_count": 124
  },
  {
   "cell_type": "code",
   "outputs": [
    {
     "name": "stderr",
     "output_type": "stream",
     "text": [
      "[2024-09-03T15:38:45Z INFO  re_sdk::spawn] A process is already listening at this address. Assuming it's a Rerun Viewer. addr=0.0.0.0:9876\n",
      "[2024-09-03T15:38:45Z INFO  re_sdk_comms::server] New SDK client connected from: 127.0.0.1:56444\n"
     ]
    }
   ],
   "source": [
    "import rerun as rr\n",
    "import rerun_util as ru\n",
    "\n",
    "rr.init('debug', spawn=True)\n",
    "rr.log('/', rr.ViewCoordinates.LUF, static=True)\n",
    "rr.log('/', rr.Transform3D())\n",
    "\n",
    "rr.log('cam', ru.pt3d_FovCamera(cameras, 0, res=res))\n",
    "cam_trans = cameras.get_world_to_view_transform().inverse()\n",
    "rr.log('cam', ru.pt3d_transform(cam_trans))\n",
    "rr.log('cam', rr.Image(depth_map.cpu().numpy()))\n",
    "\n",
    "# log mesh\n",
    "rr.log(\"mesh\", ru.pt3d_mesh(mesh, vertex_colors=vertex_colors))\n"
   ],
   "metadata": {
    "collapsed": false,
    "ExecuteTime": {
     "end_time": "2024-09-03T15:38:45.883984214Z",
     "start_time": "2024-09-03T15:38:45.854421519Z"
    }
   },
   "id": "7d8841ad1deab74b",
   "execution_count": 121
  }
 ],
 "metadata": {
  "kernelspec": {
   "display_name": "Python 3",
   "language": "python",
   "name": "python3"
  },
  "language_info": {
   "codemirror_mode": {
    "name": "ipython",
    "version": 2
   },
   "file_extension": ".py",
   "mimetype": "text/x-python",
   "name": "python",
   "nbconvert_exporter": "python",
   "pygments_lexer": "ipython2",
   "version": "2.7.6"
  }
 },
 "nbformat": 4,
 "nbformat_minor": 5
}
