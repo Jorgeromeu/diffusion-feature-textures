{
 "cells": [
  {
   "cell_type": "code",
   "execution_count": 1,
   "metadata": {},
   "outputs": [],
   "source": [
    "%load_ext autoreload\n",
    "%autoreload 2\n",
    "\n",
    "import torch\n",
    "\n",
    "from text3d2video.util import assert_tensor_shapes"
   ]
  },
  {
   "cell_type": "code",
   "execution_count": 9,
   "metadata": {},
   "outputs": [
    {
     "ename": "AssertionError",
     "evalue": "Expected tensor of shape ('B', 'T', 'd_1'), got torch.Size([10, 100, 32]), expected 64 for dimension d_1, got 32",
     "output_type": "error",
     "traceback": [
      "\u001b[0;31m---------------------------------------------------------------------------\u001b[0m",
      "\u001b[0;31mAssertionError\u001b[0m                            Traceback (most recent call last)",
      "Cell \u001b[0;32mIn[9], line 13\u001b[0m\n\u001b[1;32m      9\u001b[0m x1 \u001b[38;5;241m=\u001b[39m torch\u001b[38;5;241m.\u001b[39mrandn(B, T, d_1)\n\u001b[1;32m     10\u001b[0m x2 \u001b[38;5;241m=\u001b[39m torch\u001b[38;5;241m.\u001b[39mrandn(B, T, d_2)\n\u001b[0;32m---> 13\u001b[0m \u001b[43massert_tensor_shapes\u001b[49m\u001b[43m(\u001b[49m\u001b[43m[\u001b[49m\u001b[43m(\u001b[49m\u001b[43mx1\u001b[49m\u001b[43m,\u001b[49m\u001b[43m \u001b[49m\u001b[43m(\u001b[49m\u001b[38;5;124;43m\"\u001b[39;49m\u001b[38;5;124;43mB\u001b[39;49m\u001b[38;5;124;43m\"\u001b[39;49m\u001b[43m,\u001b[49m\u001b[43m \u001b[49m\u001b[38;5;124;43m\"\u001b[39;49m\u001b[38;5;124;43mT\u001b[39;49m\u001b[38;5;124;43m\"\u001b[39;49m\u001b[43m,\u001b[49m\u001b[43m \u001b[49m\u001b[38;5;124;43m\"\u001b[39;49m\u001b[38;5;124;43md_1\u001b[39;49m\u001b[38;5;124;43m\"\u001b[39;49m\u001b[43m)\u001b[49m\u001b[43m)\u001b[49m\u001b[43m,\u001b[49m\u001b[43m \u001b[49m\u001b[43m(\u001b[49m\u001b[43mx2\u001b[49m\u001b[43m,\u001b[49m\u001b[43m \u001b[49m\u001b[43m(\u001b[49m\u001b[38;5;124;43m\"\u001b[39;49m\u001b[38;5;124;43mB\u001b[39;49m\u001b[38;5;124;43m\"\u001b[39;49m\u001b[43m,\u001b[49m\u001b[43m \u001b[49m\u001b[38;5;124;43m\"\u001b[39;49m\u001b[38;5;124;43mT\u001b[39;49m\u001b[38;5;124;43m\"\u001b[39;49m\u001b[43m,\u001b[49m\u001b[43m \u001b[49m\u001b[38;5;124;43m\"\u001b[39;49m\u001b[38;5;124;43md_1\u001b[39;49m\u001b[38;5;124;43m\"\u001b[39;49m\u001b[43m)\u001b[49m\u001b[43m)\u001b[49m\u001b[43m]\u001b[49m\u001b[43m)\u001b[49m\n",
      "File \u001b[0;32m~/thesis/text3d2video/util.py:247\u001b[0m, in \u001b[0;36massert_tensor_shapes\u001b[0;34m(tensors, named_dim_sizes)\u001b[0m\n\u001b[1;32m    244\u001b[0m     named_dim_sizes \u001b[38;5;241m=\u001b[39m {}\n\u001b[1;32m    246\u001b[0m \u001b[38;5;28;01mfor\u001b[39;00m tensor, shape \u001b[38;5;129;01min\u001b[39;00m tensors:\n\u001b[0;32m--> 247\u001b[0m     named_dim_sizes \u001b[38;5;241m=\u001b[39m \u001b[43massert_tensor_shape\u001b[49m\u001b[43m(\u001b[49m\u001b[43mtensor\u001b[49m\u001b[43m,\u001b[49m\u001b[43m \u001b[49m\u001b[43mshape\u001b[49m\u001b[43m,\u001b[49m\u001b[43m \u001b[49m\u001b[43mnamed_dim_sizes\u001b[49m\u001b[43m)\u001b[49m\n",
      "File \u001b[0;32m~/thesis/text3d2video/util.py:235\u001b[0m, in \u001b[0;36massert_tensor_shape\u001b[0;34m(t, shape, named_dim_sizes)\u001b[0m\n\u001b[1;32m    232\u001b[0m             \u001b[38;5;28;01mcontinue\u001b[39;00m\n\u001b[1;32m    234\u001b[0m         expected_named_dim_size \u001b[38;5;241m=\u001b[39m named_dim_sizes[expected_len]\n\u001b[0;32m--> 235\u001b[0m         \u001b[38;5;28;01massert\u001b[39;00m (\n\u001b[1;32m    236\u001b[0m             named_dim_sizes[expected_len] \u001b[38;5;241m==\u001b[39m true_len\n\u001b[1;32m    237\u001b[0m         ), \u001b[38;5;124mf\u001b[39m\u001b[38;5;124m\"\u001b[39m\u001b[38;5;132;01m{\u001b[39;00merror_str\u001b[38;5;132;01m}\u001b[39;00m\u001b[38;5;124m, expected \u001b[39m\u001b[38;5;132;01m{\u001b[39;00mexpected_named_dim_size\u001b[38;5;132;01m}\u001b[39;00m\u001b[38;5;124m for dimension \u001b[39m\u001b[38;5;132;01m{\u001b[39;00mexpected_len\u001b[38;5;132;01m}\u001b[39;00m\u001b[38;5;124m, got \u001b[39m\u001b[38;5;132;01m{\u001b[39;00mtrue_len\u001b[38;5;132;01m}\u001b[39;00m\u001b[38;5;124m\"\u001b[39m\n\u001b[1;32m    239\u001b[0m \u001b[38;5;28;01mreturn\u001b[39;00m named_dim_sizes\n",
      "\u001b[0;31mAssertionError\u001b[0m: Expected tensor of shape ('B', 'T', 'd_1'), got torch.Size([10, 100, 32]), expected 64 for dimension d_1, got 32"
     ]
    }
   ],
   "source": [
    "\n",
    "from text3d2video.util import assert_tensor_shape\n",
    "\n",
    "\n",
    "B = 10\n",
    "T = 100\n",
    "d_1 = 64\n",
    "d_2 = 32\n",
    "\n",
    "x1 = torch.randn(B, T, d_1)\n",
    "x2 = torch.randn(B, T, d_2)\n",
    "\n",
    "\n",
    "assert_tensor_shapes([(x1, (\"B\", \"T\", \"d_1\")), (x2, (\"B\", \"T\", \"d_1\"))])\n"
   ]
  }
 ],
 "metadata": {
  "kernelspec": {
   "display_name": "thesis4",
   "language": "python",
   "name": "python3"
  },
  "language_info": {
   "codemirror_mode": {
    "name": "ipython",
    "version": 3
   },
   "file_extension": ".py",
   "mimetype": "text/x-python",
   "name": "python",
   "nbconvert_exporter": "python",
   "pygments_lexer": "ipython3",
   "version": "3.9.20"
  }
 },
 "nbformat": 4,
 "nbformat_minor": 2
}
