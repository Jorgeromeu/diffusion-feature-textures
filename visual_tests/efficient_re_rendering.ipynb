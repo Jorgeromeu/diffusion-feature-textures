{
 "cells": [
  {
   "cell_type": "code",
   "execution_count": null,
   "metadata": {},
   "outputs": [],
   "source": [
    "from codetiming import Timer\n",
    "from pytorch3d.renderer import RasterizationSettings, MeshRasterizer\n",
    "from pytorch3d.renderer.mesh.rasterizer import Fragments\n",
    "\n",
    "from text3d2video.rendering import FeatureShader\n",
    "\n",
    "device = \"cuda\"\n",
    "\n",
    "raster_settings = RasterizationSettings(\n",
    "    image_size=100, blur_radius=0.0, faces_per_pixel=1, bin_size=0\n",
    ")\n",
    "\n",
    "rasterizer = MeshRasterizer(raster_settings=raster_settings).to(device)\n",
    "shader = FeatureShader()\n",
    "\n",
    "\n",
    "n_layers = 10\n",
    "n_timesteps = 10\n",
    "batch = 2\n",
    "N = n_layers*n_timesteps*batch\n",
    "\n",
    "with Timer(text=lambda t: f\"time: {t:.2f}s\"):\n",
    "    for _ in range(N):\n",
    "        fragments: Fragments = rasterizer(frames, cameras=cameras)\n",
    "        render = shader(fragments, render_frames)\n",
    "\n",
    "with Timer(text=lambda t: f\"time: {t:.2f}s\"):\n",
    "    fragments: Fragments = rasterizer(frames, cameras=cameras)\n",
    "    for _ in range(N):\n",
    "        render = shader(fragments, render_frames)\n",
    "\n",
    "render.shape"
   ]
  }
 ],
 "metadata": {
  "kernelspec": {
   "display_name": "thesis4",
   "language": "python",
   "name": "python3"
  },
  "language_info": {
   "name": "python",
   "version": "3.9.20"
  }
 },
 "nbformat": 4,
 "nbformat_minor": 2
}
