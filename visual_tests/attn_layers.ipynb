{
 "cells": [
  {
   "cell_type": "code",
   "execution_count": 1,
   "metadata": {},
   "outputs": [
    {
     "data": {
      "application/vnd.jupyter.widget-view+json": {
       "model_id": "b040121c389346edb2626a0e3cc98bf2",
       "version_major": 2,
       "version_minor": 0
      },
      "text/plain": [
       "Loading pipeline components...:   0%|          | 0/5 [00:00<?, ?it/s]"
      ]
     },
     "metadata": {},
     "output_type": "display_data"
    },
    {
     "name": "stderr",
     "output_type": "stream",
     "text": [
      "/home/jorge/miniconda3/envs/thesis4/lib/python3.9/site-packages/transformers/tokenization_utils_base.py:1617: FutureWarning: `clean_up_tokenization_spaces` was not set. It will be set to `True` by default. This behavior will be deprecated in transformers v4.45, and will be then set to `False` by default. For more details check this issue: https://github.com/huggingface/transformers/issues/31884\n",
      "  warnings.warn(\n"
     ]
    }
   ],
   "source": [
    "%load_ext autoreload\n",
    "%autoreload 2\n",
    "\n",
    "# load pipeline\n",
    "from diffusers.models import ControlNetModel\n",
    "from diffusers.schedulers import DPMSolverMultistepScheduler\n",
    "import torch\n",
    "\n",
    "from text3d2video.generative_rendering.generative_rendering_pipeline import (\n",
    "    GenerativeRenderingPipeline,\n",
    ")\n",
    "\n",
    "module_paths = [\n",
    "    \"down_blocks.0.attentions.0.transformer_blocks.0.attn1\",\n",
    "    \"down_blocks.0.attentions.1.transformer_blocks.0.attn1\",\n",
    "    \"down_blocks.1.attentions.0.transformer_blocks.0.attn1\",\n",
    "    \"down_blocks.1.attentions.1.transformer_blocks.0.attn1\",\n",
    "    \"down_blocks.2.attentions.0.transformer_blocks.0.attn1\",\n",
    "    \"down_blocks.2.attentions.1.transformer_blocks.0.attn1\",\n",
    "    \"mid_block.attentions.0.transformer_blocks.0.attn1\",\n",
    "    \"up_blocks.1.attentions.0.transformer_blocks.0.attn1\",\n",
    "    \"up_blocks.1.attentions.1.transformer_blocks.0.attn1\",\n",
    "    \"up_blocks.1.attentions.2.transformer_blocks.0.attn1\",\n",
    "    \"up_blocks.2.attentions.0.transformer_blocks.0.attn1\",\n",
    "    \"up_blocks.2.attentions.1.transformer_blocks.0.attn1\",\n",
    "    \"up_blocks.2.attentions.2.transformer_blocks.0.attn1\",\n",
    "    \"up_blocks.3.attentions.0.transformer_blocks.0.attn1\",\n",
    "    \"up_blocks.3.attentions.1.transformer_blocks.0.attn1\",\n",
    "    \"up_blocks.3.attentions.2.transformer_blocks.0.attn1\",\n",
    "]\n",
    "\n",
    "device = torch.device(\"cuda\")\n",
    "dtype = torch.float16\n",
    "\n",
    "sd_repo = \"runwayml/stable-diffusion-v1-5\"\n",
    "controlnet_repo = \"lllyasviel/control_v11f1p_sd15_depth\"\n",
    "\n",
    "controlnet = ControlNetModel.from_pretrained(controlnet_repo, torch_dtype=dtype).to(\n",
    "    device\n",
    ")\n",
    "\n",
    "pipe: GenerativeRenderingPipeline = GenerativeRenderingPipeline.from_pretrained(\n",
    "    sd_repo, controlnet=controlnet, torch_dtype=dtype\n",
    ").to(device)\n",
    "\n",
    "pipe.scheduler = DPMSolverMultistepScheduler.from_config(pipe.scheduler.config)"
   ]
  },
  {
   "cell_type": "code",
   "execution_count": 2,
   "metadata": {},
   "outputs": [
    {
     "name": "stdout",
     "output_type": "stream",
     "text": [
      "down_blocks.0.attentions.0.transformer_blocks.0.attn1\n",
      "down_blocks.0.attentions.0.transformer_blocks.0.attn1\n"
     ]
    }
   ],
   "source": [
    "from text3d2video.sd_feature_extraction import AttnLayerId\n",
    "\n",
    "module = [m for m in module_paths if m.startswith(\"down\")][0]\n",
    "\n",
    "mod_id = AttnLayerId.parse_module_path(module)\n",
    "print(module)\n",
    "print(mod_id.module_path())"
   ]
  },
  {
   "cell_type": "code",
   "execution_count": 3,
   "metadata": {},
   "outputs": [
    {
     "name": "stdout",
     "output_type": "stream",
     "text": [
      "down_blocks 0 0\n",
      "down_blocks 1 1\n",
      "down_blocks 2 2\n",
      "down_blocks 3 3\n",
      "down_blocks 4 4\n",
      "down_blocks 5 5\n",
      "mid_block 6 0\n",
      "up_blocks 7 0\n",
      "up_blocks 8 1\n",
      "up_blocks 9 2\n",
      "up_blocks 10 3\n",
      "up_blocks 11 4\n",
      "up_blocks 12 5\n",
      "up_blocks 13 6\n",
      "up_blocks 14 7\n",
      "up_blocks 15 8\n"
     ]
    }
   ],
   "source": [
    "for module in module_paths:\n",
    "    layer = AttnLayerId.parse_module_path(module)\n",
    "    level_idx = layer.level_idx(pipe.unet)\n",
    "\n",
    "    print(\n",
    "        layer.block_type.value,\n",
    "        layer.unet_absolute_index(),\n",
    "        layer.unet_path_index(),\n",
    "    )\n"
   ]
  }
 ],
 "metadata": {
  "kernelspec": {
   "display_name": "thesis4",
   "language": "python",
   "name": "python3"
  },
  "language_info": {
   "codemirror_mode": {
    "name": "ipython",
    "version": 3
   },
   "file_extension": ".py",
   "mimetype": "text/x-python",
   "name": "python",
   "nbconvert_exporter": "python",
   "pygments_lexer": "ipython3",
   "version": "3.9.20"
  }
 },
 "nbformat": 4,
 "nbformat_minor": 2
}
