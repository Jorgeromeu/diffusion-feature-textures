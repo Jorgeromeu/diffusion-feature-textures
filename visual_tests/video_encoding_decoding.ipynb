{
 "cells": [
  {
   "cell_type": "code",
   "execution_count": 46,
   "metadata": {},
   "outputs": [
    {
     "name": "stdout",
     "output_type": "stream",
     "text": [
      "The autoreload extension is already loaded. To reload it, use:\n",
      "  %reload_ext autoreload\n"
     ]
    },
    {
     "data": {
      "text/plain": [
       "(20, 20)"
      ]
     },
     "execution_count": 46,
     "metadata": {},
     "output_type": "execute_result"
    }
   ],
   "source": [
    "%load_ext autoreload\n",
    "%autoreload 2\n",
    "\n",
    "from text3d2video.artifacts.video_artifact import VideoArtifact\n",
    "from text3d2video.utilities.video_util import clip_to_pil_frames, pil_frames_to_clip\n",
    "from visual_tests.testing_utils import test_img\n",
    "from moviepy.editor import VideoFileClip\n",
    "\n",
    "video = VideoArtifact.from_wandb_artifact_tag('video:latest')\n",
    "frames = video.get_frames()[0:20]\n",
    "\n",
    "def write_and_decode(frames, path='test.mp4', fps=10, codec='h264'):\n",
    "    clip = pil_frames_to_clip(frames, fps=fps)\n",
    "    clip.write_videofile(path, codec=codec, verbose=False, logger=None, bitrate=\"50000k\")\n",
    "    read = VideoFileClip(path)\n",
    "    decoded = clip_to_pil_frames(read, expected_frames=len(frames))\n",
    "    return decoded\n",
    "\n",
    "decoded = write_and_decode(frames, fps=10)\n",
    "\n",
    "len(frames), len(decoded)"
   ]
  },
  {
   "cell_type": "code",
   "execution_count": 48,
   "metadata": {},
   "outputs": [
    {
     "name": "stdout",
     "output_type": "stream",
     "text": [
      "mean 2.3630545911146328e-06\n",
      "max 5.6512276387366e-06\n"
     ]
    }
   ],
   "source": [
    "import torch\n",
    "import torchvision.transforms.functional as TF\n",
    "import torch.nn.functional as F\n",
    "\n",
    "\n",
    "def compute_errors(original_frames, decoded_frames):\n",
    "    mses = []\n",
    "    for i in range(len(original_frames)):\n",
    "        og = original_frames[i]\n",
    "        dec = decoded_frames[i]\n",
    "\n",
    "        og_pt = TF.to_tensor(og)\n",
    "        dec_pt = TF.to_tensor(dec)\n",
    "\n",
    "        mse = F.mse_loss(og_pt, dec_pt)\n",
    "        mses.append(mse.item())\n",
    "\n",
    "    mses = torch.tensor(mses)\n",
    "    mean_mse = mses.mean().item()\n",
    "    max_mse = mses.max().item()\n",
    "\n",
    "    print(\"mean\", mean_mse)\n",
    "    print(\"max\", max_mse)\n",
    "    return mean_mse, max_mse\n",
    "\n",
    "\n",
    "assert len(frames) == len(decoded)\n",
    "mean_mse, max_mse = compute_errors(frames, decoded)\n",
    "\n",
    "assert max_mse < 1e-4"
   ]
  },
  {
   "cell_type": "code",
   "execution_count": 40,
   "metadata": {},
   "outputs": [
    {
     "name": "stdout",
     "output_type": "stream",
     "text": [
      "78 78\n",
      "mean 3.470530600679922e-06\n",
      "max 1.0506983926461544e-05\n",
      "3.470530600679922e-06\n"
     ]
    }
   ],
   "source": [
    "from torch import randint\n",
    "import random\n",
    "import string\n",
    "\n",
    "n_videos = 1\n",
    "\n",
    "for _ in range(n_videos):\n",
    "    all_colors = [\n",
    "        \"red\",\n",
    "        \"green\",\n",
    "        \"blue\",\n",
    "        \"yellow\",\n",
    "        \"purple\",\n",
    "        \"orange\",\n",
    "        \"black\",\n",
    "        \"white\",\n",
    "    ]\n",
    "\n",
    "    fps = randint(1, 30, (1,)).item()\n",
    "    fps = 30\n",
    "    n_frames = randint(1, 200, (1,)).item()\n",
    "    chars = random.choices(string.ascii_lowercase, k=n_frames)\n",
    "    colors = random.choices(all_colors, k=n_frames)\n",
    "\n",
    "    # generate random video\n",
    "    frames = [test_img(chars[i], color=colors[i]) for i in range(n_frames)]\n",
    "\n",
    "    # decode it\n",
    "    decoded = write_and_decode(frames, fps=fps)\n",
    "\n",
    "    # assert sufficient quality\n",
    "    print(len(frames), len(decoded))\n",
    "    assert len(frames) == len(decoded)\n",
    "    mean_mse, max_mse = compute_errors(frames, decoded)\n",
    "    print(mean_mse)\n"
   ]
  },
  {
   "cell_type": "code",
   "execution_count": null,
   "metadata": {},
   "outputs": [],
   "source": []
  }
 ],
 "metadata": {
  "kernelspec": {
   "display_name": "thesis4",
   "language": "python",
   "name": "python3"
  },
  "language_info": {
   "codemirror_mode": {
    "name": "ipython",
    "version": 3
   },
   "file_extension": ".py",
   "mimetype": "text/x-python",
   "name": "python",
   "nbconvert_exporter": "python",
   "pygments_lexer": "ipython3",
   "version": "3.9.20"
  }
 },
 "nbformat": 4,
 "nbformat_minor": 2
}
