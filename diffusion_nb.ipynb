{
 "cells": [
  {
   "cell_type": "code",
   "execution_count": null,
   "metadata": {},
   "outputs": [],
   "source": [
    "%load_ext autoreload\n",
    "%autoreload 2\n",
    "\n",
    "import torch\n",
    "import matplotlib.pyplot as plt\n",
    "from diffusion import init_pipe, process_depth_map, depth_pipe\n",
    "from PIL import Image"
   ]
  },
  {
   "cell_type": "code",
   "execution_count": null,
   "metadata": {},
   "outputs": [],
   "source": [
    "pipe = depth_pipe('cuda:0')"
   ]
  },
  {
   "cell_type": "code",
   "execution_count": null,
   "metadata": {},
   "outputs": [],
   "source": [
    "image = torch.load('data/render.pt')\n",
    "depth = torch.load('data/depth.pt')\n",
    "\n",
    "plt.imshow(image[0])\n",
    "plt.imshow(depth[0])"
   ]
  },
  {
   "cell_type": "code",
   "execution_count": null,
   "metadata": {},
   "outputs": [],
   "source": [
    "from einops import rearrange\n",
    "\n",
    "img_pipe = (rearrange(image, 'b h w c -> b c h w')[:, 0:3, :, :]).float()\n",
    "depth_pipe = (rearrange(depth, 'b h w 1 -> b h w') * 255).float()\n",
    "\n",
    "print(img_pipe.shape, img_pipe.dtype)\n",
    "print(depth_pipe.shape, img_pipe.dtype)"
   ]
  },
  {
   "cell_type": "code",
   "execution_count": null,
   "metadata": {},
   "outputs": [],
   "source": [
    "plt.imshow(img_pipe[0].permute(1,2,0))\n",
    "plt.imshow(depth_pipe[0])"
   ]
  },
  {
   "cell_type": "code",
   "execution_count": null,
   "metadata": {},
   "outputs": [],
   "source": [
    "pipe(\n",
    "    prompt='cow',\n",
    "    image=img_pipe,\n",
    "    control_image=depth_pipe\n",
    ")"
   ]
  }
 ],
 "metadata": {
  "kernelspec": {
   "display_name": "thesis",
   "language": "python",
   "name": "python3"
  },
  "language_info": {
   "codemirror_mode": {
    "name": "ipython",
    "version": 3
   },
   "file_extension": ".py",
   "mimetype": "text/x-python",
   "name": "python",
   "nbconvert_exporter": "python",
   "pygments_lexer": "ipython3",
   "version": "3.9.19"
  }
 },
 "nbformat": 4,
 "nbformat_minor": 2
}
